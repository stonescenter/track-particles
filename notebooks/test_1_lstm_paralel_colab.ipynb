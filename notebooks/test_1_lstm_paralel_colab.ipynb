{
 "cells": [
  {
   "cell_type": "code",
   "execution_count": 1,
   "metadata": {
    "colab": {
     "base_uri": "https://localhost:8080/",
     "height": 272
    },
    "colab_type": "code",
    "id": "M3F6BpYAvink",
    "outputId": "b260e307-d166-4233-98d7-b907ad82c2c9"
   },
   "outputs": [
    {
     "name": "stdout",
     "output_type": "stream",
     "text": [
      "Collecting git+https://github.com/LAL/trackml-library.git\n",
      "  Cloning https://github.com/LAL/trackml-library.git to /tmp/pip-req-build-rjn27imq\n",
      "  Running command git clone -q https://github.com/LAL/trackml-library.git /tmp/pip-req-build-rjn27imq\n",
      "Requirement already satisfied: numpy in /usr/local/lib/python3.6/dist-packages (from trackml==3) (1.17.5)\n",
      "Requirement already satisfied: pandas>=0.21.0 in /usr/local/lib/python3.6/dist-packages (from trackml==3) (0.25.3)\n",
      "Requirement already satisfied: pytz>=2017.2 in /usr/local/lib/python3.6/dist-packages (from pandas>=0.21.0->trackml==3) (2018.9)\n",
      "Requirement already satisfied: python-dateutil>=2.6.1 in /usr/local/lib/python3.6/dist-packages (from pandas>=0.21.0->trackml==3) (2.6.1)\n",
      "Requirement already satisfied: six>=1.5 in /usr/local/lib/python3.6/dist-packages (from python-dateutil>=2.6.1->pandas>=0.21.0->trackml==3) (1.12.0)\n",
      "Building wheels for collected packages: trackml\n",
      "  Building wheel for trackml (setup.py) ... \u001b[?25l\u001b[?25hdone\n",
      "  Created wheel for trackml: filename=trackml-3-py2.py3-none-any.whl size=13512 sha256=30114c07f0eb394e343eee68719e39a96e1fa5e1c315334d0a9ea2ca11fc5258\n",
      "  Stored in directory: /tmp/pip-ephem-wheel-cache-998qu863/wheels/0f/9a/5f/be8818e35f0d18b449158a62387337b237826b5cc21a1b28eb\n",
      "Successfully built trackml\n",
      "Installing collected packages: trackml\n",
      "Successfully installed trackml-3\n"
     ]
    }
   ],
   "source": [
    "!pip install git+https://github.com/LAL/trackml-library.git"
   ]
  },
  {
   "cell_type": "code",
   "execution_count": 2,
   "metadata": {
    "colab": {
     "base_uri": "https://localhost:8080/",
     "height": 153
    },
    "colab_type": "code",
    "id": "FxTEETqKnRPf",
    "outputId": "ab0298ca-3c4e-4b87-ba75-b527c14c505c"
   },
   "outputs": [
    {
     "name": "stdout",
     "output_type": "stream",
     "text": [
      "Cloning into 'cloned-repo'...\n",
      "remote: Enumerating objects: 101, done.\u001b[K\n",
      "remote: Counting objects:   0% (1/101)\u001b[K\r",
      "remote: Counting objects:   1% (2/101)\u001b[K\r",
      "remote: Counting objects:   2% (3/101)\u001b[K\r",
      "remote: Counting objects:   3% (4/101)\u001b[K\r",
      "remote: Counting objects:   4% (5/101)\u001b[K\r",
      "remote: Counting objects:   5% (6/101)\u001b[K\r",
      "remote: Counting objects:   6% (7/101)\u001b[K\r",
      "remote: Counting objects:   7% (8/101)\u001b[K\r",
      "remote: Counting objects:   8% (9/101)\u001b[K\r",
      "remote: Counting objects:   9% (10/101)\u001b[K\r",
      "remote: Counting objects:  10% (11/101)\u001b[K\r",
      "remote: Counting objects:  11% (12/101)\u001b[K\r",
      "remote: Counting objects:  12% (13/101)\u001b[K\r",
      "remote: Counting objects:  13% (14/101)\u001b[K\r",
      "remote: Counting objects:  14% (15/101)\u001b[K\r",
      "remote: Counting objects:  15% (16/101)\u001b[K\r",
      "remote: Counting objects:  16% (17/101)\u001b[K\r",
      "remote: Counting objects:  17% (18/101)\u001b[K\r",
      "remote: Counting objects:  18% (19/101)\u001b[K\r",
      "remote: Counting objects:  19% (20/101)\u001b[K\r",
      "remote: Counting objects:  20% (21/101)\u001b[K\r",
      "remote: Counting objects:  21% (22/101)\u001b[K\r",
      "remote: Counting objects:  22% (23/101)\u001b[K\r",
      "remote: Counting objects:  23% (24/101)\u001b[K\r",
      "remote: Counting objects:  24% (25/101)\u001b[K\r",
      "remote: Counting objects:  25% (26/101)\u001b[K\r",
      "remote: Counting objects:  26% (27/101)\u001b[K\r",
      "remote: Counting objects:  27% (28/101)\u001b[K\r",
      "remote: Counting objects:  28% (29/101)\u001b[K\r",
      "remote: Counting objects:  29% (30/101)\u001b[K\r",
      "remote: Counting objects:  30% (31/101)\u001b[K\r",
      "remote: Counting objects:  31% (32/101)\u001b[K\r",
      "remote: Counting objects:  32% (33/101)\u001b[K\r",
      "remote: Counting objects:  33% (34/101)\u001b[K\r",
      "remote: Counting objects:  34% (35/101)\u001b[K\r",
      "remote: Counting objects:  35% (36/101)\u001b[K\r",
      "remote: Counting objects:  36% (37/101)\u001b[K\r",
      "remote: Counting objects:  37% (38/101)\u001b[K\r",
      "remote: Counting objects:  38% (39/101)\u001b[K\r",
      "remote: Counting objects:  39% (40/101)\u001b[K\r",
      "remote: Counting objects:  40% (41/101)\u001b[K\r",
      "remote: Counting objects:  41% (42/101)\u001b[K\r",
      "remote: Counting objects:  42% (43/101)\u001b[K\r",
      "remote: Counting objects:  43% (44/101)\u001b[K\r",
      "remote: Counting objects:  44% (45/101)\u001b[K\r",
      "remote: Counting objects:  45% (46/101)\u001b[K\r",
      "remote: Counting objects:  46% (47/101)\u001b[K\r",
      "remote: Counting objects:  47% (48/101)\u001b[K\r",
      "remote: Counting objects:  48% (49/101)\u001b[K\r",
      "remote: Counting objects:  49% (50/101)\u001b[K\r",
      "remote: Counting objects:  50% (51/101)\u001b[K\r",
      "remote: Counting objects:  51% (52/101)\u001b[K\r",
      "remote: Counting objects:  52% (53/101)\u001b[K\r",
      "remote: Counting objects:  53% (54/101)\u001b[K\r",
      "remote: Counting objects:  54% (55/101)\u001b[K\r",
      "remote: Counting objects:  55% (56/101)\u001b[K\r",
      "remote: Counting objects:  56% (57/101)\u001b[K\r",
      "remote: Counting objects:  57% (58/101)\u001b[K\r",
      "remote: Counting objects:  58% (59/101)\u001b[K\r",
      "remote: Counting objects:  59% (60/101)\u001b[K\r",
      "remote: Counting objects:  60% (61/101)\u001b[K\r",
      "remote: Counting objects:  61% (62/101)\u001b[K\r",
      "remote: Counting objects:  62% (63/101)\u001b[K\r",
      "remote: Counting objects:  63% (64/101)\u001b[K\r",
      "remote: Counting objects:  64% (65/101)\u001b[K\r",
      "remote: Counting objects:  65% (66/101)\u001b[K\r",
      "remote: Counting objects:  66% (67/101)\u001b[K\r",
      "remote: Counting objects:  67% (68/101)\u001b[K\r",
      "remote: Counting objects:  68% (69/101)\u001b[K\r",
      "remote: Counting objects:  69% (70/101)\u001b[K\r",
      "remote: Counting objects:  70% (71/101)\u001b[K\r",
      "remote: Counting objects:  71% (72/101)\u001b[K\r",
      "remote: Counting objects:  72% (73/101)\u001b[K\r",
      "remote: Counting objects:  73% (74/101)\u001b[K\r",
      "remote: Counting objects:  74% (75/101)\u001b[K\r",
      "remote: Counting objects:  75% (76/101)\u001b[K\r",
      "remote: Counting objects:  76% (77/101)\u001b[K\r",
      "remote: Counting objects:  77% (78/101)\u001b[K\r",
      "remote: Counting objects:  78% (79/101)\u001b[K\r",
      "remote: Counting objects:  79% (80/101)\u001b[K\r",
      "remote: Counting objects:  80% (81/101)\u001b[K\r",
      "remote: Counting objects:  81% (82/101)\u001b[K\r",
      "remote: Counting objects:  82% (83/101)\u001b[K\r",
      "remote: Counting objects:  83% (84/101)\u001b[K\r",
      "remote: Counting objects:  84% (85/101)\u001b[K\r",
      "remote: Counting objects:  85% (86/101)\u001b[K\r",
      "remote: Counting objects:  86% (87/101)\u001b[K\r",
      "remote: Counting objects:  87% (88/101)\u001b[K\r",
      "remote: Counting objects:  88% (89/101)\u001b[K\r",
      "remote: Counting objects:  89% (90/101)\u001b[K\r",
      "remote: Counting objects:  90% (91/101)\u001b[K\r",
      "remote: Counting objects:  91% (92/101)\u001b[K\r",
      "remote: Counting objects:  92% (93/101)\u001b[K\r",
      "remote: Counting objects:  93% (94/101)\u001b[K\r",
      "remote: Counting objects:  94% (95/101)\u001b[K\r",
      "remote: Counting objects:  95% (96/101)\u001b[K\r",
      "remote: Counting objects:  96% (97/101)\u001b[K\r",
      "remote: Counting objects:  97% (98/101)\u001b[K\r",
      "remote: Counting objects:  98% (99/101)\u001b[K\r",
      "remote: Counting objects:  99% (100/101)\u001b[K\r",
      "remote: Counting objects: 100% (101/101)\u001b[K\r",
      "remote: Counting objects: 100% (101/101), done.\u001b[K\n",
      "remote: Compressing objects: 100% (59/59), done.\u001b[K\n",
      "remote: Total 101 (delta 45), reused 98 (delta 42), pack-reused 0\u001b[K\n",
      "Receiving objects: 100% (101/101), 11.74 MiB | 12.61 MiB/s, done.\n",
      "Resolving deltas: 100% (45/45), done.\n",
      "cloned-repo  sample_data\n"
     ]
    }
   ],
   "source": [
    "# Clonning the repository\n",
    "!git clone https://github.com/stonescenter/track-particles.git cloned-repo\n",
    "!ls"
   ]
  },
  {
   "cell_type": "code",
   "execution_count": 3,
   "metadata": {
    "colab": {
     "base_uri": "https://localhost:8080/",
     "height": 34
    },
    "colab_type": "code",
    "id": "LV6JIsjJoB5D",
    "outputId": "db000455-34af-4399-b548-59a341d3f8e8"
   },
   "outputs": [
    {
     "name": "stdout",
     "output_type": "stream",
     "text": [
      "/content/cloned-repo\n"
     ]
    }
   ],
   "source": [
    "%cd cloned-repo/"
   ]
  },
  {
   "cell_type": "markdown",
   "metadata": {
    "colab_type": "text",
    "id": "UzfIZuwhqZmp"
   },
   "source": [
    "# Run with NoteBooks #"
   ]
  },
  {
   "cell_type": "code",
   "execution_count": 7,
   "metadata": {
    "colab": {
     "base_uri": "https://localhost:8080/",
     "height": 80
    },
    "colab_type": "code",
    "id": "b0SWYUYenAxC",
    "outputId": "8433e1a6-8ff7-4c5f-abdb-9bb5cc750d31"
   },
   "outputs": [
    {
     "name": "stderr",
     "output_type": "stream",
     "text": [
      "Using TensorFlow backend.\n"
     ]
    },
    {
     "data": {
      "text/html": [
       "<p style=\"color: red;\">\n",
       "The default version of TensorFlow in Colab will soon switch to TensorFlow 2.x.<br>\n",
       "We recommend you <a href=\"https://www.tensorflow.org/guide/migrate\" target=\"_blank\">upgrade</a> now \n",
       "or ensure your notebook will continue to use TensorFlow 1.x via the <code>%tensorflow_version 1.x</code> magic:\n",
       "<a href=\"https://colab.research.google.com/notebooks/tensorflow_version.ipynb\" target=\"_blank\">more info</a>.</p>\n"
      ],
      "text/plain": [
       "<IPython.core.display.HTML object>"
      ]
     },
     "metadata": {
      "tags": []
     },
     "output_type": "display_data"
    }
   ],
   "source": [
    "import sys\n",
    "import os\n",
    "import json\n",
    "\n",
    "from core.data.data_loader import *\n",
    "from core.models.lstm import ModelLSTM, ModelLSTMParalel\n",
    "from core.data.data_loader import FeatureType, Dataset\n",
    "\n",
    "\n",
    "from sklearn.model_selection import train_test_split\n",
    "import tensorflow as tf\n",
    "from tensorflow import set_random_seed\n",
    "\n",
    "import keras.backend as K\n",
    "from keras.backend.tensorflow_backend import set_session"
   ]
  },
  {
   "cell_type": "markdown",
   "metadata": {
    "colab_type": "text",
    "id": "kUYhDQO3nAxJ"
   },
   "source": [
    "## loading Configurartion ##\n"
   ]
  },
  {
   "cell_type": "code",
   "execution_count": 8,
   "metadata": {
    "colab": {
     "base_uri": "https://localhost:8080/",
     "height": 68
    },
    "colab_type": "code",
    "id": "xvfD2FLBnAxK",
    "outputId": "a4c81268-c5b3-4ec0-d92b-1201da98edf7"
   },
   "outputs": [
    {
     "name": "stdout",
     "output_type": "stream",
     "text": [
      "results/architecture-lstm-paralel.png\n",
      "results/model-lstm-paralel.h5\n",
      "OK reading of json file\n"
     ]
    }
   ],
   "source": [
    "# load some configurations configurations of model and others\n",
    "\n",
    "configs = json.load(open('config-paralel.json', 'r'))\n",
    "save_dir = configs['paths']['save_dir']\n",
    "save_fname = os.path.join(save_dir, 'architecture-%s.png' % configs['model']['name'])\n",
    "save_fnameh5 = os.path.join(save_dir, 'model-%s.h5' % configs['model']['name'])\n",
    "print(save_fname) \n",
    "print(save_fnameh5)\n",
    "print('OK reading of json file')"
   ]
  },
  {
   "cell_type": "markdown",
   "metadata": {
    "colab_type": "text",
    "id": "QyLcMAmvnAxQ"
   },
   "source": [
    "## Setup Data ##"
   ]
  },
  {
   "cell_type": "code",
   "execution_count": 9,
   "metadata": {
    "colab": {
     "base_uri": "https://localhost:8080/",
     "height": 34
    },
    "colab_type": "code",
    "id": "WGmnC6BInAxR",
    "outputId": "6721d7fc-228e-405e-dc58-06ee5ffec852"
   },
   "outputs": [
    {
     "data": {
      "text/plain": [
       "'./dataset/phi025-025_eta025-025_filtered.csv'"
      ]
     },
     "execution_count": 9,
     "metadata": {
      "tags": []
     },
     "output_type": "execute_result"
    }
   ],
   "source": [
    "# reading path of data\n",
    "#path = './dataset/phi025-025_eta025-025/phi025-025_eta025-025_filtered.csv'\n",
    "path = configs['data']['filename']\n",
    "path"
   ]
  },
  {
   "cell_type": "code",
   "execution_count": 10,
   "metadata": {
    "colab": {
     "base_uri": "https://localhost:8080/",
     "height": 272
    },
    "colab_type": "code",
    "id": "pGtHqpmUnAxW",
    "outputId": "516db119-2adb-40ea-db32-f817f0b9d42e"
   },
   "outputs": [
    {
     "name": "stdout",
     "output_type": "stream",
     "text": [
      "[Data] data loaded from  ./dataset/phi025-025_eta025-025_filtered.csv\n",
      "[Data] shape datas X:  (15192, 16)\n",
      "[Data] shape data y:  (15192, 3)\n",
      "[Data] len data total: 15192\n"
     ]
    },
    {
     "data": {
      "text/html": [
       "<div>\n",
       "<style scoped>\n",
       "    .dataframe tbody tr th:only-of-type {\n",
       "        vertical-align: middle;\n",
       "    }\n",
       "\n",
       "    .dataframe tbody tr th {\n",
       "        vertical-align: top;\n",
       "    }\n",
       "\n",
       "    .dataframe thead th {\n",
       "        text-align: right;\n",
       "    }\n",
       "</style>\n",
       "<table border=\"1\" class=\"dataframe\">\n",
       "  <thead>\n",
       "    <tr style=\"text-align: right;\">\n",
       "      <th></th>\n",
       "      <th>x_0</th>\n",
       "      <th>y_0</th>\n",
       "      <th>z_0</th>\n",
       "      <th>x_1</th>\n",
       "      <th>y_1</th>\n",
       "      <th>z_1</th>\n",
       "      <th>x_2</th>\n",
       "      <th>y_2</th>\n",
       "      <th>z_2</th>\n",
       "      <th>x_3</th>\n",
       "      <th>y_3</th>\n",
       "      <th>z_3</th>\n",
       "    </tr>\n",
       "  </thead>\n",
       "  <tbody>\n",
       "    <tr>\n",
       "      <th>0</th>\n",
       "      <td>-0.197514</td>\n",
       "      <td>0.447192</td>\n",
       "      <td>0.215793</td>\n",
       "      <td>-0.207645</td>\n",
       "      <td>0.504261</td>\n",
       "      <td>0.094703</td>\n",
       "      <td>-0.209314</td>\n",
       "      <td>0.480264</td>\n",
       "      <td>0.034145</td>\n",
       "      <td>-0.223646</td>\n",
       "      <td>0.405745</td>\n",
       "      <td>-0.000333</td>\n",
       "    </tr>\n",
       "    <tr>\n",
       "      <th>1</th>\n",
       "      <td>-0.225104</td>\n",
       "      <td>0.905615</td>\n",
       "      <td>0.454577</td>\n",
       "      <td>-0.241666</td>\n",
       "      <td>1.113409</td>\n",
       "      <td>0.434772</td>\n",
       "      <td>-0.235227</td>\n",
       "      <td>1.182940</td>\n",
       "      <td>0.395443</td>\n",
       "      <td>-0.259084</td>\n",
       "      <td>1.195713</td>\n",
       "      <td>0.362829</td>\n",
       "    </tr>\n",
       "    <tr>\n",
       "      <th>2</th>\n",
       "      <td>-0.219544</td>\n",
       "      <td>-0.252188</td>\n",
       "      <td>0.829579</td>\n",
       "      <td>-0.215628</td>\n",
       "      <td>-0.310552</td>\n",
       "      <td>0.963034</td>\n",
       "      <td>-0.215073</td>\n",
       "      <td>-0.304692</td>\n",
       "      <td>0.962387</td>\n",
       "      <td>-0.224862</td>\n",
       "      <td>-0.266718</td>\n",
       "      <td>0.952794</td>\n",
       "    </tr>\n",
       "    <tr>\n",
       "      <th>3</th>\n",
       "      <td>3.086830</td>\n",
       "      <td>5.527004</td>\n",
       "      <td>1.322880</td>\n",
       "      <td>3.267902</td>\n",
       "      <td>4.838781</td>\n",
       "      <td>1.578658</td>\n",
       "      <td>3.266429</td>\n",
       "      <td>4.533334</td>\n",
       "      <td>1.620158</td>\n",
       "      <td>3.406857</td>\n",
       "      <td>4.364378</td>\n",
       "      <td>1.654012</td>\n",
       "    </tr>\n",
       "    <tr>\n",
       "      <th>4</th>\n",
       "      <td>-0.195694</td>\n",
       "      <td>0.416933</td>\n",
       "      <td>0.610438</td>\n",
       "      <td>-0.207160</td>\n",
       "      <td>0.495587</td>\n",
       "      <td>0.689542</td>\n",
       "      <td>-0.218343</td>\n",
       "      <td>0.513846</td>\n",
       "      <td>0.680414</td>\n",
       "      <td>-0.234667</td>\n",
       "      <td>0.513960</td>\n",
       "      <td>0.667967</td>\n",
       "    </tr>\n",
       "  </tbody>\n",
       "</table>\n",
       "</div>"
      ],
      "text/plain": [
       "        x_0       y_0       z_0  ...       x_3       y_3       z_3\n",
       "0 -0.197514  0.447192  0.215793  ... -0.223646  0.405745 -0.000333\n",
       "1 -0.225104  0.905615  0.454577  ... -0.259084  1.195713  0.362829\n",
       "2 -0.219544 -0.252188  0.829579  ... -0.224862 -0.266718  0.952794\n",
       "3  3.086830  5.527004  1.322880  ...  3.406857  4.364378  1.654012\n",
       "4 -0.195694  0.416933  0.610438  ... -0.234667  0.513960  0.667967\n",
       "\n",
       "[5 rows x 12 columns]"
      ]
     },
     "execution_count": 10,
     "metadata": {
      "tags": []
     },
     "output_type": "execute_result"
    }
   ],
   "source": [
    "# reading particle positions\n",
    "data = Dataset(path, KindNormalization.Zscore)\n",
    "\n",
    "X, X_, y = data.prepare_training_data(FeatureType.Divided, normalise=True,\n",
    "                                                  cilyndrical=False)\n",
    "#X, y = data.prepare_training_data(FeatureType.Positions, normalise=False,\n",
    "#                                                  cilyndrical=False)\n",
    "\n",
    "X.head()"
   ]
  },
  {
   "cell_type": "code",
   "execution_count": 11,
   "metadata": {
    "colab": {
     "base_uri": "https://localhost:8080/",
     "height": 204
    },
    "colab_type": "code",
    "id": "ElmB_8b-nAxb",
    "outputId": "cb4464dd-fd68-4115-b7cb-a357fafe99ea"
   },
   "outputs": [
    {
     "data": {
      "text/html": [
       "<div>\n",
       "<style scoped>\n",
       "    .dataframe tbody tr th:only-of-type {\n",
       "        vertical-align: middle;\n",
       "    }\n",
       "\n",
       "    .dataframe tbody tr th {\n",
       "        vertical-align: top;\n",
       "    }\n",
       "\n",
       "    .dataframe thead th {\n",
       "        text-align: right;\n",
       "    }\n",
       "</style>\n",
       "<table border=\"1\" class=\"dataframe\">\n",
       "  <thead>\n",
       "    <tr style=\"text-align: right;\">\n",
       "      <th></th>\n",
       "      <th>value_0</th>\n",
       "      <th>value_1</th>\n",
       "      <th>value_2</th>\n",
       "      <th>value_3</th>\n",
       "    </tr>\n",
       "  </thead>\n",
       "  <tbody>\n",
       "    <tr>\n",
       "      <th>0</th>\n",
       "      <td>-0.196225</td>\n",
       "      <td>-0.272555</td>\n",
       "      <td>-0.245471</td>\n",
       "      <td>-0.295344</td>\n",
       "    </tr>\n",
       "    <tr>\n",
       "      <th>1</th>\n",
       "      <td>-0.212564</td>\n",
       "      <td>-0.248243</td>\n",
       "      <td>-0.182892</td>\n",
       "      <td>-0.201048</td>\n",
       "    </tr>\n",
       "    <tr>\n",
       "      <th>2</th>\n",
       "      <td>-0.114694</td>\n",
       "      <td>-0.199678</td>\n",
       "      <td>-0.186903</td>\n",
       "      <td>-0.249061</td>\n",
       "    </tr>\n",
       "    <tr>\n",
       "      <th>3</th>\n",
       "      <td>-0.096597</td>\n",
       "      <td>2.961432</td>\n",
       "      <td>2.356338</td>\n",
       "      <td>1.588075</td>\n",
       "    </tr>\n",
       "    <tr>\n",
       "      <th>4</th>\n",
       "      <td>-0.185638</td>\n",
       "      <td>-0.188648</td>\n",
       "      <td>-0.058163</td>\n",
       "      <td>-0.256392</td>\n",
       "    </tr>\n",
       "  </tbody>\n",
       "</table>\n",
       "</div>"
      ],
      "text/plain": [
       "    value_0   value_1   value_2   value_3\n",
       "0 -0.196225 -0.272555 -0.245471 -0.295344\n",
       "1 -0.212564 -0.248243 -0.182892 -0.201048\n",
       "2 -0.114694 -0.199678 -0.186903 -0.249061\n",
       "3 -0.096597  2.961432  2.356338  1.588075\n",
       "4 -0.185638 -0.188648 -0.058163 -0.256392"
      ]
     },
     "execution_count": 11,
     "metadata": {
      "tags": []
     },
     "output_type": "execute_result"
    }
   ],
   "source": [
    "#reading particle values\n",
    "X_.head()"
   ]
  },
  {
   "cell_type": "code",
   "execution_count": 12,
   "metadata": {
    "colab": {
     "base_uri": "https://localhost:8080/",
     "height": 238
    },
    "colab_type": "code",
    "id": "tFCql_tWnAxg",
    "outputId": "6b3b86ef-5014-4ff2-ee31-fa8305bc6e38"
   },
   "outputs": [
    {
     "data": {
      "text/plain": [
       "x_0    0\n",
       "y_0    0\n",
       "z_0    0\n",
       "x_1    0\n",
       "y_1    0\n",
       "z_1    0\n",
       "x_2    0\n",
       "y_2    0\n",
       "z_2    0\n",
       "x_3    0\n",
       "y_3    0\n",
       "z_3    0\n",
       "dtype: int64"
      ]
     },
     "execution_count": 12,
     "metadata": {
      "tags": []
     },
     "output_type": "execute_result"
    }
   ],
   "source": [
    "# there is empty data?\n",
    "X.isnull().values.any()\n",
    "X.isna().sum()"
   ]
  },
  {
   "cell_type": "code",
   "execution_count": 13,
   "metadata": {
    "colab": {
     "base_uri": "https://localhost:8080/",
     "height": 85
    },
    "colab_type": "code",
    "id": "KwwAGQqunAxm",
    "outputId": "a34052a2-7ff2-4483-9bbd-25fc098cd532"
   },
   "outputs": [
    {
     "name": "stdout",
     "output_type": "stream",
     "text": [
      "[Data] shape X_train  (12153, 4, 3)\n",
      "[Data] shape X_test  (3039, 4, 3)\n",
      "[Data] shape y_train  (12153, 3)\n",
      "[Data] shape y_test  (3039, 3)\n"
     ]
    }
   ],
   "source": [
    "# reshape data     \n",
    "time_steps =  configs['model']['layers'][0]['input_timesteps']  # the number of points or hits\n",
    "num_features = configs['model']['layers'][0]['input_features']  # the number of features of each hits\n",
    "\n",
    "X = data.reshape3d(X, time_steps, num_features)\n",
    "X_ = data.reshape3d(X_, time_steps, 1)\n",
    "\n",
    "# always the same info \n",
    "#X_train, X_test, y_train, y_test = train_test_split(X, y, test_size=0.2, random_state=42)\n",
    "X_train, X_test, X_train_, X_test_, y_train, y_test = train_test_split(X, X_, y,\n",
    "                                                                    test_size=1-0.8, random_state=42)\n",
    "\n",
    "print('[Data] shape X_train ', X_train.shape)\n",
    "print('[Data] shape X_test ', X_test.shape)\n",
    "print('[Data] shape y_train ', y_train.shape)\n",
    "print('[Data] shape y_test ', y_test.shape)\n",
    "\n"
   ]
  },
  {
   "cell_type": "markdown",
   "metadata": {
    "colab_type": "text",
    "id": "kHaIlLyAnAxz"
   },
   "source": [
    "## Create Model ##"
   ]
  },
  {
   "cell_type": "code",
   "execution_count": 15,
   "metadata": {
    "colab": {
     "base_uri": "https://localhost:8080/",
     "height": 377
    },
    "colab_type": "code",
    "id": "jOoJTwixnAx1",
    "outputId": "3862904a-3763-4ae6-8178-ef2214a8bff3",
    "scrolled": true
   },
   "outputs": [
    {
     "name": "stdout",
     "output_type": "stream",
     "text": [
      "WARNING:tensorflow:From /usr/local/lib/python3.6/dist-packages/keras/backend/tensorflow_backend.py:66: The name tf.get_default_graph is deprecated. Please use tf.compat.v1.get_default_graph instead.\n",
      "\n",
      "WARNING:tensorflow:From /content/cloned-repo/core/models/base.py:34: The name tf.ConfigProto is deprecated. Please use tf.compat.v1.ConfigProto instead.\n",
      "\n",
      "WARNING:tensorflow:From /content/cloned-repo/core/models/base.py:36: The name tf.Session is deprecated. Please use tf.compat.v1.Session instead.\n",
      "\n",
      "[Model] Creating model..\n",
      "WARNING:tensorflow:From /usr/local/lib/python3.6/dist-packages/keras/backend/tensorflow_backend.py:541: The name tf.placeholder is deprecated. Please use tf.compat.v1.placeholder instead.\n",
      "\n",
      "WARNING:tensorflow:From /usr/local/lib/python3.6/dist-packages/keras/backend/tensorflow_backend.py:4432: The name tf.random_uniform is deprecated. Please use tf.random.uniform instead.\n",
      "\n",
      "WARNING:tensorflow:From /usr/local/lib/python3.6/dist-packages/keras/backend/tensorflow_backend.py:148: The name tf.placeholder_with_default is deprecated. Please use tf.compat.v1.placeholder_with_default instead.\n",
      "\n",
      "WARNING:tensorflow:From /usr/local/lib/python3.6/dist-packages/keras/backend/tensorflow_backend.py:3733: calling dropout (from tensorflow.python.ops.nn_ops) with keep_prob is deprecated and will be removed in a future version.\n",
      "Instructions for updating:\n",
      "Please use `rate` instead of `keep_prob`. Rate should be set to `rate = 1 - keep_prob`.\n",
      "WARNING:tensorflow:From /usr/local/lib/python3.6/dist-packages/keras/optimizers.py:793: The name tf.train.Optimizer is deprecated. Please use tf.compat.v1.train.Optimizer instead.\n",
      "\n",
      "[Model] Model Compiled with structure: [<tf.Tensor 'input_1:0' shape=(?, 4, 3) dtype=float32>, <tf.Tensor 'input_2:0' shape=(?, 4, 1) dtype=float32>]\n",
      "Time taken: 0:00:00.888082\n"
     ]
    }
   ],
   "source": [
    "# geramos o modelo\n",
    "model = ModelLSTMParalel(configs)\n",
    "\n",
    "model.build_model()\n",
    "  "
   ]
  },
  {
   "cell_type": "code",
   "execution_count": 16,
   "metadata": {
    "colab": {
     "base_uri": "https://localhost:8080/",
     "height": 581
    },
    "colab_type": "code",
    "id": "KcJU2uMinAx9",
    "outputId": "60b916d8-ef96-476a-b237-ab8c29e663e7",
    "scrolled": true
   },
   "outputs": [
    {
     "data": {
      "image/png": "[encoded data removed]",
      "text/plain": [
       "<Figure size 720x1008 with 1 Axes>"
      ]
     },
     "metadata": {
      "tags": []
     },
     "output_type": "display_data"
    }
   ],
   "source": [
    "import matplotlib.pyplot as plt\n",
    "import matplotlib.image as mpimg\n",
    "\n",
    "%matplotlib inline\n",
    "\n",
    "fig = plt.figure(figsize=(10, 14))\n",
    "img=mpimg.imread('results/architecture-lstm-paralel.png')\n",
    "imgplot = plt.imshow(img)\n",
    "plt.show()\n"
   ]
  },
  {
   "cell_type": "markdown",
   "metadata": {
    "colab_type": "text",
    "id": "UKIvMwHinAyC"
   },
   "source": [
    "## Training Model ##"
   ]
  },
  {
   "cell_type": "code",
   "execution_count": 17,
   "metadata": {
    "colab": {
     "base_uri": "https://localhost:8080/",
     "height": 1000
    },
    "colab_type": "code",
    "id": "ZBiudkuonAyD",
    "outputId": "19ff702a-620b-4fee-e349-0090fe022d05"
   },
   "outputs": [
    {
     "name": "stdout",
     "output_type": "stream",
     "text": [
      "[Model] Training Started\n",
      "[Model] 20 epochs, 128 batch size\n",
      "WARNING:tensorflow:From /usr/local/lib/python3.6/dist-packages/tensorflow_core/python/ops/math_grad.py:1424: where (from tensorflow.python.ops.array_ops) is deprecated and will be removed in a future version.\n",
      "Instructions for updating:\n",
      "Use tf.where in 2.0, which has the same broadcast rule as np.where\n",
      "WARNING:tensorflow:From /usr/local/lib/python3.6/dist-packages/keras/backend/tensorflow_backend.py:1033: The name tf.assign_add is deprecated. Please use tf.compat.v1.assign_add instead.\n",
      "\n",
      "WARNING:tensorflow:From /usr/local/lib/python3.6/dist-packages/keras/backend/tensorflow_backend.py:1020: The name tf.assign is deprecated. Please use tf.compat.v1.assign instead.\n",
      "\n",
      "Train on 8142 samples, validate on 4011 samples\n",
      "Epoch 1/20\n",
      "WARNING:tensorflow:From /usr/local/lib/python3.6/dist-packages/keras/backend/tensorflow_backend.py:190: The name tf.get_default_session is deprecated. Please use tf.compat.v1.get_default_session instead.\n",
      "\n",
      "WARNING:tensorflow:From /usr/local/lib/python3.6/dist-packages/keras/backend/tensorflow_backend.py:207: The name tf.global_variables is deprecated. Please use tf.compat.v1.global_variables instead.\n",
      "\n",
      "WARNING:tensorflow:From /usr/local/lib/python3.6/dist-packages/keras/backend/tensorflow_backend.py:216: The name tf.is_variable_initialized is deprecated. Please use tf.compat.v1.is_variable_initialized instead.\n",
      "\n",
      "WARNING:tensorflow:From /usr/local/lib/python3.6/dist-packages/keras/backend/tensorflow_backend.py:223: The name tf.variables_initializer is deprecated. Please use tf.compat.v1.variables_initializer instead.\n",
      "\n",
      "8142/8142 [==============================] - 4s 432us/step - loss: 0.1105 - acc: 0.8725 - val_loss: 0.0350 - val_acc: 0.9120\n",
      "Epoch 2/20\n",
      "8142/8142 [==============================] - 1s 179us/step - loss: 0.0419 - acc: 0.9102 - val_loss: 0.0317 - val_acc: 0.9362\n",
      "Epoch 3/20\n",
      "8142/8142 [==============================] - 2s 192us/step - loss: 0.0315 - acc: 0.9300 - val_loss: 0.0320 - val_acc: 0.9526\n",
      "Epoch 4/20\n",
      "8142/8142 [==============================] - 1s 171us/step - loss: 0.0239 - acc: 0.9440 - val_loss: 0.0168 - val_acc: 0.9708\n",
      "Epoch 5/20\n",
      "8142/8142 [==============================] - 1s 170us/step - loss: 0.0195 - acc: 0.9512 - val_loss: 0.0191 - val_acc: 0.9638\n",
      "Epoch 6/20\n",
      "8142/8142 [==============================] - 1s 172us/step - loss: 0.0181 - acc: 0.9535 - val_loss: 0.0232 - val_acc: 0.9643\n",
      "[Model] Model for inference saved at results/model-lstm-paralel.h5\n",
      "[Model] Model Architecture saved at results/architecture-lstm-paralel.png\n",
      "Model: \"model_1\"\n",
      "__________________________________________________________________________________________________\n",
      "Layer (type)                    Output Shape         Param #     Connected to                     \n",
      "==================================================================================================\n",
      "input_1 (InputLayer)            (None, 4, 3)         0                                            \n",
      "__________________________________________________________________________________________________\n",
      "input_2 (InputLayer)            (None, 4, 1)         0                                            \n",
      "__________________________________________________________________________________________________\n",
      "lstm_1 (LSTM)                   (None, 400)          646400      input_1[0][0]                    \n",
      "__________________________________________________________________________________________________\n",
      "lstm_2 (LSTM)                   (None, 400)          643200      input_2[0][0]                    \n",
      "__________________________________________________________________________________________________\n",
      "concatenate_1 (Concatenate)     (None, 800)          0           lstm_1[0][0]                     \n",
      "                                                                 lstm_2[0][0]                     \n",
      "__________________________________________________________________________________________________\n",
      "dense_1 (Dense)                 (None, 400)          320400      concatenate_1[0][0]              \n",
      "__________________________________________________________________________________________________\n",
      "dropout_1 (Dropout)             (None, 400)          0           dense_1[0][0]                    \n",
      "__________________________________________________________________________________________________\n",
      "dense_2 (Dense)                 (None, 20)           8020        dropout_1[0][0]                  \n",
      "__________________________________________________________________________________________________\n",
      "dense_3 (Dense)                 (None, 3)            63          dense_2[0][0]                    \n",
      "==================================================================================================\n",
      "Total params: 1,618,083\n",
      "Trainable params: 1,618,083\n",
      "Non-trainable params: 0\n",
      "__________________________________________________________________________________________________\n",
      "[Model] Training Completed. Model h5 saved as results/model-lstm-paralel.h5\n",
      "[Model] Model train with structure: [<tf.Tensor 'input_1:0' shape=(?, 4, 3) dtype=float32>, <tf.Tensor 'input_2:0' shape=(?, 4, 1) dtype=float32>]\n",
      "Time taken: 0:00:12.819837\n"
     ]
    }
   ],
   "source": [
    "# in-memory training\n",
    "x_train = [X_train, X_train_]\n",
    "history = model.train(\n",
    "    x=x_train,\n",
    "    y=y_train,\n",
    "    epochs = configs['training']['epochs'],\n",
    "    batch_size = configs['training']['batch_size']\n",
    "\n",
    ")"
   ]
  },
  {
   "cell_type": "markdown",
   "metadata": {
    "colab_type": "text",
    "id": "Mt7Pz8WenAyI"
   },
   "source": [
    "## Evaluate The model ##\n"
   ]
  },
  {
   "cell_type": "code",
   "execution_count": 18,
   "metadata": {
    "colab": {
     "base_uri": "https://localhost:8080/",
     "height": 624
    },
    "colab_type": "code",
    "id": "EINAJbXWnAyK",
    "outputId": "3007742e-cfd8-4436-e707-dd7f8ee0189b"
   },
   "outputs": [
    {
     "name": "stdout",
     "output_type": "stream",
     "text": [
      "dict_keys(['val_loss', 'val_acc', 'loss', 'acc'])\n",
      "[Ouput] Validation accuracy: 0.964348042763192, loss: 0.023200873438952937\n"
     ]
    },
    {
     "data": {
      "image/png": "[encoded data removed]",
      "text/plain": [
       "<Figure size 432x288 with 1 Axes>"
      ]
     },
     "metadata": {
      "tags": []
     },
     "output_type": "display_data"
    },
    {
     "data": {
      "image/png": "[encoded data removed]",
      "text/plain": [
       "<Figure size 432x288 with 1 Axes>"
      ]
     },
     "metadata": {
      "tags": []
     },
     "output_type": "display_data"
    },
    {
     "name": "stdout",
     "output_type": "stream",
     "text": [
      "[Output] resulta saved at %s results/eval-loss.png\n"
     ]
    }
   ],
   "source": [
    "#evaluate the model\n",
    "from core.utils.metrics import *\n",
    "evaluate_training(history,save_dir)"
   ]
  },
  {
   "cell_type": "markdown",
   "metadata": {
    "colab_type": "text",
    "id": "GsKgiQFKnAyP"
   },
   "source": [
    "## Prediction ##\n",
    "We concatenate features to predict one hit."
   ]
  },
  {
   "cell_type": "code",
   "execution_count": 19,
   "metadata": {
    "colab": {
     "base_uri": "https://localhost:8080/",
     "height": 51
    },
    "colab_type": "code",
    "id": "nz5lEsFunAyQ",
    "outputId": "d24fbdde-5f8d-46bd-ca16-723b1dae5717"
   },
   "outputs": [
    {
     "name": "stdout",
     "output_type": "stream",
     "text": [
      "[Model] Predicting Point-by-Point...\n",
      "[Model] Shape predict result (3039, 3) size 9117\n"
     ]
    }
   ],
   "source": [
    "# Prediction\n",
    "import numpy as np\n",
    "from core.utils.metrics import *\n",
    "from core.utils.utils import *\n",
    "\n",
    "x_test = [X_test, X_test_]\n",
    "\n",
    "predicted = model.predict_one_hit(x_test)\n"
   ]
  },
  {
   "cell_type": "code",
   "execution_count": 20,
   "metadata": {
    "colab": {
     "base_uri": "https://localhost:8080/",
     "height": 153
    },
    "colab_type": "code",
    "id": "SN7BEO4cnAyW",
    "outputId": "12cdfe69-3f55-4446-cfb1-f8462ab24778"
   },
   "outputs": [
    {
     "name": "stdout",
     "output_type": "stream",
     "text": [
      "[Output] ---Regression Scores--- \n",
      "\tR_2 statistics        (R2)  = 0.979\n",
      "\tRoot Mean Square Error(RMSE) = 0.143\n",
      "\tMean Absolute Error   (MAE) = 0.06\n",
      "\n",
      "RMSE:\t\t[0.143] \n",
      "RMSE features: \t[0.21, 0.10, 0.08] \n",
      "R^2  features:\t[0.95, 0.99, 0.99] \n"
     ]
    }
   ],
   "source": [
    "# Convert to original data\n",
    "#y_predicted = data.reshape2d(predicted, 1)\n",
    "   \n",
    "y_predicted = np.reshape(predicted, (predicted.shape[0]*predicted.shape[1], 1))\n",
    "y_true_ = data.reshape2d(y_test, 1)\n",
    "\n",
    "result = calc_score(y_true_, y_predicted, report=True)\n",
    "r2, rmse, rmses = evaluate_forecast(y_test.values, predicted)\n",
    "summarize_scores(r2, rmse,rmses)\n"
   ]
  },
  {
   "cell_type": "markdown",
   "metadata": {
    "colab_type": "text",
    "id": "TnGtxyjknAyb"
   },
   "source": [
    "## Calculate Distances( Process very EXPENSIVE) ##\n",
    "Google may block your account by using a lot of CPU for calculate distantes of a lot of matrixs.\n"
   ]
  },
  {
   "cell_type": "code",
   "execution_count": 21,
   "metadata": {
    "colab": {
     "base_uri": "https://localhost:8080/",
     "height": 85
    },
    "colab_type": "code",
    "id": "VJwqq_RNnAyc",
    "outputId": "5dc93acb-0fe2-4f13-c062-aac1d05c718d"
   },
   "outputs": [
    {
     "name": "stdout",
     "output_type": "stream",
     "text": [
      "[Data] shape y_test  (3039, 3)\n",
      "[Data] shape predicted  (3039, 3)\n",
      "[Data] processing the neardest points between y_real and y_pred...\n",
      "(3039, 3)\n"
     ]
    }
   ],
   "source": [
    "from scipy.spatial import distance\n",
    "import numpy as np\n",
    "\n",
    "\n",
    "print('[Data] shape y_test ', y_test.shape)\n",
    "print('[Data] shape predicted ', predicted.shape)\n",
    "print('[Data] processing the neardest points between y_real and y_pred...' )\n",
    "\n",
    "# shortest point with y_pred e y_real\n",
    "near_points = get_shortest_points(y_test, predicted)\n",
    "y_near_points = pd.DataFrame(near_points)\n",
    "\n",
    "#print(y_near_points.head())\n",
    "print(y_near_points.shape)\n"
   ]
  },
  {
   "cell_type": "code",
   "execution_count": 22,
   "metadata": {
    "colab": {
     "base_uri": "https://localhost:8080/",
     "height": 119
    },
    "colab_type": "code",
    "id": "W-s2g-cEnAyh",
    "outputId": "dd9d3a18-804b-4f01-cdf1-62dc8c6c91c2"
   },
   "outputs": [
    {
     "name": "stdout",
     "output_type": "stream",
     "text": [
      "[Data] processing distances for 3039 vectors..\n",
      "[Data] finished distances..\n",
      "[1.76872841 5.76854693 3.40955038 0.9060086  3.22882983 1.17891172\n",
      " 2.04577442 4.80181221 3.25536503 4.44331386]\n",
      "[0.         2.421243   3.60355198 0.15997699 2.4400148  0.\n",
      " 2.16329875 0.         1.23219909 3.65642579]\n"
     ]
    }
   ],
   "source": [
    "# we need to transform to original data\n",
    "y_test_orig = data.inverse_transform(y_test)\n",
    "y_predicted_orig = data.inverse_transform(predicted)\n",
    "y_near_orig = data.inverse_transform(y_near_points)\n",
    "\n",
    "#print(y_test_orig.shape)\n",
    "#print(y_predicted_orig.shape)\n",
    "\n",
    "print('[Data] processing distances for %s vectors..' % y_predicted_orig.shape[0])\n",
    "dist0 = calculate_distances_matrix(y_predicted_orig, y_test_orig)\n",
    "#dist1 = calculate_distances_matrix(y_predicted_orig, y_near_orig)\n",
    "dist1 = calculate_distances_matrix(y_test_orig, y_near_orig)\n",
    "print('[Data] finished distances..')\n",
    "print(dist0[0:10])\n",
    "\n",
    "print(dist1[0:10])\n"
   ]
  },
  {
   "cell_type": "markdown",
   "metadata": {
    "colab_type": "text",
    "id": "r08A2g0onAyp"
   },
   "source": [
    "## Ploting Results ##"
   ]
  },
  {
   "cell_type": "code",
   "execution_count": 23,
   "metadata": {
    "colab": {
     "base_uri": "https://localhost:8080/",
     "height": 542
    },
    "colab_type": "code",
    "id": "RHKmNFTenAyq",
    "outputId": "ba625b26-276e-4c62-f3d6-b7379fd21cd3"
   },
   "outputs": [
    {
     "data": {
      "text/html": [
       "<html>\n",
       "<head><meta charset=\"utf-8\" /></head>\n",
       "<body>\n",
       "    <div>\n",
       "            <script src=\"https://cdnjs.cloudflare.com/ajax/libs/mathjax/2.7.5/MathJax.js?config=TeX-AMS-MML_SVG\"></script><script type=\"text/javascript\">if (window.MathJax) {MathJax.Hub.Config({SVG: {font: \"STIX-Web\"}});}</script>\n",
       "                <script type=\"text/javascript\">window.PlotlyConfig = {MathJaxConfig: 'local'};</script>\n",
       "        <script src=\"https://cdn.plot.ly/plotly-latest.min.js\"></script>    \n",
       "            <div id=\"1121da45-cb88-462f-a70a-5130faa90432\" class=\"plotly-graph-div\" style=\"height:525px; width:100%;\"></div>\n",
       "            <script type=\"text/javascript\">\n",
       "                \n",
       "                    window.PLOTLYENV=window.PLOTLYENV || {};\n",
       "                    \n",
       "                if (document.getElementById(\"1121da45-cb88-462f-a70a-5130faa90432\")) {\n",
       "                    Plotly.newPlot(\n",
       "                        '1121da45-cb88-462f-a70a-5130faa90432',\n",
       "                        [{\"autobinx\": false, \"histnorm\": \"probability density\", \"legendgroup\": \"Distances predicted\", \"marker\": {\"color\": \"rgb(31, 119, 180)\"}, \"name\": \"Distances predicted\", \"opacity\": 0.7, \"type\": \"histogram\", \"x\": [1.768728405120307, 5.768546934041533, 3.4095503794918374, 0.9060085991286664, 3.2288298310008074, 1.1789117219861396, 2.045774418332707, 4.801812205743117, 3.2553650290589125, 4.4433138551095315, 1.704143874025005, 2.7774679170526544, 10.923682661998361, 44.692056526271514, 2.984656620165491, 4.226722945120016, 5.123016310407636, 3.2177175717247932, 5.6666049630955575, 2.1199733071744453, 6.517838898321698, 3.1963389477975213, 10.32747152880472, 6.288183433383371, 4.407355790464011, 6.557404179072803, 6.291950159402323, 2.5671025257134166, 2.3611561743668767, 2.0221362894499486, 4.9578826097499995, 4.321930236219492, 6.254287705529033, 0.6130920278455453, 5.633911930018317, 11.426613674056979, 6.373995623441396, 2.9250762835609514, 136.28569944640526, 98.39653521199557, 3.730362305761673, 18.1595804430184, 69.87968783393332, 5.013989418891588, 19.194591863513473, 4.043970325064957, 6.386294236584348, 6.31456899548847, 3.738290954703887, 5.332857099333106, 3.6493216697946873, 8.823604455659211, 2.9235040951060065, 4.089652675726738, 9.700092480046752, 3.2626312093474614, 4.361999138025314, 5.388055549998672, 1.122646877335274, 10.974630627123494, 1.7720469945454265, 3.081551201438128, 1.6177686179345914, 5.228700287760666, 5.922986594170523, 3.7264026387536258, 3.5131421330135844, 8.94022617489015, 3.0755906374176303, 9.248914311757673, 1.7646480073577673, 6.2193532579029185, 4.195686790582124, 6.457772892698908, 2.0277360238213724, 5.4088733602599355, 11.917937997247249, 4.606283710473621, 6.313531647088082, 35.836794894736926, 3.6422597869280335, 5.373773512959614, 6.032201118055153, 6.547132549914867, 9.174973952528067, 2.872154282852368, 3.3113943836743376, 2.887520966717376, 4.669155072444196, 5.101404263967741, 2.1286756780930687, 5.728891419886834, 6.065169747383176, 3.2288298310008074, 2.9217559757498726, 5.668829898275554, 7.074253313278725, 2.740743637306558, 2.457151939404787, 2.152246212223313, 2.5668510246756586, 5.002056584137014, 3.3719995801189557, 2.912607349103234, 2.6468819457670514, 4.961898556065472, 1.7686265621566146, 3.1829884893101426, 1.6530908708830596, 10.120264647791291, 4.270822468101862, 4.074463383066941, 3.5942706882955138, 3.997277161565127, 1.9081602500798356, 7.617971534317754, 4.944229179824468, 2.1145022454792195, 1.3724000866074304, 4.524130950049581, 4.7581849793452005, 3.7295779718765716, 1.9409193476823492, 1.8855204920241269, 14.973794423755711, 6.110441610937063, 1.9341989512249311, 3.0231970625892233, 61.06614185952065, 3.750170150173701, 2.044191874521119, 7.689961082738367, 6.799681256092884, 6.747376500816565, 3.0915895101382347, 5.8673932942221905, 2.1009672756116586, 4.7581849793452005, 6.320804295849981, 1.7001386925978437, 2.605454001073836, 1.588246812539115, 1.704143874025005, 1.1056736587993823, 1.9000607577629123, 10.518751475795115, 6.966786012113492, 4.988571260041506, 2.8850203128538174, 9.059091273226914, 4.948587232940376, 146.39155071802142, 4.95472586821832, 3.470840010872023, 1.4141667301992271, 1.2326129975298559, 2.7108819048134034, 3.1502857342389055, 3.81581615637496, 6.340488481297155, 4.280969284279098, 2.9104299711779515, 1.96501575505725, 3.033602860224737, 3.9292254722937185, 3.981093711925714, 1.8793156197964633, 5.806195830386097, 1.4650988443159176, 4.615012032308849, 2.0446279172054553, 2.734121400714054, 11.50482436981665, 3.4810227306068824, 3.2493264393967025, 2.1785895830553303, 4.524565305546091, 2.4626679093721284, 3.3968297105453322, 0.5232655307998214, 5.120861407904681, 7.379452505786847, 99.61546358534045, 2.293379654910002, 10.28661629155948, 2.551262164336986, 4.96396749591775, 2.7422608401813586, 4.810191795563802, 19.163354011651975, 4.717544085570238, 1.3964450827888342, 8.688053060272342, 4.868497197447691, 4.339413309474381, 4.56780576486312, 3.184782203785825, 1.4147212847099586, 78.86357340924351, 1.843405417074619, 2.351103581264691, 6.757000919364737, 2.7895481679520397, 8.241441001999409, 2.9979377469868322, 1.7453012551733835, 3.1458173397562397, 11.11842166727686, 7.004942288735701, 5.536139520680209, 4.610913086013876, 3.081551201438128, 1.7520911796426817, 3.086188740274553, 94.57479757801906, 8.819253512590791, 3.4470624682761106, 1.8793156197964633, 6.758976695483116, 4.793613992884202, 3.351009960100839, 9.046447078063107, 1.7128447892649858, 2.4601561992584755, 3.9206619417826567, 3.5655834094994088, 2.348299443441681, 4.593332827602504, 2.7449612615304275, 4.827639540109436, 107.77560593089265, 1.819087157936241, 4.218656341383657, 11.715591678557676, 5.982140100872753, 5.307609336408255, 100.58761716134018, 5.39070549012996, 11.479767932389056, 1.8079574817727182, 4.0535759693753, 4.076819667864242, 3.2670184758204344, 1.5621277214264306, 8.96559753268908, 9.160966538383136, 1.3964450827888342, 2.9879045009009593, 3.1280074455153013, 5.129411337104251, 2.082412492091155, 6.776389552133613, 2.419633811061144, 6.373995623441396, 2.9734083484316702, 4.263042798444762, 4.595833233286646, 3.923060005012827, 7.132142932680242, 101.61541313217215, 4.2722526627343385, 3.256986459111255, 1.4373198304742716, 8.240187258570614, 2.6610676823892696, 3.664914974428256, 6.130396467250028, 1.9085151263922235, 5.977934269461311, 3.3841725022470417, 4.166201990535268, 5.290425317739366, 10.28661629155948, 6.763744530498043, 4.536046647562662, 1.7126226250945433, 5.214276809816885, 2.020655308929992, 4.831532061099741, 5.307609336408255, 5.622079498179895, 3.062525522109473, 3.140672725150545, 3.1708536967835035, 7.308864078205442, 5.294798524077258, 4.67147094279951, 5.447667413231028, 5.369036617948859, 1.9788848907885466, 5.858857094129635, 4.900831112915969, 3.0117593364262545, 8.544272708969864, 10.2685730747105, 3.7918531067982273, 2.2373163707183688, 1.2469035423277295, 4.857142181626183, 4.9797795133337095, 1.5090997638522112, 2.2649787615409407, 2.0259875746533345, 1.492351894217288, 2.2501380554238595, 15.735510296476207, 5.949036280577413, 7.5709384252961325, 4.855572987844333, 2.4445931159983387, 5.436492474869624, 7.245710807006082, 3.9129881035473355, 3.0242089138711803, 3.704942034197632, 7.711798803493422, 3.9915777972364808, 4.912383448312269, 6.859050872780641, 3.7678512544987885, 4.608553435234739, 5.028904590146906, 6.19012537917525, 4.671652218672018, 2.4208391392864352, 4.1461349435130295, 147.0103418546104, 1.6072283396714573, 1.073378508157825, 43.206476143305395, 6.632102877015987, 4.4272786945706875, 2.4852166812992538, 4.131306625346784, 5.171117086694694, 4.437784999286501, 4.452034329816888, 3.114608439140974, 3.0117593364262545, 6.191088736088224, 4.2019546346032834, 2.8895443153119476, 1.1798264237152878, 0.6158882971035288, 1.8923687030587018, 3.520549170513321, 2.4050065747486182, 1.0422084596227355, 5.870807913958706, 2.5328388339567787, 2.235978620846682, 2.9691631309995934, 3.3913909921143244, 1.5892764008030733, 4.635412252370046, 5.267411387793505, 3.018104690766874, 1.9534715227691744, 3.050229437581538, 13.854916572692655, 3.429839185419648, 2.8720177415784423, 7.756214548391443, 4.1901271695506175, 4.3352825426188915, 3.5380586243389507, 5.203627709930907, 3.1142703100693034, 2.860977094121347, 5.539999440144758, 2.8819600203578752, 1.9081602500798356, 0.4614355379541476, 3.5588871716781108, 5.089496207438263, 1.966354712996793, 2.6196196164684746, 28.856122851379006, 2.1519797016107107, 3.310882371673134, 7.501068107136209, 1.1933309230092188, 22.54680994377829, 11.874511601762626, 2.378390315640983, 3.627769449840239, 4.727612214775898, 3.585827804594825, 1.5006592829225167, 3.0048595373293154, 1.0631580166747554, 7.142179214171916, 2.1109452966100153, 4.080809340906892, 2.9003518650407645, 2.8011275778443565, 4.341213485156087, 3.730948733862835, 4.974057369184989, 11.955124712838337, 1.3266572132490135, 6.880510298922313, 3.807885925224722, 3.334107189967103, 3.3716448104340593, 19.210680263582987, 4.207676378234667, 2.9613705431413075, 9.383370379808328, 6.278454348437303, 3.7461638175082053, 2.1205868750978474, 23.222875151763912, 100.00141671598783, 5.462822408094381, 0.5748427186022228, 2.6822964847072917, 2.656702709443085, 1.570950196846737, 27.388730921143562, 3.1265865954874035, 22.94897534001206, 8.352795203952528, 4.305064433190853, 3.004200887500221, 5.362568916810538, 3.0005788386952137, 10.466706645036007, 2.68144047913672, 6.186674788598753, 2.78369784336907, 43.15154746991152, 2.1698794680063367, 1.8592042966924447, 1.6680502051700905, 10.076449914694814, 144.9292159304271, 11.992556543615557, 2.416506584806894, 1.8863909918295412, 8.026270837043176, 5.222022872418099, 5.84174218037711, 4.857142181626183, 4.936738280428166, 3.743285215021437, 1.827100273561936, 20.214280178266467, 7.21144911916492, 6.4690566225714035, 2.9575213314601925, 11.11842166727686, 2.724773246607642, 5.396052998394278, 4.551920125349352, 2.186369657120402, 2.9404924128415937, 0.904941098116799, 3.3946409078229123, 4.678637127643868, 4.743171225095368, 5.159757835464619, 2.6812350488878915, 2.86621694387641, 3.898684370986326, 8.352795203952528, 9.862058088299296, 5.651583893960419, 3.742152544034417, 3.5137577366639543, 4.938193504168863, 5.7270973707434525, 5.150923610130088, 4.074463383066941, 2.6263078410464034, 2.717097673084605, 115.7853930314203, 102.44217033638922, 2.3824069139498163, 4.194334635917346, 4.593778136100137, 23.222875151763912, 6.866374441021987, 6.4690566225714035, 10.441286380264058, 2.175205725531111, 1.8337979743409516, 5.231484779445458, 4.19526425551531, 4.87586570147244, 4.669221049235918, 4.049740819285622, 3.1673906370949796, 2.873314134711477, 3.9941429176085714, 2.4587382838713148, 31.57789622018277, 8.334108732013263, 2.1742651067385492, 4.822474364963497, 4.327267423163948, 6.14369206469493, 5.864171663429155, 4.4153963285181, 1.8602401844541765, 2.0208523932065985, 7.740198562185854, 6.088712297043752, 2.172421423744517, 4.340222663530576, 4.1188594774460325, 1.4680901648089144, 4.685478908186892, 2.0243884754882826, 6.379826289051797, 7.466359879627913, 2.632067957925755, 4.972448148251713, 2.514037693133009, 7.673707184995831, 4.591296623075607, 1.1789117219861396, 1.3337518223113864, 4.0069702836287, 5.879091023244532, 2.9693150513311566, 11.129670624737095, 4.648843610479905, 2.355252045106686, 3.1474524724136876, 4.279104906551397, 130.3154617476179, 3.061325527959064, 3.667736172370655, 5.399042134050059, 3.9730772861165846, 1.894351153418612, 8.84565570158433, 3.569503593083004, 3.83809230310433, 5.561022680157074, 7.049254557774807, 6.19012537917525, 1.9164432000686864, 2.093090466753115, 4.995697084608559, 3.598335310264907, 5.507669844462246, 3.1132329298693784, 3.680796595833621, 2.887520966717376, 28.065046102616705, 2.8686266551454356, 92.47363613498084, 1.2766001856248013, 7.690825137481426, 3.1175695369443184, 3.310107736913635, 3.654216357914964, 3.184782203785825, 7.076370811038347, 119.85424671181129, 3.303651821019861, 4.283723343068077, 3.5270632697413618, 3.9134953946647926, 11.051934726525241, 0.8399457299608183, 3.24243721151204, 11.790973929614342, 3.578592615171116, 6.763744530498043, 7.340343105748415, 2.258834573789068, 2.940150348030479, 3.076927698955691, 11.638171316983781, 3.0242089138711803, 3.729151880236802, 4.05735357408621, 5.296597242999098, 105.11583096918511, 3.2141904020786964, 3.391144692660311, 4.328497950867909, 4.975477521486016, 2.0274318039732493, 3.5828693364647193, 11.910299507434777, 6.091678699514914, 99.58402789121894, 3.2487770540752883, 6.613279218438657, 4.871617700883391, 3.884136149878224, 5.50677820462124, 5.462214253256223, 2.387986695615638, 2.171725402553834, 2.5889627233405923, 4.977726676089477, 1.7002761888894171, 4.625333351871163, 3.747498192212153, 2.4131267852601477, 7.913915290869469, 1.1171032466919415, 1.674549532037909, 3.8777059877373756, 5.238899463056416, 1.3591288161250101, 2.9012330153461425, 4.389605930921361, 3.678770512155328, 4.565934617415325, 8.282773589369445, 1.6457951557978765, 1.8971693092435136, 1.8018705611349328, 3.6546375170265435, 3.0121441744291846, 6.358608656038131, 5.203627709930907, 17.560582932877907, 1.3149586937091169, 6.491929754611222, 5.051175756537077, 17.73243696181376, 2.9691631309995934, 4.298522804030443, 1.9281555868701463, 4.9578826097499995, 5.387246694153986, 3.183524221010022, 6.3321878504821525, 4.429637948003852, 2.981293960544446, 3.1265865954874035, 3.191895098474231, 5.357731729981522, 4.629586680412865, 5.96765578983203, 1.319029202991937, 2.9439229624417047, 4.558494648632264, 4.869076597890971, 4.478501308992974, 3.976420265726314, 7.012934061995637, 74.06334588141772, 1.8494365466665168, 1.8481160119603341, 3.2832450938766375, 5.147421818437756, 5.924255031370048, 0.65945468205612, 1.9143661599432211, 91.89976431225317, 4.98015987002071, 11.403709094559494, 2.5276684907167395, 5.410946918791724, 4.778475357191978, 16.390726424190184, 13.746478458800027, 2.1199733071744453, 1.9240053472999292, 3.8815994793003066, 3.20890113302294, 3.0701638853607323, 111.76268155825618, 5.131146864637149, 4.4776620454742755, 99.40782280479009, 3.9756255162293352, 80.92731079441526, 3.927251674013675, 3.7984449431311567, 7.429217416876153, 2.199953771760063, 4.452981881450442, 10.636915722583351, 5.433445402188337, 2.892819098317658, 2.77707343924892, 2.505924490399187, 8.568703863819772, 1.6215362636741142, 3.062525522109473, 19.210680263582987, 2.0385574816587018, 5.483455696761586, 5.492922935060058, 5.10321459038153, 1.5176150364785777, 1.8343426426256253, 5.072709171355977, 2.171725402553834, 2.4979866050891006, 8.490444313697497, 1.7757765558200644, 96.93017488206614, 5.793277452050482, 3.87230433327575, 30.510345659005058, 2.768184351471241, 8.244664983125826, 3.469776398362741, 3.657206195766547, 5.143175721242235, 2.5601362865178623, 1.4191970338263975, 5.6125257541149525, 2.5889627233405923, 1.1769557111038742, 3.479429637864942, 4.0062733253834795, 10.237926642627404, 4.396205680137412, 41.99743270795375, 11.166826767060972, 4.994319087709411, 5.812252556230991, 4.598615858095931, 4.096290422409605, 2.632297236893167, 2.6109356193622744, 4.7796785797314465, 5.52972111673241, 1.344885479066841, 0.921026978381501, 8.032460307115702, 5.522362951906994, 64.5584975508223, 3.3983817094030617, 3.8747311720244784, 4.608553435234739, 3.819680890460125, 8.756421002956442, 3.7595544246728423, 3.8926783214141794, 3.2925328209428386, 11.201565384072222, 101.95578611637254, 3.6917074453863084, 10.762410190375043, 4.635412252370046, 9.170887357396156, 3.236138908032944, 4.822474364963497, 3.6555404979896586, 2.647889180782584, 1.2967372453034915, 99.81922461758121, 2.2470842848254806, 0.7117897558011959, 3.731022028548224, 5.410990147472451, 5.072709171355977, 100.0954070604762, 18.071348435407664, 4.712371967098839, 2.6328467499249264, 4.79645432391081, 4.002101469190422, 4.924108331323571, 6.663088151661984, 1.3169162804260561, 2.7542320133352254, 3.573940747185713, 2.097200546054382, 6.189697841703293, 48.60466407696968, 6.396066681069994, 10.2685730747105, 8.389746401009747, 1.4234469071097249, 7.639955491845671, 3.927251674013675, 12.050515022410783, 6.691520085245492, 4.95472586821832, 4.330589452819966, 2.293379654910002, 3.4708113066672257, 3.310882371673134, 4.801713854927948, 5.1917942062544435, 3.3643701613266352, 5.36980664145068, 5.780273036091617, 1.118835994078081, 5.689058911529718, 1.667811241882506, 2.4391746186046555, 0.8412132071432649, 6.475182779713204, 2.0155422845136344, 35.836794894736926, 6.91203089344789, 4.079937876599202, 3.8631870189982407, 4.873878677119653, 5.668409711761457, 3.3681699254486257, 1.1121382845479693, 3.83866098170605, 5.318818628002317, 1.85965058195838, 2.936269330290603, 6.713646899443659, 5.8089809705532325, 5.143175721242235, 3.0111526916193485, 2.619997645823055, 2.977146842701013, 92.03291935373026, 3.976823347390552, 2.732451749161205, 3.9102190551818232, 10.776630231214263, 1.259807051456191, 1.766187850977606, 6.2637119886604165, 4.655563268159061, 2.3785853909258354, 3.678770512155328, 4.593332827602504, 5.24958373952932, 7.538553537431852, 4.063326634363772, 4.242344600742297, 3.807158780964226, 0.5017476522474842, 2.6051400989099807, 6.167097349791787, 5.8861077823954115, 4.884863127388919, 3.0437033434109027, 28.604673971783278, 3.807158780964226, 1.7648112983818787, 6.095579538196369, 81.48373419573575, 3.895420171301256, 4.82606987541167, 5.864171663429155, 2.977548973512661, 1.4986233311462018, 65.81313159483264, 2.0883930103555004, 6.6199389161493425, 10.928405183733233, 4.452451626648103, 29.319762935097998, 2.765667886035915, 5.351837488840282, 4.4099910201192305, 4.684408082639619, 45.448754740304075, 3.2292824025646873, 1.449852669036269, 5.568841734355142, 3.6539830271159497, 4.342157083552451, 4.2722526627343385, 2.6051445418662817, 5.520302746296975, 1.404840999338032, 91.11936765524712, 3.3968297105453322, 2.7929131144040076, 3.1482243377233234, 1.4079802010238487, 5.258124385228742, 4.779609667530151, 4.524565305546091, 3.0569890869870964, 4.794650268234368, 5.879317650248967, 3.2947444170932663, 2.9659168896642414, 0.6989429448439031, 5.169800951757802, 6.694413943853762, 4.472842262619024, 5.393575496291407, 4.315931763649883, 4.915616654442959, 4.37466186662706, 5.6284013080067155, 6.4620510146628884, 4.321930236219492, 0.6301501648804795, 3.305455714283649, 4.179205372329623, 5.468240020209546, 5.691334392397116, 5.2673929193737665, 3.135879506328225, 6.360294985367509, 10.01534237689957, 2.4179325225081763, 4.720425600941292, 4.683008699506192, 4.176315754779506, 111.27117224603022, 5.075330906904807, 3.041046848686662, 2.68144047913672, 2.605903866406684, 138.37563057675766, 2.6594532582274613, 4.05735357408621, 15.390776621727342, 3.930898189330288, 7.5688039654482395, 1.8442891847328577, 10.957967171513712, 2.2800839094162937, 4.778475357191978, 105.9267511168357, 108.32644542692294, 1.7520911796426817, 4.545033078239873, 3.8746225735200026, 4.239901615698594, 2.793084396364197, 3.3950398774233634, 2.6938197990429638, 3.2994742870213853, 5.4410080077761345, 5.2160039370247295, 4.115446093172947, 5.586152158180756, 3.4867548041172083, 6.896727300247385, 2.171725402553834, 5.811785622283651, 2.120467971221464, 4.689278118570455, 4.293726436007483, 9.697493532284227, 5.893926482246013, 4.7055696647968155, 0.9333509292284614, 97.60940306531741, 129.04797024812996, 4.905138136956262, 2.4644553916838876, 5.586092550871373, 2.319568374036325, 95.35186072570603, 139.57642084502524, 2.7439575578151807, 1.685203719633343, 1.3862123563463749, 94.79315901827273, 4.532232767769892, 2.3752907121525624, 9.046447078063107, 2.359252225898006, 1.2742042636639008, 2.573800677600028, 2.7929131144040076, 5.349834453607925, 4.595855973351901, 7.8150328547174555, 4.8750614575013005, 4.455494407460506, 3.639519940090088, 3.761268645111673, 4.181894204020258, 4.395723562354545, 5.8961769686177075, 4.471947152419786, 6.092577902333063, 1.885018171409901, 3.12563992144922, 4.389058451334816, 5.345500195177848, 4.717143623012336, 1.0797254142941002, 8.254750763136283, 2.283350356685654, 3.236138908032944, 5.443454857244091, 6.432748446541781, 6.062902414364513, 2.7870216501650367, 3.5569256754298166, 3.903324296249037, 5.0957063883261275, 6.823522481833564, 3.0494696332682314, 4.235578213988819, 6.251969616322014, 1.2118639877286141, 2.222215423227445, 2.5301099719055133, 3.8680275217042603, 3.1621587131605926, 2.8421396125553917, 6.033448462455904, 1.6465054942447948, 1.3964450827888342, 4.290375355159276, 3.1390693506779694, 4.041091758919745, 3.0179856748592466, 78.86357340924351, 1.8420863452814606, 1.6002944816323188, 5.270357485043057, 4.727066286174899, 8.493600452347184, 2.9601246720509535, 2.560557450699022, 1.8029633882991865, 96.28175151301548, 2.547602307734942, 1.8605667652486502, 4.461097427650971, 1.037482692269747, 1.2180620739245775, 5.579313411852333, 4.928438997743303, 3.4810227306068824, 2.939259315506275, 6.923510635014822, 1.4335018575538334, 1.73028524500406, 7.484996477726691, 9.229886149639128, 7.534055677443707, 5.479899701561444, 5.3446041576882255, 2.942092899464744, 3.9902531990668018, 4.712371967098839, 10.990345866935767, 1.22255441015524, 4.900283597729905, 11.479617277402236, 4.463730446834397, 1.646796199464018, 3.7958855413075643, 2.6871348785664604, 2.9482510422612433, 5.391147427294161, 3.465783809089309, 8.100687381325914, 6.9960178892848806, 3.473601831612133, 7.447404943896827, 4.214017099752216, 2.222832798992345, 79.4830966054678, 5.049687394578217, 4.870297938607495, 3.6917074453863084, 6.517838898321698, 3.990229756323553, 1.918627007941649, 1.5866594316521718, 7.825611607125492, 4.917240181880029, 4.981920437423361, 5.774764583518599, 3.361437237570635, 3.9340160443914214, 2.9102853613246817, 5.11553854709188, 3.478443222238903, 208.47277148608632, 83.9725312563128, 3.305937648367695, 6.040183761987065, 4.539357669713137, 5.319644132464562, 2.6209200969723394, 4.647412294582072, 3.7036258149618932, 16.0671761675484, 4.759482785820701, 2.4762915733699327, 7.662993276585209, 5.410946918791724, 3.479429637864942, 4.908177122855334, 5.158129594559869, 9.97194814471823, 3.8038257671905247, 10.619616836764404, 6.186958314560614, 5.888351041772971, 4.97611143829082, 8.670155792151224, 6.703511293547324, 4.783944583570961, 4.317945730497579, 3.0410291347731455, 4.173156414378598, 2.045774418332707, 4.210464304748146, 4.550183575390691, 3.203011780066604, 1.7648112983818787, 3.2414514728618036, 4.049740819285622, 4.515131458557695, 3.824099910523396, 3.5518002250344103, 4.910468753258886, 2.2191885577364747, 0.8167439220628129, 8.111828354771287, 3.579808772865511, 5.927357359946393, 3.589666494979528, 1.7128447892649858, 4.134933142959863, 2.9613224631165274, 5.277250806978097, 4.502988568105407, 3.074986116900164, 4.967401120595934, 17.73243696181376, 5.109443794468588, 2.670728837995874, 91.42374958090788, 5.410990147472451, 2.2539955955529116, 6.6847404756400195, 4.633182933848198, 9.303732498706843, 4.634574489441289, 2.493072569118551, 88.30235651163173, 5.305217763533629, 1.5033476555253973, 5.846816055240398, 5.286418563274278, 6.980754244041629, 8.213423904108737, 1.278170697738197, 3.9996826289412146, 2.658593165176, 3.755269870692254, 2.4466172371567385, 5.813836686977454, 9.059455824703095, 6.615541862067818, 9.189901967950613, 4.071247106113089, 1.010607939371906, 2.8819600203578752, 3.388368015776895, 2.818777331676228, 9.533930402250666, 6.3272422651583735, 108.97554468780764, 99.02886369272828, 1.7646480073577673, 4.108849752872329, 2.466069163890107, 3.998166306229278, 4.167039636333525, 7.629716016042419, 2.9235040951060065, 4.76984521936478, 4.988160005271516, 5.056777974022437, 3.968087918605025, 5.416530362764619, 2.9356707284202153, 4.66705575558915, 7.405763610868706, 5.886334925909063, 6.5252736577490715, 2.1009672756116586, 7.897181332101776, 3.966315303980433, 96.37924005615112, 4.388481448170429, 2.6855420547463806, 2.242292621552187, 2.757148661209639, 3.68638822179082, 5.44206190004368, 3.895420171301256, 6.045639502604302, 4.847376355810516, 3.8047874914597144, 2.665591809075282, 5.531969298411955, 3.477921801216564, 1.1001840705749002, 6.691520085245492, 96.22718940838857, 10.442281316097352, 4.737790499590152, 3.1573457379755374, 4.332365145888261, 6.233841717043706, 5.154244614869253, 4.442669826421302, 3.211814364959836, 1.8087816905205354, 1.3233650232616705, 11.52445628731386, 2.7868676486174353, 4.700431238721431, 1.3169162804260561, 3.074986116900164, 5.793277452050482, 2.708990845065814, 2.4470750879730496, 3.9268117300266843, 8.493600452347184, 2.4361494819641227, 3.981093711925714, 3.52182007634282, 13.26914775287901, 19.163354011651975, 122.91988861424755, 3.738290954703887, 3.651209582683638, 1.6224242046341044, 2.1639393311288075, 5.2514293914318815, 50.440661657850534, 8.362209408000655, 3.234238576078856, 2.3161143531238837, 3.6190972137432786, 4.79061242555989, 10.671094905518196, 10.892718540842363, 4.739422687697147, 91.92462824827207, 4.4024489676739424, 2.9281562922809496, 123.39464380536826, 4.210463420041532, 4.210420007749387, 103.99867407900791, 4.6550744624749205, 2.116608318514648, 1.8507309641289293, 33.537506648003124, 4.824815639111055, 1.551208226567691, 2.128675678093069, 3.1681017889192438, 9.494925369642383, 5.13617073588466, 5.9073089653663695, 5.004383661542981, 2.77707343924892, 3.7291603262549775, 10.08360566611272, 4.014471802763635, 2.1140343627424314, 4.554925644536549, 4.8558902258830425, 11.091443883147432, 4.034931350251326, 4.086696241951688, 2.3071583670932903, 5.69839492657018, 4.824485817943092, 3.274506676964965, 5.457995016908008, 4.697307742468679, 3.5271866953732283, 2.7170952702118463, 2.4164268285349264, 4.576904561246507, 5.349834453607925, 2.3611561743668767, 11.93760120236963, 4.4226770890707, 5.151469073318482, 3.540622971522677, 3.282546803400666, 3.449049486792098, 4.10862505128896, 8.990877274484442, 4.79645432391081, 3.1619011556461043, 4.083834921401602, 4.826601339277845, 7.5709384252961325, 7.149484298315236, 96.07520605000434, 5.412886412564241, 2.55869025811676, 2.369805708319816, 9.60925946222305, 5.7167817120531454, 4.678637127643868, 2.2373163707183688, 31.472053277258286, 0.4614355379541476, 2.6938197990429638, 3.388026365031703, 9.60925946222305, 4.223964737695905, 8.890553766405926, 4.937908441373807, 3.965589104113288, 1.2469035423277295, 4.933536526406022, 2.6083449556213703, 6.663088151661984, 2.939259315506275, 6.576747300527542, 3.5004705188903054, 4.4352038553087985, 3.431957902489439, 2.060791959523242, 1.870451231841464, 5.524823401221016, 5.524823401221016, 6.334153186775667, 2.790359241086068, 7.126051680448507, 2.2920055939207664, 5.729744447457868, 5.055334836816153, 7.172533410967027, 6.342128463457515, 3.176729188304262, 2.5518154836250035, 3.830908933732404, 3.6433949687918545, 5.871186989914869, 2.672930929442665, 1.4924198013300978, 3.8862409384258045, 5.344607368706381, 7.011455758070681, 4.788804021414831, 1.8507309641289293, 6.425028937996847, 8.129487033239267, 8.193177155095622, 5.327184248079676, 3.203011780066604, 4.678637127643868, 3.132104790118742, 5.687474595633762, 1.4788024308201597, 3.001945429817692, 7.655405536247564, 5.399042134050059, 6.702876600638603, 4.06107283201932, 4.871617700883391, 4.410316271541292, 3.1435424298950596, 17.924862560181257, 8.325207837878267, 2.4212329398600367, 3.095740297093672, 7.951712965257368, 1.6959975015899855, 3.807158780964226, 3.1573457379755374, 3.2979457070743807, 4.435897554701109, 2.5218383782173293, 5.025321524612513, 3.09301007895922, 8.166523873565037, 3.3009187027850606, 5.850208380614535, 0.7144970376521466, 32.78589114169918, 7.496328558597208, 78.86357340924351, 2.5934591426881926, 6.612838928511437, 7.385730022714297, 3.654581386943626, 3.6097907349685157, 11.715591678557676, 2.310981911512416, 2.5276684907167395, 1.3245495966702063, 4.587450707027366, 8.500387717140972, 8.905239874009151, 3.8366436919511524, 4.857336514222745, 4.146794161245985, 4.711229161466511, 4.106179098961948, 4.521783042049521, 7.090954196998574, 4.288329496423206, 3.4839406770287598, 117.33710959881721, 2.399684797431283, 1.645466783340182, 3.1175695369443184, 2.9879045009009593, 4.721227135547433, 5.277250806978097, 13.126352068381015, 3.123195161801684, 5.13646609386356, 3.5659953752532827, 9.303732498706843, 1.8040591459535165, 11.073555153611558, 3.7340983549521263, 4.225968988257585, 2.0721181782180222, 5.541090234303376, 4.4721323212268675, 4.5928337004488835, 3.323736699990896, 2.3925080298928876, 4.089652675726738, 9.721474335008004, 5.103366401345018, 3.981093711925714, 6.139885461119496, 10.210883104703301, 6.195898938700554, 3.638240050429885, 2.544099578545022, 1.827100273561936, 8.436755211178212, 1.6723268707420622, 6.969391258164168, 7.740198562185854, 1.7162099470901557, 8.682961723136302, 2.2721928073622317, 5.035505779206856, 1.4079802010238487, 5.5507362076874776, 5.722366354494117, 4.9828764248826, 2.542065964057539, 5.28278070465387, 11.11271327430301, 4.194334635917346, 9.60161841751803, 7.047625477491523, 1.804115883555652, 10.238074642437718, 3.0494696332682314, 3.6539830271159497, 1.4431289929459872, 10.293955539933268, 4.976743064439908, 1.619493317052821, 6.478016281902751, 4.092064315480908, 9.722933914037315, 3.976420265726314, 7.1917006089654585, 4.739125547662953, 2.941800741425953, 2.5107362774307904, 91.86462199931728, 3.856929217198752, 2.968121587483442, 0.9460189404923687, 6.265217284138499, 4.080809340906892, 1.8365759445559724, 3.391144692660311, 5.972256561610415, 3.1334802951204983, 6.562892611743135, 3.3772825065184775, 2.2513964272314744, 3.2888388243080224, 4.550495643883164, 4.823365912802904, 3.525917438378684, 2.9846269360004127, 2.7255768514070433, 3.3112881106012786, 2.6366218937997825, 2.5619199688315852, 3.7026458564078935, 1.1696787859534092, 2.0947810517505667, 3.5827689454727905, 8.365067408424927, 6.24651571687452, 4.612233563356269, 3.3578511773284263, 3.7757324333055813, 3.813194234012762, 6.48872324444732, 7.405763610868706, 5.300664078334734, 11.638171316983781, 4.665433052893441, 86.53217544806567, 4.40685644652122, 1.952006029028877, 8.819253512590791, 1.9652044796725816, 0.8452853852211615, 2.4241795491090383, 129.04797024812996, 2.345941110462709, 1.8762863622356687, 3.447585119470866, 3.502015805125499, 3.537243637313895, 3.8203104182339795, 4.994805067453879, 4.728603129840816, 4.551917740578649, 4.025125122262524, 11.006213557468659, 2.8936160598385, 4.844276287519987, 4.879332207539376, 6.781266937186394, 1.95885727974342, 3.5518002250344103, 1.0500136601568664, 3.8423870981194734, 2.40243324076094, 6.633679199759445, 2.8136036088869605, 4.8381816464109235, 4.477662045474275, 2.4490627499600035, 2.2021986935901516, 5.479899701561444, 2.2649787615409407, 1.8268351614929057, 13.75676937729505, 1.8494365466665168, 3.952778373076193, 3.427356144420716, 2.9093601690359443, 4.833652899999612, 2.923061028720033, 3.8148393507460487, 10.875493535468104, 2.7737732500634973, 4.557476980253154, 2.0465557391088582, 1.785242178954589, 5.62343123425852, 4.798771973686616, 5.972279230497194, 4.8381816464109235, 8.213423904108737, 4.6550744624749205, 4.362423089351272, 3.943614307412949, 6.534744548941907, 3.338108310966569, 1.071635070192142, 1.7523975635128726, 4.617981603874061, 21.862471570959947, 4.211134339516078, 2.593300104671497, 1.2691900677911898, 5.276470136424755, 3.8410352876360627, 6.805803768038236, 4.870297938607495, 48.544976337408514, 2.209918884046919, 2.9601246720509535, 0.8164806504288178, 5.282573813125339, 6.5240883989155165, 2.7439575578151807, 82.49990993283198, 0.9454576574337887, 10.280512253274757, 5.0331801346307135, 1.9828208631792341, 2.873314134711477, 5.143551032838569, 9.174745402518678, 5.846523225440061, 6.137662418218543, 8.819253512590791, 4.210463420041532, 5.262698868586677, 3.3735564441879013, 4.883477403520984, 2.439367949937228, 3.5366730130670163, 5.933176546253661, 5.8521499282265115, 4.078694760364186, 0.6333288405374814, 3.024369821761945, 6.479539689179036, 2.564819434605761, 4.904343843186732, 35.836794894736926, 6.003245225939738, 6.795442115490853, 1.678926617077822, 8.3216700962214, 7.803789455602905, 1.8209033853739258, 2.1605884699458504, 123.57344929657539, 3.639519940090088, 3.068650598032163, 4.114949065998089, 2.3896760655603964, 2.1596008068991908, 2.9102853613246817, 5.268470214496397, 4.9291419563476575, 50.50123629324067, 8.756421002956442, 9.700802480106292, 4.532656046748692, 2.107560266554649, 4.258721782444962, 2.486228125327254, 115.76335188225708, 3.472680882926079, 0.3487923970033667, 3.856929217198752, 3.9762215352146906, 5.416530362764619, 3.831436824314924, 3.095740297093672, 4.906148696717099, 4.530371368512679, 1.674549532037909, 1.3591288161250101, 5.332402040599376, 67.28174900044051, 0.706579021304335, 4.404239060046259, 5.986442616366173, 1.069913363133696, 2.7088078891670175, 2.3073472541972704, 4.544487589584405, 3.033602860224737, 4.926579462414225, 3.7497899659581124, 1.150317222128543, 3.41231539423888, 3.154450056038812, 4.415423073872075, 2.9738707708438104, 4.66092832164191, 0.8452853852211615, 0.18721088902421804, 13.211520082903183, 11.479617277402236, 2.291286002998803, 6.497704018190186, 1.7232674264260506, 3.0238494822012907, 1.996029003233207, 1.4952419344875778, 2.9792565442531567, 1.8600743188649782, 3.568176046121135, 4.097344485927364, 100.51192661559398, 3.1933449072946756, 3.608470781845356, 10.903009637235678, 6.645956772281796, 9.059455824703095, 4.739125547662953, 3.520549170513321, 3.755332551490947, 4.926039730423879, 3.1276565136672434, 10.05717810690303, 1.804115883555652, 4.625824763428662, 5.5523578171206545, 205.16596818435082, 2.236491968963602, 6.587271120964486, 6.615541862067818, 3.281574052554912, 6.693484907779098, 5.630458637824415, 8.951270360472792, 1.935753373803778, 1.3945192645730575, 2.542065964057539, 2.55217201240026, 3.6539830271159497, 12.475327205786133, 5.91285886131298, 5.972256561610415, 86.25762448748911, 4.810987312007621, 17.902120761989195, 5.729744447457868, 5.870251772845722, 3.7438451664608414, 1.1488236095471887, 4.269355840605482, 3.8686936067241633, 3.813194234012762, 3.8680275217042603, 13.968614657775262, 7.047625477491523, 2.999610820932398, 4.463730446834397, 5.608456971032749, 5.078195723167074, 8.105196102797118, 3.788972733798697, 3.1695642189508306, 1.6959975015899855, 2.4153802057519655, 5.034742932329355, 41.89052650795878, 4.683008699506192, 4.594861648430467, 208.47277148608632, 1.749617274098208, 3.881407348821072, 3.7207749541653534, 5.159757835464619, 5.921036228005808, 4.370809136417109, 5.3761473488185265, 6.5252736577490715, 4.384299605977227, 7.623344322129715, 5.202101559821791, 101.83525542852466, 5.392292057884695, 3.7461638175082053, 31.658162910110082, 5.404122372535742, 4.13201921264136, 8.173640252904125, 4.498231127989598, 4.9225126621431885, 9.839155738169437, 9.914701720811244, 1.404840999338032, 4.043970325064957, 3.0949118690834774, 4.781320770291368, 0.7117897558011942, 4.600657477932065, 5.171117086694694, 3.490520177176186, 2.696214379468739, 2.7708126306344845, 64.51432787163908, 4.3970310646823885, 4.9828215576771155, 3.612181316206266, 4.863933886100802, 4.863933886100802, 5.977934269461311, 4.59376923687616, 2.5877726140146597, 49.67320110979157, 5.588542640807204, 6.028758609051184, 1.4334573903696366, 3.7335721730605624, 22.54680994377829, 1.5260724544809352, 6.14369206469493, 6.656177722747811, 2.6317065310036827, 2.6655593153385166, 8.5528131783125, 2.605903866406684, 32.65785350138758, 3.6389905977114005, 2.6140909550581486, 2.29411493728028, 3.943781183339627, 9.60579031467331, 5.080698986557788, 1.0007899389078971, 2.25948073858558, 2.063585588135436, 26.02664322468406, 2.416506584806894, 1.570950196846737, 7.236908693682986, 3.9527058177941528, 8.886406333896597, 6.758976695483116, 113.18915625225794, 17.924862560181257, 1.8865473176125316, 4.3135730060864255, 4.011310451823153, 7.525392224440859, 1.6008908283384438, 2.2750524279335096, 3.5588871716781108, 4.368610502602998, 4.961898556065472, 2.0155422845136344, 1.9442904359551025, 3.1694395990534554, 110.76278493840799, 2.291080525966093, 1.1742086170281392, 2.6550541234576532, 4.944909469418291, 7.496328558597208, 3.8926639916662693, 1.574504927969014, 5.5059240414730155, 3.6648982120961966, 11.429244917050143, 1.259807051456191, 20.214280178266467, 4.878304859380761, 3.9075752794313767, 4.274278353200512, 3.5659953752532827, 3.997277161565127, 1.515588088692867, 0.7101086627234896, 8.87374271246332, 4.210463420041532, 113.18915625225794, 0.5284285493084452, 3.943781183339627, 5.8961769686177075, 5.975284870542176, 4.170592961070751, 6.846534689117809, 3.88996101341349, 3.2060059854298624, 1.4783240482205204, 5.120861407904681, 2.551262164336986, 4.719271870796118, 6.829923199545483, 5.669706541431261, 0.8412132071432649, 5.924927659472832, 10.990345866935767, 7.741937186664307, 4.430430509185794, 6.363613005163343, 99.58402789121894, 7.407142971772176, 5.114230503519623, 5.346751966062116, 3.9194690998792687, 1.7462567634992643, 2.608854378635134, 3.664914974428256, 0.4306697827308292, 2.160158413649682, 1.3848521632381119, 4.911905650242206, 1.5354399817200424, 1.6072283396714573, 3.6433949687918545, 19.24573170416292, 4.472842262619024, 1.5399651223685737, 2.2086335778719675, 5.0925566535718225, 1.4583128461938037, 1.9940517885683793, 0.3487923970033667, 4.233805227472453, 7.308864078205442, 3.620519981796745, 1.6730445767775204, 3.7760725043515726, 2.593300104671497, 4.453853584344513, 3.380258770292838, 15.910353819930833, 4.824485817943092, 5.002968791297458, 2.9691649952782244, 4.191079368506192, 5.3761473488185265, 3.470840010872023, 6.259743227502604, 1.4783240482205204, 2.505924490399187, 5.964357218231785, 3.2414514728618036, 2.7858595447157537, 3.603581207685674, 1.6723268707420622, 28.779887305747657, 2.258880437629093, 2.1131856632779313, 11.805796497654015, 4.7581849793452005, 4.112134531972728, 6.906522080826669, 3.782842517637396, 5.235499766344301, 1.344885479066841, 2.0143336871163764, 2.8177932355950683, 4.291229193581416, 1.5304388610843103, 3.71434235912326, 0.6749054022159833, 6.605632024815619, 3.334107189967103, 2.7303278007263527, 3.453939524696412, 88.8545286315761, 5.7350806407590325, 2.9691649952782244, 3.455055329003736, 2.5881920665605627, 2.3925080298928876, 1.6664077763310754, 3.1066851189580826, 2.895121024433975, 3.9340160443914214, 6.179117340370572, 2.0672730944855666, 11.805796497654015, 5.222274240690427, 8.026270837043176, 5.084673052717708, 3.692788370065422, 4.471691107283097, 10.505097557174349, 4.821595719585267, 5.794851986891118, 2.196378192619935, 5.69470892834682, 7.2449741155396605, 1.0927984089731868, 2.010923415720311, 10.087838327733643, 0.5310700995984979, 2.948899083880729, 7.379452505786847, 7.1225954436578744, 4.4024489676739424, 3.2769951385116745, 91.74159027401737, 5.7439279142004445, 2.4845227179331855, 4.126880898137397, 4.21870536856851, 3.935614303242179, 16.89965213557475, 4.98015987002071, 11.715591678557676, 26.33196212334871, 1.8006325058578145, 0.6519623960621496, 5.146405204357578, 7.725031829099235, 2.6083449556213703, 6.139885461119496, 3.923229437626204, 3.3937857561219578, 2.6279188619386242, 3.5734632298126807, 3.9173243623156973, 3.898684370986326, 4.848119385722889, 1.054489793620904, 1.1441935515016557, 3.68638822179082, 5.774764583518599, 4.700431238721431, 24.160541912880372, 0.8999655931584716, 7.51406572555413, 1.4904218579962014, 1.333921759661044, 5.158129594559869, 2.5503301439126886, 5.695401785940239, 14.758162547052216, 4.736915702642813, 6.749969690600407, 4.279918835651717, 11.76779097238995, 4.727066286174899, 4.068482668169231, 65.81313159483264, 4.370667260302643, 4.623365875185414, 2.556335823229585, 4.527482796753892, 103.53510617651361, 4.928438997743303, 4.782485010728021, 4.035054120865805, 5.593988413832616, 3.857515857180559, 3.0362868335167623, 3.7276100592964734, 5.18601175752849, 4.336377190119984, 81.77727108890006, 5.405187280993567, 2.765667886035915, 22.290218991484217, 10.998292634308799, 1.8171509386623776, 4.612233563356269, 5.222530702739675, 2.7175066683135976, 1.460015644513511, 2.2195932712372306, 0.5466515852278244, 2.0940076997030523, 2.283034550076009, 3.3946409078229123, 1.3229390911066081, 4.409588972197578, 7.586000897947351, 3.8366436919511524, 5.132291028712567, 5.40259695477923, 3.388026365031703, 4.859383146975515, 5.013989418891588, 1.6145912522725607, 4.836018219561978, 5.9660453364730435, 4.474443046872661, 3.5870752905348438, 16.158428616748868, 2.2771419925385885, 0.6137907310901538, 2.8912987969878823, 2.0122824891457554, 10.654328413969996, 4.577345786516627, 5.049275594918832, 1.2328782846988915, 5.587017541521286, 30.78122127134706, 2.7483630582329774, 7.12445246457411, 4.269289475463105, 7.641060102012519, 1.4650988443159176, 7.907334029386784, 5.91285886131298, 16.89965213557475, 11.93760120236963, 3.6746291540959186, 3.627769449840239, 4.641935969726569, 1.7781563574444592, 1.955049689475532, 4.06107283201932, 6.740063141838964, 5.959131054396502, 4.06622750899443, 33.31801174517047, 1.9659155253025764, 4.880293562656666, 1.8207111408011145, 2.426866903353678, 5.534866661525221, 5.034742932329355, 6.63114096519907, 7.625925798350428, 3.9967970134561277, 4.886581344728338, 4.191858218987245, 3.569503593083004, 16.171645120069527, 1.934547953984223, 5.8521499282265115, 2.1471539555484918, 3.5506478916934374, 3.5024405202255555, 1.0425350050256332, 2.2431096787206606, 4.781320770291368, 1.486055939180218, 4.49623610519132, 5.294798524077258, 3.5592616406055813, 2.1037460839566173, 4.651089815829746, 2.8522211119323986, 1.1210721748868289, 2.222215423227445, 4.415423073872075, 2.2988567759246967, 2.855670256916425, 4.90995517919388, 4.758121553653859, 99.9442822066289, 2.283350356685654, 1.344885479066841, 2.062872086213256, 1.2881231529464106, 3.525917438378684, 6.129095799239511, 2.9443938646448746, 3.818626761192318, 1.9292307825816055, 2.1512701254124895, 1.7604714352550608, 8.53560058477757, 5.283407614469715, 4.873878677119653, 3.7045197741026166, 5.728891419886834, 5.5607429545275044, 4.10862505128896, 4.6450635699092215, 3.090876970052876, 4.713421135637218, 5.9660453364730435, 3.4208956574709086, 2.689681240787091, 61.132648651071364, 1.3912515230187414, 1.6177686179345914, 7.249893874999344, 9.66865734506874, 3.417956871669633, 4.827639540109436, 2.8620946116256034, 6.013623641781349, 6.5534185324883865, 6.152688052733195, 3.1785701235215726, 10.713666377946824, 4.4826356503143545, 4.900831112915969, 4.842544721638507, 3.313433092142305, 2.4042489109883385, 10.29775287562308, 4.111044547095894, 2.8561649097641286, 2.4832149561084655, 1.4545654905381142, 7.669780342315304, 1.4680901648089144, 4.535499980540575, 1.3983692945408737, 2.6209200969723394, 100.00141671598783, 9.862058088299296, 3.0454984268194156, 6.5648545843738555, 138.26948427313795, 5.034742932329355, 2.9846269360004127, 64.51432787163908, 2.4728992001686154, 4.816241766628113, 6.76510108636069, 6.066485803958131, 0.6726591356358924, 6.435639331033179, 10.080167754140618, 2.7943357702888583, 4.24578385503425, 2.4131267852601477, 2.0243884754882826, 12.2625857859633, 2.61898472883732, 3.3652358596867704, 9.480997561957283, 52.066435033457594, 4.465978963256056, 2.8550148149783214, 11.917937997247249, 2.7448490360834934, 6.262680765728145, 3.3117747688596886, 4.90995517919388, 2.1751915278960565, 3.015156566679739, 2.8318670960528065, 3.4668432129369333, 3.189905862803635, 3.0460190537029175, 3.52482844403787, 8.325207837878267, 5.449893908816791, 4.1848701460839255, 7.172568834457851, 4.911905650242206, 2.6504700669976784, 3.509584334356267, 3.1831822615150194, 3.3774560751828617, 4.455741789788079, 5.731905188839342, 2.167774084693382, 10.120264647791291, 4.168547354188413, 4.844276287519987, 5.173918234800758, 3.706369759489951, 3.5217909441873916, 2.6775220090770646, 1.861302403670731, 5.061517130714776, 2.944866555111062, 2.774091642224327, 2.64788392953379, 7.382684047413845, 11.34694904697726, 3.9134953946647926, 3.948674540499332, 2.4762586800372826, 2.3592242488826574, 2.793084396364197, 71.08404402579349, 1.0631580166747554, 2.579914638073283, 1.5005614250391355, 3.3840880976115866, 2.2570717688253663, 2.696214379468739, 3.6228647145394355, 3.554580086820009, 1.073182596890561, 43.22751652133102, 3.1066940904624385, 1.9940517885683793, 9.174973952528067, 2.5904934955129204, 4.900831112915969, 2.984656620165491, 1.885018171409901, 3.321603066244381, 4.167039636333525, 3.919343551895083, 1.6726119110042679, 6.643114729565527, 15.910353819930833, 4.140669990346247, 2.640257360802107, 3.8283180093793105, 2.4845227179331855, 1.7162099470901557, 3.948809284848805, 5.088689260675869, 5.98855255956276, 1.7402679555094396, 5.633911930018317, 4.9225126621431885, 5.100029530159791, 3.5682930331657983, 6.921026516688097, 5.858779168298548, 12.021053876470686, 1.8196703472344182, 3.6707572832344777, 4.242344600742297, 3.715620501332404, 9.539617113830229, 3.3113943836743376, 1.749617274098208, 5.380838663271031, 5.292618455329174, 5.012234406052826, 1.9367272059600331, 96.07520605000434, 2.8850203128538174, 5.270688552520741, 3.5280708415984736, 7.142179214171916, 8.490444313697497, 2.873314134711476, 2.5830239333743266, 4.311477050070726, 5.109023338408397, 5.441192952788236, 4.238852159812772, 3.8137687919073366, 5.476793278839959, 1.870451231841464, 3.671644069676538, 13.75676937729505, 5.610393067138562, 4.883046787497318, 3.898684370986326, 3.8883188032221003, 7.5982986756634645, 19.431556078394006, 1.3169162804260561, 1.2178855789432972, 3.0281933341823573, 6.754403565482222, 3.3925437504120035, 4.4433138551095315, 5.600466845532593, 6.227036868448968, 3.6123030898355455, 3.692788370065422, 5.061517130714776, 4.626345581633768, 6.304816898853445, 2.9121770873967403, 2.7340841788733945, 6.428248526380555, 45.20561083527876, 1.7835090051538536, 3.4771313911760604, 96.43928812268922, 3.053709990842479, 2.4241795491090383, 5.567460086844049, 10.631263277946516, 2.163985550271084, 3.274506676964965, 1.3724000866074304, 1.6036118817360285, 5.783178377400739, 8.576170382991837, 4.327297207221629, 5.433445402188337, 2.1921330116073023, 2.5601362865178623, 4.452451626648104, 2.152246212223313, 1.7897348937184445, 3.068786377066053, 6.337185365326115, 1.1614629086879595, 11.144237785932633, 187.90964708515773, 2.0042725056110573, 3.723502422978084, 2.9261001130203006, 1.588246812539115, 3.6728086633436314, 1.5460440292140483, 5.301532675329171, 8.509568310778672, 28.856122851379006, 3.948674540499332, 5.921264043053743, 3.48439372116688, 2.912607349103234, 1.1389660762331368, 110.76278493840799, 3.030000293014509, 2.6335187523732086, 4.554251773268114, 3.919343551895083, 3.460815230731199, 3.8038257671905247, 5.652233393603267, 4.126880898137397, 1.6750960253265665, 3.5800740099283104, 8.470002418377527, 2.2348536070099176, 5.844599564831106, 4.840589867663791, 4.833651905410218, 2.828772629498988, 6.4620510146628884, 5.487286824764276, 5.696505966636979, 5.729744447457868, 94.79315901827273, 92.6732967313172, 2.1312313572768753, 5.954652380044806, 4.279905647397349, 11.199016955067153, 1.1210721748868289, 123.5772504800879, 1.4441102445761573, 1.8420863452814606, 3.634957273081841, 6.766783843149816, 4.269355840605482, 5.173918234800758, 4.351185906897503, 4.641935969726569, 1.521000911994596, 4.7754285378480255, 99.02886369272828, 8.728386919275193, 1.0099979457125097, 5.722388936390791, 3.476063629158816, 99.40782280479009, 0.5284285493084452, 3.324633695187287, 3.988562773689847, 4.848119385722889, 1.073378508157825, 4.156621715218434, 3.355765869880116, 4.207676378234667, 4.972899613742878, 0.9951859036383144, 1.9718219275159454, 6.048711076435365, 4.234335097001586, 2.2191885577364747, 3.0701638853607323, 4.638812916042033, 1.6384496671832345, 4.001872435498625, 9.60161841751803, 3.6389905977114005, 3.7677110715952375, 3.1675510370460547, 1.379325155955822, 2.0537075323843355, 2.600695712265871, 1.8140449858956473, 2.8955367928802023, 6.83626429773679, 5.370613061486511, 1.4441102445761573, 4.595855973351901, 105.67139953850358, 3.680796595833621, 5.2803642734080425, 4.389058451334816, 5.718782314004614, 2.167632618247827, 121.67027481287901, 4.0812620605345735, 3.8904111422134386, 3.4516042101621, 3.3849611210350314, 4.944909469418291, 10.32747152880472, 3.4737313006598916, 4.746035413310059, 5.959131054396502, 6.522360350093549, 6.214684305278258, 3.807885925224722, 1.4583396709807763, 3.8749376643382645, 4.932453937276583, 4.968658392452492, 3.2402939707966376, 3.5270632697413618, 8.100687381325914, 4.240587665648886, 8.823604455659211, 2.149126728429668, 3.009181433267009, 6.207817850729069, 5.101404263967741, 2.5830239333743266, 2.665591809075282, 5.586092550871373, 5.161264831294754, 5.290838459858077, 112.50045200192035, 3.0680612666570726, 4.083834921401602, 6.081742654236358, 8.608073351528136, 6.395909302231432, 1.9341989512249311, 4.237202499635132, 3.831913453374951, 1.0896320302636775, 4.435897554701109, 1.9998395823670863, 7.467199424451435, 9.66865734506874, 5.946921939881041, 3.220564850229694, 7.018434069623837, 2.910664771049444, 4.801713854927948, 5.452148199703997, 1.6078456975917352, 6.96533000545225, 4.668563949253434, 4.9926709329406025, 5.618708265626376, 3.5131421330135844, 6.316358087143373, 4.162636890974651, 2.23069356847045, 5.0517387370581215, 3.91985123757628, 6.341708647247142, 2.4762586800372826, 110.76278493840799, 3.977248695513384, 5.109443794468588, 1.727734218237608, 3.783082724118238, 2.245746181880945, 4.988571260041506, 140.1410722283956, 3.3957372577055316, 3.3957372577055316, 2.0378250946848158, 4.6550744624749205, 4.807117739406822, 3.7002146293593463, 7.425456782151607, 5.590833228982546, 5.330138697057223, 93.53691223142201, 3.3919598675946117, 1.750669931762594, 13.968614657775262, 6.5534185324883865, 5.463997522168094, 4.6261227320405505, 5.3471740095610745, 7.474030129524738, 4.234946518898323, 19.34228423436086, 2.7255768514070433, 103.09769694828896, 4.4153963285181, 4.993461823566634, 6.2193532579029185, 3.9827438754165616, 5.080698986557788, 6.300350282045042, 2.9892405215204167, 3.7142339029573277, 5.384674159119689, 7.356218373525816, 4.468423708645198, 4.439721592200135, 6.702486440832558, 1.9015191728114769, 8.032460307115702, 4.823365912802904, 6.749969690600407, 7.138296292006983, 4.460479595103632, 6.3905035835043655, 3.578592615171116, 2.547602307734942, 1.9590280361377075, 4.664105434297238, 1.6821390200267847, 3.6728086633436314, 4.413181930833153, 4.370667260302643, 3.2060059854298624, 11.406423010015333, 2.1827741646247025, 91.49166692656755, 5.52972111673241, 6.405550449084899, 1.574504927969014, 6.036646853784562, 6.323984826054562, 1.8268351614929057, 2.7175066683135976, 6.026317076844106, 1.0179021746063106, 3.018104690766874, 4.299763075643276, 5.083425287509361, 3.846408687935193, 2.1462500467242975, 2.5133466248444787, 11.676490815000296, 5.483455696761586, 1.952006029028877, 3.4668432129369333, 5.047292917476743, 3.2402939707966376, 2.0454135811771588, 4.967401120595934, 10.284044873893755, 2.0659722674197156, 2.8045480173244997, 4.046047395788997, 4.588618061158761, 10.255243464230702, 6.033448462455904, 5.162643673725892, 4.612804406237924, 2.429751888837875, 5.002492379433392, 4.219858628876655, 6.435639331033179, 5.718782314004614, 4.034931350251326, 3.27498114054068, 1.5527920135678717, 3.1971475132946927, 5.496673299129044, 7.177179561443778, 6.122558583342123, 4.949351091748514, 4.076819667864242, 3.2766318202719162, 6.297189182361427, 2.163985550271084, 5.61863695367093, 12.332799059433396, 4.4624653061365, 4.280969284279098, 6.671847913363499, 6.976529047992667, 6.233841717043706, 3.742152544034417, 4.35045708254092, 1.9955128869685907, 6.026317076844106, 4.691648908540354, 2.7774679170526544, 9.9058330403516, 4.019975671253572, 2.3078394215525524, 4.318139356045794, 4.019975671253572, 5.301532675329171, 5.463997522168094, 97.39508867576657, 2.817224610645578, 3.67468799848136, 2.8363249247563718, 50.448489654695024, 4.471947152419786, 5.327007804173, 2.72151655231332, 6.068737816517786, 6.3615445020473596, 4.655338977823652, 4.854402279584397, 4.843754965992645, 4.4352038553087985, 6.691303902607585, 6.440214164318088, 1.7343078358815323, 6.360234924146485, 11.978386012091411, 2.2570717688253663, 6.785837944913896, 7.309192643816099, 1.5006592829225167, 3.237093152122821, 4.161171638767071, 4.178692252707935, 22.54680994377829, 3.991427376072486, 5.860925560928814, 2.4728992001686154, 4.490721743179968, 4.272086121317189, 3.2177175717247932, 4.982872472645017, 2.1698794680063367, 1.867778110350938, 4.979796469191773, 5.654229337486052, 4.834155165836013, 4.879332207539376, 5.7985176615616, 1.1769557111038742, 2.4321154992004423, 1.3266572132490135, 3.6450802657548014, 4.468806554359446, 2.348299443441681, 8.701210459285473, 5.353650504785513, 3.6553062336978863, 3.6612487449029336, 4.535907912872539, 2.0237750945674504, 6.2596343911042585, 11.06111602482785, 4.79061242555989, 8.688053060272342, 1.5850637053745726, 4.274600485465309, 5.395861226297964, 2.9035108009846478, 1.8343426426256253, 1.463628035926045, 4.980359733554458, 3.021155706427933, 2.169369299993312, 9.5352885537829, 3.743285215021437, 2.2859202026490912, 6.497704018190186, 4.217853714902247, 4.599979025938114, 3.872586047335376, 4.001872435498625, 3.598124377078864, 2.796867852301516, 3.952732549505936, 4.305064433190853, 0.5770317662358695, 6.34976802266789, 4.643915998432449, 41.89052650795878, 2.797990540110008, 4.239901615698594, 2.063955394398708, 4.388803926301424, 6.587541594674703, 4.600617132994328, 8.470002418377527, 4.865044529524317, 8.110195855484518, 4.0324092450310305, 6.456776896687834, 8.504331018087873, 1.736672051843741, 6.058242255906616, 1.6180973739824978, 6.088712297043752, 6.748822917774361, 19.24573170416292, 3.834231653663244, 2.348299443441681, 1.3192172047359034, 2.8045217435788112, 5.4569417967632745, 3.1514963111787058, 1.646796199464018, 5.110335579429441, 112.53106938919545, 2.82816937086336, 140.01008402951254, 3.987767613222835, 44.35298632840255, 2.6132353459719915, 5.259684441751144, 3.307658906720648, 8.59947494991593, 9.059091273226914, 4.730727110505604, 2.8745324713746188, 3.9113015882135684, 4.384299605977227, 3.8010141745995276, 4.97580962895244, 4.083834921401602, 2.9729012113080935, 5.433445402188337, 3.7335721730605624, 9.261765758205842, 5.616566496164785, 6.161070452395766, 4.384299605977227, 5.012234406052826, 3.262216566643182, 4.018465834873592, 7.011455758070681, 8.3216700962214, 1.037225473256434, 6.227036868448968, 3.2766318202719162, 3.1142703100693034, 11.06093693342225, 3.93026238614082, 5.320954331934153, 4.102198366306496, 5.476793278839959, 2.5880935641760137, 3.667708518578288, 3.7939082092739733, 1.5817538293513729, 48.70884954732456, 4.653725046976465, 2.0454135811771588, 5.028495870599062, 5.173290513195393, 11.105643877134812, 2.283034550076009, 11.006213557468659, 4.535804781312061, 5.693759663091629, 1.3599164348415165, 5.742100563932566, 3.540622971522677, 123.5772504800879, 0.6194596665105674, 5.2803642734080425, 5.088689260675869, 1.2881231529464106, 2.6504700669976784, 1.3945192645730575, 2.089362019780041, 4.755245743137614, 2.0690258682789278, 4.368750157509652, 3.9206619417826567, 2.319899838439065, 4.079180148323068, 10.485686327085002, 1.7821106768935704, 3.616529054340066, 2.6544005116171188, 3.0437033434109027, 4.410316271541292, 43.483512186370326, 62.0727276508503, 4.138630603449691, 4.542780469175976, 3.5147111490490297, 2.319899838439065, 1.4381502937750346, 3.015156566679739, 2.126709739324553, 2.2253935455563965, 11.458884744938395, 9.811092200597944, 3.509683009058639, 6.6847404756400195, 4.651005691583024, 4.018602343727707, 3.3919598675946117, 3.7677110715952375, 3.86945905562411, 3.7338406263162285, 8.87938039809501, 2.629195592489346, 3.9075752794313767, 5.959131054396502, 8.222385198593084, 5.779113206495012, 8.620594516284063, 5.231484779445458, 4.415423073872075, 2.0582646130093885, 4.52172089369396, 3.656220700431123, 23.67219195105645, 10.19097621308024, 8.723260503563395, 4.794650268234368, 2.55217201240026, 1.4656683279903386, 6.386294236584348, 4.729354189906727, 1.9919931345278796, 6.345559834440243, 4.354679268213415, 6.534744548941907, 3.4527519849032178, 3.966315303980433, 4.407355790464011, 4.309700902703589, 13.126352068381015, 1.110484201864109, 3.314845967447006, 3.3351201106467334, 8.853753149276034, 4.041721643868141, 4.924490761218292, 4.993461823566634, 3.24935515212135, 1.766187850977606, 10.679867199482443, 1.9998395823670863, 108.75755815275632, 3.305937648367695, 5.879091023244532, 5.357052888732907, 3.7036258149618932, 3.033602860224737, 8.240187258570614, 9.644868415457049, 3.816303245569093, 1.365072957880809, 5.431451446625966, 11.26224139207426, 2.5934591426881926, 3.774865387822429, 3.3351201106467334, 11.910299507434777, 3.1694395990534554, 8.572116934917164, 5.9542082218519985, 2.6109356193622744, 50.9026699481064, 10.467263543645391, 1.827234520694961, 3.5396484528478167, 3.5366730130670163, 93.95270171208817, 7.374644351029581, 108.97554468780764, 3.3372501863940482, 4.798771973686616, 2.258834573789068, 8.658309797996322, 1.335949655373552, 4.520054882578559, 1.8603414595811112, 4.777201720695051, 4.810087380597313, 1.8079375514140206, 3.0309826630766885, 96.36470086094337, 7.132142932680242, 103.75015926647467, 3.3968297105453322, 4.327722015634598, 2.8928710672383273, 6.428248526380555, 1.5693535885034713, 5.459822581378949, 5.921264043053743, 4.114949065998089, 4.397488435303061, 6.391211461219852, 4.692067784004121, 2.103367403124771, 2.560557450699022, 3.672244430615767, 4.685654458043033, 4.905261190393425, 28.41219448561478, 9.176598609092625, 1.2178855789432972, 3.3925437504120035, 5.0517387370581215, 4.627360263938569, 6.068737816517786, 2.743125661790454, 2.311750060658597, 5.384674159119689, 3.9185779876368754, 5.567460086844049, 2.920963502263019, 3.580811446678666, 3.9730772861165846, 4.562577272533581, 5.742100563932566, 3.6322416597861493, 2.8256961809783454, 4.498231127989598, 4.760099237921029, 5.392292057884695, 4.084556832409647, 5.438015757669889, 2.940150348030479, 1.8659863202087532, 2.6996231550972856, 5.588152231647877, 3.923229437626204, 4.87133732606488, 4.014335028151297, 1.1554895809391983, 7.236908693682986, 3.351009960100838, 6.656177722747811, 4.388453830016678, 4.977726676089477, 5.63563692204488, 2.1795113930265293, 7.236908693682986, 6.923510635014822, 4.843645629243227, 18.911306716524283, 4.7559622122541425, 100.00141671598783, 8.215007703503957, 3.0313412501323733, 5.072614089022588, 3.662104181157759, 2.9235275624932617, 2.8045217435788112, 4.245404431554461, 3.5396484528478167, 4.647412294582072, 2.3823014284098476, 3.469209272765527, 2.0724321453586914, 5.4095647570465974, 2.258834573789068, 4.883046787497318, 3.554580086820009, 4.195686790582124, 78.60384021757973, 5.740409360364355, 10.466706645036007, 4.459428598372906, 1.4652167828602074, 3.0949118690834774, 3.8010428121731232, 3.608470781845356, 5.114445763268937, 3.5281340211504637, 4.554925644536549, 2.54472631426171, 1.4994680496330168, 6.906522080826669, 4.416516249679492, 6.139885461119496, 4.574079724891807, 3.534694937559237, 1.8126897880685386, 9.768683187849229, 2.5107362774307904, 2.6426941978462573, 3.9610811747716492, 4.824047662012725, 3.750610736254446, 4.565934617415325, 2.416506584806894, 3.8883188032221003, 5.025760440360597, 1.750669931762594, 3.2060059854298624, 2.801532757986414, 1.8079574817727182], \"xaxis\": \"x\", \"xbins\": {\"end\": 208.47277148608632, \"size\": 0.25, \"start\": 0.18721088902421804}, \"yaxis\": \"y\"}, {\"autobinx\": false, \"histnorm\": \"probability density\", \"legendgroup\": \"Distances Approx\", \"marker\": {\"color\": \"rgb(255, 127, 14)\"}, \"name\": \"Distances Approx\", \"opacity\": 0.7, \"type\": \"histogram\", \"x\": [0.0, 2.4212429999429403, 3.603551977037312, 0.1599769899283798, 2.4400148020968904, 0.0, 2.1632987547829376, 0.0, 1.232199089335768, 3.656425794616789, 1.2648746635556034, 0.0, 0.0, 0.0, 1.1598707864047964, 3.600223710694665, 1.2006667590333797, 1.2059818350874434, 0.8885566064289439, 1.2006629697901026, 2.8408631279595564, 3.0830683884020136, 7.716822952988392, 2.648472693927405, 1.3792899348536931, 2.7390429863462944, 2.4212332754143526, 1.2059827810567896, 1.1999998092651367, 2.7784784984516477, 1.2237945579728178, 1.4647454018986377, 0.0, 0.0, 1.2649381113170195, 8.626977989979762, 2.0646476601259667, 2.032227897034625, 13.51638080860806, 100.04123216964113, 2.1491455934003985, 10.069805468751094, 0.0, 2.4738473375449948, 0.0, 2.720051782748043, 3.1240114222546445, 2.448956410944525, 1.5120384824563282, 6.5881246309551855, 3.306181963272284, 6.672342537301987, 1.6800854887101724, 2.4029947856052907, 3.923460528892001, 1.252885469424957, 6.916189172376279, 2.4399985116600718, 1.5121262210213708, 11.054804595762247, 0.0, 0.0, 0.0, 2.683288915639809, 1.3242357856542852, 0.0, 2.5765396638377607, 2.5298179070190305, 3.877300482290027, 6.636911867956625, 1.1999868837802898, 3.6712939099112325, 1.2106157653870753, 0.0, 0.0, 2.7200510781114593, 0.0, 4.872979291436071, 1.2322355323299872, 0.0, 4.832560129796999, 2.411961042470954, 7.055609864026454, 3.202250016657399, 1.828242404875056, 2.4399962479722963, 2.426886648283274, 2.6120550333788226, 2.4644742417454943, 1.1999989748001099, 1.6145362772030734, 0.0, 2.4644641296467986, 2.4400148020968904, 3.282852836224378, 2.4475279736482602, 4.823940060878888, 1.8744502225087445, 0.0, 0.0, 2.3999996185302734, 5.047144916350385, 3.53840629289335, 0.0, 0.0, 6.678675365340332, 1.2006767223995767, 2.5411973449348872, 0.0, 8.448309987833474, 4.967731800045108, 3.832699216362655, 2.4013310705641415, 1.442191151334017, 2.011560028157686, 3.0773851135290866, 7.590510339782526, 2.064550455198849, 0.0, 0.0, 3.9395908642755137, 2.9294973205496526, 0.0, 1.5620329049424453, 10.35532357451856, 2.611947481739298, 0.0, 1.2924922313815193, 6.000532204882885, 0.0, 1.9053078412883033, 5.348687261834458, 3.748839836719055, 0.0, 2.4162660893619834, 2.408324947355362, 0.0, 3.9395908642755137, 2.4119708847241035, 0.0, 1.7545273162974293, 1.5880113794105006, 1.2648746635556034, 0.0, 0.0, 5.609809254103731, 3.614193459868923, 0.239861077193019, 0.16005120608064352, 8.322997310691802, 3.5403945480054277, 165.56100490762103, 2.5056430457770578, 3.1240860495361145, 1.5200115989111131, 0.0, 1.5367581542628195, 3.725791795291021, 2.683135887071124, 3.0094932440396436, 2.976186960538984, 1.2799895449188043, 2.5849209511491216, 2.8273402292139065, 0.0, 1.7838876631709453, 0.0, 3.046263985441727, 0.6799964397291104, 2.6483997938991966, 0.0, 2.4013090867204943, 6.423644422545931, 2.4737073434940147, 1.2649375003323, 0.0, 3.5383271290803475, 1.6690638411515843, 0.8399323881078622, 0.0, 7.256823254640545, 1.2237363236300098, 0.0, 2.408310430284286, 1.2528797034555326, 2.6028371114568345, 2.426874848617938, 0.0, 0.0, 13.219632702840103, 3.2311112630319974, 0.0, 0.0, 2.426845791747484, 2.4331109716352497, 3.2022162849429887, 2.648498355590947, 2.4119610890346714, 9.600331986013805, 0.8207523095769466, 0.6209571339714107, 7.088165542382561, 1.3599724022583646, 0.0, 0.0, 0.0, 0.0, 7.64696897928388, 0.0, 7.467195503428438, 6.665718685031422, 0.0, 0.0, 2.3296190050072, 1.560124288457011, 4.177396577770526, 2.494466063096045, 0.0, 4.711773320238451, 1.3599715280861995, 2.447554160832758, 9.14686214372912, 0.27990668297178367, 1.488025944547016, 1.9600051679990782, 3.705999912410042, 0.07996645613204603, 1.3200506582146074, 1.4799320158451303, 3.6712767520394447, 2.0996230405679293, 0.0, 0.0, 6.299720542111203, 0.0, 2.4268563725204673, 106.16411398825035, 2.3197952484064728, 3.3199694029869513, 0.7599497145624402, 2.999893439520572, 0.6399996200475238, 0.32002662004105725, 0.0, 3.6564428566351466, 2.6027659919718453, 0.0, 2.755091744394103, 2.412000028143462, 1.2237651971064412, 2.720000412050915, 1.9053759130010606, 2.529822208537824, 2.0646476601259667, 4.200759862250082, 1.442182195477154, 0.0, 2.411963664227454, 0.0, 0.0, 1.2059821881116461, 4.219007858488737, 0.0, 6.885018657758933, 1.4799320158451303, 6.774907568497593, 0.6210027419057867, 1.6356475697426027, 2.389000305004461, 4.426967529329985, 2.4268421860012044, 2.4212401990616503, 1.2528797034555326, 6.669618969484287, 2.4838568372328793, 1.216540178335225, 0.0, 0.9601140799238752, 5.072481884014853, 2.4268563725204673, 0.0, 0.0, 2.9998905464362977, 2.819643438543962, 5.176646632069899, 7.412788446402518, 2.4212220742707604, 0.0, 4.007171635371477, 1.4647151015980253, 0.07994682544482652, 3.614197002097482, 1.2237894229435813, 1.241966175646514, 3.1305338545040025, 0.0, 1.6143987024409907, 0.0, 1.6414505465624076, 1.2059817136396904, 1.2399996934520732, 2.819597923865252, 1.9386565140704133, 0.0, 1.7839142954503282, 0.0, 3.5975556413648624, 5.091192801703321, 2.719990206774477, 1.259902068001812, 3.69668995155851, 6.793148949049916, 2.5562961095233563, 0.35987255405067087, 0.0, 0.0, 2.4162813909298704, 8.046355384212985, 2.4053185211940744, 3.5677955054674015, 8.084552685281276, 3.770198020988913, 7.175897044207788, 3.3285994154381773, 1.2106699098366795, 5.295171071624233, 195.10077022890985, 1.3078282138277173, 0.0, 11.006130079822025, 2.8761330970610093, 0.0, 0.16004930409471113, 3.175851121333102, 0.0, 0.0, 2.517486245949637, 1.36001282274285, 1.2237894229435813, 2.405332349757287, 0.0, 0.0, 0.0, 0.0, 2.4053368607165404, 2.5059148043098634, 0.0, 0.0, 0.0, 2.0320436464867693, 0.0, 0.0, 0.0, 0.8485580737917242, 4.6101750638233545, 3.607991622600657, 1.641365507825146, 2.9364730022935617, 0.0, 14.016776886367158, 5.147954856919216, 4.938158146239376, 1.9366219225939554, 1.9200055127452702, 0.0, 1.8137735704100022, 0.0, 0.0, 0.0, 3.6878250478029306, 3.679371837488196, 2.011560028157686, 0.0, 1.8137742013648586, 2.648496971849089, 0.0, 1.9053064121025631, 0.0, 1.3994336461750776, 0.0, 6.52191683876333, 1.223764080102006, 0.0, 9.562727135332725, 1.6969716424918762, 1.614427511061585, 3.024150159563128, 1.292519853928644, 1.2006667978439234, 2.49446540024836, 1.3994183105770472, 6.00513763778661, 1.3416447656917547, 3.6141861682273437, 1.2238211629828941, 2.064550455198836, 3.6433279709993758, 1.7255704214559473, 0.0, 3.748952689196782, 0.0, 7.183280930108577, 3.607991622600657, 2.6833184314855596, 6.776776205578279, 1.813682428778516, 3.7489019065254525, 1.2026615751667027, 12.865823713946533, 4.711953939793517, 1.2106124434754162, 1.205983139386172, 10.373091175482635, 101.79530461206785, 4.282788445904395, 0.03998660262529676, 2.280187521070002, 0.0, 0.0, 0.0, 7.034531980534527, 1.5879111636572552, 3.194023304353587, 1.2419404055531453, 0.2400035737496542, 2.6156492684816217, 1.4421828382770385, 8.240358023626166, 1.2026588666569906, 0.0, 2.7390290046102708, 0.0, 1.8070929077157614, 1.697079725834552, 0.07997320525056792, 4.371533289029097, 202.9631299176868, 0.0, 0.0800237478173904, 0.6000099066693344, 3.6019989915697703, 0.0, 0.0, 1.6414505465624076, 2.4331104362778726, 1.2059815243246557, 1.0587788830278242, 8.881784197001252e-16, 5.306069181050532, 4.859790594697948, 1.669043150564563, 7.64696897928388, 2.473866095797234, 0.0, 6.092449004004034, 0.0, 1.910372384140468, 0.0, 4.806001537304907, 0.6000438566726382, 0.0, 5.011342295022942, 0.0, 0.0, 4.371502672111386, 3.194023304353587, 7.500144131410225, 0.0, 2.9364726125710794, 0.6000429054501326, 2.4399808109268744, 2.972946455972573, 2.433102067904471, 3.832699216362655, 2.683292213605689, 0.0, 23.984419245560908, 10.816651827277285, 1.7255871894743922, 3.6221490499328595, 1.9863438211354618, 10.373091175482635, 3.9077476445761556, 4.859790594697948, 3.603556406955531, 0.0, 1.2781903982227298, 2.7988506574836545, 0.0, 0.0, 0.07994682544482652, 1.479912392388412, 0.0, 1.2000002861022958, 0.28001629269376244, 0.5599909280333205, 6.089459153962817, 8.188942107591371, 0.6000099066693344, 2.411960093525738, 3.175851121333074, 7.05746984210096, 1.4647119763232044, 1.2059741200294585, 0.0, 1.2237359121305496, 6.872891391410949, 3.6008877760682156, 1.8745236597045194, 6.097233390877628, 0.0, 0.0, 3.810667334751875, 1.4421909581116448, 1.2165612479729617, 0.7199793417453847, 2.4083158282539703, 0.0, 1.2322132332451183, 0.0, 1.1642186980701152, 0.0, 0.47990536065821016, 2.7014518265386758, 2.9068116288569823, 2.862516291680894, 0.0, 1.4304270449188645, 0.0, 3.230967948641506, 4.8950732056150335, 162.008228864109, 4.467457273201555, 1.3242483136002416, 3.8483480799019314, 1.4880388535152365, 1.0800733365760466, 7.591853275551399, 2.4398247055117586, 0.0799732052505688, 3.8924053201560067, 0.0, 7.175897044207788, 0.0, 2.119828280386376, 0.0, 2.163296380313606, 4.0799973436898425, 2.4399989806804414, 2.7199975408921038, 2.6120550333788226, 6.629443331557351, 2.8999919978727373, 160.91877749806378, 0.0, 3.447072920712099, 5.091238978235248, 4.2829157909302955, 1.6343338471005253, 2.648498355590947, 0.0, 158.50028281290696, 2.3999977111816406, 2.4162794964321472, 2.4362226442234065, 4.096608977488748, 2.884426325529299, 0.0, 1.2924348791815345, 3.9897842185293264, 0.0, 6.669618969484287, 4.400015738728102, 1.5620009912058173, 3.159743304127582, 1.359979568996872, 0.0, 0.35987255405067087, 1.3078173637790669, 1.2419091972684886, 2.426856372520466, 101.3871391481114, 0.16022848854176733, 2.4053259851983113, 4.947795569410998, 1.8399731809830386, 2.8081139038283984, 4.012712261742711, 8.303100785276854, 0.0, 99.89325143002516, 2.48011686758518, 1.241942137176001, 2.6156852671108966, 3.2287933075116726, 1.2799869379792495, 2.494466824104021, 2.1313729175259515, 1.2165402900774185, 2.4359954505959043, 1.6413615009605895, 1.2165410426892211, 2.401330668394678, 1.488077677580588, 0.0, 3.1241117368837608, 0.0, 0.0, 3.024192250127621, 1.8004438880341114, 0.0, 2.739053070937885, 0.0, 0.0, 1.7255398349411675, 7.720639352519444, 2.264152477078097, 2.411969935782757, 1.614484435552278, 1.1999998092651367, 2.1647813647134098, 1.8800519822696928, 0.0, 1.3242014108972961, 0.0, 2.41627938619596, 3.2022845667327062, 0.0, 0.0, 3.2192693093005076, 1.4422399752349113, 1.2237945579728178, 2.433081332574618, 3.6035550664314706, 2.576537339192741, 1.4648133734854138, 3.6221391912760037, 7.034531980534527, 2.976245625850046, 2.6156355908251596, 2.631826967029899, 3.2022394390621978, 0.0, 1.1999988555908239, 1.2165509563443604, 3.3799264032544882, 0.0, 4.92001084322892, 1.4422391817402107, 11.892840614498729, 1.2649381113170246, 2.7911632169271647, 1.697065413522936, 3.610874019197445, 2.483884040901223, 0.0, 0.0, 0.9599115568513962, 1.488077677580588, 0.31993877148901795, 2.230350433221242, 0.0, 0.0, 19.06982530194441, 6.6293343477846065, 1.2006629697901026, 0.0, 3.877353765671512, 2.5056635151780444, 1.2000007629394567, 15.652444405407318, 2.408344980743853, 2.4399953783319592, 103.78951464727903, 0.8800185249193347, 0.0, 2.4013308109971367, 3.62216404555479, 3.7059851087478886, 0.0, 1.2528178471740183, 9.4997227250598, 0.0, 3.768002858443109, 0.0, 0.0, 2.4029998094030613, 1.23999655174859, 0.0, 1.813682428778516, 2.400332112877623, 0.0, 2.40133176414278, 3.7059968196648345, 1.2000007629394531, 1.536738864867297, 1.2237774734401112, 1.2165402900774185, 0.0, 3.32674520339502, 2.447528150777335, 0.0, 2.976181948235618, 1.2000007629394531, 0.0, 2.0322437328659806, 3.7189176084674904, 1.6414288278830893, 0.24014136652816406, 1.3993743052316365, 1.3242474515781755, 0.0, 2.240159469897561, 2.4359954505959043, 0.0, 0.0, 0.0, 8.089885474654674, 4.68605202209711, 8.403428810420714, 9.68153279147988, 3.8207893973606186, 2.2303227286489333, 1.2322589728351496, 0.07997326332493974, 1.7544938953728284, 1.2781498134567595, 2.4003312493127527, 6.6426311339289805, 0.8185768411452615, 0.0, 0.0, 3.0095849739478435, 0.0, 0.0, 1.3242495502637834, 8.084552685281276, 1.3994332372918652, 7.528102444514624, 1.9681663225185169, 2.3667405434092386, 2.9294861340885507, 0.0, 104.20128335876099, 3.5677955054674015, 6.571330900116439, 4.6101750638233545, 1.2106047829475448, 1.9367086666835585, 2.411960093525738, 2.455691305834871, 0.0, 1.0001001451082416, 101.02665548566442, 2.8637618501689364, 0.15994641050113584, 1.0001061432542364, 2.7014069718084595, 1.2237774734401112, 0.0, 16.527381526862705, 0.0, 1.2705559714186656, 2.902591925510825, 1.2026623815367221, 6.493973036910911, 0.0, 0.0, 2.6832961377823494, 2.8635546495631923, 1.9999788688785531, 5.421338736617444, 0.0, 0.6209990562109416, 3.1305338545040025, 0.0, 1.2924618486844344, 9.363812019653473, 2.4013308109971367, 8.757992827078526, 0.0, 2.505643045777056, 2.408311188518616, 2.408310430284286, 1.6622889294911825, 0.0, 3.2310468113900304, 4.22742055346168, 1.420396650971216, 2.4556878217346654, 2.401329225034397, 0.0, 5.184748211969442, 0.0, 0.8399330848228765, 1.2006676357743975, 3.637350616433704, 0.0, 0.0, 6.726221512572364, 0.0, 1.3242482263271864, 1.3994320539840337, 4.523111847510085, 2.433102225470752, 1.0650506184479502, 1.264866962582584, 0.0, 0.0, 2.1302139194384693, 4.394322439340588, 3.48002681166116, 1.3993743052316365, 1.6971720889293578, 3.779728317636656, 4.284745331039283, 16.779909775816975, 0.0, 6.7185051019526, 2.8196092986057106, 10.343071486162106, 1.1200617600095437, 2.1598963519467556, 1.8530002852788858, 3.627524817151858, 1.399403665616792, 0.0, 1.3200506582146074, 2.570292022284816, 6.985021991664603, 3.7157088253698225, 0.0, 0.0, 0.0, 1.0800801432448548, 0.0, 3.0986155045215, 4.417448485687406, 0.15994641050113584, 8.400852221441998, 0.0, 0.12003621610517823, 3.643293844808965, 0.0, 2.7585474389877924, 1.3994170444217735, 1.4647119763232044, 3.627452487022677, 2.640197181044606, 0.0, 1.4421906798500412, 0.9601725924605832, 0.0, 2.5056768088016956, 9.092317055589593, 0.0, 3.017021451869048, 5.400001480088893, 1.5878278222405682, 0.0, 3.2288157360989653, 0.0, 1.1999979615211487, 2.6155904332299826, 2.4119799158510506, 1.2059821881116461, 0.0, 3.6002216445405786, 1.202666051433236, 0.0, 0.8399323881078622, 1.7545215692281126, 0.0, 0.48005334359872404, 0.7199727806073281, 0.0, 3.5383271290803475, 2.5061101092744216, 2.615695485872421, 1.3994550444866012, 2.5061013679791513, 3.3599842912390074, 0.0, 0.0, 3.9604079262983105, 3.6002209008463635, 8.2870366448041, 3.602001001033926, 3.28289213713327, 3.0000330149010854, 0.0, 1.292454529715661, 1.4647454018986377, 0.0, 3.607988025060539, 4.847936080677009, 6.931080212219592, 0.0, 0.0, 0.0, 1.9680394527768164, 7.9704398794930675, 0.0, 1.2237654781199698, 2.8408717643093833, 2.5056757308033815, 158.46765383591227, 3.8626338801181124, 0.6400167237974104, 1.2026588666569906, 0.0, 13.317906731934583, 1.488162391805589, 1.2419091972684886, 0.0, 2.426852776872191, 5.4780836873194705, 0.07995739824339193, 3.0095924106357272, 2.683296137782343, 0.0, 18.09824538467167, 0.0, 0.0, 0.0, 0.0, 7.5626817779459525, 1.0001001451082416, 1.512172943720111, 2.366760899220934, 0.0, 0.0, 7.169740323477364, 2.040030434353657, 0.0, 0.0, 1.2026661877795897, 1.2165402900774185, 0.0, 2.755091744394103, 0.0, 1.839850580201297, 7.952945860541326, 2.4003341099381506, 0.0, 0.0, 96.99227763281061, 158.26099205014597, 1.8438918821862458, 0.6399407814926596, 4.252958000927599, 2.7189069819596194, 0.0, 163.33714888075957, 2.4053234757881676, 1.5880243624229735, 1.2924415034162766, 99.5685096791848, 2.130218004738966, 0.0, 9.14686214372912, 1.7546129942060211, 1.2006676357743975, 0.0, 1.7545215692281126, 1.2322811367938926, 1.2059895706313408, 4.480826289168551, 2.401333441469236, 3.605547501384279, 2.6484079263230753, 0.0, 2.819598978129146, 1.8136969612938654, 1.4647151015980264, 0.0, 7.003229135248756, 0.0, 1.442191988631631, 1.359978469467998, 3.0479717560876436, 2.4053209001058082, 0.8399330848228765, 4.42381195610695, 1.241964177116484, 1.9367086666835585, 2.405327307378223, 0.5599931714798431, 1.399786740773426, 0.0, 2.6833407068066313, 2.408314419841732, 3.649657878854526, 3.6564474032149046, 0.0, 6.5419913006099, 3.8106673347518614, 0.0, 1.3600621684554954, 0.0, 2.5562216329834406, 0.0, 2.758520705650843, 0.0, 0.0, 0.0, 2.4083423325166633, 0.0, 2.400335255345167, 3.200445450333763, 9.600331986013805, 1.2705541699856748, 0.0, 1.9999788688785523, 5.590691621807091, 1.3078071376792992, 0.0, 0.0, 1.241922533811175, 95.55058119448671, 2.4000015258789062, 0.0, 3.605222706370973, 0.0, 0.0, 1.202661392073134, 4.610172665267433, 2.4737073434940147, 0.0, 0.0, 1.439952238157883, 0.0, 4.403957529829975, 0.0, 7.060489750527484, 1.0399954550515418, 4.938178993557225, 0.8399716364363815, 1.3200219221318765, 0.0, 10.138576465803938, 0.8399257174442508, 2.401358072028553, 3.5975565519903667, 1.2106514612787262, 0.0, 4.090032089185785, 3.28304417923806, 7.02276590164297, 4.4407168068773, 3.009521427508962, 4.118190532836616, 2.9761827172807145, 1.3242717114371436, 2.6484761111582857, 3.4176052109444894, 2.4474961213866604, 0.0, 6.539092511973639, 5.081103853043486, 3.5677955054674015, 2.8408631279595564, 3.7182332958166997, 2.4003330929860858, 0.0, 7.712751771543096, 2.738932905141992, 2.4399989806804414, 2.7200227393742042, 2.7390564022451342, 1.2026667659037156, 0.0, 0.0, 1.9053010462422935, 168.58893404006778, 0.0, 2.570257733386721, 0.2800150637607644, 2.3999977111816477, 3.1759368912631105, 2.6476180630207296, 2.7200504667027263, 0.0, 0.5600124184906723, 2.4162802232090907, 1.232262476302244, 2.4119602827618345, 1.7763568394002505e-15, 0.0, 2.600008529696149, 2.8844201994965526, 8.277278900875418, 3.3201931107443983, 1.61438435237159, 2.421242530671758, 3.7584973588546235, 2.4162792759601386, 1.2059776477313062, 1.205981647230115, 3.93643616955538, 1.5120392393214375, 0.0, 0.0, 2.1632987547829376, 3.8207794460125273, 2.5412004929126013, 3.8277037722746385, 0.12003621610517823, 2.683295930079838, 1.479912392388412, 0.0, 1.8438807814475646, 0.0, 6.5344731770405025, 0.0, 0.0, 0.0, 3.932509639152015, 3.7701679164012245, 1.2419604913103826, 0.27990668297178367, 2.739062455057405, 1.341659805419729, 1.936637601263712, 6.539132206718724, 3.617965609308482, 6.7219838136493, 0.0, 0.08003448478024693, 2.4644655649956864, 0.0, 2.7014069718084595, 2.494466746689251, 2.929570014100448, 2.8062129658508717, 7.1695205354528975, 2.4475444033002165, 3.255771125330618, 94.43028632721435, 2.2400628716855597, 0.0, 2.972877575147233, 1.202661392073134, 5.892493493131173, 0.0, 0.0, 0.0, 2.402999548102783, 0.7198953326361006, 1.2400389276210302, 4.079996922950873, 0.0, 5.8842030513167645, 0.0, 0.0, 0.6400267114577189, 3.679371837488196, 2.4944698476533103, 1.2026609424172015, 5.413785099753369, 2.4029996693032025, 158.65700540989684, 102.22006325953248, 1.1999868837802898, 1.4880610774005676, 0.27990645067436115, 0.0, 0.6397206727151065, 8.539782666167175, 1.6800854887101724, 2.1599984088286, 2.464487980761024, 3.0265332665662603, 1.2026652362188661, 2.483879218702279, 1.3792586491262324, 2.8407084817096284, 3.6966987300105614, 2.4053250162319815, 4.080029599461638, 0.0, 7.232946468333186, 2.3667263797383495, 94.96431418807198, 5.654172812578942, 0.0, 0.0, 1.4647561701047185, 3.6810637717798236, 2.188619051861805, 2.7585474389877924, 3.69513528592999, 5.441223828756077, 2.366734178149457, 1.7255855416123915, 0.0, 3.600889682945787, 1.2165391612732286, 0.0, 13.224211566920472, 7.563920246586242, 1.2419399192028782, 0.0, 7.050775940143865, 4.887384411092102, 0.0, 5.153347112137977, 0.2798793711240392, 1.9241851306458828, 1.2648663515627707, 1.2106164115115878, 2.5174657046020696, 2.433084828479608, 0.0, 3.617965609308482, 2.976181948235618, 2.505603308227412, 3.603553254132963, 4.427005709081277, 1.3078071376792992, 0.0, 1.7838876631709453, 3.2682306185445498, 0.0, 13.219632702840103, 10.912077019890978, 1.5120384824563282, 0.8485362329334042, 0.7600221833557306, 2.000048003815021, 2.405327307378224, 0.0, 6.950392838248483, 0.0, 2.631824446944855, 3.6877613994478797, 7.097548769597588, 9.142029478066467, 8.577257531745612, 5.726948048556366, 14.664100975990168, 2.399836735578851, 2.1301218082629636, 158.65700540989684, 6.860900482624753, 0.0, 0.0, 4.240010544399281, 0.0, 1.2528661737868572, 9.739080631209667, 0.0, 0.0, 1.6145362772030747, 0.24000167119089405, 1.9365717658832586, 3.4511336404936483, 0.0, 1.4880845036841195, 0.0, 2.483869184208033, 8.304284311103656, 2.401330550683406, 0.0, 2.4268563725204673, 2.4644749222688227, 4.816674935514393, 1.2000007629394531, 5.091232245964232, 1.5998911570525374, 0.0, 2.5056669091910875, 2.0011098058638748, 0.0, 0.0, 1.264936820874716, 0.0, 1.292453891450743, 0.0, 1.2322811367938926, 1.1999998092651367, 17.401383521395186, 6.678096337246422, 3.7362891915823098, 1.7545419450283826, 1.6799203755302536, 0.0, 0.0, 7.4058023072963755, 2.902591925510825, 0.0, 1.4881208720434802, 0.0, 5.091192801703321, 5.8842030513167645, 99.31758850160283, 7.086643411892836, 0.3598792040339282, 1.3994134096243767, 0.0, 4.371597377040687, 0.6000438566726382, 1.6143987024409907, 6.064202792882302, 0.0, 2.366760899220934, 3.0189013052780567, 0.0, 1.5121716690840676, 6.241542637138515, 0.0, 0.0, 0.0, 1.241940725487615, 0.0, 0.0, 0.0, 1.5200115989111131, 4.737872585145694, 1.2237681082413279, 2.7988303293117953, 0.0, 1.2419430943971366, 2.464474457906533, 2.464474457906533, 2.4838788193468577, 0.0, 2.5562509525822796, 1.1200539599310337, 1.6266857882532042, 2.8409042700459706, 3.6141971705511846, 3.600887826890373, 2.952730200019738, 0.19993214201132856, 3.643300713895264, 1.6689644476733465, 1.668971720301257, 3.5090489107805234, 0.0, 3.748903127586233, 0.0, 0.0, 1.2237801825347054, 1.2528661737868572, 1.241919269737297, 1.5179622095954375, 7.101681907620672, 0.0, 3.8277037722746385, 0.6000438566726382, 1.2059818302912584, 1.2106156615243078, 1.3792602572294574, 2.648495705370899, 2.5427558741632454, 3.8483480799019314, 5.223887981167685, 1.4814600047216138, 2.6156852671108966, 3.6967230381820078, 0.3201326718267212, 2.529803104720639, 7.049003314277564, 3.6055498198554656, 0.2400770020292944, 6.647706973348362, 0.0, 0.0, 0.0, 0.0, 2.9201069750445754, 0.0, 1.2528286320943423, 2.584909335539513, 1.3600490018255622, 1.5620018930863089, 0.1999256799215489, 0.0, 4.80016877617034, 6.936345892682622, 9.600331986013805, 3.1498285892190308, 5.480547198545296, 6.830680661872115, 2.401333037616443, 3.9438510186088047, 6.299720542111203, 2.70142457065915, 2.230350433221242, 0.3598718530762917, 5.623449394283615, 6.350893520551906, 7.1695205354528975, 2.4029980598448346, 3.7472249047403783, 2.13020566938969, 0.9600832935173524, 1.3242495800780332, 2.683273879405499, 3.7701913636264424, 1.2237552685466526, 1.39946743471719, 158.082753189412, 0.0, 1.6970475397878568, 5.091238978235248, 2.755091744394103, 4.911379279975179, 1.936637601263712, 6.275766271747917, 2.6475298804715566, 1.4204322460328924, 3.605548018491648, 7.1695205354528975, 1.6688575386263302, 8.881399799691211, 3.794742284762756, 0.0, 2.163621485675449, 2.906849201083793, 0.0, 0.080025796922102, 0.0, 0.5597989306052348, 2.4029947856052907, 2.4212444460304945, 1.2649043655766907, 1.7838876631709453, 2.1201807977917135, 0.0, 1.5121281353987197, 3.5677967885099515, 3.1760459657768023, 1.0587788830278242, 0.0, 1.307742988982546, 0.0, 6.872891391410949, 0.0, 2.1301947372289467, 0.6400535297234945, 7.074958215380476, 0.48005334359872404, 1.241942137176001, 2.408323607012396, 1.7545653750363903, 0.39995250994100856, 6.960016097621938, 0.0, 3.6221490499328595, 0.0, 7.633257303958513, 1.8800191856020845, 0.0, 0.0, 2.6155904332299826, 0.5200470347300837, 0.0, 2.8273254151830978, 0.0, 6.7393803236838385, 0.0, 5.571530411127245, 4.92001084322892, 0.802780603606022, 1.3994330328502762, 1.2106270123380103, 1.2528550644741516, 17.83932148410365, 0.39986008575867654, 1.5366831760308197, 0.5999430271295175, 7.2111023407074075, 3.6141861682273437, 0.23999263403783871, 2.4053259851983113, 1.292442031151405, 1.999905953152607, 3.202173944937673, 1.2924521205435273, 2.2000108814943298, 1.2165750104509512, 2.9762066812254786, 2.411970884724103, 2.3890110349856357, 1.8744494533487235, 1.3999589922900826, 0.0, 2.8273404818402836, 3.9727005138065694, 1.5367255060064848, 0.0, 1.641437310377675, 5.263604802318776, 7.810856823642173, 2.5056895088387887, 2.4944645302086457, 0.0, 0.0, 0.0, 0.0, 3.6966987300105614, 0.0, 0.0, 0.0, 0.0, 1.3793299051881396, 0.0, 4.177396577770526, 0.6800283260434065, 0.0, 2.4003331946140714, 158.26099205014597, 2.4013334414692338, 0.0, 6.505888106328989, 4.596519604386623, 4.560795096577492, 6.445202275832589, 1.4421915918710548, 0.0, 4.061316044257687, 1.2026615751666958, 2.6484796401877513, 2.648451640655153, 3.2173194554713467, 2.433119402041179, 4.8729373050405345, 0.7199937973008517, 0.0, 0.0, 2.5702926901520047, 3.671278622357678, 3.626786950129842, 4.0231803678059475, 5.9679678131452745, 2.4399953783319575, 2.40299771683067, 1.5878917089984643, 1.0399954550515418, 2.819597923865252, 0.1599366540270119, 0.0, 1.2649381113170246, 3.6035563720196473, 2.897835734924201, 4.928897877386921, 1.3599784694680017, 0.0, 1.359965415517819, 2.6318254200695645, 2.3999996185302734, 1.5879803231843417, 2.4162933067220633, 1.2026660356135963, 0.0, 2.75993922605109, 0.0, 5.9679678131452745, 0.0, 4.240010544399281, 0.0, 3.009955861610679, 3.601998700910122, 2.222957477414754, 0.0, 0.03992853053503394, 0.0, 12.172138303233623, 0.0, 1.202667363967876, 1.0800733365760466, 2.5175352086144223, 3.360100726038139, 7.2249135018637, 5.081103853043486, 3.7156738477608062, 1.2924600743371406, 0.0, 0.0, 2.4738680588378017, 2.3999977111816477, 2.4053234757881676, 0.0, 0.7600224491525351, 7.543570572851292, 1.7255895390234872, 1.8000040229547685, 1.2000002861022958, 1.1999998092651367, 7.638546784497529, 6.689259182852231, 4.832561139919254, 4.177396577770526, 6.860900482624753, 6.239981341637666, 2.222957477414754, 4.007168208286553, 2.8415424462823804, 3.6267985409742547, 3.622152499330921, 1.7255409944987463, 3.627428882319392, 0.0, 3.917977044205212, 0.0, 2.1302073961426338, 1.5120662229939152, 0.0, 2.0322587249993718, 1.6798448037250961, 1.1599017918682961, 4.9924701369609465, 7.879532586929715, 1.2418843078860027, 1.5120229807999426, 0.0, 2.6484079263230753, 1.7601162059668518, 3.6221640455547917, 2.408332335093256, 0.0, 0.0, 4.895040640562518, 3.6713395625309992, 2.447544676146449, 7.528102444514624, 4.771542822870048, 1.7545222722577232, 1.7545415341943877, 6.828615101078621, 1.2059780624161174, 21.619070860514114, 0.08019871553074397, 0.07997320525059352, 0.39986008575867654, 3.3200910340106957, 2.483879218702279, 0.0, 0.2400770020292944, 2.4083163434379364, 2.701423085782427, 0.0, 0.0, 4.853696844803291, 0.0, 0.0, 7.377742253996421, 2.411968037900075, 0.9195166203872358, 1.3078290772654617, 1.9367243420283973, 3.8075889921174957, 2.8273402292139065, 2.4838823269185313, 0.0, 0.0, 1.8800519822696928, 1.2528865081501261, 1.8138314177925103, 7.235137528524757, 2.7200175687521617, 0.0, 0.0, 0.0, 3.5975565519903654, 1.2419680185410291, 3.687814938844972, 1.4204333749289657, 3.0800521656686097, 0.0, 0.0, 0.0, 2.5455534296160813, 0.0, 2.4119657469992934, 11.013712457425141, 2.4212521813210968, 1.2400196536821084, 0.0, 4.400015738728144, 0.0, 1.3994330328502762, 2.5059148043098634, 3.6564424102347606, 0.0, 0.2400026224702548, 12.703533866721143, 1.8800191856020845, 2.4708534488502756, 4.798328526079553, 206.2476656333631, 2.755085795743193, 2.040032618590914, 5.8842030513167645, 2.400332591285218, 2.4119774326989107, 3.631845828538085, 0.0, 0.0, 0.0, 0.39995250994100856, 1.5549027228337506, 2.6155904332299826, 8.687426486405647, 2.5999977296907426, 1.292442031151405, 139.76203756597278, 0.0, 5.570885134594651, 1.6266857882532042, 2.40000057220459, 0.0, 2.011561165990573, 0.07995369239767808, 2.134881394697932, 0.0, 2.5562216329834406, 6.687160820622248, 7.633257303958513, 2.4053266005622747, 1.2106514612787262, 3.0130271260612282, 1.2924422100139257, 2.7200130951310086, 3.2100204139944983, 0.08002541207890004, 0.0, 0.0, 2.4475261966147284, 2.4120244645654396, 2.8408717643093833, 2.4013716090897974, 168.58893404006778, 0.0, 3.600000381469725, 0.43988432113564735, 5.011342295022942, 6.976632581895976, 1.0001061432542364, 0.0, 4.080029599461638, 3.12408162453112, 12.428438246885486, 0.0, 8.400859069499392, 6.966544617562913, 1.2106124434754162, 0.0, 5.04720026731208, 2.416280222710212, 0.0, 2.6475535362242297, 3.6008881931975214, 3.6141890602328988, 5.24734267851345, 1.202666051433236, 2.720051782748043, 1.2165413071384708, 2.827264052077341, 0.15994641050113584, 6.773854639869925, 0.0, 3.048676250663969, 0.0, 0.0, 0.0, 0.0, 4.807322702402645, 3.124012887560778, 4.061253995346472, 4.061253995346472, 2.389000305004461, 2.5056774106448025, 2.4030082204762473, 2.6319453552096297, 0.0, 3.026556363758899, 1.3078294555036665, 1.2026650792519005, 0.0, 1.5999648855526087, 7.05746984210096, 6.56674021216602, 2.2981341480779136, 1.5880040293753968, 7.991356306567695, 0.0, 2.421230186527299, 0.0, 1.264939603493564, 2.8845068941785748, 0.0, 7.857646329423221, 3.2288690596664233, 0.0, 0.8800335382235828, 0.19992614453226712, 4.9999550765457625, 0.0800237478173904, 0.0, 2.433111714453243, 4.660598285721873, 2.7190601184072034, 4.711773320238451, 12.818548899554111, 2.529803104720639, 0.9198988815249092, 0.0, 0.0, 7.057854892755422, 1.7545405473764697, 0.6996481748091352, 1.8137742013648586, 1.2026575858150987, 6.678675365340332, 0.0, 1.1200539599310337, 0.0, 0.0, 3.6878526229267354, 0.0, 1.2322358364490702, 0.0, 6.936345892682622, 1.5121275566201535, 1.561973029737485, 2.421243269902782, 0.0, 6.032554715660593, 1.1200617600095437, 0.0, 0.0, 0.5600109040172148, 1.4647470976728159, 3.605548018491648, 1.442191151334017, 0.0, 0.0, 4.2149160283154155, 6.860900482624753, 12.818548899554111, 0.6400267114577189, 0.0, 1.4647151015980264, 0.0, 3.6496386837737096, 3.293857136603133, 4.394387915646744, 1.2106266025489514, 1.3242466448406578, 7.256823254640545, 2.6028371114568345, 3.4225073174692677, 2.120041477438939, 4.831431065919904, 1.2006676357743975, 3.706025360083204, 10.138576465803938, 3.479888451549078, 0.0, 0.0, 99.89325143002516, 1.4422146392897146, 3.771965297725843, 0.0, 1.2649393097626815, 0.0, 1.2528462076314426, 6.774907568497593, 0.0, 0.3201143329895802, 2.405325902117256, 2.8399495478167616, 0.0, 1.3078282138277173, 1.6689644476733465, 0.0, 3.6002209008463635, 0.23999263403783871, 0.0, 1.223757138868521, 0.6799863287858329, 0.0, 0.07997320525059352, 2.8273392928427334, 5.176646632069899, 3.706026021757005, 1.3599405555239916, 0.0, 1.202667363967876, 0.0, 2.163353600266239, 0.0, 2.5056669091910875, 3.31040890774497, 2.9761855058712334, 1.39941189354821, 0.0, 3.1240860495361145, 2.464468686993858, 1.3242466448406578, 0.0, 6.7893722697454475, 2.683295930079838, 3.3942124150373227, 1.241939729195495, 1.307742988982546, 0.0, 2.1633746073384703, 0.6799911795652805, 0.0, 3.9395908642755137, 0.24018128496606378, 0.6013321308184472, 2.012789895373002, 0.0, 0.8185768411452615, 0.0, 3.6274716420576087, 4.406578165752164, 0.0, 3.643300626027244, 0.200062960540311, 2.4644691822316855, 2.6833184314855596, 0.0, 0.0, 1.560124288457011, 4.199883190247759, 2.9761855058712334, 2.439996247972295, 1.7600153758867076, 0.5597989306052348, 0.04001175503288102, 2.9957218470165277, 0.0, 1.2026667659037156, 0.0, 1.5879785517747067, 0.0, 0.0, 3.6019989915697703, 2.41627938619596, 3.8343630870474437, 1.5599533839560547, 3.3054620471468863, 5.064260645142543, 1.202664259050578, 1.2419398040193406, 4.805995101108047, 3.3200874995354166, 0.0, 2.4331178026960747, 2.4738767925919767, 0.0, 4.585405514832289, 1.2237363236300098, 4.85371085879919, 2.399836735578851, 1.2106237224295997, 14.052899565408964, 0.4000879521194965, 0.0, 4.161755249647764, 0.0, 1.93660483777912, 0.0, 1.488077677580588, 6.299720542111203, 0.0, 0.0, 0.0, 3.6433104943944152, 7.634651727365152, 0.0, 2.1201807977917135, 1.341650468732522, 1.2527733747865213, 0.0, 3.0986154709741713, 3.45121217973926, 4.371502672111386, 4.8006638059300295, 1.200665549606527, 0.9200191086719758, 3.6810637717798236, 2.7200227393742042, 2.433084828479608, 0.0, 1.2026615751666994, 7.199659296815592, 1.905307294019843, 0.0, 2.8844201994965526, 0.0, 2.4644522593940867, 8.229153432483427, 1.8136813792985367, 3.7946728940782366, 2.7191126656176583, 7.611892223525702, 5.590691621807091, 0.0, 0.0, 2.4003352553451673, 1.0398065449134772, 1.9200321656047967, 2.1967027877690004, 10.802671099768375, 4.610172665267433, 6.821918538078265, 2.447530115537165, 3.1240114222546445, 2.5849092088505485, 1.6067027857947869, 3.862708663648823, 1.2006638231958986, 2.7013306474487515, 0.0, 2.426852776872191, 0.0, 0.0, 8.58173966578108, 2.760156574905576, 2.4944645302086457, 2.5174752971881937, 0.0, 0.5200167146011073, 0.0, 0.07997320525056965, 0.0, 1.2322616531285728, 4.806001537304907, 0.0, 3.0462680270298312, 7.574185270664262, 2.4029980598448346, 0.0, 1.292454308352083, 3.0189013052780567, 0.0, 2.4738473375449948, 0.0, 3.6141950765293727, 2.0646193456788677, 0.0, 1.8398047991827287, 7.855446884966442, 2.4212521659756736, 0.0, 1.2780878333798191, 0.0, 4.800001144409173, 4.699217117764023, 3.9466774151504675, 1.0399366695802819, 5.9010417187211095, 9.885847706869972, 1.2322409763448143, 0.0, 3.600224492283931, 0.0, 0.6799964397291104, 6.980556703301979, 2.5999977296907426, 0.0, 17.401383521395186, 3.967866957468027, 1.614427511061585, 1.2649280474579774, 1.2026615751667062, 2.12016036399514, 1.4814600047216138, 2.6831375487895395, 2.408364876906245, 0.0, 0.0, 0.6209782191742728, 1.0398065449134772, 1.2165401783352174, 1.2924422100139197, 3.7441039583018747, 2.4475261966147284, 0.7602456039801333, 3.7822753254561916, 4.417450040080806, 1.2106156615243078, 3.5678381178356844, 2.4398247055117586, 0.0, 0.0, 1.7255409944987463, 2.4268573156413438, 0.0, 3.7258234251822837, 0.03998706722016503, 4.0347742063246885, 2.827264052077341, 0.0, 3.1153732985672153, 7.412788446402518, 0.39986524224919323, 0.0, 2.4837974575064563, 2.7199706425927936, 1.2026619912320164, 1.3600621684554954, 1.8138314177925103, 0.0, 0.03997974287704834, 5.012023287393372, 3.607989065277663, 98.61103864112327, 1.241964177116484, 0.8185768411452615, 1.360002975008339, 0.0, 2.3890110349856357, 4.464303588916226, 0.0, 3.365882437427771, 1.241968221947196, 1.8745373332921036, 0.0, 0.0, 2.4268448486225, 1.3994320539840337, 0.0, 0.0, 6.570427072333718, 0.0, 1.9365459365903555, 2.647635411608665, 2.401331039626457, 2.0646193456788677, 3.098679077550986, 0.16026571377479906, 6.02607914823713, 0.0, 0.0, 0.0, 0.0, 1.2106133623720694, 3.6712767520394447, 3.677971559199012, 0.0, 4.51651972310243, 6.678851574112587, 1.601389327848956, 8.203149386428247, 3.380255337200108, 3.614197002097482, 0.0, 3.715671884515862, 1.241968904049609, 7.650140276392465, 2.408314305585596, 3.098638225675249, 2.0074921408794784, 1.2059825679257852, 0.0, 0.0, 2.40033407823227, 0.0, 2.6476180630207296, 101.79530461206785, 7.500144131410225, 3.6636590628664667, 0.07995369239765593, 13.583952902622691, 2.4475261966147284, 1.8744494533487235, 0.0, 0.0, 5.336754990970626, 6.448161737387959, 3.65642673788875, 0.0, 4.847936039116234, 0.0, 0.0, 2.5057125842839434, 0.0, 1.4421909581116448, 7.982226829372175, 1.3600228316301024, 0.0, 8.233854497892757, 5.023041162874971, 1.399428654739881, 0.0, 0.0, 2.8196478327915147, 2.196760010816949, 2.798754095867495, 5.012023287393372, 1.3994170839145732, 1.9999093669219248, 0.0, 0.04001428541327534, 1.252854151032598, 2.599988984223394, 2.416291421909453, 7.049003314277564, 3.073452113651651, 0.0, 5.179314856255458, 2.8399495478167616, 1.3994707056950546, 2.7551491229492417, 1.1999988555908203, 0.0, 2.405336651167483, 6.740309428549257, 1.1999868837802898, 8.448309987833474, 1.7599454638789993, 3.2173194554713467, 1.200000286102295, 3.00008010853742, 2.5766746757521872, 1.3994303751105897, 0.0, 6.81691701420526, 1.3994188298197028, 0.919827748004239, 0.0, 0.0, 8.83334404281778, 4.096608977488748, 4.536210806622268, 3.5301847258910053, 2.416292240072003, 1.0001001451082416, 0.0, 1.3994183105770472, 2.7199946341067167, 1.5368018528974696, 0.11991770416524938, 0.0, 0.0, 2.402994909746659, 0.3600404230927912, 0.6399850529791712, 9.60034489436067, 0.0, 0.0, 1.828242404875056, 0.0, 3.614197002097482, 1.1598707864047964, 0.0, 1.040089802807852, 0.6397206727151065, 4.293414667487117, 1.2059818350874478, 4.464201995259203, 0.0, 2.4053421877415397, 2.4013310396264567, 1.2106182885030243, 0.0, 0.0, 3.7257922560289876, 3.1751564290796885, 2.3999996185302717, 1.2238012515777568, 1.2649381113170195, 3.6008881931975214, 7.475729919401272, 1.0322232222754686, 0.0, 3.6079898460343265, 8.010961824463216, 2.230352684250001, 2.647599790860425, 0.0, 4.137893494982983, 0.0, 2.426886648283274, 0.0, 6.869429981126646, 0.0, 0.0, 1.794932959382669, 99.31758850160283, 0.16005120608064352, 5.517099078904068, 0.0, 6.00513763778661, 3.32674520339502, 1.200000286102294, 2.4475413248648925, 2.862458927630523, 2.648477358693615, 1.830946812327509, 2.6484066839997524, 0.0, 0.0, 1.2419430943971366, 1.2237496692860461, 0.0, 3.600888193197532, 6.276764499850835, 4.371502672111386, 3.0734961077763607, 3.149536361780254, 0.0, 0.0, 0.0, 2.840911076619956, 0.8801206086237643, 2.4400129679019598, 3.656425794616789, 4.828085781932996, 7.021727375059317, 0.0, 3.8343630870474437, 6.81691701420526, 2.6318299380506747, 4.866207926844374, 1.2781296695479163, 1.6143365325193508, 6.681808187554638, 2.4029943033229326, 1.2528544179096062, 1.5599533839560396, 99.00604774349613, 0.0, 2.4003331946140714, 2.778498149758096, 9.183607450668845, 0.0, 2.0011098058638748, 0.0, 0.0, 3.955948998407441, 5.841161286688443, 2.196697775729707, 0.0, 0.0, 1.3242474515781755, 2.5056768088016974, 0.0, 0.0, 0.0, 5.280155353251958, 1.3599754294165771, 1.8000040229547685, 204.0590258373304, 2.0645493465707627, 1.360023978571791, 2.000096661935393, 1.5880113794105006, 2.4644564571114973, 0.8401530527829738, 3.8208204239749484, 0.0, 0.0, 4.536210806622268, 1.697080382641763, 3.511676735112443, 0.0, 1.6415040994401997, 0.0, 0.0, 1.2106209636914371, 3.3941527662773257, 4.293414667487117, 1.679990104437072, 3.3201931107443983, 5.384531427891084, 4.161755249647764, 1.725542810577136, 2.899918191346017, 4.394296385584465, 0.6399821990417942, 3.6035500715675184, 1.307846275846111, 2.2981336501045866, 0.0, 1.292454529715661, 1.2000007629394531, 2.5849080610535204, 1.6266857882532042, 99.5685096791848, 21.753478822136046, 0.0, 0.0, 3.7701808731692683, 4.227408082920766, 1.2026619912320164, 0.0, 1.2006637598134091, 1.2705541699856748, 1.8851083359178045, 0.0, 0.07995369239767808, 1.200000286102295, 3.631845676800652, 1.2649280474579774, 1.3242483732320531, 3.2309598102855235, 102.22006325953248, 1.2000007629394531, 0.0, 1.614470765533882, 0.0, 103.78951464727903, 0.6400267114577189, 1.641451180311374, 3.610879449527609, 4.8006638059300295, 0.0, 1.232207258714218, 2.2303446588481988, 3.7489019065254525, 3.770192943479104, 0.0, 0.8801382835132568, 0.07995369239770714, 1.2781614534120296, 0.0, 1.2000007629394567, 2.9761392950406202, 0.0, 3.202135956655847, 0.0, 0.0, 3.5383551177623835, 4.098980550588117, 2.4838684437826193, 1.241922533811175, 2.647652817177444, 2.426831473700084, 2.6833452328667593, 1.2237659456970769, 1.2026613920731357, 1.2006637598134091, 1.2059895706313408, 0.0, 2.7199975408921038, 2.433119096628169, 1.359978469467998, 4.853698077528753, 1.2322375408465305, 0.8399579789778004, 1.968051034321107, 4.907439639979453, 0.0, 0.44019314790576985, 0.0, 7.716822952988392, 1.813901896739677, 2.411970884724106, 2.408364876906245, 4.379203081912646, 1.8743791197705113, 3.607991622600657, 2.4119670913529885, 0.0, 5.3140596617388, 2.8408498105868123, 2.5298491303962733, 2.4362226442234065, 4.118190532836616, 0.0, 6.672342537301987, 0.47981377758207316, 2.952750463267043, 0.0, 1.1999989748001099, 2.4475413248648925, 1.7255855416123915, 4.252958000927599, 2.426860380356547, 2.4013308026033653, 15.048762390552763, 1.5621144965207565, 1.4881208720434802, 0.0, 2.570292147483757, 0.0, 0.0, 2.4838827876526084, 1.5880236418314162, 0.0, 2.9201069750445754, 2.884404072589836, 0.679966821950301, 0.0, 1.9997548596852988, 2.433103064490906, 1.4881601947485432, 1.4880610774005683, 3.2310468113900304, 2.63182715940707, 0.0, 3.7611726551275595, 1.9681676579371723, 3.7472126497057556, 7.800528529383239, 2.5765396638377607, 2.4331148126753748, 3.607991749158355, 0.7440720395779934, 1.4647705009594056, 1.040090257228063, 0.0, 3.5301847258910053, 0.0, 1.200667635774397, 0.08003448478024693, 1.2006648652334075, 2.584921673605391, 1.8400404061582964, 0.239861077193019, 162.23295426462766, 1.2026660356135923, 1.2026660356135923, 3.1497975894991628, 4.240010544399281, 1.0399150244137287, 0.9599115568513891, 7.1148930720795525, 2.4475264999956168, 2.683294300805565, 98.24211514023031, 0.0, 0.7999835299730087, 6.687160820622248, 4.51651972310243, 6.34391213987388, 3.6019954365859803, 1.241964177116484, 1.223731637779136, 4.021285066448506, 7.815472189578606, 1.3999589922900826, 3.120784072916002, 1.2059741200294585, 2.8631893646978304, 3.6712939099112325, 0.0, 3.2288690596664233, 3.968160432721386, 0.0, 0.0, 4.924328871705691, 3.782279204967483, 0.0, 3.5090962064272504, 4.832555355165016, 0.0, 0.0, 2.411970884724103, 3.7946728940782366, 0.0, 2.8999469916760323, 6.799310264435869, 0.0, 2.4000015258789062, 2.4738731810217702, 2.40000057220459, 0.23991193372499603, 2.4644564571114973, 2.4738717920716367, 2.4003352553451673, 1.2106266025489514, 3.305462393364297, 0.9183954600597869, 17.15652268085362, 6.6426311339289805, 3.637358344793639, 1.561973029737485, 4.828085781933003, 2.4083178870156132, 0.1599366540270119, 0.0, 5.841161218451601, 1.3994151646558914, 1.641365507825146, 2.298180055335023, 6.894307104004968, 1.6970793912545252, 2.33235568483548, 1.32424998845884, 1.0984047758085005, 0.0, 0.0, 0.04001428541327534, 4.9999940325474075, 2.5298491303962733, 0.0, 6.7219838136493, 6.855791091952641, 1.279823025498481, 0.0, 0.0, 2.5562665180081727, 3.6496670808941896, 0.0, 2.433102344627634, 2.1966998407564144, 0.0, 1.874373811950242, 6.404523555707365, 4.847936039116234, 4.853698077528753, 1.2000007629394531, 2.4000015258788956, 0.0, 0.0, 4.895074134249213, 4.040132659956789, 5.999857522549662, 3.0000291431658157, 0.6399996200475238, 3.820812120972204, 1.079824789729807, 0.0, 3.6141907134873295, 9.345653272914904, 0.0, 2.976186960538984, 3.0675122466653355, 2.4644654673226363, 4.887384411092102, 2.9364726125710794, 2.4013327172884193, 0.0, 5.841161218451601, 1.3600035979246798, 0.0, 2.862434903701877, 2.556264727257582, 2.7911632945578213, 1.2924527438320963, 2.556264727257582, 3.8208204239749484, 6.34391213987388, 0.0, 3.671290463572021, 0.0, 0.0, 4.828099331017873, 0.0, 3.617951189999573, 1.2528139263378575, 4.0966213614905085, 5.148056225922551, 0.0, 2.7988527594908863, 4.801498111417337, 1.2237681082413279, 5.57192086696627, 7.085663991820032, 0.0, 4.8041667190015405, 8.521519834323716, 0.0, 3.7802736309032907, 6.792452284202101, 1.2006667978439234, 3.6035623468317115, 0.0, 0.0, 0.0, 1.5121595622858186, 7.746403357226655, 0.0, 1.7198420657379585, 7.152531408484193, 1.2059818350874434, 1.3600259183011592, 1.8070929077157614, 0.16004930409471788, 2.798852293025171, 0.0, 1.3242057992541016, 2.433119402041179, 2.648466392323761, 0.0, 1.9367108523127534, 0.0, 2.615687728146278, 1.4399838789404866, 0.07996645613204603, 2.4013324569748957, 1.2165623573759317, 0.0, 1.4801406790560623, 3.0462400834622456, 2.929624832190799, 4.823932115459956, 4.951820986309933, 7.097548769597588, 0.0, 1.2026661877795877, 2.300803907468498, 0.0, 0.15997889277405744, 1.536738864867297, 1.5621134080724473, 2.411978017974715, 1.2649182411632462, 2.39999961853027, 0.0, 1.2059815243246557, 1.3993027431839282, 3.687814938844972, 2.494473517878174, 4.219007299034245, 2.4710771311999213, 3.202135956655847, 4.348974492528586, 2.505665408820396, 2.196707087620237, 1.2419404055531453, 0.2000543122083696, 5.501428945155451, 1.2026652678582217, 2.4120244645654396, 2.004438529577209, 7.5626817779459525, 0.6210091064831383, 0.0, 1.7999992370605469, 1.936704689844914, 4.394296385584465, 1.6799203755302536, 3.605548711889913, 2.447530254874272, 2.7551495383203894, 0.0, 1.5200137871945314, 2.556229050792068, 2.2642106289451402, 3.6008877760682156, 2.5848722411307445, 0.0, 3.5483592644831687, 0.07996645613204603, 0.0, 0.0, 2.400333140543214, 0.0, 0.0, 0.0, 32.38762141989018, 0.0, 161.7476241195607, 0.0, 3.6035249482043286, 0.0, 3.9234782881318235, 1.1600720707442795, 6.918919839720206, 8.322997310691802, 2.421232773139126, 4.371590905684948, 1.8136970435837945, 3.12408162453112, 1.5879591406684554, 4.56065524153661, 1.4881208720434802, 1.5120279444670648, 0.0, 1.2026650792519005, 3.9467631329258888, 1.2026606783997484, 1.2106063426888607, 3.12408162453112, 0.0, 0.0, 1.5621125746591171, 0.0, 4.9924701369609465, 1.442238388245716, 7.021727375059317, 3.820812120972204, 0.0, 10.363951646842755, 1.559955555612944, 0.36015858539432777, 1.3792892058219657, 0.0, 3.1198140282126503, 0.0, 1.759798454552582, 0.0, 7.639595312974659, 2.4738697365496027, 0.0, 1.8136970435837945, 2.4013388019571122, 0.0, 1.232261653128573, 2.6484796401877513, 1.464756801135711, 1.5621054604866786, 1.3599793109585903, 4.200763126061755, 1.7545419450283826, 0.0, 0.3201141008527706, 2.433119096628169, 3.1751564290796885, 0.0, 1.3994707056950546, 0.0, 2.4083947567758526, 3.725823664508261, 0.0, 1.4422386540662218, 1.9600051679990782, 1.4799282567608887, 0.7199726644930659, 0.0, 0.15997889277405744, 2.6656502151234713, 2.2560012591990004, 0.15994641050113584, 3.6967230381820078, 6.000536315252173, 0.6400420006240306, 6.557414604964077, 0.0, 3.6267976996044577, 1.4799282567608887, 0.5600916268476231, 1.9999093669219248, 0.0, 2.1967593366388734, 7.100373682673156, 8.229153432483427, 0.8772355480998357, 2.929570014100448, 4.061322703817854, 1.6690140589645512, 0.0, 3.5383551177623835, 1.2237657591343547, 0.0, 2.4330968637093475, 2.4331209780140894, 0.5600109040172148, 2.408364876906245, 7.638653538835297, 4.68622662136928, 3.6079888719621165, 2.7988506574836545, 1.8138314177925103, 2.416279496432146, 0.23991274678901056, 1.9386618973947347, 0.0, 2.4268225129531253, 3.873089997903236, 2.615695485872421, 1.5549027228337506, 0.0, 3.1240114222546445, 2.6120112851486446, 2.2641488695458727, 4.800000190734864, 0.0, 3.601998700910122, 0.0, 2.3667263797383495, 1.3792899348536931, 2.6156201433888286, 6.275766271747917, 2.011561165990573, 0.0, 1.6970455202110992, 4.879999631137559, 1.5621144965207565, 1.3793709498475122, 2.8631893646978304, 2.529806476818325, 2.1598963519467556, 8.317725170181209, 2.884404072589836, 4.018761622437313, 2.570257733386721, 2.9068116288569823, 1.8136809060581254, 0.0, 2.8273402292139065, 6.885018657758933, 0.0, 2.7585670428457836, 0.3600404230927912, 2.4644742417454957, 10.464111998891982, 3.1498285892190308, 3.7258234251822837, 1.6970455202110992, 8.303100785276854, 0.0, 5.3583661239941724, 4.9811693344443855, 1.2781498134567595, 3.6637487135830566, 0.0, 0.6799842387663162, 1.2006656661027542, 3.6267985409742547, 98.86007546647942, 0.6118716180242602, 158.65700540989684, 1.5366831760307957, 2.75993922605109, 1.5620009912058173, 0.360040423092793, 0.0, 2.683274515284938, 0.0, 0.0, 1.3416586325718716, 3.202214709763832, 2.064558969790128, 100.15325673619161, 0.0, 14.479825932548817, 0.8399323881078622, 3.567605775400884, 2.143667619115824, 6.681808187554638, 1.2237457995792431, 0.0, 1.697080382641763, 3.6221640455547917, 1.3242305055244434, 2.720041535050335, 1.3415850467213897, 2.9069012556369023, 0.0, 1.4422790774144225, 3.2559284336768326, 2.40831804620569, 0.0, 2.7390237139435727, 0.0, 2.4400129679019598, 1.4647705009594056, 1.2419229650618726, 4.0966213614905085, 2.5410833323273785, 2.936378305928711, 4.924328871705691, 3.600220799063989, 2.778498149758096, 2.119979374254734, 0.43978489643815527, 1.488038853515236, 0.2400035737496426, 4.200763126061755, 2.440003041470984, 0.0, 2.6475535362242297, 1.799824981163309, 6.966544617562913, 3.6002227740520385, 1.2026660356135923, 3.159743304127582, 0.08002541207890004, 3.873233579203529, 6.135022830449215, 1.341650468732522, 2.2641752083830236, 0.0, 0.0, 2.433111714453243, 2.4475541608327562, 6.56674021216602, 3.8418305694164543, 1.6413615009605895, 1.3600122111573363, 1.9999712218981058, 2.433111714453243, 0.0, 2.4053189304729576, 2.5427604177904595, 2.2303216381100586, 101.79530461206785, 3.9998061550410124, 2.332397345821009, 0.0, 1.232207258714218, 0.11995992402455832, 0.0, 3.657492077152481, 1.2006656661027542, 2.7200504667027263, 3.024158025652067, 1.7839672173365144, 1.6666829640738754, 6.604955773333432, 1.5620009912058173, 6.276764499850835, 0.3600404230927912, 1.2106157653870753, 0.0, 2.505647124277556, 8.240358023626166, 4.098954492153936, 0.0, 1.2165413071384708, 1.936564906039373, 1.2400196536821084, 3.7471944848562027, 1.8040012351366812, 2.4268563725204673, 2.400151184594627, 0.0, 0.6013321308184472, 0.0, 2.1201807977917135, 1.7543632964433584, 3.3659393204807078, 1.9366045264533425, 3.892980086647162, 1.2528550644741516, 1.2000007629394531, 2.403006925493305, 0.0, 1.3599784157544577, 1.7255398349411675, 0.0800237478173904, 3.0734961077763607, 4.933757372773359, 0.7999835299730087, 1.2106266025489514, 2.7199140190358233, 0.7599497145624402], \"xaxis\": \"x\", \"xbins\": {\"end\": 206.2476656333631, \"size\": 0.25, \"start\": 0.0}, \"yaxis\": \"y\"}, {\"legendgroup\": \"Distances predicted\", \"marker\": {\"color\": \"rgb(31, 119, 180)\"}, \"mode\": \"lines\", \"name\": \"Distances predicted\", \"showlegend\": false, \"type\": \"scatter\", \"x\": [0.18721088902421804, 0.6037820102183422, 1.0203531314124665, 1.4369242526065906, 1.853495373800715, 2.2700664949948393, 2.686637616188963, 3.1032087373830874, 3.5197798585772118, 3.936350979771336, 4.35292210096546, 4.769493222159585, 5.186064343353708, 5.6026354645478325, 6.019206585741957, 6.435777706936081, 6.852348828130205, 7.26891994932433, 7.685491070518454, 8.102062191712578, 8.518633312906703, 8.935204434100825, 9.351775555294951, 9.768346676489074, 10.184917797683198, 10.601488918877322, 11.018060040071447, 11.434631161265571, 11.851202282459695, 12.26777340365382, 12.684344524847944, 13.100915646042068, 13.517486767236193, 13.934057888430315, 14.350629009624441, 14.767200130818564, 15.18377125201269, 15.600342373206812, 16.01691349440094, 16.433484615595063, 16.850055736789187, 17.26662685798331, 17.683197979177432, 18.099769100371557, 18.516340221565684, 18.93291134275981, 19.34948246395393, 19.766053585148054, 20.182624706342178, 20.599195827536306, 21.015766948730427, 21.43233806992455, 21.848909191118675, 22.265480312312803, 22.682051433506924, 23.09862255470105, 23.515193675895173, 23.931764797089297, 24.34833591828342, 24.764907039477546, 25.18147816067167, 25.598049281865794, 26.01462040305992, 26.431191524254043, 26.847762645448167, 27.26433376664229, 27.680904887836412, 28.09747600903054, 28.514047130224665, 28.93061825141879, 29.34718937261291, 29.763760493807037, 30.180331615001162, 30.596902736195286, 31.013473857389407, 31.43004497858353, 31.84661609977766, 32.26318722097178, 32.679758342165904, 33.09632946336003, 33.51290058455415, 33.92947170574828, 34.3460428269424, 34.762613948136526, 35.17918506933064, 35.59575619052477, 36.01232731171889, 36.42889843291302, 36.84546955410715, 37.26204067530127, 37.678611796495396, 38.09518291768952, 38.51175403888364, 38.92832516007776, 39.344896281271886, 39.76146740246601, 40.178038523660135, 40.594609644854266, 41.01118076604839, 41.427751887242515, 41.84432300843663, 42.260894129630756, 42.67746525082488, 43.094036372019005, 43.51060749321313, 43.927178614407254, 44.343749735601385, 44.76032085679551, 45.17689197798963, 45.59346309918375, 46.010034220377875, 46.426605341572, 46.843176462766124, 47.25974758396025, 47.67631870515437, 48.092889826348504, 48.50946094754262, 48.926032068736745, 49.34260318993087, 49.759174311124994, 50.17574543231912, 50.59231655351324, 51.00888767470737, 51.42545879590149, 51.842029917095616, 52.25860103828974, 52.675172159483864, 53.09174328067799, 53.50831440187211, 53.92488552306624, 54.34145664426036, 54.758027765454486, 55.1745988866486, 55.591170007842734, 56.00774112903686, 56.42431225023098, 56.84088337142511, 57.25745449261923, 57.674025613813356, 58.09059673500748, 58.5071678562016, 58.92373897739572, 59.34031009858985, 59.75688121978398, 60.1734523409781, 60.590023462172226, 61.00659458336635, 61.423165704560475, 61.83973682575459, 62.256307946948716, 62.67287906814284, 63.08945018933697, 63.506021310531096, 63.92259243172522, 64.33916355291935, 64.75573467411347, 65.1723057953076, 65.58887691650172, 66.00544803769584, 66.42201915888997, 66.83859028008409, 67.25516140127822, 67.67173252247234, 68.08830364366646, 68.50487476486059, 68.92144588605471, 69.33801700724884, 69.75458812844296, 70.17115924963707, 70.5877303708312, 71.00430149202532, 71.42087261321944, 71.83744373441357, 72.25401485560769, 72.67058597680183, 73.08715709799596, 73.50372821919008, 73.9202993403842, 74.33687046157833, 74.75344158277245, 75.17001270396658, 75.5865838251607, 76.00315494635483, 76.41972606754895, 76.83629718874306, 77.25286830993718, 77.66943943113131, 78.08601055232543, 78.50258167351956, 78.91915279471368, 79.3357239159078, 79.75229503710193, 80.16886615829605, 80.5854372794902, 81.00200840068432, 81.41857952187844, 81.83515064307257, 82.25172176426669, 82.66829288546082, 83.08486400665494, 83.50143512784905, 83.91800624904317, 84.3345773702373, 84.75114849143142, 85.16771961262555, 85.58429073381967, 86.0008618550138, 86.41743297620792, 86.83400409740204, 87.25057521859617, 87.66714633979029, 88.08371746098443, 88.50028858217856, 88.91685970337268, 89.3334308245668, 89.75000194576093, 90.16657306695504, 90.58314418814916, 90.99971530934329, 91.41628643053741, 91.83285755173154, 92.24942867292566, 92.66599979411978, 93.08257091531391, 93.49914203650803, 93.91571315770216, 94.33228427889628, 94.7488554000904, 95.16542652128453, 95.58199764247867, 95.9985687636728, 96.41513988486692, 96.83171100606103, 97.24828212725515, 97.66485324844928, 98.0814243696434, 98.49799549083752, 98.91456661203165, 99.33113773322577, 99.7477088544199, 100.16427997561402, 100.58085109680815, 100.99742221800227, 101.4139933391964, 101.83056446039052, 102.24713558158464, 102.66370670277877, 103.0802778239729, 103.49684894516702, 103.91342006636114, 104.32999118755527, 104.74656230874939, 105.16313342994351, 105.57970455113764, 105.99627567233176, 106.41284679352589, 106.82941791472001, 107.24598903591414, 107.66256015710826, 108.07913127830238, 108.49570239949651, 108.91227352069063, 109.32884464188476, 109.74541576307888, 110.16198688427299, 110.57855800546712, 110.99512912666125, 111.41170024785538, 111.8282713690495, 112.24484249024363, 112.66141361143775, 113.07798473263188, 113.494555853826, 113.91112697502012, 114.32769809621425, 114.74426921740837, 115.1608403386025, 115.57741145979662, 115.99398258099075, 116.41055370218487, 116.82712482337898, 117.2436959445731, 117.66026706576723, 118.07683818696135, 118.49340930815549, 118.90998042934962, 119.32655155054374, 119.74312267173786, 120.15969379293199, 120.57626491412611, 120.99283603532024, 121.40940715651436, 121.82597827770849, 122.24254939890261, 122.65912052009674, 123.07569164129086, 123.49226276248497, 123.9088338836791, 124.32540500487322, 124.74197612606734, 125.15854724726147, 125.57511836845559, 125.99168948964973, 126.40826061084385, 126.82483173203798, 127.2414028532321, 127.65797397442623, 128.07454509562035, 128.49111621681448, 128.9076873380086, 129.32425845920272, 129.74082958039685, 130.15740070159097, 130.5739718227851, 130.99054294397922, 131.40711406517335, 131.82368518636747, 132.2402563075616, 132.65682742875572, 133.07339854994981, 133.48996967114397, 133.90654079233806, 134.32311191353222, 134.7396830347263, 135.15625415592046, 135.57282527711456, 135.9893963983087, 136.4059675195028, 136.82253864069696, 137.23910976189106, 137.6556808830852, 138.07225200427933, 138.48882312547346, 138.90539424666758, 139.3219653678617, 139.73853648905583, 140.15510761024993, 140.57167873144408, 140.98824985263818, 141.40482097383233, 141.82139209502643, 142.23796321622058, 142.65453433741467, 143.07110545860883, 143.48767657980292, 143.90424770099708, 144.32081882219117, 144.73738994338532, 145.15396106457945, 145.57053218577357, 145.9871033069677, 146.4036744281618, 146.82024554935595, 147.23681667055004, 147.6533877917442, 148.0699589129383, 148.48653003413244, 148.90310115532654, 149.3196722765207, 149.7362433977148, 150.15281451890894, 150.56938564010304, 150.9859567612972, 151.40252788249128, 151.81909900368544, 152.23567012487953, 152.6522412460737, 153.0688123672678, 153.4853834884619, 153.90195460965606, 154.31852573085015, 154.7350968520443, 155.1516679732384, 155.56823909443256, 155.98481021562665, 156.4013813368208, 156.8179524580149, 157.23452357920905, 157.65109470040315, 158.0676658215973, 158.4842369427914, 158.90080806398555, 159.31737918517965, 159.73395030637377, 160.1505214275679, 160.56709254876202, 160.98366366995617, 161.40023479115027, 161.81680591234442, 162.23337703353852, 162.64994815473267, 163.06651927592677, 163.48309039712092, 163.899661518315, 164.31623263950917, 164.73280376070326, 165.14937488189742, 165.5659460030915, 165.98251712428566, 166.39908824547976, 166.81565936667388, 167.232230487868, 167.64880160906213, 168.06537273025629, 168.48194385145038, 168.89851497264453, 169.31508609383863, 169.73165721503278, 170.14822833622688, 170.56479945742103, 170.98137057861513, 171.39794169980928, 171.81451282100338, 172.23108394219753, 172.64765506339162, 173.06422618458575, 173.48079730577987, 173.897368426974, 174.31393954816812, 174.73051066936225, 175.14708179055637, 175.5636529117505, 175.98022403294465, 176.39679515413874, 176.8133662753329, 177.229937396527, 177.64650851772114, 178.06307963891524, 178.4796507601094, 178.8962218813035, 179.31279300249764, 179.72936412369174, 180.14593524488586, 180.56250636608, 180.9790774872741, 181.39564860846824, 181.81221972966236, 182.22879085085648, 182.6453619720506, 183.06193309324476, 183.47850421443886, 183.895075335633, 184.3116464568271, 184.72821757802126, 185.14478869921535, 185.5613598204095, 185.9779309416036, 186.39450206279773, 186.81107318399185, 187.22764430518598, 187.6442154263801, 188.06078654757422, 188.47735766876835, 188.89392878996247, 189.3104999111566, 189.72707103235072, 190.14364215354485, 190.56021327473897, 190.97678439593312, 191.39335551712722, 191.80992663832137, 192.22649775951547, 192.64306888070962, 193.05964000190372, 193.47621112309784, 193.89278224429196, 194.3093533654861, 194.7259244866802, 195.14249560787434, 195.55906672906846, 195.9756378502626, 196.3922089714567, 196.80878009265084, 197.22535121384496, 197.64192233503908, 198.0584934562332, 198.47506457742733, 198.89163569862149, 199.30820681981558, 199.7247779410097, 200.14134906220383, 200.55792018339795, 200.97449130459208, 201.3910624257862, 201.80763354698033, 202.22420466817445, 202.64077578936858, 203.0573469105627, 203.47391803175682, 203.89048915295095, 204.30706027414507, 204.7236313953392, 205.14020251653332, 205.55677363772745, 205.9733447589216, 206.3899158801157, 206.80648700130982, 207.22305812250394, 207.63962924369807, 208.0562003648922], \"xaxis\": \"x\", \"y\": [0.017777242121414887, 0.017929133766363646, 0.018074839273111105, 0.018214187269003177, 0.018347012949268427, 0.01847315840150614, 0.018592472918293856, 0.01870481329704889, 0.01881004412630914, 0.018908038057632463, 0.01899867606235071, 0.019081847672453942, 0.0191574512049226, 0.019225393968870002, 0.01928559245490459, 0.01933797250617036, 0.019382469470575182, 0.019419028333769538, 0.019447603832492888, 0.019468160547960682, 0.019480672979022368, 0.019485125594878885, 0.019481512867207007, 0.019469839281597665, 0.01945011932827492, 0.019422377472122724, 0.019386648102105976, 0.019342975460232496, 0.01929141355026116, 0.019232026026419966, 0.019164886062455016, 0.01909007620138749, 0.019007688186410417, 0.018917822773410222, 0.01882058952564921, 0.01871610659119469, 0.018604500463727493, 0.018485905727407676, 0.018360464786517438, 0.018228327580641347, 0.018089651286180855, 0.017944600005034294, 0.01779334444130493, 0.017636061566927614, 0.01747293427712977, 0.017304151036664057, 0.01712990551776877, 0.01695039623082707, 0.016765826148708144, 0.016576402325781753, 0.016382335512603007, 0.01618383976726575, 0.01598113206442175, 0.015774431902957922, 0.01556396091331597, 0.015349942465427709, 0.015132601278225197, 0.014912163031667567, 0.014688853982206668, 0.014462900582590626, 0.01423452910687919, 0.014003965281516895, 0.013771433923279616, 0.013537158584877848, 0.0133013612089654, 0.013064261791265788, 0.0128260780534905, 0.01258702512668349, 0.012347315245585357, 0.012107157454568009, 0.011866757325647632, 0.011626316689039271, 0.011386033376671656, 0.011146100979035274, 0.010906708615691306, 0.010668040719722828, 0.01043027683636416, 0.010193591435998366, 0.009958153741667764, 0.009724127571197541, 0.009491671193988327, 0.009260937202490547, 0.009032072398330787, 0.008805217693019401, 0.0085805080231284, 0.008358072279790144, 0.008138033252329998, 0.00792050758581046, 0.0077056057522303205, 0.0074934320350898585, 0.007284084527002839, 0.007077655140007103, 0.006874229628199046, 0.006673887622292223, 0.0064767026756777715, 0.006282742321543345, 0.00609206814058862, 0.005904735838858774, 0.005720795335202626, 0.005540290857849559, 0.005363261049588902, 0.005189739081026662, 0.005019752771388269, 0.004853324716330974, 0.00469047242222712, 0.004531208446378448, 0.004375540542622528, 0.004223471811795061, 0.004075000856515936, 0.003930121939772997, 0.003788825146784694, 0.0036510965496315616, 0.0035169183741567732, 0.0033862691686472775, 0.0032591239738197276, 0.003135454493648985, 0.0030152292665918006, 0.002898413836773632, 0.002784970924723305, 0.002674860597256951, 0.0025680404361307684, 0.002464465705100242, 0.0023640895150423558, 0.002266862986816386, 0.0021727354115584, 0.0020816544081240923, 0.0019935660774144798, 0.0019084151533386969, 0.0018261451501879779, 0.00174669850621455, 0.0016700167232287203, 0.0015960405020467303, 0.0015247098736409193, 0.0014559643258624734, 0.0013897429256251909, 0.0013259844364566125, 0.0012646274313400992, 0.001205610400788297, 0.001148871856104577, 0.0010943504278046994, 0.0010419849591859146, 0.0009917145950450147, 0.0009434788655605411, 0.0008972177653672402, 0.0008528718278631434, 0.0008103821948011364, 0.0007696906812276931, 0.0007307398358414784, 0.0006934729968538743, 0.0006578343434420709, 0.0006237689428932397, 0.0005912227935454515, 0.0005601428636374703, 0.0005304771261852992, 0.0005021745900084369, 0.00047518532703322975, 0.0004494604960044633, 0.00042495236273951435, 0.0004016143170619116, 0.00037940088655315365, 0.00035826774726303043, 0.0003381717315196035, 0.0003190708329803822, 0.00030092420906614406, 0.0002836921809183172, 0.0002673362310198659, 0.000251818998618285, 0.00023710427308756276, 0.00022315698536392388, 0.0002099431975877636, 0.00019743009108154274, 0.00018558595279045316, 0.0001743801603095284, 0.00016378316561748162, 0.00015376647763400164, 0.0001443026437135232, 0.00013536523018460917, 0.00012692880204014144, 0.00011896890187941604, 0.00011146202819911799, 0.0001043856131259448, 9.77179996794185e-05, 9.143841864917453e-05, 8.552696516676261e-05, 7.996457504775588e-05, 7.473300097575288e-05, 6.981478859568923e-05, 6.519325257975405e-05, 6.085245272516232e-05, 5.677717013905133e-05, 5.2952883561883716e-05, 4.936574587693807e-05, 4.600256084977164e-05, 4.285076013795112e-05, 3.989838060786755e-05, 3.713404199209295e-05, 3.45469249175006e-05, 3.212674933125533e-05, 2.9863753348798232e-05, 2.774867254509343e-05, 2.5772719707682787e-05, 2.392756506749873e-05, 2.2205317020929278e-05, 2.0598503354294425e-05, 1.9100052979698425e-05, 1.7703278189149037e-05, 1.6401857431892903e-05, 1.5189818618096188e-05, 1.4061522950304847e-05, 1.3011649282540318e-05, 1.2035179005427181e-05, 1.1127381454400898e-05, 1.0283799836806131e-05, 9.500237672563327e-06, 8.772745742051475e-06, 8.097609533921873e-06, 7.471337184719273e-06, 6.890647901437822e-06, 6.352460857476179e-06, 5.853884551873647e-06, 5.392206621204584e-06, 4.964884093076812e-06, 4.569534069816591e-06, 4.203924830624223e-06, 3.865967340247332e-06, 3.5537071520382317e-06, 3.265316693133546e-06, 2.99908791941625e-06, 2.753425327886808e-06, 2.5268393140790885e-06, 2.317939862204174e-06, 2.125430555787584e-06, 1.9481028966803025e-06, 1.7848309204674703e-06, 1.634566096468538e-06, 1.4963325007154846e-06, 1.3692222505098914e-06, 1.2523911893913002e-06, 1.1450548115974114e-06, 1.0464844153580158e-06, 9.560034746377224e-07, 8.729842192250789e-07, 7.968444133561514e-07, 7.270443233570959e-07, 6.630838650911982e-07, 6.044999222998168e-07, 5.508638272323872e-07, 5.017789952666914e-07, 4.56878705526081e-07, 4.158240198039961e-07, 3.7830183240730444e-07, 3.4402304382747475e-07, 3.1272085144209066e-07, 2.841491507376679e-07, 2.580810408277794e-07, 2.343074283175505e-07, 2.126357238362242e-07, 1.9288862582331493e-07, 1.7490298641061332e-07, 1.5852875449163355e-07, 1.4362799131188668e-07, 1.3007395414741028e-07, 1.1775024386518044e-07, 1.0655001237733582e-07, 9.637522621148646e-08, 8.713598262179095e-08, 7.874987485998979e-08, 7.114140341222807e-08, 6.424143018640161e-08, 5.7986672805997916e-08, 5.231923633012104e-08, 4.7186179875731824e-08, 4.253911576725184e-08, 3.833383898076537e-08, 3.452998478526271e-08, 3.109071261192968e-08, 2.7982414304564115e-08, 2.5174445020032138e-08, 2.2638875157449037e-08, 2.0350261798708653e-08, 1.8285438241302384e-08, 1.642332029727866e-08, 1.4744728119915265e-08, 1.323222240241588e-08, 1.186995387092155e-08, 1.0643525067546872e-08, 9.539863488218982e-09, 8.54710520501822e-09, 7.654488163686037e-09, 6.852254404173226e-09, 6.131560505737337e-09, 5.484395608342002e-09, 4.903506409141146e-09, 4.382328576817577e-09, 3.914924067651101e-09, 3.4959238655776353e-09, 3.120475704317278e-09, 2.78419636304351e-09, 2.483128158178747e-09, 2.2136992828649686e-09, 1.972687672603851e-09, 1.7571881006077565e-09, 1.564582229670202e-09, 1.3925113689614624e-09, 1.2388517041881995e-09, 1.1016917881247167e-09, 9.793120957233386e-10, 8.701664639316448e-10, 7.728652510701143e-10, 6.861600642354743e-10, 6.089299157681606e-10, 5.401686814284673e-10, 4.789737436318897e-10, 4.2453571296367826e-10, 3.76129130284474e-10, 3.331040601091329e-10, 2.948784936416505e-10, 2.609314869293392e-10, 2.3079696610492136e-10, 2.0405813765876922e-10, 1.803424471651788e-10, 1.5931703491353677e-10, 1.4068464150237774e-10, 1.241799206741314e-10, 1.0956612053067552e-10, 9.663209780318684e-11, 8.518963307968586e-11, 7.507101784492526e-11, 6.612688688167291e-11, 5.822427204141968e-11, 5.1244855634775216e-11, 4.508340373562191e-11, 3.964636155455897e-11, 3.485059473180791e-11, 3.062226194140348e-11, 2.6895805600263015e-11, 2.361304874948594e-11, 2.0722387332013094e-11, 1.817806814070473e-11, 1.593954366326559e-11, 1.3970895913858372e-11, 1.224032212349721e-11, 1.0719675869698243e-11, 9.384057866906093e-12, 8.211451219060816e-12, 7.182396459795024e-12, 6.2797021792937314e-12, 5.488187464407302e-12, 4.794452764457787e-12, 4.1866761431708965e-12, 3.654432190855686e-12, 3.188531153549264e-12, 2.780876090295901e-12, 2.424336098707515e-12, 2.112633854892323e-12, 1.8402458989596645e-12, 1.6023142636175132e-12, 1.3945681927121139e-12, 1.2132548305683903e-12, 1.055077883188382e-12, 9.171433601112625e-13, 7.969116022758514e-13, 6.921548876681316e-13, 6.009199839015499e-13, 5.214950860774845e-13, 4.5238064013967147e-13, 3.922636072139272e-13, 3.399947737906877e-13, 2.9456875666936034e-13, 2.551063908909737e-13, 2.2083922393201552e-13, 1.910958706636145e-13, 1.6529001139709637e-13, 1.429098400987738e-13, 1.2350879188854227e-13, 1.0669739852816851e-13, 9.213613801800466e-14, 7.952915988870961e-14, 6.861878150805779e-14, 5.918066290957294e-14, 5.1019578458704814e-14, 4.3965713253767065e-14, 3.787142064834676e-14, 3.2608384799540517e-14, 2.8065138800264185e-14, 2.414489484003084e-14, 2.0763648043003134e-14, 1.784852023134966e-14, 1.533631392424524e-14, 1.3172250469134982e-14, 1.1308869366226376e-14, 9.705068637872108e-15, 8.325268554351216e-15, 7.13868319472765e-15, 6.1186862297643956e-15, 5.24225899341144e-15, 4.48951038679885e-15, 3.843259457659123e-15, 3.2886726396071344e-15, 2.8129486383448688e-15, 2.4050448320489952e-15, 2.055439825533943e-15, 1.7559274751171693e-15, 1.4994382948485388e-15, 1.279884674949961e-15, 1.0920267988336002e-15, 9.313565437639885e-16, 7.939969990137625e-16, 6.766155403361236e-16, 5.763486661037374e-16, 4.907370332805058e-16, 4.1766933465748297e-16, 3.5533383616387423e-16, 3.0217654777552253e-16, 2.5686513641918124e-16, 2.1825780679397294e-16, 1.853764783859966e-16, 1.5738367605007998e-16, 1.3356262905427602e-16, 1.1330014089827272e-16, 9.607185081508187e-17, 8.142955877485414e-17, 6.899033001715938e-17, 5.842713350752279e-17, 4.9460801999754855e-17, 4.185313024744265e-17, 3.540095292140218e-17, 2.993106545771178e-17, 2.5295869821373727e-17, 2.1369643406008644e-17, 1.8045343333248514e-17, 1.5231870556813337e-17, 1.2851728668074157e-17, 1.0839021362007303e-17, 9.13774034580552e-18, 7.70030222315787e-18, 6.486298709555941e-18, 5.461429553212747e-18, 4.59659186096995e-18, 3.8671032532268775e-18, 3.2520394781705745e-18, 2.7336698742632034e-18, 2.296976442383874e-18, 1.929244328324728e-18, 1.6197132684551157e-18, 1.3592810560022681e-18, 1.1402513769085982e-18, 9.56119472254193e-19, 8.01390034410437e-19, 6.714225585004953e-19, 5.623000684644253e-19, 4.707177344867818e-19, 3.938884099126096e-19, 3.294625532485175e-19, 2.7546037492164983e-19, 2.302143681858792e-19, 1.923206566905758e-19, 1.60597824442867e-19, 1.3405209293629966e-19, 1.1184788001510593e-19, 9.328291982220467e-20, 7.776724656875661e-20, 6.480544997361208e-20, 5.398169971846151e-20, 4.4947112431817184e-20, 3.740909950744806e-20, 3.1122389153105334e-20, 2.5881462884328638e-20, 2.151418644895959e-20, 1.787644893582955e-20, 1.484765247869913e-20, 1.2326919275769565e-20, 1.0229903256172061e-20, 8.486111192195529e-21, 7.036652852185152e-21, 5.832352316718664e-21, 4.832163182652086e-21, 4.0018393477741016e-21, 3.312820651348739e-21, 2.741299053868567e-21, 2.2674364522837763e-21, 1.8747097972115976e-21, 1.5493630355826651e-21, 1.2799486556404592e-21, 1.056944354345518e-21, 8.724326590115406e-22, 7.198332823521314e-22, 5.936796297256955e-22, 4.894322572302807e-22, 4.033232400278618e-22, 3.32226386220137e-22, 2.735490517926381e-22, 2.251420011275587e-22, 1.8522433608262056e-22, 1.5232100213572507e-22, 1.2521078736591623e-22, 1.0288307152715308e-22, 8.450186866799985e-23, 6.937594649789841e-23, 5.693400644606491e-23], \"yaxis\": \"y\"}, {\"legendgroup\": \"Distances Approx\", \"marker\": {\"color\": \"rgb(255, 127, 14)\"}, \"mode\": \"lines\", \"name\": \"Distances Approx\", \"showlegend\": false, \"type\": \"scatter\", \"x\": [0.0, 0.4124953312667262, 0.8249906625334524, 1.2374859938001788, 1.6499813250669049, 2.062476656333631, 2.4749719876003575, 2.8874673188670834, 3.2999626501338097, 3.712457981400536, 4.124953312667262, 4.537448643933989, 4.949943975200715, 5.36243930646744, 5.774934637734167, 6.187429969000894, 6.5999253002676195, 7.012420631534345, 7.424915962801072, 7.837411294067799, 8.249906625334525, 8.66240195660125, 9.074897287867978, 9.487392619134704, 9.89988795040143, 10.312383281668156, 10.72487861293488, 11.137373944201608, 11.549869275468334, 11.96236460673506, 12.374859938001787, 12.787355269268513, 13.199850600535239, 13.612345931801965, 14.02484126306869, 14.437336594335418, 14.849831925602144, 15.26232725686887, 15.674822588135598, 16.087317919402324, 16.49981325066905, 16.912308581935775, 17.3248039132025, 17.737299244469227, 18.149794575735957, 18.56228990700268, 18.97478523826941, 19.38728056953613, 19.79977590080286, 20.212271232069586, 20.624766563336312, 21.037261894603038, 21.44975722586976, 21.86225255713649, 22.274747888403216, 22.68724321966994, 23.099738550936667, 23.512233882203397, 23.92472921347012, 24.33722454473685, 24.749719876003574, 25.1622152072703, 25.574710538537026, 25.987205869803752, 26.399701201070478, 26.812196532337207, 27.22469186360393, 27.63718719487066, 28.04968252613738, 28.462177857404107, 28.874673188670837, 29.28716851993756, 29.69966385120429, 30.112159182471014, 30.52465451373774, 30.937149845004466, 31.349645176271196, 31.762140507537918, 32.17463583880465, 32.58713117007137, 32.9996265013381, 33.412121832604825, 33.82461716387155, 34.23711249513828, 34.649607826405, 35.06210315767173, 35.474598488938454, 35.88709382020518, 36.29958915147191, 36.71208448273863, 37.12457981400536, 37.537075145272084, 37.94957047653882, 38.36206580780554, 38.77456113907226, 39.18705647033899, 39.59955180160572, 40.012047132872446, 40.42454246413917, 40.83703779540589, 41.249533126672624, 41.66202845793935, 42.074523789206076, 42.4870191204728, 42.89951445173952, 43.31200978300625, 43.72450511427298, 44.137000445539705, 44.54949577680643, 44.961991108073164, 45.37448643933988, 45.78698177060661, 46.199477101873335, 46.61197243314007, 47.02446776440679, 47.43696309567351, 47.84945842694024, 48.26195375820697, 48.6744490894737, 49.08694442074042, 49.49943975200715, 49.91193508327387, 50.3244304145406, 50.736925745807326, 51.14942107707405, 51.56191640834078, 51.974411739607504, 52.38690707087423, 52.799402402140956, 53.21189773340768, 53.624393064674415, 54.03688839594113, 54.44938372720786, 54.861879058474585, 55.27437438974132, 55.686869721008044, 56.09936505227476, 56.51186038354149, 56.924355714808215, 57.33685104607495, 57.74934637734167, 58.1618417086084, 58.57433703987512, 58.98683237114185, 59.39932770240858, 59.8118230336753, 60.22431836494203, 60.636813696208755, 61.04930902747548, 61.46180435874221, 61.87429969000893, 62.286795021275665, 62.69929035254239, 63.11178568380911, 63.524281015075836, 63.93677634634257, 64.3492716776093, 64.76176700887602, 65.17426234014275, 65.58675767140947, 65.9992530026762, 66.41174833394291, 66.82424366520965, 67.23673899647638, 67.6492343277431, 68.06172965900983, 68.47422499027655, 68.88672032154328, 69.29921565281, 69.71171098407673, 70.12420631534346, 70.53670164661018, 70.94919697787691, 71.36169230914363, 71.77418764041036, 72.18668297167709, 72.59917830294383, 73.01167363421054, 73.42416896547726, 73.836664296744, 74.24915962801072, 74.66165495927746, 75.07415029054417, 75.4866456218109, 75.89914095307763, 76.31163628434435, 76.72413161561109, 77.13662694687781, 77.54912227814452, 77.96161760941126, 78.37411294067797, 78.78660827194471, 79.19910360321144, 79.61159893447815, 80.02409426574489, 80.4365895970116, 80.84908492827834, 81.26158025954507, 81.67407559081178, 82.08657092207852, 82.49906625334525, 82.91156158461197, 83.3240569158787, 83.73655224714541, 84.14904757841215, 84.56154290967888, 84.9740382409456, 85.38653357221233, 85.79902890347904, 86.21152423474578, 86.6240195660125, 87.03651489727923, 87.44901022854596, 87.8615055598127, 88.27400089107941, 88.68649622234614, 89.09899155361286, 89.51148688487959, 89.92398221614633, 90.33647754741304, 90.74897287867977, 91.1614682099465, 91.57396354121322, 91.98645887247996, 92.39895420374667, 92.8114495350134, 93.22394486628014, 93.63644019754685, 94.04893552881359, 94.4614308600803, 94.87392619134702, 95.28642152261376, 95.69891685388048, 96.11141218514722, 96.52390751641394, 96.93640284768065, 97.3488981789474, 97.7613935102141, 98.17388884148085, 98.58638417274757, 98.9988795040143, 99.41137483528102, 99.82387016654774, 100.23636549781448, 100.6488608290812, 101.06135616034793, 101.47385149161465, 101.88634682288138, 102.2988421541481, 102.71133748541483, 103.12383281668156, 103.53632814794828, 103.94882347921501, 104.36131881048173, 104.77381414174846, 105.1863094730152, 105.59880480428191, 106.01130013554864, 106.42379546681536, 106.83629079808209, 107.24878612934883, 107.66128146061554, 108.07377679188227, 108.48627212314899, 108.89876745441572, 109.31126278568246, 109.72375811694917, 110.1362534482159, 110.54874877948264, 110.96124411074935, 111.37373944201609, 111.7862347732828, 112.19873010454953, 112.61122543581627, 113.02372076708298, 113.43621609834972, 113.84871142961643, 114.26120676088317, 114.6737020921499, 115.0861974234166, 115.49869275468335, 115.91118808595007, 116.3236834172168, 116.73617874848352, 117.14867407975024, 117.56116941101698, 117.9736647422837, 118.38616007355043, 118.79865540481715, 119.21115073608388, 119.6236460673506, 120.03614139861733, 120.44863672988406, 120.86113206115078, 121.27362739241751, 121.68612272368424, 122.09861805495096, 122.51111338621769, 122.92360871748441, 123.33610404875114, 123.74859938001786, 124.16109471128459, 124.57359004255133, 124.98608537381804, 125.39858070508478, 125.8110760363515, 126.22357136761822, 126.63606669888496, 127.04856203015167, 127.46105736141841, 127.87355269268514, 128.28604802395185, 128.6985433552186, 129.1110386864853, 129.52353401775204, 129.93602934901875, 130.3485246802855, 130.7610200115522, 131.17351534281894, 131.58601067408568, 131.9985060053524, 132.4110013366191, 132.82349666788582, 133.2359919991526, 133.6484873304193, 134.060982661686, 134.47347799295275, 134.88597332421946, 135.2984686554862, 135.71096398675294, 136.12345931801966, 136.53595464928637, 136.9484499805531, 137.36094531181985, 137.77344064308656, 138.18593597435327, 138.59843130562, 139.01092663688672, 139.42342196815346, 139.8359172994202, 140.24841263068691, 140.66090796195363, 141.07340329322037, 141.4858986244871, 141.89839395575382, 142.31088928702056, 142.72338461828727, 143.13587994955398, 143.54837528082072, 143.96087061208746, 144.37336594335417, 144.78586127462088, 145.19835660588765, 145.61085193715437, 146.02334726842108, 146.43584259968782, 146.84833793095453, 147.26083326222127, 147.673328593488, 148.08582392475472, 148.49831925602143, 148.91081458728814, 149.3233099185549, 149.73580524982162, 150.14830058108834, 150.56079591235508, 150.9732912436218, 151.38578657488853, 151.79828190615527, 152.21077723742198, 152.6232725686887, 153.03576789995543, 153.44826323122217, 153.86075856248888, 154.27325389375562, 154.68574922502233, 155.09824455628905, 155.5107398875558, 155.92323521882253, 156.33573055008924, 156.74822588135595, 157.1607212126227, 157.57321654388943, 157.98571187515614, 158.39820720642288, 158.8107025376896, 159.2231978689563, 159.63569320022307, 160.04818853148979, 160.4606838627565, 160.8731791940232, 161.28567452528995, 161.6981698565567, 162.1106651878234, 162.52316051909014, 162.93565585035685, 163.34815118162356, 163.76064651289033, 164.17314184415704, 164.58563717542376, 164.9981325066905, 165.4106278379572, 165.82312316922395, 166.23561850049066, 166.6481138317574, 167.0606091630241, 167.47310449429082, 167.8855998255576, 168.2980951568243, 168.71059048809101, 169.12308581935775, 169.53558115062447, 169.9480764818912, 170.36057181315795, 170.77306714442466, 171.18556247569137, 171.59805780695808, 172.01055313822485, 172.42304846949156, 172.83554380075827, 173.248039132025, 173.66053446329175, 174.07302979455847, 174.4855251258252, 174.89802045709192, 175.31051578835863, 175.7230111196254, 176.1355064508921, 176.54800178215882, 176.96049711342556, 177.37299244469227, 177.785487775959, 178.19798310722572, 178.61047843849246, 179.02297376975918, 179.4354691010259, 179.84796443229266, 180.26045976355937, 180.67295509482608, 181.08545042609282, 181.49794575735953, 181.91044108862627, 182.322936419893, 182.73543175115972, 183.14792708242643, 183.56042241369315, 183.97291774495991, 184.38541307622663, 184.79790840749334, 185.21040373876008, 185.6228990700268, 186.03539440129353, 186.44788973256027, 186.86038506382698, 187.2728803950937, 187.68537572636043, 188.09787105762717, 188.51036638889389, 188.9228617201606, 189.33535705142734, 189.74785238269405, 190.1603477139608, 190.57284304522753, 190.98533837649424, 191.39783370776095, 191.8103290390277, 192.22282437029443, 192.63531970156114, 193.04781503282788, 193.4603103640946, 193.8728056953613, 194.28530102662805, 194.6977963578948, 195.1102916891615, 195.5227870204282, 195.93528235169495, 196.3477776829617, 196.7602730142284, 197.17276834549514, 197.58526367676185, 197.9977590080286, 198.41025433929534, 198.82274967056205, 199.23524500182876, 199.64774033309547, 200.06023566436224, 200.47273099562895, 200.88522632689566, 201.2977216581624, 201.7102169894291, 202.12271232069585, 202.5352076519626, 202.9477029832293, 203.36019831449602, 203.77269364576276, 204.1851889770295, 204.5976843082962, 205.01017963956295, 205.42267497082966, 205.83517030209637], \"xaxis\": \"x\", \"y\": [0.023054477416499766, 0.023197912323133868, 0.023328025327726824, 0.023444582800660304, 0.02354737470197438, 0.02363621521202357, 0.02371094329119118, 0.023771423166302156, 0.023817544741678156, 0.02384922393309283, 0.023866402923209535, 0.02386905033741519, 0.023857161339301908, 0.023830757645389593, 0.023789887459026784, 0.023734625323751417, 0.023665071896735782, 0.0235813536432796, 0.023483622453648958, 0.02337205518388615, 0.023246853122533346, 0.023108241385520877, 0.02295646824176607, 0.022791804372310372, 0.02261454206608872, 0.022424994355675007, 0.022223494096579317, 0.02201039299388547, 0.021786060580210452, 0.021550883149138948, 0.021305262648436765, 0.021049615537474725, 0.020784371613399813, 0.02050997281067256, 0.020226871978648395, 0.019935531641916034, 0.019636422748118425, 0.019330023407970753, 0.019016817632156575, 0.01869729406972776, 0.018371944752556397, 0.018041263850289375, 0.017705746440138267, 0.017365887295700443, 0.017022179698852814, 0.016675114278588286, 0.016325177880478003, 0.015972852470241806, 0.015618614074695131, 0.015262931763115812, 0.014906266671838713, 0.014549071074642893, 0.014191787501245173, 0.013834847905958283, 0.013478672888311713, 0.013123670967171028, 0.01277023790962844, 0.012418756115674275, 0.012069594059398465, 0.011723105787213441, 0.011379630473336786, 0.011039492032524944, 0.010702998789808958, 0.010370443206751132, 0.01004210166351857, 0.00971823429585645, 0.009399084885841976, 0.009084880805109285, 0.008775833009057762, 0.008472136080390555, 0.008173968320178552, 0.00788149188450658, 0.0075948529646343976, 0.007314182008495361, 0.007039593981259298, 0.006771188662605323, 0.00650905097828261, 0.006253251363484205, 0.00600384615551956, 0.005760878013245554, 0.005524376360703134, 0.005294357852406593, 0.005070826857744689, 0.00485377596197658, 0.004643186481340293, 0.004439028989836714, 0.004241263855306899, 0.0040498417824844125, 0.003864704360776583, 0.0036857846146082537, 0.0035130075542479226, 0.003346290725128868, 0.0031855447537752126, 0.0030306738885452944, 0.0028815765335103317, 0.002738145773895408, 0.0026002698916206997, 0.0024678328695935713, 0.002340714883515633, 0.002218792780082577, 0.002101940540567853, 0.001990029728893714, 0.0018829299234037272, 0.0017805091316598358, 0.0016826341876931493, 0.001589171131240936, 0.0014999855686023034, 0.0014149430148411943, 0.0013339092171577099, 0.0012567504593365918, 0.0011833338472652774, 0.0011135275755926478, 0.001047201175673564, 0.0009842257450131833, 0.0009244741584890729, 0.000867821261687873, 0.0008141440467470995, 0.0007633218111413228, 0.0007152362998955799, 0.0006697718317476071, 0.0006268154098143311, 0.0005862568173471316, 0.0005479886991849387, 0.0005119066295343341, 0.00047790916672163226, 0.000445897895573736, 0.00041577745809245675, 0.0003874555730912765, 0.0003608430454643462, 0.00033585376575517167, 0.0003124047006870716, 0.0002904158753094117, 0.0002698103474029811, 0.00025051417477502287, 0.00023245637605940426, 0.00021556888562067027, 0.00019978650314227155, 0.00018504683845944192, 0.00017129025217618043, 0.00015845979258374997, 0.00014650112937528026, 0.0001353624846275651, 0.0001249945614972253, 0.00011535047105415225, 0.00010638565765076413, 9.805782320119064e-05, 9.03268507202295e-05, 8.315472744785466e-05, 7.650546786135479e-05, 7.034503685391978e-05, 6.46412733357541e-05, 5.936381449167309e-05, 5.44840209076899e-05, 4.997490275837907e-05, 4.581104722687591e-05, 4.1968547310262014e-05, 3.842493214483222e-05, 3.5159098968375975e-05, 3.2151246820135915e-05, 2.9382812063549333e-05, 2.683640580223992e-05, 2.4495753246001426e-05, 2.2345635070701028e-05, 2.0371830804113597e-05, 1.8561064258661838e-05, 1.690095102187432e-05, 1.5379948006040374e-05, 1.3987305050034253e-05, 1.2713018558558094e-05, 1.1547787157091053e-05, 1.0482969334596291e-05, 9.510543040496902e-06, 8.623067197550237e-06, 7.813645087994952e-06, 7.075889566679353e-06, 6.4038900517683735e-06, 5.792181241035513e-06, 5.235713499638463e-06, 4.729824863618698e-06, 4.270214602125312e-06, 3.852918280501912e-06, 3.474284265867742e-06, 3.1309516166352108e-06, 2.819829297504663e-06, 2.5380766618392303e-06, 2.2830851439159863e-06, 2.0524611043509077e-06, 1.8440097729793396e-06, 1.6557202346161601e-06, 1.4857514044007355e-06, 1.3324189408286564e-06, 1.1941830460673942e-06, 1.0696371047283205e-06, 9.574971139058388e-07, 8.565918589823214e-07, 7.658537914195079e-07, 6.843105665014785e-07, 6.110772007501909e-07, 5.453488104902081e-07, 4.863938947872133e-07, 4.3354812771578053e-07, 3.8620862661890877e-07, 3.4382866469894745e-07, 3.059127979209386e-07, 2.720123778106151e-07, 2.4172142328646056e-07, 2.146728261750201e-07, 1.9053486651851728e-07, 1.6900801519174124e-07, 1.4982200269958498e-07, 1.327331343265715e-07, 1.1752183305451679e-07, 1.0399039285403513e-07, 9.196092608986727e-08, 8.127348985961676e-08, 7.178437711091392e-08, 6.336455935437967e-08, 5.589826871002667e-08, 4.9281707894284e-08, 4.3421877575042225e-08, 3.8235511294570695e-08, 3.364810888646738e-08, 2.959305999467611e-08, 2.60108499418306e-08, 2.2848340792523025e-08, 2.005812101636719e-08, 1.759791767778382e-08, 1.5430065566035886e-08, 1.3521028132031466e-08, 1.1840965519538496e-08, 1.0363345369442981e-08, 9.064592438256312e-09, 7.923773407854648e-09, 6.92231357402934e-09, 6.04374238838012e-09, 5.273465092870711e-09, 4.598557930424358e-09, 4.007584639618342e-09, 3.4904321481502936e-09, 3.038163569531057e-09, 2.6428867815860335e-09, 2.297637024937027e-09, 1.9962721057417704e-09, 1.733378920586414e-09, 1.5041901434937391e-09, 1.304510026406931e-09, 1.1306483660651e-09, 9.79361782673042e-10, 8.478015399100802e-10, 7.334672122963806e-10, 6.341655753681502e-10, 5.479741570922353e-10, 4.732089460189431e-10, 4.08395803333587e-10, 3.5224517268932427e-10, 3.0362972391807535e-10, 2.615646048208456e-10, 2.2519000960137028e-10, 1.9375580346604263e-10, 1.666079707792319e-10, 1.431766792224638e-10, 1.2296577492026063e-10, 1.0554354370455922e-10, 9.053459181330815e-11, 7.761271555730459e-11, 6.649464402577764e-11, 5.693455190227427e-11, 4.871925107997561e-11, 4.166398013763728e-11, 3.560871998930234e-11, 3.041497226654007e-11, 2.5962944334248095e-11, 2.2149091373307423e-11, 1.8883971769999858e-11, 1.609037720918535e-11, 1.3701703444607892e-11, 1.1660531777238352e-11, 9.917394867064188e-12, 8.429703685359637e-12, 7.16081522825866e-12, 6.0792230988663625e-12, 5.157855260433192e-12, 4.373465199758664e-12, 3.70610444705412e-12, 3.1386659019472777e-12, 2.6564887383569904e-12, 2.2470168243020975e-12, 1.8995036147770277e-12, 1.6047573730567433e-12, 1.354921362793457e-12, 1.1432843430256693e-12, 9.641173022635258e-13, 8.125328963726032e-13, 6.843645171145736e-13, 5.760623219423488e-13, 4.846039080896089e-13, 4.0741762141357265e-13, 3.423167583854579e-13, 2.874431529629395e-13, 2.4121884313045085e-13, 2.0230468844960694e-13, 1.6956496336096393e-13, 1.4203708415335354e-13, 1.1890574304468061e-13, 9.948082295929202e-14, 8.317855332414413e-14, 6.950544227501129e-14, 5.804458558496038e-14, 4.8444008728786204e-14, 4.0406746940240675e-14, 3.3682409917227056e-14, 2.8060013867572885e-14, 2.3361894635042896e-14, 1.9438542372627386e-14, 1.616422122148436e-14, 1.3433257216533978e-14, 1.115689461420809e-14, 9.260635406667907e-15, 7.681989281449234e-15, 6.368571993298766e-15, 5.276499284563408e-15, 4.369031337035436e-15, 3.615429447524929e-15, 2.9899923521761275e-15, 2.471244519198783e-15, 2.0412529056733808e-15, 1.6850522343050652e-15, 1.3901618789974205e-15, 1.1461800300750891e-15, 9.444430063568576e-16, 7.777394482809777e-16, 6.400707121461268e-16, 5.264501316007081e-16, 4.3273495421648366e-16, 3.554857286411621e-16, 2.9184873737342104e-16, 2.3945776380846846e-16, 1.9635206879129852e-16, 1.6090794764001964e-16, 1.3178165723558138e-16, 1.0786185604920971e-16, 8.822999788511326e-17, 7.212737114973447e-17, 5.892768684309376e-17, 4.81142963372666e-17, 3.9261269567971526e-17, 3.201768993303999e-17, 2.6094627707719003e-17, 2.1254342319483167e-17, 1.7301338054822186e-17, 1.407495996379869e-17, 1.1443268799606822e-17, 9.297977396272763e-18, 7.55026731147924e-18, 6.127334992506869e-18, 4.969542129484275e-18, 4.0280660562063424e-18, 3.26296372991397e-18, 2.6415775434212362e-18, 2.137223479368514e-18, 1.728112312922745e-18, 1.3964630461528203e-18, 1.1277747996469945e-18, 9.102292333777156e-19, 7.342004190375054e-19, 5.91853107004684e-19, 4.768136622056074e-19, 3.839007008396951e-19, 3.089047413350995e-19, 2.484080689545129e-19, 1.9963757159726218e-19, 1.6034459066489052e-19, 1.2870689204990263e-19, 1.0324873716380259e-19, 8.277575465979714e-20, 6.632190686537934e-20, 5.310633309435046e-20, 4.2498253332211305e-20, 3.3988445499869e-20, 2.7166080189954116e-20, 2.169991884984558e-20, 1.732306345924494e-20, 1.3820594921739872e-20, 1.1019559520787585e-20, 8.780862713874702e-21, 6.992711236165346e-21, 5.5653112352028764e-21, 4.426584658539732e-21, 3.5187105840668885e-21, 2.7953344402448322e-21, 2.2193176061239264e-21, 1.7609239360476228e-21, 1.3963593272487986e-21, 1.1065963642734162e-21, 8.764290069486064e-22, 6.93712790351997e-22, 5.487545271021602e-22, 4.338224128306001e-22, 3.427530357688919e-22, 2.70636326415868e-22, 2.1356315329539113e-22, 1.684232388407687e-22, 1.3274346810503807e-22, 1.0455860020372715e-22, 8.230795586316898e-23, 6.475291542438461e-23, 5.0911077974623205e-23, 4.000375086049087e-23, 3.1414097705663105e-23, 2.465380301577352e-23, 1.9336537437034795e-23, 1.5156849912009748e-23, 1.187338764851679e-23, 9.295565154550689e-24, 7.272980223010752e-24, 5.687016249215493e-24, 4.4441835430769286e-24, 3.470842923677303e-24, 2.7090273381984152e-24, 2.113135134459409e-24, 1.6473148343970555e-24, 1.2833981322523494e-24, 9.992672444570458e-25, 7.775661670210137e-25, 6.046840520501658e-25, 4.699537603029411e-25, 3.6502045185137717e-25, 2.8334445825155074e-25, 2.1981012982670694e-25, 1.7041826429959127e-25, 1.3204441226797093e-25, 1.022490715479761e-25, 7.912872603043789e-26, 6.119901459117565e-26, 4.73031584975436e-26, 3.6540232481783924e-26, 2.820901536240508e-26, 2.1764064469284974e-26, 1.6781374725410703e-26, 1.293154817110456e-26, 9.958844788446451e-27, 7.664835892768306e-27, 5.895657055369849e-27, 4.532074292861614e-27, 3.4817475853822226e-27, 2.673209530715679e-27, 2.0511818914787166e-27, 1.5729350929354084e-27, 1.2054602250943056e-27, 9.232736128039865e-28, 7.067135483320978e-28, 5.406196985208936e-28, 4.133098637708379e-28, 3.1578764109660986e-28, 2.4112927671500775e-28, 1.8400948631586936e-28, 1.4033498017268154e-28, 1.0696140954692035e-28, 8.147488431372417e-29, 6.20234389824096e-29, 4.7187110922168495e-29, 3.5877848246407185e-29, 2.726244762867703e-29, 2.070326090525223e-29, 1.5712602408541338e-29, 1.191771354561337e-29, 9.033857150485457e-30, 6.843668277671316e-30, 5.1813166832116575e-30, 3.920367490890684e-30, 2.96448240014822e-30, 2.2403012882351777e-30, 1.6919964054577952e-30, 1.2771088037259402e-30, 9.633671130883484e-31, 7.262584350657966e-31, 5.471747115726581e-31, 4.119991319375056e-31, 3.1002880013275797e-31, 2.3315419464179255e-31, 1.7523460826250546e-31, 1.3162306088694517e-31, 9.880514168777154e-32, 7.412463360218245e-32, 5.557519935181971e-32, 4.1642323526447456e-32, 3.118346234307457e-32, 2.3337222611784704e-32, 1.745458225442784e-32, 1.3046836039366352e-32, 9.746224371271798e-33, 7.276173746904447e-33, 5.4288166207842576e-33, 4.0480208249651e-33, 3.016586334823133e-33, 2.246592143701341e-33, 1.672122795369951e-33, 1.2437914133807765e-33, 9.246181117390659e-34, 6.869303320321447e-34], \"yaxis\": \"y\"}, {\"legendgroup\": \"Distances predicted\", \"marker\": {\"color\": \"rgb(31, 119, 180)\", \"symbol\": \"line-ns-open\"}, \"mode\": \"markers\", \"name\": \"Distances predicted\", \"showlegend\": false, \"type\": \"scatter\", \"x\": [1.768728405120307, 5.768546934041533, 3.4095503794918374, 0.9060085991286664, 3.2288298310008074, 1.1789117219861396, 2.045774418332707, 4.801812205743117, 3.2553650290589125, 4.4433138551095315, 1.704143874025005, 2.7774679170526544, 10.923682661998361, 44.692056526271514, 2.984656620165491, 4.226722945120016, 5.123016310407636, 3.2177175717247932, 5.6666049630955575, 2.1199733071744453, 6.517838898321698, 3.1963389477975213, 10.32747152880472, 6.288183433383371, 4.407355790464011, 6.557404179072803, 6.291950159402323, 2.5671025257134166, 2.3611561743668767, 2.0221362894499486, 4.9578826097499995, 4.321930236219492, 6.254287705529033, 0.6130920278455453, 5.633911930018317, 11.426613674056979, 6.373995623441396, 2.9250762835609514, 136.28569944640526, 98.39653521199557, 3.730362305761673, 18.1595804430184, 69.87968783393332, 5.013989418891588, 19.194591863513473, 4.043970325064957, 6.386294236584348, 6.31456899548847, 3.738290954703887, 5.332857099333106, 3.6493216697946873, 8.823604455659211, 2.9235040951060065, 4.089652675726738, 9.700092480046752, 3.2626312093474614, 4.361999138025314, 5.388055549998672, 1.122646877335274, 10.974630627123494, 1.7720469945454265, 3.081551201438128, 1.6177686179345914, 5.228700287760666, 5.922986594170523, 3.7264026387536258, 3.5131421330135844, 8.94022617489015, 3.0755906374176303, 9.248914311757673, 1.7646480073577673, 6.2193532579029185, 4.195686790582124, 6.457772892698908, 2.0277360238213724, 5.4088733602599355, 11.917937997247249, 4.606283710473621, 6.313531647088082, 35.836794894736926, 3.6422597869280335, 5.373773512959614, 6.032201118055153, 6.547132549914867, 9.174973952528067, 2.872154282852368, 3.3113943836743376, 2.887520966717376, 4.669155072444196, 5.101404263967741, 2.1286756780930687, 5.728891419886834, 6.065169747383176, 3.2288298310008074, 2.9217559757498726, 5.668829898275554, 7.074253313278725, 2.740743637306558, 2.457151939404787, 2.152246212223313, 2.5668510246756586, 5.002056584137014, 3.3719995801189557, 2.912607349103234, 2.6468819457670514, 4.961898556065472, 1.7686265621566146, 3.1829884893101426, 1.6530908708830596, 10.120264647791291, 4.270822468101862, 4.074463383066941, 3.5942706882955138, 3.997277161565127, 1.9081602500798356, 7.617971534317754, 4.944229179824468, 2.1145022454792195, 1.3724000866074304, 4.524130950049581, 4.7581849793452005, 3.7295779718765716, 1.9409193476823492, 1.8855204920241269, 14.973794423755711, 6.110441610937063, 1.9341989512249311, 3.0231970625892233, 61.06614185952065, 3.750170150173701, 2.044191874521119, 7.689961082738367, 6.799681256092884, 6.747376500816565, 3.0915895101382347, 5.8673932942221905, 2.1009672756116586, 4.7581849793452005, 6.320804295849981, 1.7001386925978437, 2.605454001073836, 1.588246812539115, 1.704143874025005, 1.1056736587993823, 1.9000607577629123, 10.518751475795115, 6.966786012113492, 4.988571260041506, 2.8850203128538174, 9.059091273226914, 4.948587232940376, 146.39155071802142, 4.95472586821832, 3.470840010872023, 1.4141667301992271, 1.2326129975298559, 2.7108819048134034, 3.1502857342389055, 3.81581615637496, 6.340488481297155, 4.280969284279098, 2.9104299711779515, 1.96501575505725, 3.033602860224737, 3.9292254722937185, 3.981093711925714, 1.8793156197964633, 5.806195830386097, 1.4650988443159176, 4.615012032308849, 2.0446279172054553, 2.734121400714054, 11.50482436981665, 3.4810227306068824, 3.2493264393967025, 2.1785895830553303, 4.524565305546091, 2.4626679093721284, 3.3968297105453322, 0.5232655307998214, 5.120861407904681, 7.379452505786847, 99.61546358534045, 2.293379654910002, 10.28661629155948, 2.551262164336986, 4.96396749591775, 2.7422608401813586, 4.810191795563802, 19.163354011651975, 4.717544085570238, 1.3964450827888342, 8.688053060272342, 4.868497197447691, 4.339413309474381, 4.56780576486312, 3.184782203785825, 1.4147212847099586, 78.86357340924351, 1.843405417074619, 2.351103581264691, 6.757000919364737, 2.7895481679520397, 8.241441001999409, 2.9979377469868322, 1.7453012551733835, 3.1458173397562397, 11.11842166727686, 7.004942288735701, 5.536139520680209, 4.610913086013876, 3.081551201438128, 1.7520911796426817, 3.086188740274553, 94.57479757801906, 8.819253512590791, 3.4470624682761106, 1.8793156197964633, 6.758976695483116, 4.793613992884202, 3.351009960100839, 9.046447078063107, 1.7128447892649858, 2.4601561992584755, 3.9206619417826567, 3.5655834094994088, 2.348299443441681, 4.593332827602504, 2.7449612615304275, 4.827639540109436, 107.77560593089265, 1.819087157936241, 4.218656341383657, 11.715591678557676, 5.982140100872753, 5.307609336408255, 100.58761716134018, 5.39070549012996, 11.479767932389056, 1.8079574817727182, 4.0535759693753, 4.076819667864242, 3.2670184758204344, 1.5621277214264306, 8.96559753268908, 9.160966538383136, 1.3964450827888342, 2.9879045009009593, 3.1280074455153013, 5.129411337104251, 2.082412492091155, 6.776389552133613, 2.419633811061144, 6.373995623441396, 2.9734083484316702, 4.263042798444762, 4.595833233286646, 3.923060005012827, 7.132142932680242, 101.61541313217215, 4.2722526627343385, 3.256986459111255, 1.4373198304742716, 8.240187258570614, 2.6610676823892696, 3.664914974428256, 6.130396467250028, 1.9085151263922235, 5.977934269461311, 3.3841725022470417, 4.166201990535268, 5.290425317739366, 10.28661629155948, 6.763744530498043, 4.536046647562662, 1.7126226250945433, 5.214276809816885, 2.020655308929992, 4.831532061099741, 5.307609336408255, 5.622079498179895, 3.062525522109473, 3.140672725150545, 3.1708536967835035, 7.308864078205442, 5.294798524077258, 4.67147094279951, 5.447667413231028, 5.369036617948859, 1.9788848907885466, 5.858857094129635, 4.900831112915969, 3.0117593364262545, 8.544272708969864, 10.2685730747105, 3.7918531067982273, 2.2373163707183688, 1.2469035423277295, 4.857142181626183, 4.9797795133337095, 1.5090997638522112, 2.2649787615409407, 2.0259875746533345, 1.492351894217288, 2.2501380554238595, 15.735510296476207, 5.949036280577413, 7.5709384252961325, 4.855572987844333, 2.4445931159983387, 5.436492474869624, 7.245710807006082, 3.9129881035473355, 3.0242089138711803, 3.704942034197632, 7.711798803493422, 3.9915777972364808, 4.912383448312269, 6.859050872780641, 3.7678512544987885, 4.608553435234739, 5.028904590146906, 6.19012537917525, 4.671652218672018, 2.4208391392864352, 4.1461349435130295, 147.0103418546104, 1.6072283396714573, 1.073378508157825, 43.206476143305395, 6.632102877015987, 4.4272786945706875, 2.4852166812992538, 4.131306625346784, 5.171117086694694, 4.437784999286501, 4.452034329816888, 3.114608439140974, 3.0117593364262545, 6.191088736088224, 4.2019546346032834, 2.8895443153119476, 1.1798264237152878, 0.6158882971035288, 1.8923687030587018, 3.520549170513321, 2.4050065747486182, 1.0422084596227355, 5.870807913958706, 2.5328388339567787, 2.235978620846682, 2.9691631309995934, 3.3913909921143244, 1.5892764008030733, 4.635412252370046, 5.267411387793505, 3.018104690766874, 1.9534715227691744, 3.050229437581538, 13.854916572692655, 3.429839185419648, 2.8720177415784423, 7.756214548391443, 4.1901271695506175, 4.3352825426188915, 3.5380586243389507, 5.203627709930907, 3.1142703100693034, 2.860977094121347, 5.539999440144758, 2.8819600203578752, 1.9081602500798356, 0.4614355379541476, 3.5588871716781108, 5.089496207438263, 1.966354712996793, 2.6196196164684746, 28.856122851379006, 2.1519797016107107, 3.310882371673134, 7.501068107136209, 1.1933309230092188, 22.54680994377829, 11.874511601762626, 2.378390315640983, 3.627769449840239, 4.727612214775898, 3.585827804594825, 1.5006592829225167, 3.0048595373293154, 1.0631580166747554, 7.142179214171916, 2.1109452966100153, 4.080809340906892, 2.9003518650407645, 2.8011275778443565, 4.341213485156087, 3.730948733862835, 4.974057369184989, 11.955124712838337, 1.3266572132490135, 6.880510298922313, 3.807885925224722, 3.334107189967103, 3.3716448104340593, 19.210680263582987, 4.207676378234667, 2.9613705431413075, 9.383370379808328, 6.278454348437303, 3.7461638175082053, 2.1205868750978474, 23.222875151763912, 100.00141671598783, 5.462822408094381, 0.5748427186022228, 2.6822964847072917, 2.656702709443085, 1.570950196846737, 27.388730921143562, 3.1265865954874035, 22.94897534001206, 8.352795203952528, 4.305064433190853, 3.004200887500221, 5.362568916810538, 3.0005788386952137, 10.466706645036007, 2.68144047913672, 6.186674788598753, 2.78369784336907, 43.15154746991152, 2.1698794680063367, 1.8592042966924447, 1.6680502051700905, 10.076449914694814, 144.9292159304271, 11.992556543615557, 2.416506584806894, 1.8863909918295412, 8.026270837043176, 5.222022872418099, 5.84174218037711, 4.857142181626183, 4.936738280428166, 3.743285215021437, 1.827100273561936, 20.214280178266467, 7.21144911916492, 6.4690566225714035, 2.9575213314601925, 11.11842166727686, 2.724773246607642, 5.396052998394278, 4.551920125349352, 2.186369657120402, 2.9404924128415937, 0.904941098116799, 3.3946409078229123, 4.678637127643868, 4.743171225095368, 5.159757835464619, 2.6812350488878915, 2.86621694387641, 3.898684370986326, 8.352795203952528, 9.862058088299296, 5.651583893960419, 3.742152544034417, 3.5137577366639543, 4.938193504168863, 5.7270973707434525, 5.150923610130088, 4.074463383066941, 2.6263078410464034, 2.717097673084605, 115.7853930314203, 102.44217033638922, 2.3824069139498163, 4.194334635917346, 4.593778136100137, 23.222875151763912, 6.866374441021987, 6.4690566225714035, 10.441286380264058, 2.175205725531111, 1.8337979743409516, 5.231484779445458, 4.19526425551531, 4.87586570147244, 4.669221049235918, 4.049740819285622, 3.1673906370949796, 2.873314134711477, 3.9941429176085714, 2.4587382838713148, 31.57789622018277, 8.334108732013263, 2.1742651067385492, 4.822474364963497, 4.327267423163948, 6.14369206469493, 5.864171663429155, 4.4153963285181, 1.8602401844541765, 2.0208523932065985, 7.740198562185854, 6.088712297043752, 2.172421423744517, 4.340222663530576, 4.1188594774460325, 1.4680901648089144, 4.685478908186892, 2.0243884754882826, 6.379826289051797, 7.466359879627913, 2.632067957925755, 4.972448148251713, 2.514037693133009, 7.673707184995831, 4.591296623075607, 1.1789117219861396, 1.3337518223113864, 4.0069702836287, 5.879091023244532, 2.9693150513311566, 11.129670624737095, 4.648843610479905, 2.355252045106686, 3.1474524724136876, 4.279104906551397, 130.3154617476179, 3.061325527959064, 3.667736172370655, 5.399042134050059, 3.9730772861165846, 1.894351153418612, 8.84565570158433, 3.569503593083004, 3.83809230310433, 5.561022680157074, 7.049254557774807, 6.19012537917525, 1.9164432000686864, 2.093090466753115, 4.995697084608559, 3.598335310264907, 5.507669844462246, 3.1132329298693784, 3.680796595833621, 2.887520966717376, 28.065046102616705, 2.8686266551454356, 92.47363613498084, 1.2766001856248013, 7.690825137481426, 3.1175695369443184, 3.310107736913635, 3.654216357914964, 3.184782203785825, 7.076370811038347, 119.85424671181129, 3.303651821019861, 4.283723343068077, 3.5270632697413618, 3.9134953946647926, 11.051934726525241, 0.8399457299608183, 3.24243721151204, 11.790973929614342, 3.578592615171116, 6.763744530498043, 7.340343105748415, 2.258834573789068, 2.940150348030479, 3.076927698955691, 11.638171316983781, 3.0242089138711803, 3.729151880236802, 4.05735357408621, 5.296597242999098, 105.11583096918511, 3.2141904020786964, 3.391144692660311, 4.328497950867909, 4.975477521486016, 2.0274318039732493, 3.5828693364647193, 11.910299507434777, 6.091678699514914, 99.58402789121894, 3.2487770540752883, 6.613279218438657, 4.871617700883391, 3.884136149878224, 5.50677820462124, 5.462214253256223, 2.387986695615638, 2.171725402553834, 2.5889627233405923, 4.977726676089477, 1.7002761888894171, 4.625333351871163, 3.747498192212153, 2.4131267852601477, 7.913915290869469, 1.1171032466919415, 1.674549532037909, 3.8777059877373756, 5.238899463056416, 1.3591288161250101, 2.9012330153461425, 4.389605930921361, 3.678770512155328, 4.565934617415325, 8.282773589369445, 1.6457951557978765, 1.8971693092435136, 1.8018705611349328, 3.6546375170265435, 3.0121441744291846, 6.358608656038131, 5.203627709930907, 17.560582932877907, 1.3149586937091169, 6.491929754611222, 5.051175756537077, 17.73243696181376, 2.9691631309995934, 4.298522804030443, 1.9281555868701463, 4.9578826097499995, 5.387246694153986, 3.183524221010022, 6.3321878504821525, 4.429637948003852, 2.981293960544446, 3.1265865954874035, 3.191895098474231, 5.357731729981522, 4.629586680412865, 5.96765578983203, 1.319029202991937, 2.9439229624417047, 4.558494648632264, 4.869076597890971, 4.478501308992974, 3.976420265726314, 7.012934061995637, 74.06334588141772, 1.8494365466665168, 1.8481160119603341, 3.2832450938766375, 5.147421818437756, 5.924255031370048, 0.65945468205612, 1.9143661599432211, 91.89976431225317, 4.98015987002071, 11.403709094559494, 2.5276684907167395, 5.410946918791724, 4.778475357191978, 16.390726424190184, 13.746478458800027, 2.1199733071744453, 1.9240053472999292, 3.8815994793003066, 3.20890113302294, 3.0701638853607323, 111.76268155825618, 5.131146864637149, 4.4776620454742755, 99.40782280479009, 3.9756255162293352, 80.92731079441526, 3.927251674013675, 3.7984449431311567, 7.429217416876153, 2.199953771760063, 4.452981881450442, 10.636915722583351, 5.433445402188337, 2.892819098317658, 2.77707343924892, 2.505924490399187, 8.568703863819772, 1.6215362636741142, 3.062525522109473, 19.210680263582987, 2.0385574816587018, 5.483455696761586, 5.492922935060058, 5.10321459038153, 1.5176150364785777, 1.8343426426256253, 5.072709171355977, 2.171725402553834, 2.4979866050891006, 8.490444313697497, 1.7757765558200644, 96.93017488206614, 5.793277452050482, 3.87230433327575, 30.510345659005058, 2.768184351471241, 8.244664983125826, 3.469776398362741, 3.657206195766547, 5.143175721242235, 2.5601362865178623, 1.4191970338263975, 5.6125257541149525, 2.5889627233405923, 1.1769557111038742, 3.479429637864942, 4.0062733253834795, 10.237926642627404, 4.396205680137412, 41.99743270795375, 11.166826767060972, 4.994319087709411, 5.812252556230991, 4.598615858095931, 4.096290422409605, 2.632297236893167, 2.6109356193622744, 4.7796785797314465, 5.52972111673241, 1.344885479066841, 0.921026978381501, 8.032460307115702, 5.522362951906994, 64.5584975508223, 3.3983817094030617, 3.8747311720244784, 4.608553435234739, 3.819680890460125, 8.756421002956442, 3.7595544246728423, 3.8926783214141794, 3.2925328209428386, 11.201565384072222, 101.95578611637254, 3.6917074453863084, 10.762410190375043, 4.635412252370046, 9.170887357396156, 3.236138908032944, 4.822474364963497, 3.6555404979896586, 2.647889180782584, 1.2967372453034915, 99.81922461758121, 2.2470842848254806, 0.7117897558011959, 3.731022028548224, 5.410990147472451, 5.072709171355977, 100.0954070604762, 18.071348435407664, 4.712371967098839, 2.6328467499249264, 4.79645432391081, 4.002101469190422, 4.924108331323571, 6.663088151661984, 1.3169162804260561, 2.7542320133352254, 3.573940747185713, 2.097200546054382, 6.189697841703293, 48.60466407696968, 6.396066681069994, 10.2685730747105, 8.389746401009747, 1.4234469071097249, 7.639955491845671, 3.927251674013675, 12.050515022410783, 6.691520085245492, 4.95472586821832, 4.330589452819966, 2.293379654910002, 3.4708113066672257, 3.310882371673134, 4.801713854927948, 5.1917942062544435, 3.3643701613266352, 5.36980664145068, 5.780273036091617, 1.118835994078081, 5.689058911529718, 1.667811241882506, 2.4391746186046555, 0.8412132071432649, 6.475182779713204, 2.0155422845136344, 35.836794894736926, 6.91203089344789, 4.079937876599202, 3.8631870189982407, 4.873878677119653, 5.668409711761457, 3.3681699254486257, 1.1121382845479693, 3.83866098170605, 5.318818628002317, 1.85965058195838, 2.936269330290603, 6.713646899443659, 5.8089809705532325, 5.143175721242235, 3.0111526916193485, 2.619997645823055, 2.977146842701013, 92.03291935373026, 3.976823347390552, 2.732451749161205, 3.9102190551818232, 10.776630231214263, 1.259807051456191, 1.766187850977606, 6.2637119886604165, 4.655563268159061, 2.3785853909258354, 3.678770512155328, 4.593332827602504, 5.24958373952932, 7.538553537431852, 4.063326634363772, 4.242344600742297, 3.807158780964226, 0.5017476522474842, 2.6051400989099807, 6.167097349791787, 5.8861077823954115, 4.884863127388919, 3.0437033434109027, 28.604673971783278, 3.807158780964226, 1.7648112983818787, 6.095579538196369, 81.48373419573575, 3.895420171301256, 4.82606987541167, 5.864171663429155, 2.977548973512661, 1.4986233311462018, 65.81313159483264, 2.0883930103555004, 6.6199389161493425, 10.928405183733233, 4.452451626648103, 29.319762935097998, 2.765667886035915, 5.351837488840282, 4.4099910201192305, 4.684408082639619, 45.448754740304075, 3.2292824025646873, 1.449852669036269, 5.568841734355142, 3.6539830271159497, 4.342157083552451, 4.2722526627343385, 2.6051445418662817, 5.520302746296975, 1.404840999338032, 91.11936765524712, 3.3968297105453322, 2.7929131144040076, 3.1482243377233234, 1.4079802010238487, 5.258124385228742, 4.779609667530151, 4.524565305546091, 3.0569890869870964, 4.794650268234368, 5.879317650248967, 3.2947444170932663, 2.9659168896642414, 0.6989429448439031, 5.169800951757802, 6.694413943853762, 4.472842262619024, 5.393575496291407, 4.315931763649883, 4.915616654442959, 4.37466186662706, 5.6284013080067155, 6.4620510146628884, 4.321930236219492, 0.6301501648804795, 3.305455714283649, 4.179205372329623, 5.468240020209546, 5.691334392397116, 5.2673929193737665, 3.135879506328225, 6.360294985367509, 10.01534237689957, 2.4179325225081763, 4.720425600941292, 4.683008699506192, 4.176315754779506, 111.27117224603022, 5.075330906904807, 3.041046848686662, 2.68144047913672, 2.605903866406684, 138.37563057675766, 2.6594532582274613, 4.05735357408621, 15.390776621727342, 3.930898189330288, 7.5688039654482395, 1.8442891847328577, 10.957967171513712, 2.2800839094162937, 4.778475357191978, 105.9267511168357, 108.32644542692294, 1.7520911796426817, 4.545033078239873, 3.8746225735200026, 4.239901615698594, 2.793084396364197, 3.3950398774233634, 2.6938197990429638, 3.2994742870213853, 5.4410080077761345, 5.2160039370247295, 4.115446093172947, 5.586152158180756, 3.4867548041172083, 6.896727300247385, 2.171725402553834, 5.811785622283651, 2.120467971221464, 4.689278118570455, 4.293726436007483, 9.697493532284227, 5.893926482246013, 4.7055696647968155, 0.9333509292284614, 97.60940306531741, 129.04797024812996, 4.905138136956262, 2.4644553916838876, 5.586092550871373, 2.319568374036325, 95.35186072570603, 139.57642084502524, 2.7439575578151807, 1.685203719633343, 1.3862123563463749, 94.79315901827273, 4.532232767769892, 2.3752907121525624, 9.046447078063107, 2.359252225898006, 1.2742042636639008, 2.573800677600028, 2.7929131144040076, 5.349834453607925, 4.595855973351901, 7.8150328547174555, 4.8750614575013005, 4.455494407460506, 3.639519940090088, 3.761268645111673, 4.181894204020258, 4.395723562354545, 5.8961769686177075, 4.471947152419786, 6.092577902333063, 1.885018171409901, 3.12563992144922, 4.389058451334816, 5.345500195177848, 4.717143623012336, 1.0797254142941002, 8.254750763136283, 2.283350356685654, 3.236138908032944, 5.443454857244091, 6.432748446541781, 6.062902414364513, 2.7870216501650367, 3.5569256754298166, 3.903324296249037, 5.0957063883261275, 6.823522481833564, 3.0494696332682314, 4.235578213988819, 6.251969616322014, 1.2118639877286141, 2.222215423227445, 2.5301099719055133, 3.8680275217042603, 3.1621587131605926, 2.8421396125553917, 6.033448462455904, 1.6465054942447948, 1.3964450827888342, 4.290375355159276, 3.1390693506779694, 4.041091758919745, 3.0179856748592466, 78.86357340924351, 1.8420863452814606, 1.6002944816323188, 5.270357485043057, 4.727066286174899, 8.493600452347184, 2.9601246720509535, 2.560557450699022, 1.8029633882991865, 96.28175151301548, 2.547602307734942, 1.8605667652486502, 4.461097427650971, 1.037482692269747, 1.2180620739245775, 5.579313411852333, 4.928438997743303, 3.4810227306068824, 2.939259315506275, 6.923510635014822, 1.4335018575538334, 1.73028524500406, 7.484996477726691, 9.229886149639128, 7.534055677443707, 5.479899701561444, 5.3446041576882255, 2.942092899464744, 3.9902531990668018, 4.712371967098839, 10.990345866935767, 1.22255441015524, 4.900283597729905, 11.479617277402236, 4.463730446834397, 1.646796199464018, 3.7958855413075643, 2.6871348785664604, 2.9482510422612433, 5.391147427294161, 3.465783809089309, 8.100687381325914, 6.9960178892848806, 3.473601831612133, 7.447404943896827, 4.214017099752216, 2.222832798992345, 79.4830966054678, 5.049687394578217, 4.870297938607495, 3.6917074453863084, 6.517838898321698, 3.990229756323553, 1.918627007941649, 1.5866594316521718, 7.825611607125492, 4.917240181880029, 4.981920437423361, 5.774764583518599, 3.361437237570635, 3.9340160443914214, 2.9102853613246817, 5.11553854709188, 3.478443222238903, 208.47277148608632, 83.9725312563128, 3.305937648367695, 6.040183761987065, 4.539357669713137, 5.319644132464562, 2.6209200969723394, 4.647412294582072, 3.7036258149618932, 16.0671761675484, 4.759482785820701, 2.4762915733699327, 7.662993276585209, 5.410946918791724, 3.479429637864942, 4.908177122855334, 5.158129594559869, 9.97194814471823, 3.8038257671905247, 10.619616836764404, 6.186958314560614, 5.888351041772971, 4.97611143829082, 8.670155792151224, 6.703511293547324, 4.783944583570961, 4.317945730497579, 3.0410291347731455, 4.173156414378598, 2.045774418332707, 4.210464304748146, 4.550183575390691, 3.203011780066604, 1.7648112983818787, 3.2414514728618036, 4.049740819285622, 4.515131458557695, 3.824099910523396, 3.5518002250344103, 4.910468753258886, 2.2191885577364747, 0.8167439220628129, 8.111828354771287, 3.579808772865511, 5.927357359946393, 3.589666494979528, 1.7128447892649858, 4.134933142959863, 2.9613224631165274, 5.277250806978097, 4.502988568105407, 3.074986116900164, 4.967401120595934, 17.73243696181376, 5.109443794468588, 2.670728837995874, 91.42374958090788, 5.410990147472451, 2.2539955955529116, 6.6847404756400195, 4.633182933848198, 9.303732498706843, 4.634574489441289, 2.493072569118551, 88.30235651163173, 5.305217763533629, 1.5033476555253973, 5.846816055240398, 5.286418563274278, 6.980754244041629, 8.213423904108737, 1.278170697738197, 3.9996826289412146, 2.658593165176, 3.755269870692254, 2.4466172371567385, 5.813836686977454, 9.059455824703095, 6.615541862067818, 9.189901967950613, 4.071247106113089, 1.010607939371906, 2.8819600203578752, 3.388368015776895, 2.818777331676228, 9.533930402250666, 6.3272422651583735, 108.97554468780764, 99.02886369272828, 1.7646480073577673, 4.108849752872329, 2.466069163890107, 3.998166306229278, 4.167039636333525, 7.629716016042419, 2.9235040951060065, 4.76984521936478, 4.988160005271516, 5.056777974022437, 3.968087918605025, 5.416530362764619, 2.9356707284202153, 4.66705575558915, 7.405763610868706, 5.886334925909063, 6.5252736577490715, 2.1009672756116586, 7.897181332101776, 3.966315303980433, 96.37924005615112, 4.388481448170429, 2.6855420547463806, 2.242292621552187, 2.757148661209639, 3.68638822179082, 5.44206190004368, 3.895420171301256, 6.045639502604302, 4.847376355810516, 3.8047874914597144, 2.665591809075282, 5.531969298411955, 3.477921801216564, 1.1001840705749002, 6.691520085245492, 96.22718940838857, 10.442281316097352, 4.737790499590152, 3.1573457379755374, 4.332365145888261, 6.233841717043706, 5.154244614869253, 4.442669826421302, 3.211814364959836, 1.8087816905205354, 1.3233650232616705, 11.52445628731386, 2.7868676486174353, 4.700431238721431, 1.3169162804260561, 3.074986116900164, 5.793277452050482, 2.708990845065814, 2.4470750879730496, 3.9268117300266843, 8.493600452347184, 2.4361494819641227, 3.981093711925714, 3.52182007634282, 13.26914775287901, 19.163354011651975, 122.91988861424755, 3.738290954703887, 3.651209582683638, 1.6224242046341044, 2.1639393311288075, 5.2514293914318815, 50.440661657850534, 8.362209408000655, 3.234238576078856, 2.3161143531238837, 3.6190972137432786, 4.79061242555989, 10.671094905518196, 10.892718540842363, 4.739422687697147, 91.92462824827207, 4.4024489676739424, 2.9281562922809496, 123.39464380536826, 4.210463420041532, 4.210420007749387, 103.99867407900791, 4.6550744624749205, 2.116608318514648, 1.8507309641289293, 33.537506648003124, 4.824815639111055, 1.551208226567691, 2.128675678093069, 3.1681017889192438, 9.494925369642383, 5.13617073588466, 5.9073089653663695, 5.004383661542981, 2.77707343924892, 3.7291603262549775, 10.08360566611272, 4.014471802763635, 2.1140343627424314, 4.554925644536549, 4.8558902258830425, 11.091443883147432, 4.034931350251326, 4.086696241951688, 2.3071583670932903, 5.69839492657018, 4.824485817943092, 3.274506676964965, 5.457995016908008, 4.697307742468679, 3.5271866953732283, 2.7170952702118463, 2.4164268285349264, 4.576904561246507, 5.349834453607925, 2.3611561743668767, 11.93760120236963, 4.4226770890707, 5.151469073318482, 3.540622971522677, 3.282546803400666, 3.449049486792098, 4.10862505128896, 8.990877274484442, 4.79645432391081, 3.1619011556461043, 4.083834921401602, 4.826601339277845, 7.5709384252961325, 7.149484298315236, 96.07520605000434, 5.412886412564241, 2.55869025811676, 2.369805708319816, 9.60925946222305, 5.7167817120531454, 4.678637127643868, 2.2373163707183688, 31.472053277258286, 0.4614355379541476, 2.6938197990429638, 3.388026365031703, 9.60925946222305, 4.223964737695905, 8.890553766405926, 4.937908441373807, 3.965589104113288, 1.2469035423277295, 4.933536526406022, 2.6083449556213703, 6.663088151661984, 2.939259315506275, 6.576747300527542, 3.5004705188903054, 4.4352038553087985, 3.431957902489439, 2.060791959523242, 1.870451231841464, 5.524823401221016, 5.524823401221016, 6.334153186775667, 2.790359241086068, 7.126051680448507, 2.2920055939207664, 5.729744447457868, 5.055334836816153, 7.172533410967027, 6.342128463457515, 3.176729188304262, 2.5518154836250035, 3.830908933732404, 3.6433949687918545, 5.871186989914869, 2.672930929442665, 1.4924198013300978, 3.8862409384258045, 5.344607368706381, 7.011455758070681, 4.788804021414831, 1.8507309641289293, 6.425028937996847, 8.129487033239267, 8.193177155095622, 5.327184248079676, 3.203011780066604, 4.678637127643868, 3.132104790118742, 5.687474595633762, 1.4788024308201597, 3.001945429817692, 7.655405536247564, 5.399042134050059, 6.702876600638603, 4.06107283201932, 4.871617700883391, 4.410316271541292, 3.1435424298950596, 17.924862560181257, 8.325207837878267, 2.4212329398600367, 3.095740297093672, 7.951712965257368, 1.6959975015899855, 3.807158780964226, 3.1573457379755374, 3.2979457070743807, 4.435897554701109, 2.5218383782173293, 5.025321524612513, 3.09301007895922, 8.166523873565037, 3.3009187027850606, 5.850208380614535, 0.7144970376521466, 32.78589114169918, 7.496328558597208, 78.86357340924351, 2.5934591426881926, 6.612838928511437, 7.385730022714297, 3.654581386943626, 3.6097907349685157, 11.715591678557676, 2.310981911512416, 2.5276684907167395, 1.3245495966702063, 4.587450707027366, 8.500387717140972, 8.905239874009151, 3.8366436919511524, 4.857336514222745, 4.146794161245985, 4.711229161466511, 4.106179098961948, 4.521783042049521, 7.090954196998574, 4.288329496423206, 3.4839406770287598, 117.33710959881721, 2.399684797431283, 1.645466783340182, 3.1175695369443184, 2.9879045009009593, 4.721227135547433, 5.277250806978097, 13.126352068381015, 3.123195161801684, 5.13646609386356, 3.5659953752532827, 9.303732498706843, 1.8040591459535165, 11.073555153611558, 3.7340983549521263, 4.225968988257585, 2.0721181782180222, 5.541090234303376, 4.4721323212268675, 4.5928337004488835, 3.323736699990896, 2.3925080298928876, 4.089652675726738, 9.721474335008004, 5.103366401345018, 3.981093711925714, 6.139885461119496, 10.210883104703301, 6.195898938700554, 3.638240050429885, 2.544099578545022, 1.827100273561936, 8.436755211178212, 1.6723268707420622, 6.969391258164168, 7.740198562185854, 1.7162099470901557, 8.682961723136302, 2.2721928073622317, 5.035505779206856, 1.4079802010238487, 5.5507362076874776, 5.722366354494117, 4.9828764248826, 2.542065964057539, 5.28278070465387, 11.11271327430301, 4.194334635917346, 9.60161841751803, 7.047625477491523, 1.804115883555652, 10.238074642437718, 3.0494696332682314, 3.6539830271159497, 1.4431289929459872, 10.293955539933268, 4.976743064439908, 1.619493317052821, 6.478016281902751, 4.092064315480908, 9.722933914037315, 3.976420265726314, 7.1917006089654585, 4.739125547662953, 2.941800741425953, 2.5107362774307904, 91.86462199931728, 3.856929217198752, 2.968121587483442, 0.9460189404923687, 6.265217284138499, 4.080809340906892, 1.8365759445559724, 3.391144692660311, 5.972256561610415, 3.1334802951204983, 6.562892611743135, 3.3772825065184775, 2.2513964272314744, 3.2888388243080224, 4.550495643883164, 4.823365912802904, 3.525917438378684, 2.9846269360004127, 2.7255768514070433, 3.3112881106012786, 2.6366218937997825, 2.5619199688315852, 3.7026458564078935, 1.1696787859534092, 2.0947810517505667, 3.5827689454727905, 8.365067408424927, 6.24651571687452, 4.612233563356269, 3.3578511773284263, 3.7757324333055813, 3.813194234012762, 6.48872324444732, 7.405763610868706, 5.300664078334734, 11.638171316983781, 4.665433052893441, 86.53217544806567, 4.40685644652122, 1.952006029028877, 8.819253512590791, 1.9652044796725816, 0.8452853852211615, 2.4241795491090383, 129.04797024812996, 2.345941110462709, 1.8762863622356687, 3.447585119470866, 3.502015805125499, 3.537243637313895, 3.8203104182339795, 4.994805067453879, 4.728603129840816, 4.551917740578649, 4.025125122262524, 11.006213557468659, 2.8936160598385, 4.844276287519987, 4.879332207539376, 6.781266937186394, 1.95885727974342, 3.5518002250344103, 1.0500136601568664, 3.8423870981194734, 2.40243324076094, 6.633679199759445, 2.8136036088869605, 4.8381816464109235, 4.477662045474275, 2.4490627499600035, 2.2021986935901516, 5.479899701561444, 2.2649787615409407, 1.8268351614929057, 13.75676937729505, 1.8494365466665168, 3.952778373076193, 3.427356144420716, 2.9093601690359443, 4.833652899999612, 2.923061028720033, 3.8148393507460487, 10.875493535468104, 2.7737732500634973, 4.557476980253154, 2.0465557391088582, 1.785242178954589, 5.62343123425852, 4.798771973686616, 5.972279230497194, 4.8381816464109235, 8.213423904108737, 4.6550744624749205, 4.362423089351272, 3.943614307412949, 6.534744548941907, 3.338108310966569, 1.071635070192142, 1.7523975635128726, 4.617981603874061, 21.862471570959947, 4.211134339516078, 2.593300104671497, 1.2691900677911898, 5.276470136424755, 3.8410352876360627, 6.805803768038236, 4.870297938607495, 48.544976337408514, 2.209918884046919, 2.9601246720509535, 0.8164806504288178, 5.282573813125339, 6.5240883989155165, 2.7439575578151807, 82.49990993283198, 0.9454576574337887, 10.280512253274757, 5.0331801346307135, 1.9828208631792341, 2.873314134711477, 5.143551032838569, 9.174745402518678, 5.846523225440061, 6.137662418218543, 8.819253512590791, 4.210463420041532, 5.262698868586677, 3.3735564441879013, 4.883477403520984, 2.439367949937228, 3.5366730130670163, 5.933176546253661, 5.8521499282265115, 4.078694760364186, 0.6333288405374814, 3.024369821761945, 6.479539689179036, 2.564819434605761, 4.904343843186732, 35.836794894736926, 6.003245225939738, 6.795442115490853, 1.678926617077822, 8.3216700962214, 7.803789455602905, 1.8209033853739258, 2.1605884699458504, 123.57344929657539, 3.639519940090088, 3.068650598032163, 4.114949065998089, 2.3896760655603964, 2.1596008068991908, 2.9102853613246817, 5.268470214496397, 4.9291419563476575, 50.50123629324067, 8.756421002956442, 9.700802480106292, 4.532656046748692, 2.107560266554649, 4.258721782444962, 2.486228125327254, 115.76335188225708, 3.472680882926079, 0.3487923970033667, 3.856929217198752, 3.9762215352146906, 5.416530362764619, 3.831436824314924, 3.095740297093672, 4.906148696717099, 4.530371368512679, 1.674549532037909, 1.3591288161250101, 5.332402040599376, 67.28174900044051, 0.706579021304335, 4.404239060046259, 5.986442616366173, 1.069913363133696, 2.7088078891670175, 2.3073472541972704, 4.544487589584405, 3.033602860224737, 4.926579462414225, 3.7497899659581124, 1.150317222128543, 3.41231539423888, 3.154450056038812, 4.415423073872075, 2.9738707708438104, 4.66092832164191, 0.8452853852211615, 0.18721088902421804, 13.211520082903183, 11.479617277402236, 2.291286002998803, 6.497704018190186, 1.7232674264260506, 3.0238494822012907, 1.996029003233207, 1.4952419344875778, 2.9792565442531567, 1.8600743188649782, 3.568176046121135, 4.097344485927364, 100.51192661559398, 3.1933449072946756, 3.608470781845356, 10.903009637235678, 6.645956772281796, 9.059455824703095, 4.739125547662953, 3.520549170513321, 3.755332551490947, 4.926039730423879, 3.1276565136672434, 10.05717810690303, 1.804115883555652, 4.625824763428662, 5.5523578171206545, 205.16596818435082, 2.236491968963602, 6.587271120964486, 6.615541862067818, 3.281574052554912, 6.693484907779098, 5.630458637824415, 8.951270360472792, 1.935753373803778, 1.3945192645730575, 2.542065964057539, 2.55217201240026, 3.6539830271159497, 12.475327205786133, 5.91285886131298, 5.972256561610415, 86.25762448748911, 4.810987312007621, 17.902120761989195, 5.729744447457868, 5.870251772845722, 3.7438451664608414, 1.1488236095471887, 4.269355840605482, 3.8686936067241633, 3.813194234012762, 3.8680275217042603, 13.968614657775262, 7.047625477491523, 2.999610820932398, 4.463730446834397, 5.608456971032749, 5.078195723167074, 8.105196102797118, 3.788972733798697, 3.1695642189508306, 1.6959975015899855, 2.4153802057519655, 5.034742932329355, 41.89052650795878, 4.683008699506192, 4.594861648430467, 208.47277148608632, 1.749617274098208, 3.881407348821072, 3.7207749541653534, 5.159757835464619, 5.921036228005808, 4.370809136417109, 5.3761473488185265, 6.5252736577490715, 4.384299605977227, 7.623344322129715, 5.202101559821791, 101.83525542852466, 5.392292057884695, 3.7461638175082053, 31.658162910110082, 5.404122372535742, 4.13201921264136, 8.173640252904125, 4.498231127989598, 4.9225126621431885, 9.839155738169437, 9.914701720811244, 1.404840999338032, 4.043970325064957, 3.0949118690834774, 4.781320770291368, 0.7117897558011942, 4.600657477932065, 5.171117086694694, 3.490520177176186, 2.696214379468739, 2.7708126306344845, 64.51432787163908, 4.3970310646823885, 4.9828215576771155, 3.612181316206266, 4.863933886100802, 4.863933886100802, 5.977934269461311, 4.59376923687616, 2.5877726140146597, 49.67320110979157, 5.588542640807204, 6.028758609051184, 1.4334573903696366, 3.7335721730605624, 22.54680994377829, 1.5260724544809352, 6.14369206469493, 6.656177722747811, 2.6317065310036827, 2.6655593153385166, 8.5528131783125, 2.605903866406684, 32.65785350138758, 3.6389905977114005, 2.6140909550581486, 2.29411493728028, 3.943781183339627, 9.60579031467331, 5.080698986557788, 1.0007899389078971, 2.25948073858558, 2.063585588135436, 26.02664322468406, 2.416506584806894, 1.570950196846737, 7.236908693682986, 3.9527058177941528, 8.886406333896597, 6.758976695483116, 113.18915625225794, 17.924862560181257, 1.8865473176125316, 4.3135730060864255, 4.011310451823153, 7.525392224440859, 1.6008908283384438, 2.2750524279335096, 3.5588871716781108, 4.368610502602998, 4.961898556065472, 2.0155422845136344, 1.9442904359551025, 3.1694395990534554, 110.76278493840799, 2.291080525966093, 1.1742086170281392, 2.6550541234576532, 4.944909469418291, 7.496328558597208, 3.8926639916662693, 1.574504927969014, 5.5059240414730155, 3.6648982120961966, 11.429244917050143, 1.259807051456191, 20.214280178266467, 4.878304859380761, 3.9075752794313767, 4.274278353200512, 3.5659953752532827, 3.997277161565127, 1.515588088692867, 0.7101086627234896, 8.87374271246332, 4.210463420041532, 113.18915625225794, 0.5284285493084452, 3.943781183339627, 5.8961769686177075, 5.975284870542176, 4.170592961070751, 6.846534689117809, 3.88996101341349, 3.2060059854298624, 1.4783240482205204, 5.120861407904681, 2.551262164336986, 4.719271870796118, 6.829923199545483, 5.669706541431261, 0.8412132071432649, 5.924927659472832, 10.990345866935767, 7.741937186664307, 4.430430509185794, 6.363613005163343, 99.58402789121894, 7.407142971772176, 5.114230503519623, 5.346751966062116, 3.9194690998792687, 1.7462567634992643, 2.608854378635134, 3.664914974428256, 0.4306697827308292, 2.160158413649682, 1.3848521632381119, 4.911905650242206, 1.5354399817200424, 1.6072283396714573, 3.6433949687918545, 19.24573170416292, 4.472842262619024, 1.5399651223685737, 2.2086335778719675, 5.0925566535718225, 1.4583128461938037, 1.9940517885683793, 0.3487923970033667, 4.233805227472453, 7.308864078205442, 3.620519981796745, 1.6730445767775204, 3.7760725043515726, 2.593300104671497, 4.453853584344513, 3.380258770292838, 15.910353819930833, 4.824485817943092, 5.002968791297458, 2.9691649952782244, 4.191079368506192, 5.3761473488185265, 3.470840010872023, 6.259743227502604, 1.4783240482205204, 2.505924490399187, 5.964357218231785, 3.2414514728618036, 2.7858595447157537, 3.603581207685674, 1.6723268707420622, 28.779887305747657, 2.258880437629093, 2.1131856632779313, 11.805796497654015, 4.7581849793452005, 4.112134531972728, 6.906522080826669, 3.782842517637396, 5.235499766344301, 1.344885479066841, 2.0143336871163764, 2.8177932355950683, 4.291229193581416, 1.5304388610843103, 3.71434235912326, 0.6749054022159833, 6.605632024815619, 3.334107189967103, 2.7303278007263527, 3.453939524696412, 88.8545286315761, 5.7350806407590325, 2.9691649952782244, 3.455055329003736, 2.5881920665605627, 2.3925080298928876, 1.6664077763310754, 3.1066851189580826, 2.895121024433975, 3.9340160443914214, 6.179117340370572, 2.0672730944855666, 11.805796497654015, 5.222274240690427, 8.026270837043176, 5.084673052717708, 3.692788370065422, 4.471691107283097, 10.505097557174349, 4.821595719585267, 5.794851986891118, 2.196378192619935, 5.69470892834682, 7.2449741155396605, 1.0927984089731868, 2.010923415720311, 10.087838327733643, 0.5310700995984979, 2.948899083880729, 7.379452505786847, 7.1225954436578744, 4.4024489676739424, 3.2769951385116745, 91.74159027401737, 5.7439279142004445, 2.4845227179331855, 4.126880898137397, 4.21870536856851, 3.935614303242179, 16.89965213557475, 4.98015987002071, 11.715591678557676, 26.33196212334871, 1.8006325058578145, 0.6519623960621496, 5.146405204357578, 7.725031829099235, 2.6083449556213703, 6.139885461119496, 3.923229437626204, 3.3937857561219578, 2.6279188619386242, 3.5734632298126807, 3.9173243623156973, 3.898684370986326, 4.848119385722889, 1.054489793620904, 1.1441935515016557, 3.68638822179082, 5.774764583518599, 4.700431238721431, 24.160541912880372, 0.8999655931584716, 7.51406572555413, 1.4904218579962014, 1.333921759661044, 5.158129594559869, 2.5503301439126886, 5.695401785940239, 14.758162547052216, 4.736915702642813, 6.749969690600407, 4.279918835651717, 11.76779097238995, 4.727066286174899, 4.068482668169231, 65.81313159483264, 4.370667260302643, 4.623365875185414, 2.556335823229585, 4.527482796753892, 103.53510617651361, 4.928438997743303, 4.782485010728021, 4.035054120865805, 5.593988413832616, 3.857515857180559, 3.0362868335167623, 3.7276100592964734, 5.18601175752849, 4.336377190119984, 81.77727108890006, 5.405187280993567, 2.765667886035915, 22.290218991484217, 10.998292634308799, 1.8171509386623776, 4.612233563356269, 5.222530702739675, 2.7175066683135976, 1.460015644513511, 2.2195932712372306, 0.5466515852278244, 2.0940076997030523, 2.283034550076009, 3.3946409078229123, 1.3229390911066081, 4.409588972197578, 7.586000897947351, 3.8366436919511524, 5.132291028712567, 5.40259695477923, 3.388026365031703, 4.859383146975515, 5.013989418891588, 1.6145912522725607, 4.836018219561978, 5.9660453364730435, 4.474443046872661, 3.5870752905348438, 16.158428616748868, 2.2771419925385885, 0.6137907310901538, 2.8912987969878823, 2.0122824891457554, 10.654328413969996, 4.577345786516627, 5.049275594918832, 1.2328782846988915, 5.587017541521286, 30.78122127134706, 2.7483630582329774, 7.12445246457411, 4.269289475463105, 7.641060102012519, 1.4650988443159176, 7.907334029386784, 5.91285886131298, 16.89965213557475, 11.93760120236963, 3.6746291540959186, 3.627769449840239, 4.641935969726569, 1.7781563574444592, 1.955049689475532, 4.06107283201932, 6.740063141838964, 5.959131054396502, 4.06622750899443, 33.31801174517047, 1.9659155253025764, 4.880293562656666, 1.8207111408011145, 2.426866903353678, 5.534866661525221, 5.034742932329355, 6.63114096519907, 7.625925798350428, 3.9967970134561277, 4.886581344728338, 4.191858218987245, 3.569503593083004, 16.171645120069527, 1.934547953984223, 5.8521499282265115, 2.1471539555484918, 3.5506478916934374, 3.5024405202255555, 1.0425350050256332, 2.2431096787206606, 4.781320770291368, 1.486055939180218, 4.49623610519132, 5.294798524077258, 3.5592616406055813, 2.1037460839566173, 4.651089815829746, 2.8522211119323986, 1.1210721748868289, 2.222215423227445, 4.415423073872075, 2.2988567759246967, 2.855670256916425, 4.90995517919388, 4.758121553653859, 99.9442822066289, 2.283350356685654, 1.344885479066841, 2.062872086213256, 1.2881231529464106, 3.525917438378684, 6.129095799239511, 2.9443938646448746, 3.818626761192318, 1.9292307825816055, 2.1512701254124895, 1.7604714352550608, 8.53560058477757, 5.283407614469715, 4.873878677119653, 3.7045197741026166, 5.728891419886834, 5.5607429545275044, 4.10862505128896, 4.6450635699092215, 3.090876970052876, 4.713421135637218, 5.9660453364730435, 3.4208956574709086, 2.689681240787091, 61.132648651071364, 1.3912515230187414, 1.6177686179345914, 7.249893874999344, 9.66865734506874, 3.417956871669633, 4.827639540109436, 2.8620946116256034, 6.013623641781349, 6.5534185324883865, 6.152688052733195, 3.1785701235215726, 10.713666377946824, 4.4826356503143545, 4.900831112915969, 4.842544721638507, 3.313433092142305, 2.4042489109883385, 10.29775287562308, 4.111044547095894, 2.8561649097641286, 2.4832149561084655, 1.4545654905381142, 7.669780342315304, 1.4680901648089144, 4.535499980540575, 1.3983692945408737, 2.6209200969723394, 100.00141671598783, 9.862058088299296, 3.0454984268194156, 6.5648545843738555, 138.26948427313795, 5.034742932329355, 2.9846269360004127, 64.51432787163908, 2.4728992001686154, 4.816241766628113, 6.76510108636069, 6.066485803958131, 0.6726591356358924, 6.435639331033179, 10.080167754140618, 2.7943357702888583, 4.24578385503425, 2.4131267852601477, 2.0243884754882826, 12.2625857859633, 2.61898472883732, 3.3652358596867704, 9.480997561957283, 52.066435033457594, 4.465978963256056, 2.8550148149783214, 11.917937997247249, 2.7448490360834934, 6.262680765728145, 3.3117747688596886, 4.90995517919388, 2.1751915278960565, 3.015156566679739, 2.8318670960528065, 3.4668432129369333, 3.189905862803635, 3.0460190537029175, 3.52482844403787, 8.325207837878267, 5.449893908816791, 4.1848701460839255, 7.172568834457851, 4.911905650242206, 2.6504700669976784, 3.509584334356267, 3.1831822615150194, 3.3774560751828617, 4.455741789788079, 5.731905188839342, 2.167774084693382, 10.120264647791291, 4.168547354188413, 4.844276287519987, 5.173918234800758, 3.706369759489951, 3.5217909441873916, 2.6775220090770646, 1.861302403670731, 5.061517130714776, 2.944866555111062, 2.774091642224327, 2.64788392953379, 7.382684047413845, 11.34694904697726, 3.9134953946647926, 3.948674540499332, 2.4762586800372826, 2.3592242488826574, 2.793084396364197, 71.08404402579349, 1.0631580166747554, 2.579914638073283, 1.5005614250391355, 3.3840880976115866, 2.2570717688253663, 2.696214379468739, 3.6228647145394355, 3.554580086820009, 1.073182596890561, 43.22751652133102, 3.1066940904624385, 1.9940517885683793, 9.174973952528067, 2.5904934955129204, 4.900831112915969, 2.984656620165491, 1.885018171409901, 3.321603066244381, 4.167039636333525, 3.919343551895083, 1.6726119110042679, 6.643114729565527, 15.910353819930833, 4.140669990346247, 2.640257360802107, 3.8283180093793105, 2.4845227179331855, 1.7162099470901557, 3.948809284848805, 5.088689260675869, 5.98855255956276, 1.7402679555094396, 5.633911930018317, 4.9225126621431885, 5.100029530159791, 3.5682930331657983, 6.921026516688097, 5.858779168298548, 12.021053876470686, 1.8196703472344182, 3.6707572832344777, 4.242344600742297, 3.715620501332404, 9.539617113830229, 3.3113943836743376, 1.749617274098208, 5.380838663271031, 5.292618455329174, 5.012234406052826, 1.9367272059600331, 96.07520605000434, 2.8850203128538174, 5.270688552520741, 3.5280708415984736, 7.142179214171916, 8.490444313697497, 2.873314134711476, 2.5830239333743266, 4.311477050070726, 5.109023338408397, 5.441192952788236, 4.238852159812772, 3.8137687919073366, 5.476793278839959, 1.870451231841464, 3.671644069676538, 13.75676937729505, 5.610393067138562, 4.883046787497318, 3.898684370986326, 3.8883188032221003, 7.5982986756634645, 19.431556078394006, 1.3169162804260561, 1.2178855789432972, 3.0281933341823573, 6.754403565482222, 3.3925437504120035, 4.4433138551095315, 5.600466845532593, 6.227036868448968, 3.6123030898355455, 3.692788370065422, 5.061517130714776, 4.626345581633768, 6.304816898853445, 2.9121770873967403, 2.7340841788733945, 6.428248526380555, 45.20561083527876, 1.7835090051538536, 3.4771313911760604, 96.43928812268922, 3.053709990842479, 2.4241795491090383, 5.567460086844049, 10.631263277946516, 2.163985550271084, 3.274506676964965, 1.3724000866074304, 1.6036118817360285, 5.783178377400739, 8.576170382991837, 4.327297207221629, 5.433445402188337, 2.1921330116073023, 2.5601362865178623, 4.452451626648104, 2.152246212223313, 1.7897348937184445, 3.068786377066053, 6.337185365326115, 1.1614629086879595, 11.144237785932633, 187.90964708515773, 2.0042725056110573, 3.723502422978084, 2.9261001130203006, 1.588246812539115, 3.6728086633436314, 1.5460440292140483, 5.301532675329171, 8.509568310778672, 28.856122851379006, 3.948674540499332, 5.921264043053743, 3.48439372116688, 2.912607349103234, 1.1389660762331368, 110.76278493840799, 3.030000293014509, 2.6335187523732086, 4.554251773268114, 3.919343551895083, 3.460815230731199, 3.8038257671905247, 5.652233393603267, 4.126880898137397, 1.6750960253265665, 3.5800740099283104, 8.470002418377527, 2.2348536070099176, 5.844599564831106, 4.840589867663791, 4.833651905410218, 2.828772629498988, 6.4620510146628884, 5.487286824764276, 5.696505966636979, 5.729744447457868, 94.79315901827273, 92.6732967313172, 2.1312313572768753, 5.954652380044806, 4.279905647397349, 11.199016955067153, 1.1210721748868289, 123.5772504800879, 1.4441102445761573, 1.8420863452814606, 3.634957273081841, 6.766783843149816, 4.269355840605482, 5.173918234800758, 4.351185906897503, 4.641935969726569, 1.521000911994596, 4.7754285378480255, 99.02886369272828, 8.728386919275193, 1.0099979457125097, 5.722388936390791, 3.476063629158816, 99.40782280479009, 0.5284285493084452, 3.324633695187287, 3.988562773689847, 4.848119385722889, 1.073378508157825, 4.156621715218434, 3.355765869880116, 4.207676378234667, 4.972899613742878, 0.9951859036383144, 1.9718219275159454, 6.048711076435365, 4.234335097001586, 2.2191885577364747, 3.0701638853607323, 4.638812916042033, 1.6384496671832345, 4.001872435498625, 9.60161841751803, 3.6389905977114005, 3.7677110715952375, 3.1675510370460547, 1.379325155955822, 2.0537075323843355, 2.600695712265871, 1.8140449858956473, 2.8955367928802023, 6.83626429773679, 5.370613061486511, 1.4441102445761573, 4.595855973351901, 105.67139953850358, 3.680796595833621, 5.2803642734080425, 4.389058451334816, 5.718782314004614, 2.167632618247827, 121.67027481287901, 4.0812620605345735, 3.8904111422134386, 3.4516042101621, 3.3849611210350314, 4.944909469418291, 10.32747152880472, 3.4737313006598916, 4.746035413310059, 5.959131054396502, 6.522360350093549, 6.214684305278258, 3.807885925224722, 1.4583396709807763, 3.8749376643382645, 4.932453937276583, 4.968658392452492, 3.2402939707966376, 3.5270632697413618, 8.100687381325914, 4.240587665648886, 8.823604455659211, 2.149126728429668, 3.009181433267009, 6.207817850729069, 5.101404263967741, 2.5830239333743266, 2.665591809075282, 5.586092550871373, 5.161264831294754, 5.290838459858077, 112.50045200192035, 3.0680612666570726, 4.083834921401602, 6.081742654236358, 8.608073351528136, 6.395909302231432, 1.9341989512249311, 4.237202499635132, 3.831913453374951, 1.0896320302636775, 4.435897554701109, 1.9998395823670863, 7.467199424451435, 9.66865734506874, 5.946921939881041, 3.220564850229694, 7.018434069623837, 2.910664771049444, 4.801713854927948, 5.452148199703997, 1.6078456975917352, 6.96533000545225, 4.668563949253434, 4.9926709329406025, 5.618708265626376, 3.5131421330135844, 6.316358087143373, 4.162636890974651, 2.23069356847045, 5.0517387370581215, 3.91985123757628, 6.341708647247142, 2.4762586800372826, 110.76278493840799, 3.977248695513384, 5.109443794468588, 1.727734218237608, 3.783082724118238, 2.245746181880945, 4.988571260041506, 140.1410722283956, 3.3957372577055316, 3.3957372577055316, 2.0378250946848158, 4.6550744624749205, 4.807117739406822, 3.7002146293593463, 7.425456782151607, 5.590833228982546, 5.330138697057223, 93.53691223142201, 3.3919598675946117, 1.750669931762594, 13.968614657775262, 6.5534185324883865, 5.463997522168094, 4.6261227320405505, 5.3471740095610745, 7.474030129524738, 4.234946518898323, 19.34228423436086, 2.7255768514070433, 103.09769694828896, 4.4153963285181, 4.993461823566634, 6.2193532579029185, 3.9827438754165616, 5.080698986557788, 6.300350282045042, 2.9892405215204167, 3.7142339029573277, 5.384674159119689, 7.356218373525816, 4.468423708645198, 4.439721592200135, 6.702486440832558, 1.9015191728114769, 8.032460307115702, 4.823365912802904, 6.749969690600407, 7.138296292006983, 4.460479595103632, 6.3905035835043655, 3.578592615171116, 2.547602307734942, 1.9590280361377075, 4.664105434297238, 1.6821390200267847, 3.6728086633436314, 4.413181930833153, 4.370667260302643, 3.2060059854298624, 11.406423010015333, 2.1827741646247025, 91.49166692656755, 5.52972111673241, 6.405550449084899, 1.574504927969014, 6.036646853784562, 6.323984826054562, 1.8268351614929057, 2.7175066683135976, 6.026317076844106, 1.0179021746063106, 3.018104690766874, 4.299763075643276, 5.083425287509361, 3.846408687935193, 2.1462500467242975, 2.5133466248444787, 11.676490815000296, 5.483455696761586, 1.952006029028877, 3.4668432129369333, 5.047292917476743, 3.2402939707966376, 2.0454135811771588, 4.967401120595934, 10.284044873893755, 2.0659722674197156, 2.8045480173244997, 4.046047395788997, 4.588618061158761, 10.255243464230702, 6.033448462455904, 5.162643673725892, 4.612804406237924, 2.429751888837875, 5.002492379433392, 4.219858628876655, 6.435639331033179, 5.718782314004614, 4.034931350251326, 3.27498114054068, 1.5527920135678717, 3.1971475132946927, 5.496673299129044, 7.177179561443778, 6.122558583342123, 4.949351091748514, 4.076819667864242, 3.2766318202719162, 6.297189182361427, 2.163985550271084, 5.61863695367093, 12.332799059433396, 4.4624653061365, 4.280969284279098, 6.671847913363499, 6.976529047992667, 6.233841717043706, 3.742152544034417, 4.35045708254092, 1.9955128869685907, 6.026317076844106, 4.691648908540354, 2.7774679170526544, 9.9058330403516, 4.019975671253572, 2.3078394215525524, 4.318139356045794, 4.019975671253572, 5.301532675329171, 5.463997522168094, 97.39508867576657, 2.817224610645578, 3.67468799848136, 2.8363249247563718, 50.448489654695024, 4.471947152419786, 5.327007804173, 2.72151655231332, 6.068737816517786, 6.3615445020473596, 4.655338977823652, 4.854402279584397, 4.843754965992645, 4.4352038553087985, 6.691303902607585, 6.440214164318088, 1.7343078358815323, 6.360234924146485, 11.978386012091411, 2.2570717688253663, 6.785837944913896, 7.309192643816099, 1.5006592829225167, 3.237093152122821, 4.161171638767071, 4.178692252707935, 22.54680994377829, 3.991427376072486, 5.860925560928814, 2.4728992001686154, 4.490721743179968, 4.272086121317189, 3.2177175717247932, 4.982872472645017, 2.1698794680063367, 1.867778110350938, 4.979796469191773, 5.654229337486052, 4.834155165836013, 4.879332207539376, 5.7985176615616, 1.1769557111038742, 2.4321154992004423, 1.3266572132490135, 3.6450802657548014, 4.468806554359446, 2.348299443441681, 8.701210459285473, 5.353650504785513, 3.6553062336978863, 3.6612487449029336, 4.535907912872539, 2.0237750945674504, 6.2596343911042585, 11.06111602482785, 4.79061242555989, 8.688053060272342, 1.5850637053745726, 4.274600485465309, 5.395861226297964, 2.9035108009846478, 1.8343426426256253, 1.463628035926045, 4.980359733554458, 3.021155706427933, 2.169369299993312, 9.5352885537829, 3.743285215021437, 2.2859202026490912, 6.497704018190186, 4.217853714902247, 4.599979025938114, 3.872586047335376, 4.001872435498625, 3.598124377078864, 2.796867852301516, 3.952732549505936, 4.305064433190853, 0.5770317662358695, 6.34976802266789, 4.643915998432449, 41.89052650795878, 2.797990540110008, 4.239901615698594, 2.063955394398708, 4.388803926301424, 6.587541594674703, 4.600617132994328, 8.470002418377527, 4.865044529524317, 8.110195855484518, 4.0324092450310305, 6.456776896687834, 8.504331018087873, 1.736672051843741, 6.058242255906616, 1.6180973739824978, 6.088712297043752, 6.748822917774361, 19.24573170416292, 3.834231653663244, 2.348299443441681, 1.3192172047359034, 2.8045217435788112, 5.4569417967632745, 3.1514963111787058, 1.646796199464018, 5.110335579429441, 112.53106938919545, 2.82816937086336, 140.01008402951254, 3.987767613222835, 44.35298632840255, 2.6132353459719915, 5.259684441751144, 3.307658906720648, 8.59947494991593, 9.059091273226914, 4.730727110505604, 2.8745324713746188, 3.9113015882135684, 4.384299605977227, 3.8010141745995276, 4.97580962895244, 4.083834921401602, 2.9729012113080935, 5.433445402188337, 3.7335721730605624, 9.261765758205842, 5.616566496164785, 6.161070452395766, 4.384299605977227, 5.012234406052826, 3.262216566643182, 4.018465834873592, 7.011455758070681, 8.3216700962214, 1.037225473256434, 6.227036868448968, 3.2766318202719162, 3.1142703100693034, 11.06093693342225, 3.93026238614082, 5.320954331934153, 4.102198366306496, 5.476793278839959, 2.5880935641760137, 3.667708518578288, 3.7939082092739733, 1.5817538293513729, 48.70884954732456, 4.653725046976465, 2.0454135811771588, 5.028495870599062, 5.173290513195393, 11.105643877134812, 2.283034550076009, 11.006213557468659, 4.535804781312061, 5.693759663091629, 1.3599164348415165, 5.742100563932566, 3.540622971522677, 123.5772504800879, 0.6194596665105674, 5.2803642734080425, 5.088689260675869, 1.2881231529464106, 2.6504700669976784, 1.3945192645730575, 2.089362019780041, 4.755245743137614, 2.0690258682789278, 4.368750157509652, 3.9206619417826567, 2.319899838439065, 4.079180148323068, 10.485686327085002, 1.7821106768935704, 3.616529054340066, 2.6544005116171188, 3.0437033434109027, 4.410316271541292, 43.483512186370326, 62.0727276508503, 4.138630603449691, 4.542780469175976, 3.5147111490490297, 2.319899838439065, 1.4381502937750346, 3.015156566679739, 2.126709739324553, 2.2253935455563965, 11.458884744938395, 9.811092200597944, 3.509683009058639, 6.6847404756400195, 4.651005691583024, 4.018602343727707, 3.3919598675946117, 3.7677110715952375, 3.86945905562411, 3.7338406263162285, 8.87938039809501, 2.629195592489346, 3.9075752794313767, 5.959131054396502, 8.222385198593084, 5.779113206495012, 8.620594516284063, 5.231484779445458, 4.415423073872075, 2.0582646130093885, 4.52172089369396, 3.656220700431123, 23.67219195105645, 10.19097621308024, 8.723260503563395, 4.794650268234368, 2.55217201240026, 1.4656683279903386, 6.386294236584348, 4.729354189906727, 1.9919931345278796, 6.345559834440243, 4.354679268213415, 6.534744548941907, 3.4527519849032178, 3.966315303980433, 4.407355790464011, 4.309700902703589, 13.126352068381015, 1.110484201864109, 3.314845967447006, 3.3351201106467334, 8.853753149276034, 4.041721643868141, 4.924490761218292, 4.993461823566634, 3.24935515212135, 1.766187850977606, 10.679867199482443, 1.9998395823670863, 108.75755815275632, 3.305937648367695, 5.879091023244532, 5.357052888732907, 3.7036258149618932, 3.033602860224737, 8.240187258570614, 9.644868415457049, 3.816303245569093, 1.365072957880809, 5.431451446625966, 11.26224139207426, 2.5934591426881926, 3.774865387822429, 3.3351201106467334, 11.910299507434777, 3.1694395990534554, 8.572116934917164, 5.9542082218519985, 2.6109356193622744, 50.9026699481064, 10.467263543645391, 1.827234520694961, 3.5396484528478167, 3.5366730130670163, 93.95270171208817, 7.374644351029581, 108.97554468780764, 3.3372501863940482, 4.798771973686616, 2.258834573789068, 8.658309797996322, 1.335949655373552, 4.520054882578559, 1.8603414595811112, 4.777201720695051, 4.810087380597313, 1.8079375514140206, 3.0309826630766885, 96.36470086094337, 7.132142932680242, 103.75015926647467, 3.3968297105453322, 4.327722015634598, 2.8928710672383273, 6.428248526380555, 1.5693535885034713, 5.459822581378949, 5.921264043053743, 4.114949065998089, 4.397488435303061, 6.391211461219852, 4.692067784004121, 2.103367403124771, 2.560557450699022, 3.672244430615767, 4.685654458043033, 4.905261190393425, 28.41219448561478, 9.176598609092625, 1.2178855789432972, 3.3925437504120035, 5.0517387370581215, 4.627360263938569, 6.068737816517786, 2.743125661790454, 2.311750060658597, 5.384674159119689, 3.9185779876368754, 5.567460086844049, 2.920963502263019, 3.580811446678666, 3.9730772861165846, 4.562577272533581, 5.742100563932566, 3.6322416597861493, 2.8256961809783454, 4.498231127989598, 4.760099237921029, 5.392292057884695, 4.084556832409647, 5.438015757669889, 2.940150348030479, 1.8659863202087532, 2.6996231550972856, 5.588152231647877, 3.923229437626204, 4.87133732606488, 4.014335028151297, 1.1554895809391983, 7.236908693682986, 3.351009960100838, 6.656177722747811, 4.388453830016678, 4.977726676089477, 5.63563692204488, 2.1795113930265293, 7.236908693682986, 6.923510635014822, 4.843645629243227, 18.911306716524283, 4.7559622122541425, 100.00141671598783, 8.215007703503957, 3.0313412501323733, 5.072614089022588, 3.662104181157759, 2.9235275624932617, 2.8045217435788112, 4.245404431554461, 3.5396484528478167, 4.647412294582072, 2.3823014284098476, 3.469209272765527, 2.0724321453586914, 5.4095647570465974, 2.258834573789068, 4.883046787497318, 3.554580086820009, 4.195686790582124, 78.60384021757973, 5.740409360364355, 10.466706645036007, 4.459428598372906, 1.4652167828602074, 3.0949118690834774, 3.8010428121731232, 3.608470781845356, 5.114445763268937, 3.5281340211504637, 4.554925644536549, 2.54472631426171, 1.4994680496330168, 6.906522080826669, 4.416516249679492, 6.139885461119496, 4.574079724891807, 3.534694937559237, 1.8126897880685386, 9.768683187849229, 2.5107362774307904, 2.6426941978462573, 3.9610811747716492, 4.824047662012725, 3.750610736254446, 4.565934617415325, 2.416506584806894, 3.8883188032221003, 5.025760440360597, 1.750669931762594, 3.2060059854298624, 2.801532757986414, 1.8079574817727182], \"xaxis\": \"x\", \"y\": [\"Distances predicted\", \"Distances predicted\", \"Distances predicted\", \"Distances predicted\", \"Distances predicted\", \"Distances predicted\", \"Distances predicted\", \"Distances predicted\", \"Distances predicted\", \"Distances predicted\", \"Distances predicted\", \"Distances predicted\", \"Distances predicted\", \"Distances predicted\", \"Distances predicted\", \"Distances predicted\", \"Distances predicted\", \"Distances predicted\", \"Distances predicted\", \"Distances predicted\", \"Distances predicted\", \"Distances predicted\", \"Distances predicted\", \"Distances predicted\", \"Distances predicted\", \"Distances predicted\", \"Distances predicted\", \"Distances predicted\", \"Distances predicted\", \"Distances predicted\", \"Distances predicted\", \"Distances predicted\", \"Distances predicted\", \"Distances predicted\", \"Distances predicted\", \"Distances predicted\", \"Distances predicted\", \"Distances predicted\", \"Distances predicted\", \"Distances predicted\", \"Distances predicted\", \"Distances predicted\", \"Distances predicted\", \"Distances predicted\", \"Distances predicted\", \"Distances predicted\", \"Distances predicted\", \"Distances predicted\", \"Distances predicted\", \"Distances predicted\", \"Distances predicted\", \"Distances predicted\", \"Distances predicted\", \"Distances predicted\", \"Distances predicted\", \"Distances predicted\", \"Distances predicted\", \"Distances predicted\", \"Distances predicted\", \"Distances predicted\", \"Distances predicted\", \"Distances predicted\", \"Distances predicted\", \"Distances predicted\", \"Distances predicted\", \"Distances predicted\", \"Distances predicted\", \"Distances predicted\", \"Distances predicted\", \"Distances predicted\", \"Distances predicted\", \"Distances predicted\", \"Distances predicted\", \"Distances predicted\", \"Distances predicted\", \"Distances predicted\", \"Distances predicted\", \"Distances predicted\", \"Distances predicted\", \"Distances predicted\", \"Distances predicted\", \"Distances predicted\", \"Distances predicted\", \"Distances predicted\", \"Distances predicted\", \"Distances predicted\", \"Distances predicted\", \"Distances predicted\", \"Distances predicted\", \"Distances predicted\", \"Distances predicted\", \"Distances predicted\", \"Distances predicted\", \"Distances predicted\", \"Distances predicted\", \"Distances predicted\", \"Distances predicted\", \"Distances predicted\", \"Distances predicted\", \"Distances predicted\", \"Distances predicted\", \"Distances predicted\", \"Distances predicted\", \"Distances predicted\", \"Distances predicted\", \"Distances predicted\", \"Distances predicted\", \"Distances predicted\", \"Distances predicted\", \"Distances predicted\", \"Distances predicted\", \"Distances predicted\", \"Distances predicted\", \"Distances predicted\", \"Distances predicted\", \"Distances predicted\", \"Distances predicted\", \"Distances predicted\", \"Distances predicted\", \"Distances predicted\", \"Distances predicted\", \"Distances predicted\", \"Distances predicted\", \"Distances predicted\", \"Distances predicted\", \"Distances predicted\", \"Distances predicted\", \"Distances predicted\", \"Distances predicted\", \"Distances predicted\", \"Distances predicted\", \"Distances predicted\", \"Distances predicted\", \"Distances predicted\", \"Distances predicted\", \"Distances predicted\", \"Distances predicted\", \"Distances predicted\", \"Distances predicted\", \"Distances predicted\", \"Distances predicted\", \"Distances predicted\", \"Distances predicted\", \"Distances predicted\", \"Distances predicted\", \"Distances predicted\", \"Distances predicted\", \"Distances predicted\", \"Distances predicted\", \"Distances predicted\", \"Distances predicted\", \"Distances predicted\", \"Distances predicted\", \"Distances predicted\", \"Distances predicted\", \"Distances predicted\", \"Distances predicted\", \"Distances predicted\", \"Distances predicted\", \"Distances predicted\", \"Distances predicted\", \"Distances predicted\", \"Distances predicted\", \"Distances predicted\", \"Distances predicted\", \"Distances predicted\", \"Distances predicted\", \"Distances predicted\", \"Distances predicted\", \"Distances predicted\", \"Distances predicted\", \"Distances predicted\", \"Distances predicted\", \"Distances predicted\", \"Distances predicted\", \"Distances predicted\", \"Distances predicted\", \"Distances predicted\", \"Distances predicted\", \"Distances predicted\", \"Distances predicted\", \"Distances predicted\", \"Distances predicted\", \"Distances predicted\", \"Distances predicted\", \"Distances predicted\", \"Distances predicted\", \"Distances predicted\", \"Distances predicted\", \"Distances predicted\", \"Distances predicted\", \"Distances predicted\", \"Distances predicted\", \"Distances predicted\", \"Distances predicted\", \"Distances predicted\", \"Distances predicted\", \"Distances predicted\", \"Distances predicted\", \"Distances predicted\", \"Distances predicted\", \"Distances predicted\", \"Distances predicted\", \"Distances predicted\", \"Distances predicted\", \"Distances predicted\", \"Distances predicted\", \"Distances predicted\", \"Distances predicted\", \"Distances predicted\", \"Distances predicted\", \"Distances predicted\", \"Distances predicted\", \"Distances predicted\", \"Distances predicted\", \"Distances predicted\", \"Distances predicted\", \"Distances predicted\", \"Distances predicted\", \"Distances predicted\", \"Distances predicted\", \"Distances predicted\", \"Distances predicted\", \"Distances predicted\", \"Distances predicted\", \"Distances predicted\", \"Distances predicted\", \"Distances predicted\", \"Distances predicted\", \"Distances predicted\", \"Distances predicted\", \"Distances predicted\", \"Distances predicted\", \"Distances predicted\", \"Distances predicted\", \"Distances predicted\", \"Distances predicted\", \"Distances predicted\", \"Distances predicted\", \"Distances predicted\", \"Distances predicted\", \"Distances predicted\", \"Distances predicted\", \"Distances predicted\", \"Distances predicted\", \"Distances predicted\", \"Distances predicted\", \"Distances predicted\", \"Distances predicted\", \"Distances predicted\", \"Distances predicted\", \"Distances predicted\", \"Distances predicted\", \"Distances predicted\", \"Distances predicted\", \"Distances predicted\", \"Distances predicted\", \"Distances predicted\", \"Distances predicted\", \"Distances predicted\", \"Distances predicted\", \"Distances predicted\", \"Distances predicted\", \"Distances predicted\", \"Distances predicted\", \"Distances predicted\", \"Distances predicted\", \"Distances predicted\", \"Distances predicted\", \"Distances predicted\", \"Distances predicted\", \"Distances predicted\", \"Distances predicted\", \"Distances predicted\", \"Distances predicted\", \"Distances predicted\", \"Distances predicted\", \"Distances predicted\", \"Distances predicted\", \"Distances predicted\", \"Distances predicted\", \"Distances predicted\", \"Distances predicted\", \"Distances predicted\", \"Distances predicted\", \"Distances predicted\", \"Distances predicted\", \"Distances predicted\", \"Distances predicted\", \"Distances predicted\", \"Distances predicted\", \"Distances predicted\", \"Distances predicted\", \"Distances predicted\", \"Distances predicted\", \"Distances predicted\", \"Distances predicted\", \"Distances predicted\", \"Distances predicted\", \"Distances predicted\", \"Distances predicted\", \"Distances predicted\", \"Distances predicted\", \"Distances predicted\", \"Distances predicted\", \"Distances predicted\", \"Distances predicted\", \"Distances predicted\", \"Distances predicted\", \"Distances predicted\", \"Distances predicted\", \"Distances predicted\", \"Distances predicted\", \"Distances predicted\", \"Distances predicted\", \"Distances predicted\", \"Distances predicted\", \"Distances predicted\", \"Distances predicted\", \"Distances predicted\", \"Distances predicted\", \"Distances predicted\", \"Distances predicted\", \"Distances predicted\", \"Distances predicted\", \"Distances predicted\", \"Distances predicted\", \"Distances predicted\", \"Distances predicted\", \"Distances predicted\", \"Distances predicted\", \"Distances predicted\", \"Distances predicted\", \"Distances predicted\", \"Distances predicted\", \"Distances predicted\", \"Distances predicted\", \"Distances predicted\", \"Distances predicted\", \"Distances predicted\", \"Distances predicted\", \"Distances predicted\", \"Distances predicted\", \"Distances predicted\", \"Distances predicted\", \"Distances predicted\", \"Distances predicted\", \"Distances predicted\", \"Distances predicted\", \"Distances predicted\", \"Distances predicted\", \"Distances predicted\", \"Distances predicted\", \"Distances predicted\", \"Distances predicted\", \"Distances predicted\", \"Distances predicted\", \"Distances predicted\", \"Distances predicted\", \"Distances predicted\", \"Distances predicted\", \"Distances predicted\", \"Distances predicted\", \"Distances predicted\", \"Distances predicted\", \"Distances predicted\", \"Distances predicted\", \"Distances predicted\", \"Distances predicted\", \"Distances predicted\", \"Distances predicted\", \"Distances predicted\", \"Distances predicted\", \"Distances predicted\", \"Distances predicted\", \"Distances predicted\", \"Distances predicted\", \"Distances predicted\", \"Distances predicted\", \"Distances predicted\", \"Distances predicted\", \"Distances predicted\", \"Distances predicted\", \"Distances predicted\", \"Distances predicted\", \"Distances predicted\", \"Distances predicted\", \"Distances predicted\", \"Distances predicted\", \"Distances predicted\", \"Distances predicted\", \"Distances predicted\", \"Distances predicted\", \"Distances predicted\", \"Distances predicted\", \"Distances predicted\", \"Distances predicted\", \"Distances predicted\", \"Distances predicted\", \"Distances predicted\", \"Distances predicted\", \"Distances predicted\", \"Distances predicted\", \"Distances predicted\", \"Distances predicted\", \"Distances predicted\", \"Distances predicted\", \"Distances predicted\", \"Distances predicted\", \"Distances predicted\", \"Distances predicted\", \"Distances predicted\", \"Distances predicted\", \"Distances predicted\", \"Distances predicted\", \"Distances predicted\", \"Distances predicted\", \"Distances predicted\", \"Distances predicted\", \"Distances predicted\", \"Distances predicted\", \"Distances predicted\", \"Distances predicted\", \"Distances predicted\", \"Distances predicted\", \"Distances predicted\", \"Distances predicted\", \"Distances predicted\", \"Distances predicted\", \"Distances predicted\", \"Distances predicted\", \"Distances predicted\", \"Distances predicted\", \"Distances predicted\", \"Distances predicted\", \"Distances predicted\", \"Distances predicted\", \"Distances predicted\", \"Distances predicted\", \"Distances predicted\", \"Distances predicted\", \"Distances predicted\", \"Distances predicted\", \"Distances predicted\", \"Distances predicted\", \"Distances predicted\", \"Distances predicted\", \"Distances predicted\", \"Distances predicted\", \"Distances predicted\", \"Distances predicted\", \"Distances predicted\", \"Distances predicted\", \"Distances predicted\", \"Distances predicted\", \"Distances predicted\", \"Distances predicted\", \"Distances predicted\", \"Distances predicted\", \"Distances predicted\", \"Distances predicted\", \"Distances predicted\", \"Distances predicted\", \"Distances predicted\", \"Distances predicted\", \"Distances predicted\", \"Distances predicted\", \"Distances predicted\", \"Distances predicted\", \"Distances predicted\", \"Distances predicted\", \"Distances predicted\", \"Distances predicted\", \"Distances predicted\", \"Distances predicted\", \"Distances predicted\", \"Distances predicted\", \"Distances predicted\", \"Distances predicted\", \"Distances predicted\", \"Distances predicted\", \"Distances predicted\", \"Distances predicted\", \"Distances predicted\", \"Distances predicted\", \"Distances predicted\", \"Distances predicted\", \"Distances predicted\", \"Distances predicted\", \"Distances predicted\", \"Distances predicted\", \"Distances predicted\", \"Distances predicted\", \"Distances predicted\", \"Distances predicted\", \"Distances predicted\", \"Distances predicted\", \"Distances predicted\", \"Distances predicted\", \"Distances predicted\", \"Distances predicted\", \"Distances predicted\", \"Distances predicted\", \"Distances predicted\", \"Distances predicted\", \"Distances predicted\", \"Distances predicted\", \"Distances predicted\", \"Distances predicted\", \"Distances predicted\", \"Distances predicted\", \"Distances predicted\", \"Distances predicted\", \"Distances predicted\", \"Distances predicted\", \"Distances predicted\", \"Distances predicted\", \"Distances predicted\", \"Distances predicted\", \"Distances predicted\", \"Distances predicted\", \"Distances predicted\", \"Distances predicted\", \"Distances predicted\", \"Distances predicted\", \"Distances predicted\", \"Distances predicted\", \"Distances predicted\", \"Distances predicted\", \"Distances predicted\", \"Distances predicted\", \"Distances predicted\", \"Distances predicted\", \"Distances predicted\", \"Distances predicted\", \"Distances predicted\", \"Distances predicted\", \"Distances predicted\", \"Distances predicted\", \"Distances predicted\", \"Distances predicted\", \"Distances predicted\", \"Distances predicted\", \"Distances predicted\", \"Distances predicted\", \"Distances predicted\", \"Distances predicted\", \"Distances predicted\", \"Distances predicted\", \"Distances predicted\", \"Distances predicted\", \"Distances predicted\", \"Distances predicted\", \"Distances predicted\", \"Distances predicted\", \"Distances predicted\", \"Distances predicted\", \"Distances predicted\", \"Distances predicted\", \"Distances predicted\", \"Distances predicted\", \"Distances predicted\", \"Distances predicted\", \"Distances predicted\", \"Distances predicted\", \"Distances predicted\", \"Distances predicted\", \"Distances predicted\", \"Distances predicted\", \"Distances predicted\", \"Distances predicted\", \"Distances predicted\", \"Distances predicted\", \"Distances predicted\", \"Distances predicted\", \"Distances predicted\", \"Distances predicted\", \"Distances predicted\", \"Distances predicted\", \"Distances predicted\", \"Distances predicted\", \"Distances predicted\", \"Distances predicted\", \"Distances predicted\", \"Distances predicted\", \"Distances predicted\", \"Distances predicted\", \"Distances predicted\", \"Distances predicted\", \"Distances predicted\", \"Distances predicted\", \"Distances predicted\", \"Distances predicted\", \"Distances predicted\", \"Distances predicted\", \"Distances predicted\", \"Distances predicted\", \"Distances predicted\", \"Distances predicted\", \"Distances predicted\", \"Distances predicted\", \"Distances predicted\", \"Distances predicted\", \"Distances predicted\", \"Distances predicted\", \"Distances predicted\", \"Distances predicted\", \"Distances predicted\", \"Distances predicted\", \"Distances predicted\", \"Distances predicted\", \"Distances predicted\", \"Distances predicted\", \"Distances predicted\", \"Distances predicted\", \"Distances predicted\", \"Distances predicted\", \"Distances predicted\", \"Distances predicted\", \"Distances predicted\", \"Distances predicted\", \"Distances predicted\", \"Distances predicted\", \"Distances predicted\", \"Distances predicted\", \"Distances predicted\", \"Distances predicted\", \"Distances predicted\", \"Distances predicted\", \"Distances predicted\", \"Distances predicted\", \"Distances predicted\", \"Distances predicted\", \"Distances predicted\", \"Distances predicted\", \"Distances predicted\", \"Distances predicted\", \"Distances predicted\", \"Distances predicted\", \"Distances predicted\", \"Distances predicted\", \"Distances predicted\", \"Distances predicted\", \"Distances predicted\", \"Distances predicted\", \"Distances predicted\", \"Distances predicted\", \"Distances predicted\", \"Distances predicted\", \"Distances predicted\", \"Distances predicted\", \"Distances predicted\", \"Distances predicted\", \"Distances predicted\", \"Distances predicted\", \"Distances predicted\", \"Distances predicted\", \"Distances predicted\", \"Distances predicted\", \"Distances predicted\", \"Distances predicted\", \"Distances predicted\", \"Distances predicted\", \"Distances predicted\", \"Distances predicted\", \"Distances predicted\", \"Distances predicted\", \"Distances predicted\", \"Distances predicted\", \"Distances predicted\", \"Distances predicted\", \"Distances predicted\", \"Distances predicted\", \"Distances predicted\", \"Distances predicted\", \"Distances predicted\", \"Distances predicted\", \"Distances predicted\", \"Distances predicted\", \"Distances predicted\", \"Distances predicted\", \"Distances predicted\", \"Distances predicted\", \"Distances predicted\", \"Distances predicted\", \"Distances predicted\", \"Distances predicted\", \"Distances predicted\", \"Distances predicted\", \"Distances predicted\", \"Distances predicted\", \"Distances predicted\", \"Distances predicted\", \"Distances predicted\", \"Distances predicted\", \"Distances predicted\", \"Distances predicted\", \"Distances predicted\", \"Distances predicted\", \"Distances predicted\", \"Distances predicted\", \"Distances predicted\", \"Distances predicted\", \"Distances predicted\", \"Distances predicted\", \"Distances predicted\", \"Distances predicted\", \"Distances predicted\", \"Distances predicted\", \"Distances predicted\", \"Distances predicted\", \"Distances predicted\", \"Distances predicted\", \"Distances predicted\", \"Distances predicted\", \"Distances predicted\", \"Distances predicted\", \"Distances predicted\", \"Distances predicted\", \"Distances predicted\", \"Distances predicted\", \"Distances predicted\", \"Distances predicted\", \"Distances predicted\", \"Distances predicted\", \"Distances predicted\", \"Distances predicted\", \"Distances predicted\", \"Distances predicted\", \"Distances predicted\", \"Distances predicted\", \"Distances predicted\", \"Distances predicted\", \"Distances predicted\", \"Distances predicted\", \"Distances predicted\", \"Distances predicted\", \"Distances predicted\", \"Distances predicted\", \"Distances predicted\", \"Distances predicted\", \"Distances predicted\", \"Distances predicted\", \"Distances predicted\", \"Distances predicted\", \"Distances predicted\", \"Distances predicted\", \"Distances predicted\", \"Distances predicted\", \"Distances predicted\", \"Distances predicted\", \"Distances predicted\", \"Distances predicted\", \"Distances predicted\", \"Distances predicted\", \"Distances predicted\", \"Distances predicted\", \"Distances predicted\", \"Distances predicted\", \"Distances predicted\", \"Distances predicted\", \"Distances predicted\", \"Distances predicted\", \"Distances predicted\", \"Distances predicted\", \"Distances predicted\", \"Distances predicted\", \"Distances predicted\", \"Distances predicted\", \"Distances predicted\", \"Distances predicted\", \"Distances predicted\", \"Distances predicted\", \"Distances predicted\", \"Distances predicted\", \"Distances predicted\", \"Distances predicted\", \"Distances predicted\", \"Distances predicted\", \"Distances predicted\", \"Distances predicted\", \"Distances predicted\", \"Distances predicted\", \"Distances predicted\", \"Distances predicted\", \"Distances predicted\", \"Distances predicted\", \"Distances predicted\", \"Distances predicted\", \"Distances predicted\", \"Distances predicted\", \"Distances predicted\", \"Distances predicted\", \"Distances predicted\", \"Distances predicted\", \"Distances predicted\", \"Distances predicted\", \"Distances predicted\", \"Distances predicted\", \"Distances predicted\", \"Distances predicted\", \"Distances predicted\", \"Distances predicted\", \"Distances predicted\", \"Distances predicted\", \"Distances predicted\", \"Distances predicted\", \"Distances predicted\", \"Distances predicted\", \"Distances predicted\", \"Distances predicted\", \"Distances predicted\", \"Distances predicted\", \"Distances predicted\", \"Distances predicted\", \"Distances predicted\", \"Distances predicted\", \"Distances predicted\", \"Distances predicted\", \"Distances predicted\", \"Distances predicted\", \"Distances predicted\", \"Distances predicted\", \"Distances predicted\", \"Distances predicted\", \"Distances predicted\", \"Distances predicted\", \"Distances predicted\", \"Distances predicted\", \"Distances predicted\", \"Distances predicted\", \"Distances predicted\", \"Distances predicted\", \"Distances predicted\", \"Distances predicted\", \"Distances predicted\", \"Distances predicted\", \"Distances predicted\", \"Distances predicted\", \"Distances predicted\", \"Distances predicted\", \"Distances predicted\", \"Distances predicted\", \"Distances predicted\", \"Distances predicted\", \"Distances predicted\", \"Distances predicted\", \"Distances predicted\", \"Distances predicted\", \"Distances predicted\", \"Distances predicted\", \"Distances predicted\", \"Distances predicted\", \"Distances predicted\", \"Distances predicted\", \"Distances predicted\", \"Distances predicted\", \"Distances predicted\", \"Distances predicted\", \"Distances predicted\", \"Distances predicted\", \"Distances predicted\", \"Distances predicted\", \"Distances predicted\", \"Distances predicted\", \"Distances predicted\", \"Distances predicted\", \"Distances predicted\", \"Distances predicted\", \"Distances predicted\", \"Distances predicted\", \"Distances predicted\", \"Distances predicted\", \"Distances predicted\", \"Distances predicted\", \"Distances predicted\", \"Distances predicted\", \"Distances predicted\", \"Distances predicted\", \"Distances predicted\", \"Distances predicted\", \"Distances predicted\", \"Distances predicted\", \"Distances predicted\", \"Distances predicted\", \"Distances predicted\", \"Distances predicted\", \"Distances predicted\", \"Distances predicted\", \"Distances predicted\", \"Distances predicted\", \"Distances predicted\", \"Distances predicted\", \"Distances predicted\", \"Distances predicted\", \"Distances predicted\", \"Distances predicted\", \"Distances predicted\", \"Distances predicted\", \"Distances predicted\", \"Distances predicted\", \"Distances predicted\", \"Distances predicted\", \"Distances predicted\", \"Distances predicted\", \"Distances predicted\", \"Distances predicted\", \"Distances predicted\", \"Distances predicted\", \"Distances predicted\", \"Distances predicted\", \"Distances predicted\", \"Distances predicted\", \"Distances predicted\", \"Distances predicted\", \"Distances predicted\", \"Distances predicted\", \"Distances predicted\", \"Distances predicted\", \"Distances predicted\", \"Distances predicted\", \"Distances predicted\", \"Distances predicted\", \"Distances predicted\", \"Distances predicted\", \"Distances predicted\", \"Distances predicted\", \"Distances predicted\", \"Distances predicted\", \"Distances predicted\", \"Distances predicted\", \"Distances predicted\", \"Distances predicted\", \"Distances predicted\", \"Distances predicted\", \"Distances predicted\", \"Distances predicted\", \"Distances predicted\", \"Distances predicted\", \"Distances predicted\", \"Distances predicted\", \"Distances predicted\", \"Distances predicted\", \"Distances predicted\", \"Distances predicted\", \"Distances predicted\", \"Distances predicted\", \"Distances predicted\", \"Distances predicted\", \"Distances predicted\", \"Distances predicted\", \"Distances predicted\", \"Distances predicted\", \"Distances predicted\", \"Distances predicted\", \"Distances predicted\", \"Distances predicted\", \"Distances predicted\", \"Distances predicted\", \"Distances predicted\", \"Distances predicted\", \"Distances predicted\", \"Distances predicted\", \"Distances predicted\", \"Distances predicted\", \"Distances predicted\", \"Distances predicted\", \"Distances predicted\", \"Distances predicted\", \"Distances predicted\", \"Distances predicted\", \"Distances predicted\", \"Distances predicted\", \"Distances predicted\", \"Distances predicted\", \"Distances predicted\", \"Distances predicted\", \"Distances predicted\", \"Distances predicted\", \"Distances predicted\", \"Distances predicted\", \"Distances predicted\", \"Distances predicted\", \"Distances predicted\", \"Distances predicted\", \"Distances predicted\", \"Distances predicted\", \"Distances predicted\", \"Distances predicted\", \"Distances predicted\", \"Distances predicted\", \"Distances predicted\", \"Distances predicted\", \"Distances predicted\", \"Distances predicted\", \"Distances predicted\", \"Distances predicted\", \"Distances predicted\", \"Distances predicted\", \"Distances predicted\", \"Distances predicted\", \"Distances predicted\", \"Distances predicted\", \"Distances predicted\", \"Distances predicted\", \"Distances predicted\", \"Distances predicted\", \"Distances predicted\", \"Distances predicted\", \"Distances predicted\", \"Distances predicted\", \"Distances predicted\", \"Distances predicted\", \"Distances predicted\", \"Distances predicted\", \"Distances predicted\", \"Distances predicted\", \"Distances predicted\", \"Distances predicted\", \"Distances predicted\", \"Distances predicted\", \"Distances predicted\", \"Distances predicted\", \"Distances predicted\", \"Distances predicted\", \"Distances predicted\", \"Distances predicted\", \"Distances predicted\", \"Distances predicted\", \"Distances predicted\", \"Distances predicted\", \"Distances predicted\", \"Distances predicted\", \"Distances predicted\", \"Distances predicted\", \"Distances predicted\", \"Distances predicted\", \"Distances predicted\", \"Distances predicted\", \"Distances predicted\", \"Distances predicted\", \"Distances predicted\", \"Distances predicted\", \"Distances predicted\", \"Distances predicted\", \"Distances predicted\", \"Distances predicted\", \"Distances predicted\", \"Distances predicted\", \"Distances predicted\", \"Distances predicted\", \"Distances predicted\", \"Distances predicted\", \"Distances predicted\", \"Distances predicted\", \"Distances predicted\", \"Distances predicted\", \"Distances predicted\", \"Distances predicted\", \"Distances predicted\", \"Distances predicted\", \"Distances predicted\", \"Distances predicted\", \"Distances predicted\", \"Distances predicted\", \"Distances predicted\", \"Distances predicted\", \"Distances predicted\", \"Distances predicted\", \"Distances predicted\", \"Distances predicted\", \"Distances predicted\", \"Distances predicted\", \"Distances predicted\", \"Distances predicted\", \"Distances predicted\", \"Distances predicted\", \"Distances predicted\", \"Distances predicted\", \"Distances predicted\", \"Distances predicted\", \"Distances predicted\", \"Distances predicted\", \"Distances predicted\", \"Distances predicted\", \"Distances predicted\", \"Distances predicted\", \"Distances predicted\", \"Distances predicted\", \"Distances predicted\", \"Distances predicted\", \"Distances predicted\", \"Distances predicted\", \"Distances predicted\", \"Distances predicted\", \"Distances predicted\", \"Distances predicted\", \"Distances predicted\", \"Distances predicted\", \"Distances predicted\", \"Distances predicted\", \"Distances predicted\", \"Distances predicted\", \"Distances predicted\", \"Distances predicted\", \"Distances predicted\", \"Distances predicted\", \"Distances predicted\", \"Distances predicted\", \"Distances predicted\", \"Distances predicted\", \"Distances predicted\", \"Distances predicted\", \"Distances predicted\", \"Distances predicted\", \"Distances predicted\", \"Distances predicted\", \"Distances predicted\", \"Distances predicted\", \"Distances predicted\", \"Distances predicted\", \"Distances predicted\", \"Distances predicted\", \"Distances predicted\", \"Distances predicted\", \"Distances predicted\", \"Distances predicted\", \"Distances predicted\", \"Distances predicted\", \"Distances predicted\", \"Distances predicted\", \"Distances predicted\", \"Distances predicted\", \"Distances predicted\", \"Distances predicted\", \"Distances predicted\", \"Distances predicted\", \"Distances predicted\", \"Distances predicted\", \"Distances predicted\", \"Distances predicted\", \"Distances predicted\", \"Distances predicted\", \"Distances predicted\", \"Distances predicted\", \"Distances predicted\", \"Distances predicted\", \"Distances predicted\", \"Distances predicted\", \"Distances predicted\", \"Distances predicted\", \"Distances predicted\", \"Distances predicted\", \"Distances predicted\", \"Distances predicted\", \"Distances predicted\", \"Distances predicted\", \"Distances predicted\", \"Distances predicted\", \"Distances predicted\", \"Distances predicted\", \"Distances predicted\", \"Distances predicted\", \"Distances predicted\", \"Distances predicted\", \"Distances predicted\", \"Distances predicted\", \"Distances predicted\", \"Distances predicted\", \"Distances predicted\", \"Distances predicted\", \"Distances predicted\", \"Distances predicted\", \"Distances predicted\", \"Distances predicted\", \"Distances predicted\", \"Distances predicted\", \"Distances predicted\", \"Distances predicted\", \"Distances predicted\", \"Distances predicted\", \"Distances predicted\", \"Distances predicted\", \"Distances predicted\", \"Distances predicted\", \"Distances predicted\", \"Distances predicted\", \"Distances predicted\", \"Distances predicted\", \"Distances predicted\", \"Distances predicted\", \"Distances predicted\", \"Distances predicted\", \"Distances predicted\", \"Distances predicted\", \"Distances predicted\", \"Distances predicted\", \"Distances predicted\", \"Distances predicted\", \"Distances predicted\", \"Distances predicted\", \"Distances predicted\", \"Distances predicted\", \"Distances predicted\", \"Distances predicted\", \"Distances predicted\", \"Distances predicted\", \"Distances predicted\", \"Distances predicted\", \"Distances predicted\", \"Distances predicted\", \"Distances predicted\", \"Distances predicted\", \"Distances predicted\", \"Distances predicted\", \"Distances predicted\", \"Distances predicted\", \"Distances predicted\", \"Distances predicted\", \"Distances predicted\", \"Distances predicted\", \"Distances predicted\", \"Distances predicted\", \"Distances predicted\", \"Distances predicted\", \"Distances predicted\", \"Distances predicted\", \"Distances predicted\", \"Distances predicted\", \"Distances predicted\", \"Distances predicted\", \"Distances predicted\", \"Distances predicted\", \"Distances predicted\", \"Distances predicted\", \"Distances predicted\", \"Distances predicted\", \"Distances predicted\", \"Distances predicted\", \"Distances predicted\", \"Distances predicted\", \"Distances predicted\", \"Distances predicted\", \"Distances predicted\", \"Distances predicted\", \"Distances predicted\", \"Distances predicted\", \"Distances predicted\", \"Distances predicted\", \"Distances predicted\", \"Distances predicted\", \"Distances predicted\", \"Distances predicted\", \"Distances predicted\", \"Distances predicted\", \"Distances predicted\", \"Distances predicted\", \"Distances predicted\", \"Distances predicted\", \"Distances predicted\", \"Distances predicted\", \"Distances predicted\", \"Distances predicted\", \"Distances predicted\", \"Distances predicted\", \"Distances predicted\", \"Distances predicted\", \"Distances predicted\", \"Distances predicted\", \"Distances predicted\", \"Distances predicted\", \"Distances predicted\", \"Distances predicted\", \"Distances predicted\", \"Distances predicted\", \"Distances predicted\", \"Distances predicted\", \"Distances predicted\", \"Distances predicted\", \"Distances predicted\", \"Distances predicted\", \"Distances predicted\", \"Distances predicted\", \"Distances predicted\", \"Distances predicted\", \"Distances predicted\", \"Distances predicted\", \"Distances predicted\", \"Distances predicted\", \"Distances predicted\", \"Distances predicted\", \"Distances predicted\", \"Distances predicted\", \"Distances predicted\", \"Distances predicted\", \"Distances predicted\", \"Distances predicted\", \"Distances predicted\", \"Distances predicted\", \"Distances predicted\", \"Distances predicted\", \"Distances predicted\", \"Distances predicted\", \"Distances predicted\", \"Distances predicted\", \"Distances predicted\", \"Distances predicted\", \"Distances predicted\", \"Distances predicted\", \"Distances predicted\", \"Distances predicted\", \"Distances predicted\", \"Distances predicted\", \"Distances predicted\", \"Distances predicted\", \"Distances predicted\", \"Distances predicted\", \"Distances predicted\", \"Distances predicted\", \"Distances predicted\", \"Distances predicted\", \"Distances predicted\", \"Distances predicted\", \"Distances predicted\", \"Distances predicted\", \"Distances predicted\", \"Distances predicted\", \"Distances predicted\", \"Distances predicted\", \"Distances predicted\", \"Distances predicted\", \"Distances predicted\", \"Distances predicted\", \"Distances predicted\", \"Distances predicted\", \"Distances predicted\", \"Distances predicted\", \"Distances predicted\", \"Distances predicted\", \"Distances predicted\", \"Distances predicted\", \"Distances predicted\", \"Distances predicted\", \"Distances predicted\", \"Distances predicted\", \"Distances predicted\", \"Distances predicted\", \"Distances predicted\", \"Distances predicted\", \"Distances predicted\", \"Distances predicted\", \"Distances predicted\", \"Distances predicted\", \"Distances predicted\", \"Distances predicted\", \"Distances predicted\", \"Distances predicted\", \"Distances predicted\", \"Distances predicted\", \"Distances predicted\", \"Distances predicted\", \"Distances predicted\", \"Distances predicted\", \"Distances predicted\", \"Distances predicted\", \"Distances predicted\", \"Distances predicted\", \"Distances predicted\", \"Distances predicted\", \"Distances predicted\", \"Distances predicted\", \"Distances predicted\", \"Distances predicted\", \"Distances predicted\", \"Distances predicted\", \"Distances predicted\", \"Distances predicted\", \"Distances predicted\", \"Distances predicted\", \"Distances predicted\", \"Distances predicted\", \"Distances predicted\", \"Distances predicted\", \"Distances predicted\", \"Distances predicted\", \"Distances predicted\", \"Distances predicted\", \"Distances predicted\", \"Distances predicted\", \"Distances predicted\", \"Distances predicted\", \"Distances predicted\", \"Distances predicted\", \"Distances predicted\", \"Distances predicted\", \"Distances predicted\", \"Distances predicted\", \"Distances predicted\", \"Distances predicted\", \"Distances predicted\", \"Distances predicted\", \"Distances predicted\", \"Distances predicted\", \"Distances predicted\", \"Distances predicted\", \"Distances predicted\", \"Distances predicted\", \"Distances predicted\", \"Distances predicted\", \"Distances predicted\", \"Distances predicted\", \"Distances predicted\", \"Distances predicted\", \"Distances predicted\", \"Distances predicted\", \"Distances predicted\", \"Distances predicted\", \"Distances predicted\", \"Distances predicted\", \"Distances predicted\", \"Distances predicted\", \"Distances predicted\", \"Distances predicted\", \"Distances predicted\", \"Distances predicted\", \"Distances predicted\", \"Distances predicted\", \"Distances predicted\", \"Distances predicted\", \"Distances predicted\", \"Distances predicted\", \"Distances predicted\", \"Distances predicted\", \"Distances predicted\", \"Distances predicted\", \"Distances predicted\", \"Distances predicted\", \"Distances predicted\", \"Distances predicted\", \"Distances predicted\", \"Distances predicted\", \"Distances predicted\", \"Distances predicted\", \"Distances predicted\", \"Distances predicted\", \"Distances predicted\", \"Distances predicted\", \"Distances predicted\", \"Distances predicted\", \"Distances predicted\", \"Distances predicted\", \"Distances predicted\", \"Distances predicted\", \"Distances predicted\", \"Distances predicted\", \"Distances predicted\", \"Distances predicted\", \"Distances predicted\", \"Distances predicted\", \"Distances predicted\", \"Distances predicted\", \"Distances predicted\", \"Distances predicted\", \"Distances predicted\", \"Distances predicted\", \"Distances predicted\", \"Distances predicted\", \"Distances predicted\", \"Distances predicted\", \"Distances predicted\", \"Distances predicted\", \"Distances predicted\", \"Distances predicted\", \"Distances predicted\", \"Distances predicted\", \"Distances predicted\", \"Distances predicted\", \"Distances predicted\", \"Distances predicted\", \"Distances predicted\", \"Distances predicted\", \"Distances predicted\", \"Distances predicted\", \"Distances predicted\", \"Distances predicted\", \"Distances predicted\", \"Distances predicted\", \"Distances predicted\", \"Distances predicted\", \"Distances predicted\", \"Distances predicted\", \"Distances predicted\", \"Distances predicted\", \"Distances predicted\", \"Distances predicted\", \"Distances predicted\", \"Distances predicted\", \"Distances predicted\", \"Distances predicted\", \"Distances predicted\", \"Distances predicted\", \"Distances predicted\", \"Distances predicted\", \"Distances predicted\", \"Distances predicted\", \"Distances predicted\", \"Distances predicted\", \"Distances predicted\", \"Distances predicted\", \"Distances predicted\", \"Distances predicted\", \"Distances predicted\", \"Distances predicted\", \"Distances predicted\", \"Distances predicted\", \"Distances predicted\", \"Distances predicted\", \"Distances predicted\", \"Distances predicted\", \"Distances predicted\", \"Distances predicted\", \"Distances predicted\", \"Distances predicted\", \"Distances predicted\", \"Distances predicted\", \"Distances predicted\", \"Distances predicted\", \"Distances predicted\", \"Distances predicted\", \"Distances predicted\", \"Distances predicted\", \"Distances predicted\", \"Distances predicted\", \"Distances predicted\", \"Distances predicted\", \"Distances predicted\", \"Distances predicted\", \"Distances predicted\", \"Distances predicted\", \"Distances predicted\", \"Distances predicted\", \"Distances predicted\", \"Distances predicted\", \"Distances predicted\", \"Distances predicted\", \"Distances predicted\", \"Distances predicted\", \"Distances predicted\", \"Distances predicted\", \"Distances predicted\", \"Distances predicted\", \"Distances predicted\", \"Distances predicted\", \"Distances predicted\", \"Distances predicted\", \"Distances predicted\", \"Distances predicted\", \"Distances predicted\", \"Distances predicted\", \"Distances predicted\", \"Distances predicted\", \"Distances predicted\", \"Distances predicted\", \"Distances predicted\", \"Distances predicted\", \"Distances predicted\", \"Distances predicted\", \"Distances predicted\", \"Distances predicted\", \"Distances predicted\", \"Distances predicted\", \"Distances predicted\", \"Distances predicted\", \"Distances predicted\", \"Distances predicted\", \"Distances predicted\", \"Distances predicted\", \"Distances predicted\", \"Distances predicted\", \"Distances predicted\", \"Distances predicted\", \"Distances predicted\", \"Distances predicted\", \"Distances predicted\", \"Distances predicted\", \"Distances predicted\", \"Distances predicted\", \"Distances predicted\", \"Distances predicted\", \"Distances predicted\", \"Distances predicted\", \"Distances predicted\", \"Distances predicted\", \"Distances predicted\", \"Distances predicted\", \"Distances predicted\", \"Distances predicted\", \"Distances predicted\", \"Distances predicted\", \"Distances predicted\", \"Distances predicted\", \"Distances predicted\", \"Distances predicted\", \"Distances predicted\", \"Distances predicted\", \"Distances predicted\", \"Distances predicted\", \"Distances predicted\", \"Distances predicted\", \"Distances predicted\", \"Distances predicted\", \"Distances predicted\", \"Distances predicted\", \"Distances predicted\", \"Distances predicted\", \"Distances predicted\", \"Distances predicted\", \"Distances predicted\", \"Distances predicted\", \"Distances predicted\", \"Distances predicted\", \"Distances predicted\", \"Distances predicted\", \"Distances predicted\", \"Distances predicted\", \"Distances predicted\", \"Distances predicted\", \"Distances predicted\", \"Distances predicted\", \"Distances predicted\", \"Distances predicted\", \"Distances predicted\", \"Distances predicted\", \"Distances predicted\", \"Distances predicted\", \"Distances predicted\", \"Distances predicted\", \"Distances predicted\", \"Distances predicted\", \"Distances predicted\", \"Distances predicted\", \"Distances predicted\", \"Distances predicted\", \"Distances predicted\", \"Distances predicted\", \"Distances predicted\", \"Distances predicted\", \"Distances predicted\", \"Distances predicted\", \"Distances predicted\", \"Distances predicted\", \"Distances predicted\", \"Distances predicted\", \"Distances predicted\", \"Distances predicted\", \"Distances predicted\", \"Distances predicted\", \"Distances predicted\", \"Distances predicted\", \"Distances predicted\", \"Distances predicted\", \"Distances predicted\", \"Distances predicted\", \"Distances predicted\", \"Distances predicted\", \"Distances predicted\", \"Distances predicted\", \"Distances predicted\", \"Distances predicted\", \"Distances predicted\", \"Distances predicted\", \"Distances predicted\", \"Distances predicted\", \"Distances predicted\", \"Distances predicted\", \"Distances predicted\", \"Distances predicted\", \"Distances predicted\", \"Distances predicted\", \"Distances predicted\", \"Distances predicted\", \"Distances predicted\", \"Distances predicted\", \"Distances predicted\", \"Distances predicted\", \"Distances predicted\", \"Distances predicted\", \"Distances predicted\", \"Distances predicted\", \"Distances predicted\", \"Distances predicted\", \"Distances predicted\", \"Distances predicted\", \"Distances predicted\", \"Distances predicted\", \"Distances predicted\", \"Distances predicted\", \"Distances predicted\", \"Distances predicted\", \"Distances predicted\", \"Distances predicted\", \"Distances predicted\", \"Distances predicted\", \"Distances predicted\", \"Distances predicted\", \"Distances predicted\", \"Distances predicted\", \"Distances predicted\", \"Distances predicted\", \"Distances predicted\", \"Distances predicted\", \"Distances predicted\", \"Distances predicted\", \"Distances predicted\", \"Distances predicted\", \"Distances predicted\", \"Distances predicted\", \"Distances predicted\", \"Distances predicted\", \"Distances predicted\", \"Distances predicted\", \"Distances predicted\", \"Distances predicted\", \"Distances predicted\", \"Distances predicted\", \"Distances predicted\", \"Distances predicted\", \"Distances predicted\", \"Distances predicted\", \"Distances predicted\", \"Distances predicted\", \"Distances predicted\", \"Distances predicted\", \"Distances predicted\", \"Distances predicted\", \"Distances predicted\", \"Distances predicted\", \"Distances predicted\", \"Distances predicted\", \"Distances predicted\", \"Distances predicted\", \"Distances predicted\", \"Distances predicted\", \"Distances predicted\", \"Distances predicted\", \"Distances predicted\", \"Distances predicted\", \"Distances predicted\", \"Distances predicted\", \"Distances predicted\", \"Distances predicted\", \"Distances predicted\", \"Distances predicted\", \"Distances predicted\", \"Distances predicted\", \"Distances predicted\", \"Distances predicted\", \"Distances predicted\", \"Distances predicted\", \"Distances predicted\", \"Distances predicted\", \"Distances predicted\", \"Distances predicted\", \"Distances predicted\", \"Distances predicted\", \"Distances predicted\", \"Distances predicted\", \"Distances predicted\", \"Distances predicted\", \"Distances predicted\", \"Distances predicted\", \"Distances predicted\", \"Distances predicted\", \"Distances predicted\", \"Distances predicted\", \"Distances predicted\", \"Distances predicted\", \"Distances predicted\", \"Distances predicted\", \"Distances predicted\", \"Distances predicted\", \"Distances predicted\", \"Distances predicted\", \"Distances predicted\", \"Distances predicted\", \"Distances predicted\", \"Distances predicted\", \"Distances predicted\", \"Distances predicted\", \"Distances predicted\", \"Distances predicted\", \"Distances predicted\", \"Distances predicted\", \"Distances predicted\", \"Distances predicted\", \"Distances predicted\", \"Distances predicted\", \"Distances predicted\", \"Distances predicted\", \"Distances predicted\", \"Distances predicted\", \"Distances predicted\", \"Distances predicted\", \"Distances predicted\", \"Distances predicted\", \"Distances predicted\", \"Distances predicted\", \"Distances predicted\", \"Distances predicted\", \"Distances predicted\", \"Distances predicted\", \"Distances predicted\", \"Distances predicted\", \"Distances predicted\", \"Distances predicted\", \"Distances predicted\", \"Distances predicted\", \"Distances predicted\", \"Distances predicted\", \"Distances predicted\", \"Distances predicted\", \"Distances predicted\", \"Distances predicted\", \"Distances predicted\", \"Distances predicted\", \"Distances predicted\", \"Distances predicted\", \"Distances predicted\", \"Distances predicted\", \"Distances predicted\", \"Distances predicted\", \"Distances predicted\", \"Distances predicted\", \"Distances predicted\", \"Distances predicted\", \"Distances predicted\", \"Distances predicted\", \"Distances predicted\", \"Distances predicted\", \"Distances predicted\", \"Distances predicted\", \"Distances predicted\", \"Distances predicted\", \"Distances predicted\", \"Distances predicted\", \"Distances predicted\", \"Distances predicted\", \"Distances predicted\", \"Distances predicted\", \"Distances predicted\", \"Distances predicted\", \"Distances predicted\", \"Distances predicted\", \"Distances predicted\", \"Distances predicted\", \"Distances predicted\", \"Distances predicted\", \"Distances predicted\", \"Distances predicted\", \"Distances predicted\", \"Distances predicted\", \"Distances predicted\", \"Distances predicted\", \"Distances predicted\", \"Distances predicted\", \"Distances predicted\", \"Distances predicted\", \"Distances predicted\", \"Distances predicted\", \"Distances predicted\", \"Distances predicted\", \"Distances predicted\", \"Distances predicted\", \"Distances predicted\", \"Distances predicted\", \"Distances predicted\", \"Distances predicted\", \"Distances predicted\", \"Distances predicted\", \"Distances predicted\", \"Distances predicted\", \"Distances predicted\", \"Distances predicted\", \"Distances predicted\", \"Distances predicted\", \"Distances predicted\", \"Distances predicted\", \"Distances predicted\", \"Distances predicted\", \"Distances predicted\", \"Distances predicted\", \"Distances predicted\", \"Distances predicted\", \"Distances predicted\", \"Distances predicted\", \"Distances predicted\", \"Distances predicted\", \"Distances predicted\", \"Distances predicted\", \"Distances predicted\", \"Distances predicted\", \"Distances predicted\", \"Distances predicted\", \"Distances predicted\", \"Distances predicted\", \"Distances predicted\", \"Distances predicted\", \"Distances predicted\", \"Distances predicted\", \"Distances predicted\", \"Distances predicted\", \"Distances predicted\", \"Distances predicted\", \"Distances predicted\", \"Distances predicted\", \"Distances predicted\", \"Distances predicted\", \"Distances predicted\", \"Distances predicted\", \"Distances predicted\", \"Distances predicted\", \"Distances predicted\", \"Distances predicted\", \"Distances predicted\", \"Distances predicted\", \"Distances predicted\", \"Distances predicted\", \"Distances predicted\", \"Distances predicted\", \"Distances predicted\", \"Distances predicted\", \"Distances predicted\", \"Distances predicted\", \"Distances predicted\", \"Distances predicted\", \"Distances predicted\", \"Distances predicted\", \"Distances predicted\", \"Distances predicted\", \"Distances predicted\", \"Distances predicted\", \"Distances predicted\", \"Distances predicted\", \"Distances predicted\", \"Distances predicted\", \"Distances predicted\", \"Distances predicted\", \"Distances predicted\", \"Distances predicted\", \"Distances predicted\", \"Distances predicted\", \"Distances predicted\", \"Distances predicted\", \"Distances predicted\", \"Distances predicted\", \"Distances predicted\", \"Distances predicted\", \"Distances predicted\", \"Distances predicted\", \"Distances predicted\", \"Distances predicted\", \"Distances predicted\", \"Distances predicted\", \"Distances predicted\", \"Distances predicted\", \"Distances predicted\", \"Distances predicted\", \"Distances predicted\", \"Distances predicted\", \"Distances predicted\", \"Distances predicted\", \"Distances predicted\", \"Distances predicted\", \"Distances predicted\", \"Distances predicted\", \"Distances predicted\", \"Distances predicted\", \"Distances predicted\", \"Distances predicted\", \"Distances predicted\", \"Distances predicted\", \"Distances predicted\", \"Distances predicted\", \"Distances predicted\", \"Distances predicted\", \"Distances predicted\", \"Distances predicted\", \"Distances predicted\", \"Distances predicted\", \"Distances predicted\", \"Distances predicted\", \"Distances predicted\", \"Distances predicted\", \"Distances predicted\", \"Distances predicted\", \"Distances predicted\", \"Distances predicted\", \"Distances predicted\", \"Distances predicted\", \"Distances predicted\", \"Distances predicted\", \"Distances predicted\", \"Distances predicted\", \"Distances predicted\", \"Distances predicted\", \"Distances predicted\", \"Distances predicted\", \"Distances predicted\", \"Distances predicted\", \"Distances predicted\", \"Distances predicted\", \"Distances predicted\", \"Distances predicted\", \"Distances predicted\", \"Distances predicted\", \"Distances predicted\", \"Distances predicted\", \"Distances predicted\", \"Distances predicted\", \"Distances predicted\", \"Distances predicted\", \"Distances predicted\", \"Distances predicted\", \"Distances predicted\", \"Distances predicted\", \"Distances predicted\", \"Distances predicted\", \"Distances predicted\", \"Distances predicted\", \"Distances predicted\", \"Distances predicted\", \"Distances predicted\", \"Distances predicted\", \"Distances predicted\", \"Distances predicted\", \"Distances predicted\", \"Distances predicted\", \"Distances predicted\", \"Distances predicted\", \"Distances predicted\", \"Distances predicted\", \"Distances predicted\", \"Distances predicted\", \"Distances predicted\", \"Distances predicted\", \"Distances predicted\", \"Distances predicted\", \"Distances predicted\", \"Distances predicted\", \"Distances predicted\", \"Distances predicted\", \"Distances predicted\", \"Distances predicted\", \"Distances predicted\", \"Distances predicted\", \"Distances predicted\", \"Distances predicted\", \"Distances predicted\", \"Distances predicted\", \"Distances predicted\", \"Distances predicted\", \"Distances predicted\", \"Distances predicted\", \"Distances predicted\", \"Distances predicted\", \"Distances predicted\", \"Distances predicted\", \"Distances predicted\", \"Distances predicted\", \"Distances predicted\", \"Distances predicted\", \"Distances predicted\", \"Distances predicted\", \"Distances predicted\", \"Distances predicted\", \"Distances predicted\", \"Distances predicted\", \"Distances predicted\", \"Distances predicted\", \"Distances predicted\", \"Distances predicted\", \"Distances predicted\", \"Distances predicted\", \"Distances predicted\", \"Distances predicted\", \"Distances predicted\", \"Distances predicted\", \"Distances predicted\", \"Distances predicted\", \"Distances predicted\", \"Distances predicted\", \"Distances predicted\", \"Distances predicted\", \"Distances predicted\", \"Distances predicted\", \"Distances predicted\", \"Distances predicted\", \"Distances predicted\", \"Distances predicted\", \"Distances predicted\", \"Distances predicted\", \"Distances predicted\", \"Distances predicted\", \"Distances predicted\", \"Distances predicted\", \"Distances predicted\", \"Distances predicted\", \"Distances predicted\", \"Distances predicted\", \"Distances predicted\", \"Distances predicted\", \"Distances predicted\", \"Distances predicted\", \"Distances predicted\", \"Distances predicted\", \"Distances predicted\", \"Distances predicted\", \"Distances predicted\", \"Distances predicted\", \"Distances predicted\", \"Distances predicted\", \"Distances predicted\", \"Distances predicted\", \"Distances predicted\", \"Distances predicted\", \"Distances predicted\", \"Distances predicted\", \"Distances predicted\", \"Distances predicted\", \"Distances predicted\", \"Distances predicted\", \"Distances predicted\", \"Distances predicted\", \"Distances predicted\", \"Distances predicted\", \"Distances predicted\", \"Distances predicted\", \"Distances predicted\", \"Distances predicted\", \"Distances predicted\", \"Distances predicted\", \"Distances predicted\", \"Distances predicted\", \"Distances predicted\", \"Distances predicted\", \"Distances predicted\", \"Distances predicted\", \"Distances predicted\", \"Distances predicted\", \"Distances predicted\", \"Distances predicted\", \"Distances predicted\", \"Distances predicted\", \"Distances predicted\", \"Distances predicted\", \"Distances predicted\", \"Distances predicted\", \"Distances predicted\", \"Distances predicted\", \"Distances predicted\", \"Distances predicted\", \"Distances predicted\", \"Distances predicted\", \"Distances predicted\", \"Distances predicted\", \"Distances predicted\", \"Distances predicted\", \"Distances predicted\", \"Distances predicted\", \"Distances predicted\", \"Distances predicted\", \"Distances predicted\", \"Distances predicted\", \"Distances predicted\", \"Distances predicted\", \"Distances predicted\", \"Distances predicted\", \"Distances predicted\", \"Distances predicted\", \"Distances predicted\", \"Distances predicted\", \"Distances predicted\", \"Distances predicted\", \"Distances predicted\", \"Distances predicted\", \"Distances predicted\", \"Distances predicted\", \"Distances predicted\", \"Distances predicted\", \"Distances predicted\", \"Distances predicted\", \"Distances predicted\", \"Distances predicted\", \"Distances predicted\", \"Distances predicted\", \"Distances predicted\", \"Distances predicted\", \"Distances predicted\", \"Distances predicted\", \"Distances predicted\", \"Distances predicted\", \"Distances predicted\", \"Distances predicted\", \"Distances predicted\", \"Distances predicted\", \"Distances predicted\", \"Distances predicted\", \"Distances predicted\", \"Distances predicted\", \"Distances predicted\", \"Distances predicted\", \"Distances predicted\", \"Distances predicted\", \"Distances predicted\", \"Distances predicted\", \"Distances predicted\", \"Distances predicted\", \"Distances predicted\", \"Distances predicted\", \"Distances predicted\", \"Distances predicted\", \"Distances predicted\", \"Distances predicted\", \"Distances predicted\", \"Distances predicted\", \"Distances predicted\", \"Distances predicted\", \"Distances predicted\", \"Distances predicted\", \"Distances predicted\", \"Distances predicted\", \"Distances predicted\", \"Distances predicted\", \"Distances predicted\", \"Distances predicted\", \"Distances predicted\", \"Distances predicted\", \"Distances predicted\", \"Distances predicted\", \"Distances predicted\", \"Distances predicted\", \"Distances predicted\", \"Distances predicted\", \"Distances predicted\", \"Distances predicted\", \"Distances predicted\", \"Distances predicted\", \"Distances predicted\", \"Distances predicted\", \"Distances predicted\", \"Distances predicted\", \"Distances predicted\", \"Distances predicted\", \"Distances predicted\", \"Distances predicted\", \"Distances predicted\", \"Distances predicted\", \"Distances predicted\", \"Distances predicted\", \"Distances predicted\", \"Distances predicted\", \"Distances predicted\", \"Distances predicted\", \"Distances predicted\", \"Distances predicted\", \"Distances predicted\", \"Distances predicted\", \"Distances predicted\", \"Distances predicted\", \"Distances predicted\", \"Distances predicted\", \"Distances predicted\", \"Distances predicted\", \"Distances predicted\", \"Distances predicted\", \"Distances predicted\", \"Distances predicted\", \"Distances predicted\", \"Distances predicted\", \"Distances predicted\", \"Distances predicted\", \"Distances predicted\", \"Distances predicted\", \"Distances predicted\", \"Distances predicted\", \"Distances predicted\", \"Distances predicted\", \"Distances predicted\", \"Distances predicted\", \"Distances predicted\", \"Distances predicted\", \"Distances predicted\", \"Distances predicted\", \"Distances predicted\", \"Distances predicted\", \"Distances predicted\", \"Distances predicted\", \"Distances predicted\", \"Distances predicted\", \"Distances predicted\", \"Distances predicted\", \"Distances predicted\", \"Distances predicted\", \"Distances predicted\", \"Distances predicted\", \"Distances predicted\", \"Distances predicted\", \"Distances predicted\", \"Distances predicted\", \"Distances predicted\", \"Distances predicted\", \"Distances predicted\", \"Distances predicted\", \"Distances predicted\", \"Distances predicted\", \"Distances predicted\", \"Distances predicted\", \"Distances predicted\", \"Distances predicted\", \"Distances predicted\", \"Distances predicted\", \"Distances predicted\", \"Distances predicted\", \"Distances predicted\", \"Distances predicted\", \"Distances predicted\", \"Distances predicted\", \"Distances predicted\", \"Distances predicted\", \"Distances predicted\", \"Distances predicted\", \"Distances predicted\", \"Distances predicted\", \"Distances predicted\", \"Distances predicted\", \"Distances predicted\", \"Distances predicted\", \"Distances predicted\", \"Distances predicted\", \"Distances predicted\", \"Distances predicted\", \"Distances predicted\", \"Distances predicted\", \"Distances predicted\", \"Distances predicted\", \"Distances predicted\", \"Distances predicted\", \"Distances predicted\", \"Distances predicted\", \"Distances predicted\", \"Distances predicted\", \"Distances predicted\", \"Distances predicted\", \"Distances predicted\", \"Distances predicted\", \"Distances predicted\", \"Distances predicted\", \"Distances predicted\", \"Distances predicted\", \"Distances predicted\", \"Distances predicted\", \"Distances predicted\", \"Distances predicted\", \"Distances predicted\", \"Distances predicted\", \"Distances predicted\", \"Distances predicted\", \"Distances predicted\", \"Distances predicted\", \"Distances predicted\", \"Distances predicted\", \"Distances predicted\", \"Distances predicted\", \"Distances predicted\", \"Distances predicted\", \"Distances predicted\", \"Distances predicted\", \"Distances predicted\", \"Distances predicted\", \"Distances predicted\", \"Distances predicted\", \"Distances predicted\", \"Distances predicted\", \"Distances predicted\", \"Distances predicted\", \"Distances predicted\", \"Distances predicted\", \"Distances predicted\", \"Distances predicted\", \"Distances predicted\", \"Distances predicted\", \"Distances predicted\", \"Distances predicted\", \"Distances predicted\", \"Distances predicted\", \"Distances predicted\", \"Distances predicted\", \"Distances predicted\", \"Distances predicted\", \"Distances predicted\", \"Distances predicted\", \"Distances predicted\", \"Distances predicted\", \"Distances predicted\", \"Distances predicted\", \"Distances predicted\", \"Distances predicted\", \"Distances predicted\", \"Distances predicted\", \"Distances predicted\", \"Distances predicted\", \"Distances predicted\", \"Distances predicted\", \"Distances predicted\", \"Distances predicted\", \"Distances predicted\", \"Distances predicted\", \"Distances predicted\", \"Distances predicted\", \"Distances predicted\", \"Distances predicted\", \"Distances predicted\", \"Distances predicted\", \"Distances predicted\", \"Distances predicted\", \"Distances predicted\", \"Distances predicted\", \"Distances predicted\", \"Distances predicted\", \"Distances predicted\", \"Distances predicted\", \"Distances predicted\", \"Distances predicted\", \"Distances predicted\", \"Distances predicted\", \"Distances predicted\", \"Distances predicted\", \"Distances predicted\", \"Distances predicted\", \"Distances predicted\", \"Distances predicted\", \"Distances predicted\", \"Distances predicted\", \"Distances predicted\", \"Distances predicted\", \"Distances predicted\", \"Distances predicted\", \"Distances predicted\", \"Distances predicted\", \"Distances predicted\", \"Distances predicted\", \"Distances predicted\", \"Distances predicted\", \"Distances predicted\", \"Distances predicted\", \"Distances predicted\", \"Distances predicted\", \"Distances predicted\", \"Distances predicted\", \"Distances predicted\", \"Distances predicted\", \"Distances predicted\", \"Distances predicted\", \"Distances predicted\", \"Distances predicted\", \"Distances predicted\", \"Distances predicted\", \"Distances predicted\", \"Distances predicted\", \"Distances predicted\", \"Distances predicted\", \"Distances predicted\", \"Distances predicted\", \"Distances predicted\", \"Distances predicted\", \"Distances predicted\", \"Distances predicted\", \"Distances predicted\", \"Distances predicted\", \"Distances predicted\", \"Distances predicted\", \"Distances predicted\", \"Distances predicted\", \"Distances predicted\", \"Distances predicted\", \"Distances predicted\", \"Distances predicted\", \"Distances predicted\", \"Distances predicted\", \"Distances predicted\", \"Distances predicted\", \"Distances predicted\", \"Distances predicted\", \"Distances predicted\", \"Distances predicted\", \"Distances predicted\", \"Distances predicted\", \"Distances predicted\", \"Distances predicted\", \"Distances predicted\", \"Distances predicted\", \"Distances predicted\", \"Distances predicted\", \"Distances predicted\", \"Distances predicted\", \"Distances predicted\", \"Distances predicted\", \"Distances predicted\", \"Distances predicted\", \"Distances predicted\", \"Distances predicted\", \"Distances predicted\", \"Distances predicted\", \"Distances predicted\", \"Distances predicted\", \"Distances predicted\", \"Distances predicted\", \"Distances predicted\", \"Distances predicted\", \"Distances predicted\", \"Distances predicted\", \"Distances predicted\", \"Distances predicted\", \"Distances predicted\", \"Distances predicted\", \"Distances predicted\", \"Distances predicted\", \"Distances predicted\", \"Distances predicted\", \"Distances predicted\", \"Distances predicted\", \"Distances predicted\", \"Distances predicted\", \"Distances predicted\", \"Distances predicted\", \"Distances predicted\", \"Distances predicted\", \"Distances predicted\", \"Distances predicted\", \"Distances predicted\", \"Distances predicted\", \"Distances predicted\", \"Distances predicted\", \"Distances predicted\", \"Distances predicted\", \"Distances predicted\", \"Distances predicted\", \"Distances predicted\", \"Distances predicted\", \"Distances predicted\", \"Distances predicted\", \"Distances predicted\", \"Distances predicted\", \"Distances predicted\", \"Distances predicted\", \"Distances predicted\", \"Distances predicted\", \"Distances predicted\", \"Distances predicted\", \"Distances predicted\", \"Distances predicted\", \"Distances predicted\", \"Distances predicted\", \"Distances predicted\", \"Distances predicted\", \"Distances predicted\", \"Distances predicted\", \"Distances predicted\", \"Distances predicted\", \"Distances predicted\", \"Distances predicted\", \"Distances predicted\", \"Distances predicted\", \"Distances predicted\", \"Distances predicted\", \"Distances predicted\", \"Distances predicted\", \"Distances predicted\", \"Distances predicted\", \"Distances predicted\", \"Distances predicted\", \"Distances predicted\", \"Distances predicted\", \"Distances predicted\", \"Distances predicted\", \"Distances predicted\", \"Distances predicted\", \"Distances predicted\", \"Distances predicted\", \"Distances predicted\", \"Distances predicted\", \"Distances predicted\", \"Distances predicted\", \"Distances predicted\", \"Distances predicted\", \"Distances predicted\", \"Distances predicted\", \"Distances predicted\", \"Distances predicted\", \"Distances predicted\", \"Distances predicted\", \"Distances predicted\", \"Distances predicted\", \"Distances predicted\", \"Distances predicted\", \"Distances predicted\", \"Distances predicted\", \"Distances predicted\", \"Distances predicted\", \"Distances predicted\", \"Distances predicted\", \"Distances predicted\", \"Distances predicted\", \"Distances predicted\", \"Distances predicted\", \"Distances predicted\", \"Distances predicted\", \"Distances predicted\", \"Distances predicted\", \"Distances predicted\", \"Distances predicted\", \"Distances predicted\", \"Distances predicted\", \"Distances predicted\", \"Distances predicted\", \"Distances predicted\", \"Distances predicted\", \"Distances predicted\", \"Distances predicted\", \"Distances predicted\", \"Distances predicted\", \"Distances predicted\", \"Distances predicted\", \"Distances predicted\", \"Distances predicted\", \"Distances predicted\", \"Distances predicted\", \"Distances predicted\", \"Distances predicted\", \"Distances predicted\", \"Distances predicted\", \"Distances predicted\", \"Distances predicted\", \"Distances predicted\", \"Distances predicted\", \"Distances predicted\", \"Distances predicted\", \"Distances predicted\", \"Distances predicted\", \"Distances predicted\", \"Distances predicted\", \"Distances predicted\", \"Distances predicted\", \"Distances predicted\", \"Distances predicted\", \"Distances predicted\", \"Distances predicted\", \"Distances predicted\", \"Distances predicted\", \"Distances predicted\", \"Distances predicted\", \"Distances predicted\", \"Distances predicted\", \"Distances predicted\", \"Distances predicted\", \"Distances predicted\", \"Distances predicted\", \"Distances predicted\", \"Distances predicted\", \"Distances predicted\", \"Distances predicted\", \"Distances predicted\", \"Distances predicted\", \"Distances predicted\", \"Distances predicted\", \"Distances predicted\", \"Distances predicted\", \"Distances predicted\", \"Distances predicted\", \"Distances predicted\", \"Distances predicted\", \"Distances predicted\", \"Distances predicted\", \"Distances predicted\", \"Distances predicted\", \"Distances predicted\", \"Distances predicted\", \"Distances predicted\", \"Distances predicted\", \"Distances predicted\", \"Distances predicted\", \"Distances predicted\", \"Distances predicted\", \"Distances predicted\", \"Distances predicted\", \"Distances predicted\", \"Distances predicted\", \"Distances predicted\", \"Distances predicted\", \"Distances predicted\", \"Distances predicted\", \"Distances predicted\", \"Distances predicted\", \"Distances predicted\", \"Distances predicted\", \"Distances predicted\", \"Distances predicted\", \"Distances predicted\", \"Distances predicted\", \"Distances predicted\", \"Distances predicted\", \"Distances predicted\", \"Distances predicted\", \"Distances predicted\", \"Distances predicted\", \"Distances predicted\", \"Distances predicted\", \"Distances predicted\", \"Distances predicted\", \"Distances predicted\", \"Distances predicted\", \"Distances predicted\", \"Distances predicted\", \"Distances predicted\", \"Distances predicted\", \"Distances predicted\", \"Distances predicted\", \"Distances predicted\", \"Distances predicted\", \"Distances predicted\", \"Distances predicted\", \"Distances predicted\", \"Distances predicted\", \"Distances predicted\", \"Distances predicted\", \"Distances predicted\", \"Distances predicted\", \"Distances predicted\", \"Distances predicted\", \"Distances predicted\", \"Distances predicted\", \"Distances predicted\", \"Distances predicted\", \"Distances predicted\", \"Distances predicted\", \"Distances predicted\", \"Distances predicted\", \"Distances predicted\", \"Distances predicted\", \"Distances predicted\", \"Distances predicted\", \"Distances predicted\", \"Distances predicted\", \"Distances predicted\", \"Distances predicted\", \"Distances predicted\", \"Distances predicted\", \"Distances predicted\", \"Distances predicted\", \"Distances predicted\", \"Distances predicted\", \"Distances predicted\", \"Distances predicted\", \"Distances predicted\", \"Distances predicted\", \"Distances predicted\", \"Distances predicted\", \"Distances predicted\", \"Distances predicted\", \"Distances predicted\", \"Distances predicted\", \"Distances predicted\", \"Distances predicted\", \"Distances predicted\", \"Distances predicted\", \"Distances predicted\", \"Distances predicted\", \"Distances predicted\", \"Distances predicted\", \"Distances predicted\", \"Distances predicted\", \"Distances predicted\", \"Distances predicted\", \"Distances predicted\", \"Distances predicted\", \"Distances predicted\", \"Distances predicted\", \"Distances predicted\", \"Distances predicted\", \"Distances predicted\", \"Distances predicted\", \"Distances predicted\", \"Distances predicted\", \"Distances predicted\", \"Distances predicted\", \"Distances predicted\", \"Distances predicted\", \"Distances predicted\", \"Distances predicted\", \"Distances predicted\", \"Distances predicted\", \"Distances predicted\", \"Distances predicted\", \"Distances predicted\", \"Distances predicted\", \"Distances predicted\", \"Distances predicted\", \"Distances predicted\", \"Distances predicted\", \"Distances predicted\", \"Distances predicted\", \"Distances predicted\", \"Distances predicted\", \"Distances predicted\", \"Distances predicted\", \"Distances predicted\", \"Distances predicted\", \"Distances predicted\", \"Distances predicted\", \"Distances predicted\", \"Distances predicted\", \"Distances predicted\", \"Distances predicted\", \"Distances predicted\", \"Distances predicted\", \"Distances predicted\", \"Distances predicted\", \"Distances predicted\", \"Distances predicted\", \"Distances predicted\", \"Distances predicted\", \"Distances predicted\", \"Distances predicted\", \"Distances predicted\", \"Distances predicted\", \"Distances predicted\", \"Distances predicted\", \"Distances predicted\", \"Distances predicted\", \"Distances predicted\", \"Distances predicted\", \"Distances predicted\", \"Distances predicted\", \"Distances predicted\", \"Distances predicted\", \"Distances predicted\", \"Distances predicted\", \"Distances predicted\", \"Distances predicted\", \"Distances predicted\", \"Distances predicted\", \"Distances predicted\", \"Distances predicted\", \"Distances predicted\", \"Distances predicted\", \"Distances predicted\", \"Distances predicted\", \"Distances predicted\", \"Distances predicted\", \"Distances predicted\", \"Distances predicted\", \"Distances predicted\", \"Distances predicted\", \"Distances predicted\", \"Distances predicted\", \"Distances predicted\", \"Distances predicted\", \"Distances predicted\", \"Distances predicted\", \"Distances predicted\", \"Distances predicted\", \"Distances predicted\", \"Distances predicted\", \"Distances predicted\", \"Distances predicted\", \"Distances predicted\", \"Distances predicted\", \"Distances predicted\", \"Distances predicted\", \"Distances predicted\", \"Distances predicted\", \"Distances predicted\", \"Distances predicted\", \"Distances predicted\", \"Distances predicted\", \"Distances predicted\", \"Distances predicted\", \"Distances predicted\", \"Distances predicted\", \"Distances predicted\", \"Distances predicted\", \"Distances predicted\", \"Distances predicted\", \"Distances predicted\", \"Distances predicted\", \"Distances predicted\", \"Distances predicted\", \"Distances predicted\", \"Distances predicted\", \"Distances predicted\", \"Distances predicted\", \"Distances predicted\", \"Distances predicted\", \"Distances predicted\", \"Distances predicted\", \"Distances predicted\", \"Distances predicted\", \"Distances predicted\", \"Distances predicted\", \"Distances predicted\", \"Distances predicted\", \"Distances predicted\", \"Distances predicted\", \"Distances predicted\", \"Distances predicted\", \"Distances predicted\", \"Distances predicted\", \"Distances predicted\", \"Distances predicted\", \"Distances predicted\", \"Distances predicted\", \"Distances predicted\", \"Distances predicted\", \"Distances predicted\", \"Distances predicted\", \"Distances predicted\", \"Distances predicted\", \"Distances predicted\", \"Distances predicted\", \"Distances predicted\", \"Distances predicted\", \"Distances predicted\", \"Distances predicted\", \"Distances predicted\", \"Distances predicted\", \"Distances predicted\", \"Distances predicted\", \"Distances predicted\", \"Distances predicted\", \"Distances predicted\", \"Distances predicted\", \"Distances predicted\", \"Distances predicted\", \"Distances predicted\", \"Distances predicted\", \"Distances predicted\", \"Distances predicted\", \"Distances predicted\", \"Distances predicted\", \"Distances predicted\", \"Distances predicted\", \"Distances predicted\", \"Distances predicted\", \"Distances predicted\", \"Distances predicted\", \"Distances predicted\", \"Distances predicted\", \"Distances predicted\", \"Distances predicted\", \"Distances predicted\", \"Distances predicted\", \"Distances predicted\", \"Distances predicted\", \"Distances predicted\", \"Distances predicted\", \"Distances predicted\", \"Distances predicted\", \"Distances predicted\", \"Distances predicted\", \"Distances predicted\", \"Distances predicted\", \"Distances predicted\", \"Distances predicted\", \"Distances predicted\", \"Distances predicted\", \"Distances predicted\", \"Distances predicted\", \"Distances predicted\", \"Distances predicted\", \"Distances predicted\", \"Distances predicted\", \"Distances predicted\", \"Distances predicted\", \"Distances predicted\", \"Distances predicted\", \"Distances predicted\", \"Distances predicted\", \"Distances predicted\", \"Distances predicted\", \"Distances predicted\", \"Distances predicted\", \"Distances predicted\", \"Distances predicted\", \"Distances predicted\", \"Distances predicted\", \"Distances predicted\", \"Distances predicted\", \"Distances predicted\", \"Distances predicted\", \"Distances predicted\", \"Distances predicted\", \"Distances predicted\", \"Distances predicted\", \"Distances predicted\", \"Distances predicted\", \"Distances predicted\", \"Distances predicted\", \"Distances predicted\", \"Distances predicted\", \"Distances predicted\", \"Distances predicted\", \"Distances predicted\", \"Distances predicted\", \"Distances predicted\", \"Distances predicted\", \"Distances predicted\", \"Distances predicted\", \"Distances predicted\", \"Distances predicted\", \"Distances predicted\", \"Distances predicted\", \"Distances predicted\", \"Distances predicted\", \"Distances predicted\", \"Distances predicted\", \"Distances predicted\", \"Distances predicted\", \"Distances predicted\", \"Distances predicted\", \"Distances predicted\", \"Distances predicted\", \"Distances predicted\", \"Distances predicted\", \"Distances predicted\", \"Distances predicted\", \"Distances predicted\", \"Distances predicted\", \"Distances predicted\", \"Distances predicted\"], \"yaxis\": \"y2\"}, {\"legendgroup\": \"Distances Approx\", \"marker\": {\"color\": \"rgb(255, 127, 14)\", \"symbol\": \"line-ns-open\"}, \"mode\": \"markers\", \"name\": \"Distances Approx\", \"showlegend\": false, \"type\": \"scatter\", \"x\": [0.0, 2.4212429999429403, 3.603551977037312, 0.1599769899283798, 2.4400148020968904, 0.0, 2.1632987547829376, 0.0, 1.232199089335768, 3.656425794616789, 1.2648746635556034, 0.0, 0.0, 0.0, 1.1598707864047964, 3.600223710694665, 1.2006667590333797, 1.2059818350874434, 0.8885566064289439, 1.2006629697901026, 2.8408631279595564, 3.0830683884020136, 7.716822952988392, 2.648472693927405, 1.3792899348536931, 2.7390429863462944, 2.4212332754143526, 1.2059827810567896, 1.1999998092651367, 2.7784784984516477, 1.2237945579728178, 1.4647454018986377, 0.0, 0.0, 1.2649381113170195, 8.626977989979762, 2.0646476601259667, 2.032227897034625, 13.51638080860806, 100.04123216964113, 2.1491455934003985, 10.069805468751094, 0.0, 2.4738473375449948, 0.0, 2.720051782748043, 3.1240114222546445, 2.448956410944525, 1.5120384824563282, 6.5881246309551855, 3.306181963272284, 6.672342537301987, 1.6800854887101724, 2.4029947856052907, 3.923460528892001, 1.252885469424957, 6.916189172376279, 2.4399985116600718, 1.5121262210213708, 11.054804595762247, 0.0, 0.0, 0.0, 2.683288915639809, 1.3242357856542852, 0.0, 2.5765396638377607, 2.5298179070190305, 3.877300482290027, 6.636911867956625, 1.1999868837802898, 3.6712939099112325, 1.2106157653870753, 0.0, 0.0, 2.7200510781114593, 0.0, 4.872979291436071, 1.2322355323299872, 0.0, 4.832560129796999, 2.411961042470954, 7.055609864026454, 3.202250016657399, 1.828242404875056, 2.4399962479722963, 2.426886648283274, 2.6120550333788226, 2.4644742417454943, 1.1999989748001099, 1.6145362772030734, 0.0, 2.4644641296467986, 2.4400148020968904, 3.282852836224378, 2.4475279736482602, 4.823940060878888, 1.8744502225087445, 0.0, 0.0, 2.3999996185302734, 5.047144916350385, 3.53840629289335, 0.0, 0.0, 6.678675365340332, 1.2006767223995767, 2.5411973449348872, 0.0, 8.448309987833474, 4.967731800045108, 3.832699216362655, 2.4013310705641415, 1.442191151334017, 2.011560028157686, 3.0773851135290866, 7.590510339782526, 2.064550455198849, 0.0, 0.0, 3.9395908642755137, 2.9294973205496526, 0.0, 1.5620329049424453, 10.35532357451856, 2.611947481739298, 0.0, 1.2924922313815193, 6.000532204882885, 0.0, 1.9053078412883033, 5.348687261834458, 3.748839836719055, 0.0, 2.4162660893619834, 2.408324947355362, 0.0, 3.9395908642755137, 2.4119708847241035, 0.0, 1.7545273162974293, 1.5880113794105006, 1.2648746635556034, 0.0, 0.0, 5.609809254103731, 3.614193459868923, 0.239861077193019, 0.16005120608064352, 8.322997310691802, 3.5403945480054277, 165.56100490762103, 2.5056430457770578, 3.1240860495361145, 1.5200115989111131, 0.0, 1.5367581542628195, 3.725791795291021, 2.683135887071124, 3.0094932440396436, 2.976186960538984, 1.2799895449188043, 2.5849209511491216, 2.8273402292139065, 0.0, 1.7838876631709453, 0.0, 3.046263985441727, 0.6799964397291104, 2.6483997938991966, 0.0, 2.4013090867204943, 6.423644422545931, 2.4737073434940147, 1.2649375003323, 0.0, 3.5383271290803475, 1.6690638411515843, 0.8399323881078622, 0.0, 7.256823254640545, 1.2237363236300098, 0.0, 2.408310430284286, 1.2528797034555326, 2.6028371114568345, 2.426874848617938, 0.0, 0.0, 13.219632702840103, 3.2311112630319974, 0.0, 0.0, 2.426845791747484, 2.4331109716352497, 3.2022162849429887, 2.648498355590947, 2.4119610890346714, 9.600331986013805, 0.8207523095769466, 0.6209571339714107, 7.088165542382561, 1.3599724022583646, 0.0, 0.0, 0.0, 0.0, 7.64696897928388, 0.0, 7.467195503428438, 6.665718685031422, 0.0, 0.0, 2.3296190050072, 1.560124288457011, 4.177396577770526, 2.494466063096045, 0.0, 4.711773320238451, 1.3599715280861995, 2.447554160832758, 9.14686214372912, 0.27990668297178367, 1.488025944547016, 1.9600051679990782, 3.705999912410042, 0.07996645613204603, 1.3200506582146074, 1.4799320158451303, 3.6712767520394447, 2.0996230405679293, 0.0, 0.0, 6.299720542111203, 0.0, 2.4268563725204673, 106.16411398825035, 2.3197952484064728, 3.3199694029869513, 0.7599497145624402, 2.999893439520572, 0.6399996200475238, 0.32002662004105725, 0.0, 3.6564428566351466, 2.6027659919718453, 0.0, 2.755091744394103, 2.412000028143462, 1.2237651971064412, 2.720000412050915, 1.9053759130010606, 2.529822208537824, 2.0646476601259667, 4.200759862250082, 1.442182195477154, 0.0, 2.411963664227454, 0.0, 0.0, 1.2059821881116461, 4.219007858488737, 0.0, 6.885018657758933, 1.4799320158451303, 6.774907568497593, 0.6210027419057867, 1.6356475697426027, 2.389000305004461, 4.426967529329985, 2.4268421860012044, 2.4212401990616503, 1.2528797034555326, 6.669618969484287, 2.4838568372328793, 1.216540178335225, 0.0, 0.9601140799238752, 5.072481884014853, 2.4268563725204673, 0.0, 0.0, 2.9998905464362977, 2.819643438543962, 5.176646632069899, 7.412788446402518, 2.4212220742707604, 0.0, 4.007171635371477, 1.4647151015980253, 0.07994682544482652, 3.614197002097482, 1.2237894229435813, 1.241966175646514, 3.1305338545040025, 0.0, 1.6143987024409907, 0.0, 1.6414505465624076, 1.2059817136396904, 1.2399996934520732, 2.819597923865252, 1.9386565140704133, 0.0, 1.7839142954503282, 0.0, 3.5975556413648624, 5.091192801703321, 2.719990206774477, 1.259902068001812, 3.69668995155851, 6.793148949049916, 2.5562961095233563, 0.35987255405067087, 0.0, 0.0, 2.4162813909298704, 8.046355384212985, 2.4053185211940744, 3.5677955054674015, 8.084552685281276, 3.770198020988913, 7.175897044207788, 3.3285994154381773, 1.2106699098366795, 5.295171071624233, 195.10077022890985, 1.3078282138277173, 0.0, 11.006130079822025, 2.8761330970610093, 0.0, 0.16004930409471113, 3.175851121333102, 0.0, 0.0, 2.517486245949637, 1.36001282274285, 1.2237894229435813, 2.405332349757287, 0.0, 0.0, 0.0, 0.0, 2.4053368607165404, 2.5059148043098634, 0.0, 0.0, 0.0, 2.0320436464867693, 0.0, 0.0, 0.0, 0.8485580737917242, 4.6101750638233545, 3.607991622600657, 1.641365507825146, 2.9364730022935617, 0.0, 14.016776886367158, 5.147954856919216, 4.938158146239376, 1.9366219225939554, 1.9200055127452702, 0.0, 1.8137735704100022, 0.0, 0.0, 0.0, 3.6878250478029306, 3.679371837488196, 2.011560028157686, 0.0, 1.8137742013648586, 2.648496971849089, 0.0, 1.9053064121025631, 0.0, 1.3994336461750776, 0.0, 6.52191683876333, 1.223764080102006, 0.0, 9.562727135332725, 1.6969716424918762, 1.614427511061585, 3.024150159563128, 1.292519853928644, 1.2006667978439234, 2.49446540024836, 1.3994183105770472, 6.00513763778661, 1.3416447656917547, 3.6141861682273437, 1.2238211629828941, 2.064550455198836, 3.6433279709993758, 1.7255704214559473, 0.0, 3.748952689196782, 0.0, 7.183280930108577, 3.607991622600657, 2.6833184314855596, 6.776776205578279, 1.813682428778516, 3.7489019065254525, 1.2026615751667027, 12.865823713946533, 4.711953939793517, 1.2106124434754162, 1.205983139386172, 10.373091175482635, 101.79530461206785, 4.282788445904395, 0.03998660262529676, 2.280187521070002, 0.0, 0.0, 0.0, 7.034531980534527, 1.5879111636572552, 3.194023304353587, 1.2419404055531453, 0.2400035737496542, 2.6156492684816217, 1.4421828382770385, 8.240358023626166, 1.2026588666569906, 0.0, 2.7390290046102708, 0.0, 1.8070929077157614, 1.697079725834552, 0.07997320525056792, 4.371533289029097, 202.9631299176868, 0.0, 0.0800237478173904, 0.6000099066693344, 3.6019989915697703, 0.0, 0.0, 1.6414505465624076, 2.4331104362778726, 1.2059815243246557, 1.0587788830278242, 8.881784197001252e-16, 5.306069181050532, 4.859790594697948, 1.669043150564563, 7.64696897928388, 2.473866095797234, 0.0, 6.092449004004034, 0.0, 1.910372384140468, 0.0, 4.806001537304907, 0.6000438566726382, 0.0, 5.011342295022942, 0.0, 0.0, 4.371502672111386, 3.194023304353587, 7.500144131410225, 0.0, 2.9364726125710794, 0.6000429054501326, 2.4399808109268744, 2.972946455972573, 2.433102067904471, 3.832699216362655, 2.683292213605689, 0.0, 23.984419245560908, 10.816651827277285, 1.7255871894743922, 3.6221490499328595, 1.9863438211354618, 10.373091175482635, 3.9077476445761556, 4.859790594697948, 3.603556406955531, 0.0, 1.2781903982227298, 2.7988506574836545, 0.0, 0.0, 0.07994682544482652, 1.479912392388412, 0.0, 1.2000002861022958, 0.28001629269376244, 0.5599909280333205, 6.089459153962817, 8.188942107591371, 0.6000099066693344, 2.411960093525738, 3.175851121333074, 7.05746984210096, 1.4647119763232044, 1.2059741200294585, 0.0, 1.2237359121305496, 6.872891391410949, 3.6008877760682156, 1.8745236597045194, 6.097233390877628, 0.0, 0.0, 3.810667334751875, 1.4421909581116448, 1.2165612479729617, 0.7199793417453847, 2.4083158282539703, 0.0, 1.2322132332451183, 0.0, 1.1642186980701152, 0.0, 0.47990536065821016, 2.7014518265386758, 2.9068116288569823, 2.862516291680894, 0.0, 1.4304270449188645, 0.0, 3.230967948641506, 4.8950732056150335, 162.008228864109, 4.467457273201555, 1.3242483136002416, 3.8483480799019314, 1.4880388535152365, 1.0800733365760466, 7.591853275551399, 2.4398247055117586, 0.0799732052505688, 3.8924053201560067, 0.0, 7.175897044207788, 0.0, 2.119828280386376, 0.0, 2.163296380313606, 4.0799973436898425, 2.4399989806804414, 2.7199975408921038, 2.6120550333788226, 6.629443331557351, 2.8999919978727373, 160.91877749806378, 0.0, 3.447072920712099, 5.091238978235248, 4.2829157909302955, 1.6343338471005253, 2.648498355590947, 0.0, 158.50028281290696, 2.3999977111816406, 2.4162794964321472, 2.4362226442234065, 4.096608977488748, 2.884426325529299, 0.0, 1.2924348791815345, 3.9897842185293264, 0.0, 6.669618969484287, 4.400015738728102, 1.5620009912058173, 3.159743304127582, 1.359979568996872, 0.0, 0.35987255405067087, 1.3078173637790669, 1.2419091972684886, 2.426856372520466, 101.3871391481114, 0.16022848854176733, 2.4053259851983113, 4.947795569410998, 1.8399731809830386, 2.8081139038283984, 4.012712261742711, 8.303100785276854, 0.0, 99.89325143002516, 2.48011686758518, 1.241942137176001, 2.6156852671108966, 3.2287933075116726, 1.2799869379792495, 2.494466824104021, 2.1313729175259515, 1.2165402900774185, 2.4359954505959043, 1.6413615009605895, 1.2165410426892211, 2.401330668394678, 1.488077677580588, 0.0, 3.1241117368837608, 0.0, 0.0, 3.024192250127621, 1.8004438880341114, 0.0, 2.739053070937885, 0.0, 0.0, 1.7255398349411675, 7.720639352519444, 2.264152477078097, 2.411969935782757, 1.614484435552278, 1.1999998092651367, 2.1647813647134098, 1.8800519822696928, 0.0, 1.3242014108972961, 0.0, 2.41627938619596, 3.2022845667327062, 0.0, 0.0, 3.2192693093005076, 1.4422399752349113, 1.2237945579728178, 2.433081332574618, 3.6035550664314706, 2.576537339192741, 1.4648133734854138, 3.6221391912760037, 7.034531980534527, 2.976245625850046, 2.6156355908251596, 2.631826967029899, 3.2022394390621978, 0.0, 1.1999988555908239, 1.2165509563443604, 3.3799264032544882, 0.0, 4.92001084322892, 1.4422391817402107, 11.892840614498729, 1.2649381113170246, 2.7911632169271647, 1.697065413522936, 3.610874019197445, 2.483884040901223, 0.0, 0.0, 0.9599115568513962, 1.488077677580588, 0.31993877148901795, 2.230350433221242, 0.0, 0.0, 19.06982530194441, 6.6293343477846065, 1.2006629697901026, 0.0, 3.877353765671512, 2.5056635151780444, 1.2000007629394567, 15.652444405407318, 2.408344980743853, 2.4399953783319592, 103.78951464727903, 0.8800185249193347, 0.0, 2.4013308109971367, 3.62216404555479, 3.7059851087478886, 0.0, 1.2528178471740183, 9.4997227250598, 0.0, 3.768002858443109, 0.0, 0.0, 2.4029998094030613, 1.23999655174859, 0.0, 1.813682428778516, 2.400332112877623, 0.0, 2.40133176414278, 3.7059968196648345, 1.2000007629394531, 1.536738864867297, 1.2237774734401112, 1.2165402900774185, 0.0, 3.32674520339502, 2.447528150777335, 0.0, 2.976181948235618, 1.2000007629394531, 0.0, 2.0322437328659806, 3.7189176084674904, 1.6414288278830893, 0.24014136652816406, 1.3993743052316365, 1.3242474515781755, 0.0, 2.240159469897561, 2.4359954505959043, 0.0, 0.0, 0.0, 8.089885474654674, 4.68605202209711, 8.403428810420714, 9.68153279147988, 3.8207893973606186, 2.2303227286489333, 1.2322589728351496, 0.07997326332493974, 1.7544938953728284, 1.2781498134567595, 2.4003312493127527, 6.6426311339289805, 0.8185768411452615, 0.0, 0.0, 3.0095849739478435, 0.0, 0.0, 1.3242495502637834, 8.084552685281276, 1.3994332372918652, 7.528102444514624, 1.9681663225185169, 2.3667405434092386, 2.9294861340885507, 0.0, 104.20128335876099, 3.5677955054674015, 6.571330900116439, 4.6101750638233545, 1.2106047829475448, 1.9367086666835585, 2.411960093525738, 2.455691305834871, 0.0, 1.0001001451082416, 101.02665548566442, 2.8637618501689364, 0.15994641050113584, 1.0001061432542364, 2.7014069718084595, 1.2237774734401112, 0.0, 16.527381526862705, 0.0, 1.2705559714186656, 2.902591925510825, 1.2026623815367221, 6.493973036910911, 0.0, 0.0, 2.6832961377823494, 2.8635546495631923, 1.9999788688785531, 5.421338736617444, 0.0, 0.6209990562109416, 3.1305338545040025, 0.0, 1.2924618486844344, 9.363812019653473, 2.4013308109971367, 8.757992827078526, 0.0, 2.505643045777056, 2.408311188518616, 2.408310430284286, 1.6622889294911825, 0.0, 3.2310468113900304, 4.22742055346168, 1.420396650971216, 2.4556878217346654, 2.401329225034397, 0.0, 5.184748211969442, 0.0, 0.8399330848228765, 1.2006676357743975, 3.637350616433704, 0.0, 0.0, 6.726221512572364, 0.0, 1.3242482263271864, 1.3994320539840337, 4.523111847510085, 2.433102225470752, 1.0650506184479502, 1.264866962582584, 0.0, 0.0, 2.1302139194384693, 4.394322439340588, 3.48002681166116, 1.3993743052316365, 1.6971720889293578, 3.779728317636656, 4.284745331039283, 16.779909775816975, 0.0, 6.7185051019526, 2.8196092986057106, 10.343071486162106, 1.1200617600095437, 2.1598963519467556, 1.8530002852788858, 3.627524817151858, 1.399403665616792, 0.0, 1.3200506582146074, 2.570292022284816, 6.985021991664603, 3.7157088253698225, 0.0, 0.0, 0.0, 1.0800801432448548, 0.0, 3.0986155045215, 4.417448485687406, 0.15994641050113584, 8.400852221441998, 0.0, 0.12003621610517823, 3.643293844808965, 0.0, 2.7585474389877924, 1.3994170444217735, 1.4647119763232044, 3.627452487022677, 2.640197181044606, 0.0, 1.4421906798500412, 0.9601725924605832, 0.0, 2.5056768088016956, 9.092317055589593, 0.0, 3.017021451869048, 5.400001480088893, 1.5878278222405682, 0.0, 3.2288157360989653, 0.0, 1.1999979615211487, 2.6155904332299826, 2.4119799158510506, 1.2059821881116461, 0.0, 3.6002216445405786, 1.202666051433236, 0.0, 0.8399323881078622, 1.7545215692281126, 0.0, 0.48005334359872404, 0.7199727806073281, 0.0, 3.5383271290803475, 2.5061101092744216, 2.615695485872421, 1.3994550444866012, 2.5061013679791513, 3.3599842912390074, 0.0, 0.0, 3.9604079262983105, 3.6002209008463635, 8.2870366448041, 3.602001001033926, 3.28289213713327, 3.0000330149010854, 0.0, 1.292454529715661, 1.4647454018986377, 0.0, 3.607988025060539, 4.847936080677009, 6.931080212219592, 0.0, 0.0, 0.0, 1.9680394527768164, 7.9704398794930675, 0.0, 1.2237654781199698, 2.8408717643093833, 2.5056757308033815, 158.46765383591227, 3.8626338801181124, 0.6400167237974104, 1.2026588666569906, 0.0, 13.317906731934583, 1.488162391805589, 1.2419091972684886, 0.0, 2.426852776872191, 5.4780836873194705, 0.07995739824339193, 3.0095924106357272, 2.683296137782343, 0.0, 18.09824538467167, 0.0, 0.0, 0.0, 0.0, 7.5626817779459525, 1.0001001451082416, 1.512172943720111, 2.366760899220934, 0.0, 0.0, 7.169740323477364, 2.040030434353657, 0.0, 0.0, 1.2026661877795897, 1.2165402900774185, 0.0, 2.755091744394103, 0.0, 1.839850580201297, 7.952945860541326, 2.4003341099381506, 0.0, 0.0, 96.99227763281061, 158.26099205014597, 1.8438918821862458, 0.6399407814926596, 4.252958000927599, 2.7189069819596194, 0.0, 163.33714888075957, 2.4053234757881676, 1.5880243624229735, 1.2924415034162766, 99.5685096791848, 2.130218004738966, 0.0, 9.14686214372912, 1.7546129942060211, 1.2006676357743975, 0.0, 1.7545215692281126, 1.2322811367938926, 1.2059895706313408, 4.480826289168551, 2.401333441469236, 3.605547501384279, 2.6484079263230753, 0.0, 2.819598978129146, 1.8136969612938654, 1.4647151015980264, 0.0, 7.003229135248756, 0.0, 1.442191988631631, 1.359978469467998, 3.0479717560876436, 2.4053209001058082, 0.8399330848228765, 4.42381195610695, 1.241964177116484, 1.9367086666835585, 2.405327307378223, 0.5599931714798431, 1.399786740773426, 0.0, 2.6833407068066313, 2.408314419841732, 3.649657878854526, 3.6564474032149046, 0.0, 6.5419913006099, 3.8106673347518614, 0.0, 1.3600621684554954, 0.0, 2.5562216329834406, 0.0, 2.758520705650843, 0.0, 0.0, 0.0, 2.4083423325166633, 0.0, 2.400335255345167, 3.200445450333763, 9.600331986013805, 1.2705541699856748, 0.0, 1.9999788688785523, 5.590691621807091, 1.3078071376792992, 0.0, 0.0, 1.241922533811175, 95.55058119448671, 2.4000015258789062, 0.0, 3.605222706370973, 0.0, 0.0, 1.202661392073134, 4.610172665267433, 2.4737073434940147, 0.0, 0.0, 1.439952238157883, 0.0, 4.403957529829975, 0.0, 7.060489750527484, 1.0399954550515418, 4.938178993557225, 0.8399716364363815, 1.3200219221318765, 0.0, 10.138576465803938, 0.8399257174442508, 2.401358072028553, 3.5975565519903667, 1.2106514612787262, 0.0, 4.090032089185785, 3.28304417923806, 7.02276590164297, 4.4407168068773, 3.009521427508962, 4.118190532836616, 2.9761827172807145, 1.3242717114371436, 2.6484761111582857, 3.4176052109444894, 2.4474961213866604, 0.0, 6.539092511973639, 5.081103853043486, 3.5677955054674015, 2.8408631279595564, 3.7182332958166997, 2.4003330929860858, 0.0, 7.712751771543096, 2.738932905141992, 2.4399989806804414, 2.7200227393742042, 2.7390564022451342, 1.2026667659037156, 0.0, 0.0, 1.9053010462422935, 168.58893404006778, 0.0, 2.570257733386721, 0.2800150637607644, 2.3999977111816477, 3.1759368912631105, 2.6476180630207296, 2.7200504667027263, 0.0, 0.5600124184906723, 2.4162802232090907, 1.232262476302244, 2.4119602827618345, 1.7763568394002505e-15, 0.0, 2.600008529696149, 2.8844201994965526, 8.277278900875418, 3.3201931107443983, 1.61438435237159, 2.421242530671758, 3.7584973588546235, 2.4162792759601386, 1.2059776477313062, 1.205981647230115, 3.93643616955538, 1.5120392393214375, 0.0, 0.0, 2.1632987547829376, 3.8207794460125273, 2.5412004929126013, 3.8277037722746385, 0.12003621610517823, 2.683295930079838, 1.479912392388412, 0.0, 1.8438807814475646, 0.0, 6.5344731770405025, 0.0, 0.0, 0.0, 3.932509639152015, 3.7701679164012245, 1.2419604913103826, 0.27990668297178367, 2.739062455057405, 1.341659805419729, 1.936637601263712, 6.539132206718724, 3.617965609308482, 6.7219838136493, 0.0, 0.08003448478024693, 2.4644655649956864, 0.0, 2.7014069718084595, 2.494466746689251, 2.929570014100448, 2.8062129658508717, 7.1695205354528975, 2.4475444033002165, 3.255771125330618, 94.43028632721435, 2.2400628716855597, 0.0, 2.972877575147233, 1.202661392073134, 5.892493493131173, 0.0, 0.0, 0.0, 2.402999548102783, 0.7198953326361006, 1.2400389276210302, 4.079996922950873, 0.0, 5.8842030513167645, 0.0, 0.0, 0.6400267114577189, 3.679371837488196, 2.4944698476533103, 1.2026609424172015, 5.413785099753369, 2.4029996693032025, 158.65700540989684, 102.22006325953248, 1.1999868837802898, 1.4880610774005676, 0.27990645067436115, 0.0, 0.6397206727151065, 8.539782666167175, 1.6800854887101724, 2.1599984088286, 2.464487980761024, 3.0265332665662603, 1.2026652362188661, 2.483879218702279, 1.3792586491262324, 2.8407084817096284, 3.6966987300105614, 2.4053250162319815, 4.080029599461638, 0.0, 7.232946468333186, 2.3667263797383495, 94.96431418807198, 5.654172812578942, 0.0, 0.0, 1.4647561701047185, 3.6810637717798236, 2.188619051861805, 2.7585474389877924, 3.69513528592999, 5.441223828756077, 2.366734178149457, 1.7255855416123915, 0.0, 3.600889682945787, 1.2165391612732286, 0.0, 13.224211566920472, 7.563920246586242, 1.2419399192028782, 0.0, 7.050775940143865, 4.887384411092102, 0.0, 5.153347112137977, 0.2798793711240392, 1.9241851306458828, 1.2648663515627707, 1.2106164115115878, 2.5174657046020696, 2.433084828479608, 0.0, 3.617965609308482, 2.976181948235618, 2.505603308227412, 3.603553254132963, 4.427005709081277, 1.3078071376792992, 0.0, 1.7838876631709453, 3.2682306185445498, 0.0, 13.219632702840103, 10.912077019890978, 1.5120384824563282, 0.8485362329334042, 0.7600221833557306, 2.000048003815021, 2.405327307378224, 0.0, 6.950392838248483, 0.0, 2.631824446944855, 3.6877613994478797, 7.097548769597588, 9.142029478066467, 8.577257531745612, 5.726948048556366, 14.664100975990168, 2.399836735578851, 2.1301218082629636, 158.65700540989684, 6.860900482624753, 0.0, 0.0, 4.240010544399281, 0.0, 1.2528661737868572, 9.739080631209667, 0.0, 0.0, 1.6145362772030747, 0.24000167119089405, 1.9365717658832586, 3.4511336404936483, 0.0, 1.4880845036841195, 0.0, 2.483869184208033, 8.304284311103656, 2.401330550683406, 0.0, 2.4268563725204673, 2.4644749222688227, 4.816674935514393, 1.2000007629394531, 5.091232245964232, 1.5998911570525374, 0.0, 2.5056669091910875, 2.0011098058638748, 0.0, 0.0, 1.264936820874716, 0.0, 1.292453891450743, 0.0, 1.2322811367938926, 1.1999998092651367, 17.401383521395186, 6.678096337246422, 3.7362891915823098, 1.7545419450283826, 1.6799203755302536, 0.0, 0.0, 7.4058023072963755, 2.902591925510825, 0.0, 1.4881208720434802, 0.0, 5.091192801703321, 5.8842030513167645, 99.31758850160283, 7.086643411892836, 0.3598792040339282, 1.3994134096243767, 0.0, 4.371597377040687, 0.6000438566726382, 1.6143987024409907, 6.064202792882302, 0.0, 2.366760899220934, 3.0189013052780567, 0.0, 1.5121716690840676, 6.241542637138515, 0.0, 0.0, 0.0, 1.241940725487615, 0.0, 0.0, 0.0, 1.5200115989111131, 4.737872585145694, 1.2237681082413279, 2.7988303293117953, 0.0, 1.2419430943971366, 2.464474457906533, 2.464474457906533, 2.4838788193468577, 0.0, 2.5562509525822796, 1.1200539599310337, 1.6266857882532042, 2.8409042700459706, 3.6141971705511846, 3.600887826890373, 2.952730200019738, 0.19993214201132856, 3.643300713895264, 1.6689644476733465, 1.668971720301257, 3.5090489107805234, 0.0, 3.748903127586233, 0.0, 0.0, 1.2237801825347054, 1.2528661737868572, 1.241919269737297, 1.5179622095954375, 7.101681907620672, 0.0, 3.8277037722746385, 0.6000438566726382, 1.2059818302912584, 1.2106156615243078, 1.3792602572294574, 2.648495705370899, 2.5427558741632454, 3.8483480799019314, 5.223887981167685, 1.4814600047216138, 2.6156852671108966, 3.6967230381820078, 0.3201326718267212, 2.529803104720639, 7.049003314277564, 3.6055498198554656, 0.2400770020292944, 6.647706973348362, 0.0, 0.0, 0.0, 0.0, 2.9201069750445754, 0.0, 1.2528286320943423, 2.584909335539513, 1.3600490018255622, 1.5620018930863089, 0.1999256799215489, 0.0, 4.80016877617034, 6.936345892682622, 9.600331986013805, 3.1498285892190308, 5.480547198545296, 6.830680661872115, 2.401333037616443, 3.9438510186088047, 6.299720542111203, 2.70142457065915, 2.230350433221242, 0.3598718530762917, 5.623449394283615, 6.350893520551906, 7.1695205354528975, 2.4029980598448346, 3.7472249047403783, 2.13020566938969, 0.9600832935173524, 1.3242495800780332, 2.683273879405499, 3.7701913636264424, 1.2237552685466526, 1.39946743471719, 158.082753189412, 0.0, 1.6970475397878568, 5.091238978235248, 2.755091744394103, 4.911379279975179, 1.936637601263712, 6.275766271747917, 2.6475298804715566, 1.4204322460328924, 3.605548018491648, 7.1695205354528975, 1.6688575386263302, 8.881399799691211, 3.794742284762756, 0.0, 2.163621485675449, 2.906849201083793, 0.0, 0.080025796922102, 0.0, 0.5597989306052348, 2.4029947856052907, 2.4212444460304945, 1.2649043655766907, 1.7838876631709453, 2.1201807977917135, 0.0, 1.5121281353987197, 3.5677967885099515, 3.1760459657768023, 1.0587788830278242, 0.0, 1.307742988982546, 0.0, 6.872891391410949, 0.0, 2.1301947372289467, 0.6400535297234945, 7.074958215380476, 0.48005334359872404, 1.241942137176001, 2.408323607012396, 1.7545653750363903, 0.39995250994100856, 6.960016097621938, 0.0, 3.6221490499328595, 0.0, 7.633257303958513, 1.8800191856020845, 0.0, 0.0, 2.6155904332299826, 0.5200470347300837, 0.0, 2.8273254151830978, 0.0, 6.7393803236838385, 0.0, 5.571530411127245, 4.92001084322892, 0.802780603606022, 1.3994330328502762, 1.2106270123380103, 1.2528550644741516, 17.83932148410365, 0.39986008575867654, 1.5366831760308197, 0.5999430271295175, 7.2111023407074075, 3.6141861682273437, 0.23999263403783871, 2.4053259851983113, 1.292442031151405, 1.999905953152607, 3.202173944937673, 1.2924521205435273, 2.2000108814943298, 1.2165750104509512, 2.9762066812254786, 2.411970884724103, 2.3890110349856357, 1.8744494533487235, 1.3999589922900826, 0.0, 2.8273404818402836, 3.9727005138065694, 1.5367255060064848, 0.0, 1.641437310377675, 5.263604802318776, 7.810856823642173, 2.5056895088387887, 2.4944645302086457, 0.0, 0.0, 0.0, 0.0, 3.6966987300105614, 0.0, 0.0, 0.0, 0.0, 1.3793299051881396, 0.0, 4.177396577770526, 0.6800283260434065, 0.0, 2.4003331946140714, 158.26099205014597, 2.4013334414692338, 0.0, 6.505888106328989, 4.596519604386623, 4.560795096577492, 6.445202275832589, 1.4421915918710548, 0.0, 4.061316044257687, 1.2026615751666958, 2.6484796401877513, 2.648451640655153, 3.2173194554713467, 2.433119402041179, 4.8729373050405345, 0.7199937973008517, 0.0, 0.0, 2.5702926901520047, 3.671278622357678, 3.626786950129842, 4.0231803678059475, 5.9679678131452745, 2.4399953783319575, 2.40299771683067, 1.5878917089984643, 1.0399954550515418, 2.819597923865252, 0.1599366540270119, 0.0, 1.2649381113170246, 3.6035563720196473, 2.897835734924201, 4.928897877386921, 1.3599784694680017, 0.0, 1.359965415517819, 2.6318254200695645, 2.3999996185302734, 1.5879803231843417, 2.4162933067220633, 1.2026660356135963, 0.0, 2.75993922605109, 0.0, 5.9679678131452745, 0.0, 4.240010544399281, 0.0, 3.009955861610679, 3.601998700910122, 2.222957477414754, 0.0, 0.03992853053503394, 0.0, 12.172138303233623, 0.0, 1.202667363967876, 1.0800733365760466, 2.5175352086144223, 3.360100726038139, 7.2249135018637, 5.081103853043486, 3.7156738477608062, 1.2924600743371406, 0.0, 0.0, 2.4738680588378017, 2.3999977111816477, 2.4053234757881676, 0.0, 0.7600224491525351, 7.543570572851292, 1.7255895390234872, 1.8000040229547685, 1.2000002861022958, 1.1999998092651367, 7.638546784497529, 6.689259182852231, 4.832561139919254, 4.177396577770526, 6.860900482624753, 6.239981341637666, 2.222957477414754, 4.007168208286553, 2.8415424462823804, 3.6267985409742547, 3.622152499330921, 1.7255409944987463, 3.627428882319392, 0.0, 3.917977044205212, 0.0, 2.1302073961426338, 1.5120662229939152, 0.0, 2.0322587249993718, 1.6798448037250961, 1.1599017918682961, 4.9924701369609465, 7.879532586929715, 1.2418843078860027, 1.5120229807999426, 0.0, 2.6484079263230753, 1.7601162059668518, 3.6221640455547917, 2.408332335093256, 0.0, 0.0, 4.895040640562518, 3.6713395625309992, 2.447544676146449, 7.528102444514624, 4.771542822870048, 1.7545222722577232, 1.7545415341943877, 6.828615101078621, 1.2059780624161174, 21.619070860514114, 0.08019871553074397, 0.07997320525059352, 0.39986008575867654, 3.3200910340106957, 2.483879218702279, 0.0, 0.2400770020292944, 2.4083163434379364, 2.701423085782427, 0.0, 0.0, 4.853696844803291, 0.0, 0.0, 7.377742253996421, 2.411968037900075, 0.9195166203872358, 1.3078290772654617, 1.9367243420283973, 3.8075889921174957, 2.8273402292139065, 2.4838823269185313, 0.0, 0.0, 1.8800519822696928, 1.2528865081501261, 1.8138314177925103, 7.235137528524757, 2.7200175687521617, 0.0, 0.0, 0.0, 3.5975565519903654, 1.2419680185410291, 3.687814938844972, 1.4204333749289657, 3.0800521656686097, 0.0, 0.0, 0.0, 2.5455534296160813, 0.0, 2.4119657469992934, 11.013712457425141, 2.4212521813210968, 1.2400196536821084, 0.0, 4.400015738728144, 0.0, 1.3994330328502762, 2.5059148043098634, 3.6564424102347606, 0.0, 0.2400026224702548, 12.703533866721143, 1.8800191856020845, 2.4708534488502756, 4.798328526079553, 206.2476656333631, 2.755085795743193, 2.040032618590914, 5.8842030513167645, 2.400332591285218, 2.4119774326989107, 3.631845828538085, 0.0, 0.0, 0.0, 0.39995250994100856, 1.5549027228337506, 2.6155904332299826, 8.687426486405647, 2.5999977296907426, 1.292442031151405, 139.76203756597278, 0.0, 5.570885134594651, 1.6266857882532042, 2.40000057220459, 0.0, 2.011561165990573, 0.07995369239767808, 2.134881394697932, 0.0, 2.5562216329834406, 6.687160820622248, 7.633257303958513, 2.4053266005622747, 1.2106514612787262, 3.0130271260612282, 1.2924422100139257, 2.7200130951310086, 3.2100204139944983, 0.08002541207890004, 0.0, 0.0, 2.4475261966147284, 2.4120244645654396, 2.8408717643093833, 2.4013716090897974, 168.58893404006778, 0.0, 3.600000381469725, 0.43988432113564735, 5.011342295022942, 6.976632581895976, 1.0001061432542364, 0.0, 4.080029599461638, 3.12408162453112, 12.428438246885486, 0.0, 8.400859069499392, 6.966544617562913, 1.2106124434754162, 0.0, 5.04720026731208, 2.416280222710212, 0.0, 2.6475535362242297, 3.6008881931975214, 3.6141890602328988, 5.24734267851345, 1.202666051433236, 2.720051782748043, 1.2165413071384708, 2.827264052077341, 0.15994641050113584, 6.773854639869925, 0.0, 3.048676250663969, 0.0, 0.0, 0.0, 0.0, 4.807322702402645, 3.124012887560778, 4.061253995346472, 4.061253995346472, 2.389000305004461, 2.5056774106448025, 2.4030082204762473, 2.6319453552096297, 0.0, 3.026556363758899, 1.3078294555036665, 1.2026650792519005, 0.0, 1.5999648855526087, 7.05746984210096, 6.56674021216602, 2.2981341480779136, 1.5880040293753968, 7.991356306567695, 0.0, 2.421230186527299, 0.0, 1.264939603493564, 2.8845068941785748, 0.0, 7.857646329423221, 3.2288690596664233, 0.0, 0.8800335382235828, 0.19992614453226712, 4.9999550765457625, 0.0800237478173904, 0.0, 2.433111714453243, 4.660598285721873, 2.7190601184072034, 4.711773320238451, 12.818548899554111, 2.529803104720639, 0.9198988815249092, 0.0, 0.0, 7.057854892755422, 1.7545405473764697, 0.6996481748091352, 1.8137742013648586, 1.2026575858150987, 6.678675365340332, 0.0, 1.1200539599310337, 0.0, 0.0, 3.6878526229267354, 0.0, 1.2322358364490702, 0.0, 6.936345892682622, 1.5121275566201535, 1.561973029737485, 2.421243269902782, 0.0, 6.032554715660593, 1.1200617600095437, 0.0, 0.0, 0.5600109040172148, 1.4647470976728159, 3.605548018491648, 1.442191151334017, 0.0, 0.0, 4.2149160283154155, 6.860900482624753, 12.818548899554111, 0.6400267114577189, 0.0, 1.4647151015980264, 0.0, 3.6496386837737096, 3.293857136603133, 4.394387915646744, 1.2106266025489514, 1.3242466448406578, 7.256823254640545, 2.6028371114568345, 3.4225073174692677, 2.120041477438939, 4.831431065919904, 1.2006676357743975, 3.706025360083204, 10.138576465803938, 3.479888451549078, 0.0, 0.0, 99.89325143002516, 1.4422146392897146, 3.771965297725843, 0.0, 1.2649393097626815, 0.0, 1.2528462076314426, 6.774907568497593, 0.0, 0.3201143329895802, 2.405325902117256, 2.8399495478167616, 0.0, 1.3078282138277173, 1.6689644476733465, 0.0, 3.6002209008463635, 0.23999263403783871, 0.0, 1.223757138868521, 0.6799863287858329, 0.0, 0.07997320525059352, 2.8273392928427334, 5.176646632069899, 3.706026021757005, 1.3599405555239916, 0.0, 1.202667363967876, 0.0, 2.163353600266239, 0.0, 2.5056669091910875, 3.31040890774497, 2.9761855058712334, 1.39941189354821, 0.0, 3.1240860495361145, 2.464468686993858, 1.3242466448406578, 0.0, 6.7893722697454475, 2.683295930079838, 3.3942124150373227, 1.241939729195495, 1.307742988982546, 0.0, 2.1633746073384703, 0.6799911795652805, 0.0, 3.9395908642755137, 0.24018128496606378, 0.6013321308184472, 2.012789895373002, 0.0, 0.8185768411452615, 0.0, 3.6274716420576087, 4.406578165752164, 0.0, 3.643300626027244, 0.200062960540311, 2.4644691822316855, 2.6833184314855596, 0.0, 0.0, 1.560124288457011, 4.199883190247759, 2.9761855058712334, 2.439996247972295, 1.7600153758867076, 0.5597989306052348, 0.04001175503288102, 2.9957218470165277, 0.0, 1.2026667659037156, 0.0, 1.5879785517747067, 0.0, 0.0, 3.6019989915697703, 2.41627938619596, 3.8343630870474437, 1.5599533839560547, 3.3054620471468863, 5.064260645142543, 1.202664259050578, 1.2419398040193406, 4.805995101108047, 3.3200874995354166, 0.0, 2.4331178026960747, 2.4738767925919767, 0.0, 4.585405514832289, 1.2237363236300098, 4.85371085879919, 2.399836735578851, 1.2106237224295997, 14.052899565408964, 0.4000879521194965, 0.0, 4.161755249647764, 0.0, 1.93660483777912, 0.0, 1.488077677580588, 6.299720542111203, 0.0, 0.0, 0.0, 3.6433104943944152, 7.634651727365152, 0.0, 2.1201807977917135, 1.341650468732522, 1.2527733747865213, 0.0, 3.0986154709741713, 3.45121217973926, 4.371502672111386, 4.8006638059300295, 1.200665549606527, 0.9200191086719758, 3.6810637717798236, 2.7200227393742042, 2.433084828479608, 0.0, 1.2026615751666994, 7.199659296815592, 1.905307294019843, 0.0, 2.8844201994965526, 0.0, 2.4644522593940867, 8.229153432483427, 1.8136813792985367, 3.7946728940782366, 2.7191126656176583, 7.611892223525702, 5.590691621807091, 0.0, 0.0, 2.4003352553451673, 1.0398065449134772, 1.9200321656047967, 2.1967027877690004, 10.802671099768375, 4.610172665267433, 6.821918538078265, 2.447530115537165, 3.1240114222546445, 2.5849092088505485, 1.6067027857947869, 3.862708663648823, 1.2006638231958986, 2.7013306474487515, 0.0, 2.426852776872191, 0.0, 0.0, 8.58173966578108, 2.760156574905576, 2.4944645302086457, 2.5174752971881937, 0.0, 0.5200167146011073, 0.0, 0.07997320525056965, 0.0, 1.2322616531285728, 4.806001537304907, 0.0, 3.0462680270298312, 7.574185270664262, 2.4029980598448346, 0.0, 1.292454308352083, 3.0189013052780567, 0.0, 2.4738473375449948, 0.0, 3.6141950765293727, 2.0646193456788677, 0.0, 1.8398047991827287, 7.855446884966442, 2.4212521659756736, 0.0, 1.2780878333798191, 0.0, 4.800001144409173, 4.699217117764023, 3.9466774151504675, 1.0399366695802819, 5.9010417187211095, 9.885847706869972, 1.2322409763448143, 0.0, 3.600224492283931, 0.0, 0.6799964397291104, 6.980556703301979, 2.5999977296907426, 0.0, 17.401383521395186, 3.967866957468027, 1.614427511061585, 1.2649280474579774, 1.2026615751667062, 2.12016036399514, 1.4814600047216138, 2.6831375487895395, 2.408364876906245, 0.0, 0.0, 0.6209782191742728, 1.0398065449134772, 1.2165401783352174, 1.2924422100139197, 3.7441039583018747, 2.4475261966147284, 0.7602456039801333, 3.7822753254561916, 4.417450040080806, 1.2106156615243078, 3.5678381178356844, 2.4398247055117586, 0.0, 0.0, 1.7255409944987463, 2.4268573156413438, 0.0, 3.7258234251822837, 0.03998706722016503, 4.0347742063246885, 2.827264052077341, 0.0, 3.1153732985672153, 7.412788446402518, 0.39986524224919323, 0.0, 2.4837974575064563, 2.7199706425927936, 1.2026619912320164, 1.3600621684554954, 1.8138314177925103, 0.0, 0.03997974287704834, 5.012023287393372, 3.607989065277663, 98.61103864112327, 1.241964177116484, 0.8185768411452615, 1.360002975008339, 0.0, 2.3890110349856357, 4.464303588916226, 0.0, 3.365882437427771, 1.241968221947196, 1.8745373332921036, 0.0, 0.0, 2.4268448486225, 1.3994320539840337, 0.0, 0.0, 6.570427072333718, 0.0, 1.9365459365903555, 2.647635411608665, 2.401331039626457, 2.0646193456788677, 3.098679077550986, 0.16026571377479906, 6.02607914823713, 0.0, 0.0, 0.0, 0.0, 1.2106133623720694, 3.6712767520394447, 3.677971559199012, 0.0, 4.51651972310243, 6.678851574112587, 1.601389327848956, 8.203149386428247, 3.380255337200108, 3.614197002097482, 0.0, 3.715671884515862, 1.241968904049609, 7.650140276392465, 2.408314305585596, 3.098638225675249, 2.0074921408794784, 1.2059825679257852, 0.0, 0.0, 2.40033407823227, 0.0, 2.6476180630207296, 101.79530461206785, 7.500144131410225, 3.6636590628664667, 0.07995369239765593, 13.583952902622691, 2.4475261966147284, 1.8744494533487235, 0.0, 0.0, 5.336754990970626, 6.448161737387959, 3.65642673788875, 0.0, 4.847936039116234, 0.0, 0.0, 2.5057125842839434, 0.0, 1.4421909581116448, 7.982226829372175, 1.3600228316301024, 0.0, 8.233854497892757, 5.023041162874971, 1.399428654739881, 0.0, 0.0, 2.8196478327915147, 2.196760010816949, 2.798754095867495, 5.012023287393372, 1.3994170839145732, 1.9999093669219248, 0.0, 0.04001428541327534, 1.252854151032598, 2.599988984223394, 2.416291421909453, 7.049003314277564, 3.073452113651651, 0.0, 5.179314856255458, 2.8399495478167616, 1.3994707056950546, 2.7551491229492417, 1.1999988555908203, 0.0, 2.405336651167483, 6.740309428549257, 1.1999868837802898, 8.448309987833474, 1.7599454638789993, 3.2173194554713467, 1.200000286102295, 3.00008010853742, 2.5766746757521872, 1.3994303751105897, 0.0, 6.81691701420526, 1.3994188298197028, 0.919827748004239, 0.0, 0.0, 8.83334404281778, 4.096608977488748, 4.536210806622268, 3.5301847258910053, 2.416292240072003, 1.0001001451082416, 0.0, 1.3994183105770472, 2.7199946341067167, 1.5368018528974696, 0.11991770416524938, 0.0, 0.0, 2.402994909746659, 0.3600404230927912, 0.6399850529791712, 9.60034489436067, 0.0, 0.0, 1.828242404875056, 0.0, 3.614197002097482, 1.1598707864047964, 0.0, 1.040089802807852, 0.6397206727151065, 4.293414667487117, 1.2059818350874478, 4.464201995259203, 0.0, 2.4053421877415397, 2.4013310396264567, 1.2106182885030243, 0.0, 0.0, 3.7257922560289876, 3.1751564290796885, 2.3999996185302717, 1.2238012515777568, 1.2649381113170195, 3.6008881931975214, 7.475729919401272, 1.0322232222754686, 0.0, 3.6079898460343265, 8.010961824463216, 2.230352684250001, 2.647599790860425, 0.0, 4.137893494982983, 0.0, 2.426886648283274, 0.0, 6.869429981126646, 0.0, 0.0, 1.794932959382669, 99.31758850160283, 0.16005120608064352, 5.517099078904068, 0.0, 6.00513763778661, 3.32674520339502, 1.200000286102294, 2.4475413248648925, 2.862458927630523, 2.648477358693615, 1.830946812327509, 2.6484066839997524, 0.0, 0.0, 1.2419430943971366, 1.2237496692860461, 0.0, 3.600888193197532, 6.276764499850835, 4.371502672111386, 3.0734961077763607, 3.149536361780254, 0.0, 0.0, 0.0, 2.840911076619956, 0.8801206086237643, 2.4400129679019598, 3.656425794616789, 4.828085781932996, 7.021727375059317, 0.0, 3.8343630870474437, 6.81691701420526, 2.6318299380506747, 4.866207926844374, 1.2781296695479163, 1.6143365325193508, 6.681808187554638, 2.4029943033229326, 1.2528544179096062, 1.5599533839560396, 99.00604774349613, 0.0, 2.4003331946140714, 2.778498149758096, 9.183607450668845, 0.0, 2.0011098058638748, 0.0, 0.0, 3.955948998407441, 5.841161286688443, 2.196697775729707, 0.0, 0.0, 1.3242474515781755, 2.5056768088016974, 0.0, 0.0, 0.0, 5.280155353251958, 1.3599754294165771, 1.8000040229547685, 204.0590258373304, 2.0645493465707627, 1.360023978571791, 2.000096661935393, 1.5880113794105006, 2.4644564571114973, 0.8401530527829738, 3.8208204239749484, 0.0, 0.0, 4.536210806622268, 1.697080382641763, 3.511676735112443, 0.0, 1.6415040994401997, 0.0, 0.0, 1.2106209636914371, 3.3941527662773257, 4.293414667487117, 1.679990104437072, 3.3201931107443983, 5.384531427891084, 4.161755249647764, 1.725542810577136, 2.899918191346017, 4.394296385584465, 0.6399821990417942, 3.6035500715675184, 1.307846275846111, 2.2981336501045866, 0.0, 1.292454529715661, 1.2000007629394531, 2.5849080610535204, 1.6266857882532042, 99.5685096791848, 21.753478822136046, 0.0, 0.0, 3.7701808731692683, 4.227408082920766, 1.2026619912320164, 0.0, 1.2006637598134091, 1.2705541699856748, 1.8851083359178045, 0.0, 0.07995369239767808, 1.200000286102295, 3.631845676800652, 1.2649280474579774, 1.3242483732320531, 3.2309598102855235, 102.22006325953248, 1.2000007629394531, 0.0, 1.614470765533882, 0.0, 103.78951464727903, 0.6400267114577189, 1.641451180311374, 3.610879449527609, 4.8006638059300295, 0.0, 1.232207258714218, 2.2303446588481988, 3.7489019065254525, 3.770192943479104, 0.0, 0.8801382835132568, 0.07995369239770714, 1.2781614534120296, 0.0, 1.2000007629394567, 2.9761392950406202, 0.0, 3.202135956655847, 0.0, 0.0, 3.5383551177623835, 4.098980550588117, 2.4838684437826193, 1.241922533811175, 2.647652817177444, 2.426831473700084, 2.6833452328667593, 1.2237659456970769, 1.2026613920731357, 1.2006637598134091, 1.2059895706313408, 0.0, 2.7199975408921038, 2.433119096628169, 1.359978469467998, 4.853698077528753, 1.2322375408465305, 0.8399579789778004, 1.968051034321107, 4.907439639979453, 0.0, 0.44019314790576985, 0.0, 7.716822952988392, 1.813901896739677, 2.411970884724106, 2.408364876906245, 4.379203081912646, 1.8743791197705113, 3.607991622600657, 2.4119670913529885, 0.0, 5.3140596617388, 2.8408498105868123, 2.5298491303962733, 2.4362226442234065, 4.118190532836616, 0.0, 6.672342537301987, 0.47981377758207316, 2.952750463267043, 0.0, 1.1999989748001099, 2.4475413248648925, 1.7255855416123915, 4.252958000927599, 2.426860380356547, 2.4013308026033653, 15.048762390552763, 1.5621144965207565, 1.4881208720434802, 0.0, 2.570292147483757, 0.0, 0.0, 2.4838827876526084, 1.5880236418314162, 0.0, 2.9201069750445754, 2.884404072589836, 0.679966821950301, 0.0, 1.9997548596852988, 2.433103064490906, 1.4881601947485432, 1.4880610774005683, 3.2310468113900304, 2.63182715940707, 0.0, 3.7611726551275595, 1.9681676579371723, 3.7472126497057556, 7.800528529383239, 2.5765396638377607, 2.4331148126753748, 3.607991749158355, 0.7440720395779934, 1.4647705009594056, 1.040090257228063, 0.0, 3.5301847258910053, 0.0, 1.200667635774397, 0.08003448478024693, 1.2006648652334075, 2.584921673605391, 1.8400404061582964, 0.239861077193019, 162.23295426462766, 1.2026660356135923, 1.2026660356135923, 3.1497975894991628, 4.240010544399281, 1.0399150244137287, 0.9599115568513891, 7.1148930720795525, 2.4475264999956168, 2.683294300805565, 98.24211514023031, 0.0, 0.7999835299730087, 6.687160820622248, 4.51651972310243, 6.34391213987388, 3.6019954365859803, 1.241964177116484, 1.223731637779136, 4.021285066448506, 7.815472189578606, 1.3999589922900826, 3.120784072916002, 1.2059741200294585, 2.8631893646978304, 3.6712939099112325, 0.0, 3.2288690596664233, 3.968160432721386, 0.0, 0.0, 4.924328871705691, 3.782279204967483, 0.0, 3.5090962064272504, 4.832555355165016, 0.0, 0.0, 2.411970884724103, 3.7946728940782366, 0.0, 2.8999469916760323, 6.799310264435869, 0.0, 2.4000015258789062, 2.4738731810217702, 2.40000057220459, 0.23991193372499603, 2.4644564571114973, 2.4738717920716367, 2.4003352553451673, 1.2106266025489514, 3.305462393364297, 0.9183954600597869, 17.15652268085362, 6.6426311339289805, 3.637358344793639, 1.561973029737485, 4.828085781933003, 2.4083178870156132, 0.1599366540270119, 0.0, 5.841161218451601, 1.3994151646558914, 1.641365507825146, 2.298180055335023, 6.894307104004968, 1.6970793912545252, 2.33235568483548, 1.32424998845884, 1.0984047758085005, 0.0, 0.0, 0.04001428541327534, 4.9999940325474075, 2.5298491303962733, 0.0, 6.7219838136493, 6.855791091952641, 1.279823025498481, 0.0, 0.0, 2.5562665180081727, 3.6496670808941896, 0.0, 2.433102344627634, 2.1966998407564144, 0.0, 1.874373811950242, 6.404523555707365, 4.847936039116234, 4.853698077528753, 1.2000007629394531, 2.4000015258788956, 0.0, 0.0, 4.895074134249213, 4.040132659956789, 5.999857522549662, 3.0000291431658157, 0.6399996200475238, 3.820812120972204, 1.079824789729807, 0.0, 3.6141907134873295, 9.345653272914904, 0.0, 2.976186960538984, 3.0675122466653355, 2.4644654673226363, 4.887384411092102, 2.9364726125710794, 2.4013327172884193, 0.0, 5.841161218451601, 1.3600035979246798, 0.0, 2.862434903701877, 2.556264727257582, 2.7911632945578213, 1.2924527438320963, 2.556264727257582, 3.8208204239749484, 6.34391213987388, 0.0, 3.671290463572021, 0.0, 0.0, 4.828099331017873, 0.0, 3.617951189999573, 1.2528139263378575, 4.0966213614905085, 5.148056225922551, 0.0, 2.7988527594908863, 4.801498111417337, 1.2237681082413279, 5.57192086696627, 7.085663991820032, 0.0, 4.8041667190015405, 8.521519834323716, 0.0, 3.7802736309032907, 6.792452284202101, 1.2006667978439234, 3.6035623468317115, 0.0, 0.0, 0.0, 1.5121595622858186, 7.746403357226655, 0.0, 1.7198420657379585, 7.152531408484193, 1.2059818350874434, 1.3600259183011592, 1.8070929077157614, 0.16004930409471788, 2.798852293025171, 0.0, 1.3242057992541016, 2.433119402041179, 2.648466392323761, 0.0, 1.9367108523127534, 0.0, 2.615687728146278, 1.4399838789404866, 0.07996645613204603, 2.4013324569748957, 1.2165623573759317, 0.0, 1.4801406790560623, 3.0462400834622456, 2.929624832190799, 4.823932115459956, 4.951820986309933, 7.097548769597588, 0.0, 1.2026661877795877, 2.300803907468498, 0.0, 0.15997889277405744, 1.536738864867297, 1.5621134080724473, 2.411978017974715, 1.2649182411632462, 2.39999961853027, 0.0, 1.2059815243246557, 1.3993027431839282, 3.687814938844972, 2.494473517878174, 4.219007299034245, 2.4710771311999213, 3.202135956655847, 4.348974492528586, 2.505665408820396, 2.196707087620237, 1.2419404055531453, 0.2000543122083696, 5.501428945155451, 1.2026652678582217, 2.4120244645654396, 2.004438529577209, 7.5626817779459525, 0.6210091064831383, 0.0, 1.7999992370605469, 1.936704689844914, 4.394296385584465, 1.6799203755302536, 3.605548711889913, 2.447530254874272, 2.7551495383203894, 0.0, 1.5200137871945314, 2.556229050792068, 2.2642106289451402, 3.6008877760682156, 2.5848722411307445, 0.0, 3.5483592644831687, 0.07996645613204603, 0.0, 0.0, 2.400333140543214, 0.0, 0.0, 0.0, 32.38762141989018, 0.0, 161.7476241195607, 0.0, 3.6035249482043286, 0.0, 3.9234782881318235, 1.1600720707442795, 6.918919839720206, 8.322997310691802, 2.421232773139126, 4.371590905684948, 1.8136970435837945, 3.12408162453112, 1.5879591406684554, 4.56065524153661, 1.4881208720434802, 1.5120279444670648, 0.0, 1.2026650792519005, 3.9467631329258888, 1.2026606783997484, 1.2106063426888607, 3.12408162453112, 0.0, 0.0, 1.5621125746591171, 0.0, 4.9924701369609465, 1.442238388245716, 7.021727375059317, 3.820812120972204, 0.0, 10.363951646842755, 1.559955555612944, 0.36015858539432777, 1.3792892058219657, 0.0, 3.1198140282126503, 0.0, 1.759798454552582, 0.0, 7.639595312974659, 2.4738697365496027, 0.0, 1.8136970435837945, 2.4013388019571122, 0.0, 1.232261653128573, 2.6484796401877513, 1.464756801135711, 1.5621054604866786, 1.3599793109585903, 4.200763126061755, 1.7545419450283826, 0.0, 0.3201141008527706, 2.433119096628169, 3.1751564290796885, 0.0, 1.3994707056950546, 0.0, 2.4083947567758526, 3.725823664508261, 0.0, 1.4422386540662218, 1.9600051679990782, 1.4799282567608887, 0.7199726644930659, 0.0, 0.15997889277405744, 2.6656502151234713, 2.2560012591990004, 0.15994641050113584, 3.6967230381820078, 6.000536315252173, 0.6400420006240306, 6.557414604964077, 0.0, 3.6267976996044577, 1.4799282567608887, 0.5600916268476231, 1.9999093669219248, 0.0, 2.1967593366388734, 7.100373682673156, 8.229153432483427, 0.8772355480998357, 2.929570014100448, 4.061322703817854, 1.6690140589645512, 0.0, 3.5383551177623835, 1.2237657591343547, 0.0, 2.4330968637093475, 2.4331209780140894, 0.5600109040172148, 2.408364876906245, 7.638653538835297, 4.68622662136928, 3.6079888719621165, 2.7988506574836545, 1.8138314177925103, 2.416279496432146, 0.23991274678901056, 1.9386618973947347, 0.0, 2.4268225129531253, 3.873089997903236, 2.615695485872421, 1.5549027228337506, 0.0, 3.1240114222546445, 2.6120112851486446, 2.2641488695458727, 4.800000190734864, 0.0, 3.601998700910122, 0.0, 2.3667263797383495, 1.3792899348536931, 2.6156201433888286, 6.275766271747917, 2.011561165990573, 0.0, 1.6970455202110992, 4.879999631137559, 1.5621144965207565, 1.3793709498475122, 2.8631893646978304, 2.529806476818325, 2.1598963519467556, 8.317725170181209, 2.884404072589836, 4.018761622437313, 2.570257733386721, 2.9068116288569823, 1.8136809060581254, 0.0, 2.8273402292139065, 6.885018657758933, 0.0, 2.7585670428457836, 0.3600404230927912, 2.4644742417454957, 10.464111998891982, 3.1498285892190308, 3.7258234251822837, 1.6970455202110992, 8.303100785276854, 0.0, 5.3583661239941724, 4.9811693344443855, 1.2781498134567595, 3.6637487135830566, 0.0, 0.6799842387663162, 1.2006656661027542, 3.6267985409742547, 98.86007546647942, 0.6118716180242602, 158.65700540989684, 1.5366831760307957, 2.75993922605109, 1.5620009912058173, 0.360040423092793, 0.0, 2.683274515284938, 0.0, 0.0, 1.3416586325718716, 3.202214709763832, 2.064558969790128, 100.15325673619161, 0.0, 14.479825932548817, 0.8399323881078622, 3.567605775400884, 2.143667619115824, 6.681808187554638, 1.2237457995792431, 0.0, 1.697080382641763, 3.6221640455547917, 1.3242305055244434, 2.720041535050335, 1.3415850467213897, 2.9069012556369023, 0.0, 1.4422790774144225, 3.2559284336768326, 2.40831804620569, 0.0, 2.7390237139435727, 0.0, 2.4400129679019598, 1.4647705009594056, 1.2419229650618726, 4.0966213614905085, 2.5410833323273785, 2.936378305928711, 4.924328871705691, 3.600220799063989, 2.778498149758096, 2.119979374254734, 0.43978489643815527, 1.488038853515236, 0.2400035737496426, 4.200763126061755, 2.440003041470984, 0.0, 2.6475535362242297, 1.799824981163309, 6.966544617562913, 3.6002227740520385, 1.2026660356135923, 3.159743304127582, 0.08002541207890004, 3.873233579203529, 6.135022830449215, 1.341650468732522, 2.2641752083830236, 0.0, 0.0, 2.433111714453243, 2.4475541608327562, 6.56674021216602, 3.8418305694164543, 1.6413615009605895, 1.3600122111573363, 1.9999712218981058, 2.433111714453243, 0.0, 2.4053189304729576, 2.5427604177904595, 2.2303216381100586, 101.79530461206785, 3.9998061550410124, 2.332397345821009, 0.0, 1.232207258714218, 0.11995992402455832, 0.0, 3.657492077152481, 1.2006656661027542, 2.7200504667027263, 3.024158025652067, 1.7839672173365144, 1.6666829640738754, 6.604955773333432, 1.5620009912058173, 6.276764499850835, 0.3600404230927912, 1.2106157653870753, 0.0, 2.505647124277556, 8.240358023626166, 4.098954492153936, 0.0, 1.2165413071384708, 1.936564906039373, 1.2400196536821084, 3.7471944848562027, 1.8040012351366812, 2.4268563725204673, 2.400151184594627, 0.0, 0.6013321308184472, 0.0, 2.1201807977917135, 1.7543632964433584, 3.3659393204807078, 1.9366045264533425, 3.892980086647162, 1.2528550644741516, 1.2000007629394531, 2.403006925493305, 0.0, 1.3599784157544577, 1.7255398349411675, 0.0800237478173904, 3.0734961077763607, 4.933757372773359, 0.7999835299730087, 1.2106266025489514, 2.7199140190358233, 0.7599497145624402], \"xaxis\": \"x\", \"y\": [\"Distances Approx\", \"Distances Approx\", \"Distances Approx\", \"Distances Approx\", \"Distances Approx\", \"Distances Approx\", \"Distances Approx\", \"Distances Approx\", \"Distances Approx\", \"Distances Approx\", \"Distances Approx\", \"Distances Approx\", \"Distances Approx\", \"Distances Approx\", \"Distances Approx\", \"Distances Approx\", \"Distances Approx\", \"Distances Approx\", \"Distances Approx\", \"Distances Approx\", \"Distances Approx\", \"Distances Approx\", \"Distances Approx\", \"Distances Approx\", \"Distances Approx\", \"Distances Approx\", \"Distances Approx\", \"Distances Approx\", \"Distances Approx\", \"Distances Approx\", \"Distances Approx\", \"Distances Approx\", \"Distances Approx\", \"Distances Approx\", \"Distances Approx\", \"Distances Approx\", \"Distances Approx\", \"Distances Approx\", \"Distances Approx\", \"Distances Approx\", \"Distances Approx\", \"Distances Approx\", \"Distances Approx\", \"Distances Approx\", \"Distances Approx\", \"Distances Approx\", \"Distances Approx\", \"Distances Approx\", \"Distances Approx\", \"Distances Approx\", \"Distances Approx\", \"Distances Approx\", \"Distances Approx\", \"Distances Approx\", \"Distances Approx\", \"Distances Approx\", \"Distances Approx\", \"Distances Approx\", \"Distances Approx\", \"Distances Approx\", \"Distances Approx\", \"Distances Approx\", \"Distances Approx\", \"Distances Approx\", \"Distances Approx\", \"Distances Approx\", \"Distances Approx\", \"Distances Approx\", \"Distances Approx\", \"Distances Approx\", \"Distances Approx\", \"Distances Approx\", \"Distances Approx\", \"Distances Approx\", \"Distances Approx\", \"Distances Approx\", \"Distances Approx\", \"Distances Approx\", \"Distances Approx\", \"Distances Approx\", \"Distances Approx\", \"Distances Approx\", \"Distances Approx\", \"Distances Approx\", \"Distances Approx\", \"Distances Approx\", \"Distances Approx\", \"Distances Approx\", \"Distances Approx\", \"Distances Approx\", \"Distances Approx\", \"Distances Approx\", \"Distances Approx\", \"Distances Approx\", \"Distances Approx\", \"Distances Approx\", \"Distances Approx\", \"Distances Approx\", \"Distances Approx\", \"Distances Approx\", \"Distances Approx\", \"Distances Approx\", \"Distances Approx\", \"Distances Approx\", \"Distances Approx\", \"Distances Approx\", \"Distances Approx\", \"Distances Approx\", \"Distances Approx\", \"Distances Approx\", \"Distances Approx\", \"Distances Approx\", \"Distances Approx\", \"Distances Approx\", \"Distances Approx\", \"Distances Approx\", \"Distances Approx\", \"Distances Approx\", \"Distances Approx\", \"Distances Approx\", \"Distances Approx\", \"Distances Approx\", \"Distances Approx\", \"Distances Approx\", \"Distances Approx\", \"Distances Approx\", \"Distances Approx\", \"Distances Approx\", \"Distances Approx\", \"Distances Approx\", \"Distances Approx\", \"Distances Approx\", \"Distances Approx\", \"Distances Approx\", \"Distances Approx\", \"Distances Approx\", \"Distances Approx\", \"Distances Approx\", \"Distances Approx\", \"Distances Approx\", \"Distances Approx\", \"Distances Approx\", \"Distances Approx\", \"Distances Approx\", \"Distances Approx\", \"Distances Approx\", \"Distances Approx\", \"Distances Approx\", \"Distances Approx\", \"Distances Approx\", \"Distances Approx\", \"Distances Approx\", \"Distances Approx\", \"Distances Approx\", \"Distances Approx\", \"Distances Approx\", \"Distances Approx\", \"Distances Approx\", \"Distances Approx\", \"Distances Approx\", \"Distances Approx\", \"Distances Approx\", \"Distances Approx\", \"Distances Approx\", \"Distances Approx\", \"Distances Approx\", \"Distances Approx\", \"Distances Approx\", \"Distances Approx\", \"Distances Approx\", \"Distances Approx\", \"Distances Approx\", \"Distances Approx\", \"Distances Approx\", \"Distances Approx\", \"Distances Approx\", \"Distances Approx\", \"Distances Approx\", \"Distances Approx\", \"Distances Approx\", \"Distances Approx\", \"Distances Approx\", \"Distances Approx\", \"Distances Approx\", \"Distances Approx\", \"Distances Approx\", \"Distances Approx\", \"Distances Approx\", \"Distances Approx\", \"Distances Approx\", \"Distances Approx\", \"Distances Approx\", \"Distances Approx\", \"Distances Approx\", \"Distances Approx\", \"Distances Approx\", \"Distances Approx\", \"Distances Approx\", \"Distances Approx\", \"Distances Approx\", \"Distances Approx\", \"Distances Approx\", \"Distances Approx\", \"Distances Approx\", \"Distances Approx\", \"Distances Approx\", \"Distances Approx\", \"Distances Approx\", \"Distances Approx\", \"Distances Approx\", \"Distances Approx\", \"Distances Approx\", \"Distances Approx\", \"Distances Approx\", \"Distances Approx\", \"Distances Approx\", \"Distances Approx\", \"Distances Approx\", \"Distances Approx\", \"Distances Approx\", \"Distances Approx\", \"Distances Approx\", \"Distances Approx\", \"Distances Approx\", \"Distances Approx\", \"Distances Approx\", \"Distances Approx\", \"Distances Approx\", \"Distances Approx\", \"Distances Approx\", \"Distances Approx\", \"Distances Approx\", \"Distances Approx\", \"Distances Approx\", \"Distances Approx\", \"Distances Approx\", \"Distances Approx\", \"Distances Approx\", \"Distances Approx\", \"Distances Approx\", \"Distances Approx\", \"Distances Approx\", \"Distances Approx\", \"Distances Approx\", \"Distances Approx\", \"Distances Approx\", \"Distances Approx\", \"Distances Approx\", \"Distances Approx\", \"Distances Approx\", \"Distances Approx\", \"Distances Approx\", \"Distances Approx\", \"Distances Approx\", \"Distances Approx\", \"Distances Approx\", \"Distances Approx\", \"Distances Approx\", \"Distances Approx\", \"Distances Approx\", \"Distances Approx\", \"Distances Approx\", \"Distances Approx\", \"Distances Approx\", \"Distances Approx\", \"Distances Approx\", \"Distances Approx\", \"Distances Approx\", \"Distances Approx\", \"Distances Approx\", \"Distances Approx\", \"Distances Approx\", \"Distances Approx\", \"Distances Approx\", \"Distances Approx\", \"Distances Approx\", \"Distances Approx\", \"Distances Approx\", \"Distances Approx\", \"Distances Approx\", \"Distances Approx\", \"Distances Approx\", \"Distances Approx\", \"Distances Approx\", \"Distances Approx\", \"Distances Approx\", \"Distances Approx\", \"Distances Approx\", \"Distances Approx\", \"Distances Approx\", \"Distances Approx\", \"Distances Approx\", \"Distances Approx\", \"Distances Approx\", \"Distances Approx\", \"Distances Approx\", \"Distances Approx\", \"Distances Approx\", \"Distances Approx\", \"Distances Approx\", \"Distances Approx\", \"Distances Approx\", \"Distances Approx\", \"Distances Approx\", \"Distances Approx\", \"Distances Approx\", \"Distances Approx\", \"Distances Approx\", \"Distances Approx\", \"Distances Approx\", \"Distances Approx\", \"Distances Approx\", \"Distances Approx\", \"Distances Approx\", \"Distances Approx\", \"Distances Approx\", \"Distances Approx\", \"Distances Approx\", \"Distances Approx\", \"Distances Approx\", \"Distances Approx\", \"Distances Approx\", \"Distances Approx\", \"Distances Approx\", \"Distances Approx\", \"Distances Approx\", \"Distances Approx\", \"Distances Approx\", \"Distances Approx\", \"Distances Approx\", \"Distances Approx\", \"Distances Approx\", \"Distances Approx\", \"Distances Approx\", \"Distances Approx\", \"Distances Approx\", \"Distances Approx\", \"Distances Approx\", \"Distances Approx\", \"Distances Approx\", \"Distances Approx\", \"Distances Approx\", \"Distances Approx\", \"Distances Approx\", \"Distances Approx\", \"Distances Approx\", \"Distances Approx\", \"Distances Approx\", \"Distances Approx\", \"Distances Approx\", \"Distances Approx\", \"Distances Approx\", \"Distances Approx\", \"Distances Approx\", \"Distances Approx\", \"Distances Approx\", \"Distances Approx\", \"Distances Approx\", \"Distances Approx\", \"Distances Approx\", \"Distances Approx\", \"Distances Approx\", \"Distances Approx\", \"Distances Approx\", \"Distances Approx\", \"Distances Approx\", \"Distances Approx\", \"Distances Approx\", \"Distances Approx\", \"Distances Approx\", \"Distances Approx\", \"Distances Approx\", \"Distances Approx\", \"Distances Approx\", \"Distances Approx\", \"Distances Approx\", \"Distances Approx\", \"Distances Approx\", \"Distances Approx\", \"Distances Approx\", \"Distances Approx\", \"Distances Approx\", \"Distances Approx\", \"Distances Approx\", \"Distances Approx\", \"Distances Approx\", \"Distances Approx\", \"Distances Approx\", \"Distances Approx\", \"Distances Approx\", \"Distances Approx\", \"Distances Approx\", \"Distances Approx\", \"Distances Approx\", \"Distances Approx\", \"Distances Approx\", \"Distances Approx\", \"Distances Approx\", \"Distances Approx\", \"Distances Approx\", \"Distances Approx\", \"Distances Approx\", \"Distances Approx\", \"Distances Approx\", \"Distances Approx\", \"Distances Approx\", \"Distances Approx\", \"Distances Approx\", \"Distances Approx\", \"Distances Approx\", \"Distances Approx\", \"Distances Approx\", \"Distances Approx\", \"Distances Approx\", \"Distances Approx\", \"Distances Approx\", \"Distances Approx\", \"Distances Approx\", \"Distances Approx\", \"Distances Approx\", \"Distances Approx\", \"Distances Approx\", \"Distances Approx\", \"Distances Approx\", \"Distances Approx\", \"Distances Approx\", \"Distances Approx\", \"Distances Approx\", \"Distances Approx\", \"Distances Approx\", \"Distances Approx\", \"Distances Approx\", \"Distances Approx\", \"Distances Approx\", \"Distances Approx\", \"Distances Approx\", \"Distances Approx\", \"Distances Approx\", \"Distances Approx\", \"Distances Approx\", \"Distances Approx\", \"Distances Approx\", \"Distances Approx\", \"Distances Approx\", \"Distances Approx\", \"Distances Approx\", \"Distances Approx\", \"Distances Approx\", \"Distances Approx\", \"Distances Approx\", \"Distances Approx\", \"Distances Approx\", \"Distances Approx\", \"Distances Approx\", \"Distances Approx\", \"Distances Approx\", \"Distances Approx\", \"Distances Approx\", \"Distances Approx\", \"Distances Approx\", \"Distances Approx\", \"Distances Approx\", \"Distances Approx\", \"Distances Approx\", \"Distances Approx\", \"Distances Approx\", \"Distances Approx\", \"Distances Approx\", \"Distances Approx\", \"Distances Approx\", \"Distances Approx\", \"Distances Approx\", \"Distances Approx\", \"Distances Approx\", \"Distances Approx\", \"Distances Approx\", \"Distances Approx\", \"Distances Approx\", \"Distances Approx\", \"Distances Approx\", \"Distances Approx\", \"Distances Approx\", \"Distances Approx\", \"Distances Approx\", \"Distances Approx\", \"Distances Approx\", \"Distances Approx\", \"Distances Approx\", \"Distances Approx\", \"Distances Approx\", \"Distances Approx\", \"Distances Approx\", \"Distances Approx\", \"Distances Approx\", \"Distances Approx\", \"Distances Approx\", \"Distances Approx\", \"Distances Approx\", \"Distances Approx\", \"Distances Approx\", \"Distances Approx\", \"Distances Approx\", \"Distances Approx\", \"Distances Approx\", \"Distances Approx\", \"Distances Approx\", \"Distances Approx\", \"Distances Approx\", \"Distances Approx\", \"Distances Approx\", \"Distances Approx\", \"Distances Approx\", \"Distances Approx\", \"Distances Approx\", \"Distances Approx\", \"Distances Approx\", \"Distances Approx\", \"Distances Approx\", \"Distances Approx\", \"Distances Approx\", \"Distances Approx\", \"Distances Approx\", \"Distances Approx\", \"Distances Approx\", \"Distances Approx\", \"Distances Approx\", \"Distances Approx\", \"Distances Approx\", \"Distances Approx\", \"Distances Approx\", \"Distances Approx\", \"Distances Approx\", \"Distances Approx\", \"Distances Approx\", \"Distances Approx\", \"Distances Approx\", \"Distances Approx\", \"Distances Approx\", \"Distances Approx\", \"Distances Approx\", \"Distances Approx\", \"Distances Approx\", \"Distances Approx\", \"Distances Approx\", \"Distances Approx\", \"Distances Approx\", \"Distances Approx\", \"Distances Approx\", \"Distances Approx\", \"Distances Approx\", \"Distances Approx\", \"Distances Approx\", \"Distances Approx\", \"Distances Approx\", \"Distances Approx\", \"Distances Approx\", \"Distances Approx\", \"Distances Approx\", \"Distances Approx\", \"Distances Approx\", \"Distances Approx\", \"Distances Approx\", \"Distances Approx\", \"Distances Approx\", \"Distances Approx\", \"Distances Approx\", \"Distances Approx\", \"Distances Approx\", \"Distances Approx\", \"Distances Approx\", \"Distances Approx\", \"Distances Approx\", \"Distances Approx\", \"Distances Approx\", \"Distances Approx\", \"Distances Approx\", \"Distances Approx\", \"Distances Approx\", \"Distances Approx\", \"Distances Approx\", \"Distances Approx\", \"Distances Approx\", \"Distances Approx\", \"Distances Approx\", \"Distances Approx\", \"Distances Approx\", \"Distances Approx\", \"Distances Approx\", \"Distances Approx\", \"Distances Approx\", \"Distances Approx\", \"Distances Approx\", \"Distances Approx\", \"Distances Approx\", \"Distances Approx\", \"Distances Approx\", \"Distances Approx\", \"Distances Approx\", \"Distances Approx\", \"Distances Approx\", \"Distances Approx\", \"Distances Approx\", \"Distances Approx\", \"Distances Approx\", \"Distances Approx\", \"Distances Approx\", \"Distances Approx\", \"Distances Approx\", \"Distances Approx\", \"Distances Approx\", \"Distances Approx\", \"Distances Approx\", \"Distances Approx\", \"Distances Approx\", \"Distances Approx\", \"Distances Approx\", \"Distances Approx\", \"Distances Approx\", \"Distances Approx\", \"Distances Approx\", \"Distances Approx\", \"Distances Approx\", \"Distances Approx\", \"Distances Approx\", \"Distances Approx\", \"Distances Approx\", \"Distances Approx\", \"Distances Approx\", \"Distances Approx\", \"Distances Approx\", \"Distances Approx\", \"Distances Approx\", \"Distances Approx\", \"Distances Approx\", \"Distances Approx\", \"Distances Approx\", \"Distances Approx\", \"Distances Approx\", \"Distances Approx\", \"Distances Approx\", \"Distances Approx\", \"Distances Approx\", \"Distances Approx\", \"Distances Approx\", \"Distances Approx\", \"Distances Approx\", \"Distances Approx\", \"Distances Approx\", \"Distances Approx\", \"Distances Approx\", \"Distances Approx\", \"Distances Approx\", \"Distances Approx\", \"Distances Approx\", \"Distances Approx\", \"Distances Approx\", \"Distances Approx\", \"Distances Approx\", \"Distances Approx\", \"Distances Approx\", \"Distances Approx\", \"Distances Approx\", \"Distances Approx\", \"Distances Approx\", \"Distances Approx\", \"Distances Approx\", \"Distances Approx\", \"Distances Approx\", \"Distances Approx\", \"Distances Approx\", \"Distances Approx\", \"Distances Approx\", \"Distances Approx\", \"Distances Approx\", \"Distances Approx\", \"Distances Approx\", \"Distances Approx\", \"Distances Approx\", \"Distances Approx\", \"Distances Approx\", \"Distances Approx\", \"Distances Approx\", \"Distances Approx\", \"Distances Approx\", \"Distances Approx\", \"Distances Approx\", \"Distances Approx\", \"Distances Approx\", \"Distances Approx\", \"Distances Approx\", \"Distances Approx\", \"Distances Approx\", \"Distances Approx\", \"Distances Approx\", \"Distances Approx\", \"Distances Approx\", \"Distances Approx\", \"Distances Approx\", \"Distances Approx\", \"Distances Approx\", \"Distances Approx\", \"Distances Approx\", \"Distances Approx\", \"Distances Approx\", \"Distances Approx\", \"Distances Approx\", \"Distances Approx\", \"Distances Approx\", \"Distances Approx\", \"Distances Approx\", \"Distances Approx\", \"Distances Approx\", \"Distances Approx\", \"Distances Approx\", \"Distances Approx\", \"Distances Approx\", \"Distances Approx\", \"Distances Approx\", \"Distances Approx\", \"Distances Approx\", \"Distances Approx\", \"Distances Approx\", \"Distances Approx\", \"Distances Approx\", \"Distances Approx\", \"Distances Approx\", \"Distances Approx\", \"Distances Approx\", \"Distances Approx\", \"Distances Approx\", \"Distances Approx\", \"Distances Approx\", \"Distances Approx\", \"Distances Approx\", \"Distances Approx\", \"Distances Approx\", \"Distances Approx\", \"Distances Approx\", \"Distances Approx\", \"Distances Approx\", \"Distances Approx\", \"Distances Approx\", \"Distances Approx\", \"Distances Approx\", \"Distances Approx\", \"Distances Approx\", \"Distances Approx\", \"Distances Approx\", \"Distances Approx\", \"Distances Approx\", \"Distances Approx\", \"Distances Approx\", \"Distances Approx\", \"Distances Approx\", \"Distances Approx\", \"Distances Approx\", \"Distances Approx\", \"Distances Approx\", \"Distances Approx\", \"Distances Approx\", \"Distances Approx\", \"Distances Approx\", \"Distances Approx\", \"Distances Approx\", \"Distances Approx\", \"Distances Approx\", \"Distances Approx\", \"Distances Approx\", \"Distances Approx\", \"Distances Approx\", \"Distances Approx\", \"Distances Approx\", \"Distances Approx\", \"Distances Approx\", \"Distances Approx\", \"Distances Approx\", \"Distances Approx\", \"Distances Approx\", \"Distances Approx\", \"Distances Approx\", \"Distances Approx\", \"Distances Approx\", \"Distances Approx\", \"Distances Approx\", \"Distances Approx\", \"Distances Approx\", \"Distances Approx\", \"Distances Approx\", \"Distances Approx\", \"Distances Approx\", \"Distances Approx\", \"Distances Approx\", \"Distances Approx\", \"Distances Approx\", \"Distances Approx\", \"Distances Approx\", \"Distances Approx\", \"Distances Approx\", \"Distances Approx\", \"Distances Approx\", \"Distances Approx\", \"Distances Approx\", \"Distances Approx\", \"Distances Approx\", \"Distances Approx\", \"Distances Approx\", \"Distances Approx\", \"Distances Approx\", \"Distances Approx\", \"Distances Approx\", \"Distances Approx\", \"Distances Approx\", \"Distances Approx\", \"Distances Approx\", \"Distances Approx\", \"Distances Approx\", \"Distances Approx\", \"Distances Approx\", \"Distances Approx\", \"Distances Approx\", \"Distances Approx\", \"Distances Approx\", \"Distances Approx\", \"Distances Approx\", \"Distances Approx\", \"Distances Approx\", \"Distances Approx\", \"Distances Approx\", \"Distances Approx\", \"Distances Approx\", \"Distances Approx\", \"Distances Approx\", \"Distances Approx\", \"Distances Approx\", \"Distances Approx\", \"Distances Approx\", \"Distances Approx\", \"Distances Approx\", \"Distances Approx\", \"Distances Approx\", \"Distances Approx\", \"Distances Approx\", \"Distances Approx\", \"Distances Approx\", \"Distances Approx\", \"Distances Approx\", \"Distances Approx\", \"Distances Approx\", \"Distances Approx\", \"Distances Approx\", \"Distances Approx\", \"Distances Approx\", \"Distances Approx\", \"Distances Approx\", \"Distances Approx\", \"Distances Approx\", \"Distances Approx\", \"Distances Approx\", \"Distances Approx\", \"Distances Approx\", \"Distances Approx\", \"Distances Approx\", \"Distances Approx\", \"Distances Approx\", \"Distances Approx\", \"Distances Approx\", \"Distances Approx\", \"Distances Approx\", \"Distances Approx\", \"Distances Approx\", \"Distances Approx\", \"Distances Approx\", \"Distances Approx\", \"Distances Approx\", \"Distances Approx\", \"Distances Approx\", \"Distances Approx\", \"Distances Approx\", \"Distances Approx\", \"Distances Approx\", \"Distances Approx\", \"Distances Approx\", \"Distances Approx\", \"Distances Approx\", \"Distances Approx\", \"Distances Approx\", \"Distances Approx\", \"Distances Approx\", \"Distances Approx\", \"Distances Approx\", \"Distances Approx\", \"Distances Approx\", \"Distances Approx\", \"Distances Approx\", \"Distances Approx\", \"Distances Approx\", \"Distances Approx\", \"Distances Approx\", \"Distances Approx\", \"Distances Approx\", \"Distances Approx\", \"Distances Approx\", \"Distances Approx\", \"Distances Approx\", \"Distances Approx\", \"Distances Approx\", \"Distances Approx\", \"Distances Approx\", \"Distances Approx\", \"Distances Approx\", \"Distances Approx\", \"Distances Approx\", \"Distances Approx\", \"Distances Approx\", \"Distances Approx\", \"Distances Approx\", \"Distances Approx\", \"Distances Approx\", \"Distances Approx\", \"Distances Approx\", \"Distances Approx\", \"Distances Approx\", \"Distances Approx\", \"Distances Approx\", \"Distances Approx\", \"Distances Approx\", \"Distances Approx\", \"Distances Approx\", \"Distances Approx\", \"Distances Approx\", \"Distances Approx\", \"Distances Approx\", \"Distances Approx\", \"Distances Approx\", \"Distances Approx\", \"Distances Approx\", \"Distances Approx\", \"Distances Approx\", \"Distances Approx\", \"Distances Approx\", \"Distances Approx\", \"Distances Approx\", \"Distances Approx\", \"Distances Approx\", \"Distances Approx\", \"Distances Approx\", \"Distances Approx\", \"Distances Approx\", \"Distances Approx\", \"Distances Approx\", \"Distances Approx\", \"Distances Approx\", \"Distances Approx\", \"Distances Approx\", \"Distances Approx\", \"Distances Approx\", \"Distances Approx\", \"Distances Approx\", \"Distances Approx\", \"Distances Approx\", \"Distances Approx\", \"Distances Approx\", \"Distances Approx\", \"Distances Approx\", \"Distances Approx\", \"Distances Approx\", \"Distances Approx\", \"Distances Approx\", \"Distances Approx\", \"Distances Approx\", \"Distances Approx\", \"Distances Approx\", \"Distances Approx\", \"Distances Approx\", \"Distances Approx\", \"Distances Approx\", \"Distances Approx\", \"Distances Approx\", \"Distances Approx\", \"Distances Approx\", \"Distances Approx\", \"Distances Approx\", \"Distances Approx\", \"Distances Approx\", \"Distances Approx\", \"Distances Approx\", \"Distances Approx\", \"Distances Approx\", \"Distances Approx\", \"Distances Approx\", \"Distances Approx\", \"Distances Approx\", \"Distances Approx\", \"Distances Approx\", \"Distances Approx\", \"Distances Approx\", \"Distances Approx\", \"Distances Approx\", \"Distances Approx\", \"Distances Approx\", \"Distances Approx\", \"Distances Approx\", \"Distances Approx\", \"Distances Approx\", \"Distances Approx\", \"Distances Approx\", \"Distances Approx\", \"Distances Approx\", \"Distances Approx\", \"Distances Approx\", \"Distances Approx\", \"Distances Approx\", \"Distances Approx\", \"Distances Approx\", \"Distances Approx\", \"Distances Approx\", \"Distances Approx\", \"Distances Approx\", \"Distances Approx\", \"Distances Approx\", \"Distances Approx\", \"Distances Approx\", \"Distances Approx\", \"Distances Approx\", \"Distances Approx\", \"Distances Approx\", \"Distances Approx\", \"Distances Approx\", \"Distances Approx\", \"Distances Approx\", \"Distances Approx\", \"Distances Approx\", \"Distances Approx\", \"Distances Approx\", \"Distances Approx\", \"Distances Approx\", \"Distances Approx\", \"Distances Approx\", \"Distances Approx\", \"Distances Approx\", \"Distances Approx\", \"Distances Approx\", \"Distances Approx\", \"Distances Approx\", \"Distances Approx\", \"Distances Approx\", \"Distances Approx\", \"Distances Approx\", \"Distances Approx\", \"Distances Approx\", \"Distances Approx\", \"Distances Approx\", \"Distances Approx\", \"Distances Approx\", \"Distances Approx\", \"Distances Approx\", \"Distances Approx\", \"Distances Approx\", \"Distances Approx\", \"Distances Approx\", \"Distances Approx\", \"Distances Approx\", \"Distances Approx\", \"Distances Approx\", \"Distances Approx\", \"Distances Approx\", \"Distances Approx\", \"Distances Approx\", \"Distances Approx\", \"Distances Approx\", \"Distances Approx\", \"Distances Approx\", \"Distances Approx\", \"Distances Approx\", \"Distances Approx\", \"Distances Approx\", \"Distances Approx\", \"Distances Approx\", \"Distances Approx\", \"Distances Approx\", \"Distances Approx\", \"Distances Approx\", \"Distances Approx\", \"Distances Approx\", \"Distances Approx\", \"Distances Approx\", \"Distances Approx\", \"Distances Approx\", \"Distances Approx\", \"Distances Approx\", \"Distances Approx\", \"Distances Approx\", \"Distances Approx\", \"Distances Approx\", \"Distances Approx\", \"Distances Approx\", \"Distances Approx\", \"Distances Approx\", \"Distances Approx\", \"Distances Approx\", \"Distances Approx\", \"Distances Approx\", \"Distances Approx\", \"Distances Approx\", \"Distances Approx\", \"Distances Approx\", \"Distances Approx\", \"Distances Approx\", \"Distances Approx\", \"Distances Approx\", \"Distances Approx\", \"Distances Approx\", \"Distances Approx\", \"Distances Approx\", \"Distances Approx\", \"Distances Approx\", \"Distances Approx\", \"Distances Approx\", \"Distances Approx\", \"Distances Approx\", \"Distances Approx\", \"Distances Approx\", \"Distances Approx\", \"Distances Approx\", \"Distances Approx\", \"Distances Approx\", \"Distances Approx\", \"Distances Approx\", \"Distances Approx\", \"Distances Approx\", \"Distances Approx\", \"Distances Approx\", \"Distances Approx\", \"Distances Approx\", \"Distances Approx\", \"Distances Approx\", \"Distances Approx\", \"Distances Approx\", \"Distances Approx\", \"Distances Approx\", \"Distances Approx\", \"Distances Approx\", \"Distances Approx\", \"Distances Approx\", \"Distances Approx\", \"Distances Approx\", \"Distances Approx\", \"Distances Approx\", \"Distances Approx\", \"Distances Approx\", \"Distances Approx\", \"Distances Approx\", \"Distances Approx\", \"Distances Approx\", \"Distances Approx\", \"Distances Approx\", \"Distances Approx\", \"Distances Approx\", \"Distances Approx\", \"Distances Approx\", \"Distances Approx\", \"Distances Approx\", \"Distances Approx\", \"Distances Approx\", \"Distances Approx\", \"Distances Approx\", \"Distances Approx\", \"Distances Approx\", \"Distances Approx\", \"Distances Approx\", \"Distances Approx\", \"Distances Approx\", \"Distances Approx\", \"Distances Approx\", \"Distances Approx\", \"Distances Approx\", \"Distances Approx\", \"Distances Approx\", \"Distances Approx\", \"Distances Approx\", \"Distances Approx\", \"Distances Approx\", \"Distances Approx\", \"Distances Approx\", \"Distances Approx\", \"Distances Approx\", \"Distances Approx\", \"Distances Approx\", \"Distances Approx\", \"Distances Approx\", \"Distances Approx\", \"Distances Approx\", \"Distances Approx\", \"Distances Approx\", \"Distances Approx\", \"Distances Approx\", \"Distances Approx\", \"Distances Approx\", \"Distances Approx\", \"Distances Approx\", \"Distances Approx\", \"Distances Approx\", \"Distances Approx\", \"Distances Approx\", \"Distances Approx\", \"Distances Approx\", \"Distances Approx\", \"Distances Approx\", \"Distances Approx\", \"Distances Approx\", \"Distances Approx\", \"Distances Approx\", \"Distances Approx\", \"Distances Approx\", \"Distances Approx\", \"Distances Approx\", \"Distances Approx\", \"Distances Approx\", \"Distances Approx\", \"Distances Approx\", \"Distances Approx\", \"Distances Approx\", \"Distances Approx\", \"Distances Approx\", \"Distances Approx\", \"Distances Approx\", \"Distances Approx\", \"Distances Approx\", \"Distances Approx\", \"Distances Approx\", \"Distances Approx\", \"Distances Approx\", \"Distances Approx\", \"Distances Approx\", \"Distances Approx\", \"Distances Approx\", \"Distances Approx\", \"Distances Approx\", \"Distances Approx\", \"Distances Approx\", \"Distances Approx\", \"Distances Approx\", \"Distances Approx\", \"Distances Approx\", \"Distances Approx\", \"Distances Approx\", \"Distances Approx\", \"Distances Approx\", \"Distances Approx\", \"Distances Approx\", \"Distances Approx\", \"Distances Approx\", \"Distances Approx\", \"Distances Approx\", \"Distances Approx\", \"Distances Approx\", \"Distances Approx\", \"Distances Approx\", \"Distances Approx\", \"Distances Approx\", \"Distances Approx\", \"Distances Approx\", \"Distances Approx\", \"Distances Approx\", \"Distances Approx\", \"Distances Approx\", \"Distances Approx\", \"Distances Approx\", \"Distances Approx\", \"Distances Approx\", \"Distances Approx\", \"Distances Approx\", \"Distances Approx\", \"Distances Approx\", \"Distances Approx\", \"Distances Approx\", \"Distances Approx\", \"Distances Approx\", \"Distances Approx\", \"Distances Approx\", \"Distances Approx\", \"Distances Approx\", \"Distances Approx\", \"Distances Approx\", \"Distances Approx\", \"Distances Approx\", \"Distances Approx\", \"Distances Approx\", \"Distances Approx\", \"Distances Approx\", \"Distances Approx\", \"Distances Approx\", \"Distances Approx\", \"Distances Approx\", \"Distances Approx\", \"Distances Approx\", \"Distances Approx\", \"Distances Approx\", \"Distances Approx\", \"Distances Approx\", \"Distances Approx\", \"Distances Approx\", \"Distances Approx\", \"Distances Approx\", \"Distances Approx\", \"Distances Approx\", \"Distances Approx\", \"Distances Approx\", \"Distances Approx\", \"Distances Approx\", \"Distances Approx\", \"Distances Approx\", \"Distances Approx\", \"Distances Approx\", \"Distances Approx\", \"Distances Approx\", \"Distances Approx\", \"Distances Approx\", \"Distances Approx\", \"Distances Approx\", \"Distances Approx\", \"Distances Approx\", \"Distances Approx\", \"Distances Approx\", \"Distances Approx\", \"Distances Approx\", \"Distances Approx\", \"Distances Approx\", \"Distances Approx\", \"Distances Approx\", \"Distances Approx\", \"Distances Approx\", \"Distances Approx\", \"Distances Approx\", \"Distances Approx\", \"Distances Approx\", \"Distances Approx\", \"Distances Approx\", \"Distances Approx\", \"Distances Approx\", \"Distances Approx\", \"Distances Approx\", \"Distances Approx\", \"Distances Approx\", \"Distances Approx\", \"Distances Approx\", \"Distances Approx\", \"Distances Approx\", \"Distances Approx\", \"Distances Approx\", \"Distances Approx\", \"Distances Approx\", \"Distances Approx\", \"Distances Approx\", \"Distances Approx\", \"Distances Approx\", \"Distances Approx\", \"Distances Approx\", \"Distances Approx\", \"Distances Approx\", \"Distances Approx\", \"Distances Approx\", \"Distances Approx\", \"Distances Approx\", \"Distances Approx\", \"Distances Approx\", \"Distances Approx\", \"Distances Approx\", \"Distances Approx\", \"Distances Approx\", \"Distances Approx\", \"Distances Approx\", \"Distances Approx\", \"Distances Approx\", \"Distances Approx\", \"Distances Approx\", \"Distances Approx\", \"Distances Approx\", \"Distances Approx\", \"Distances Approx\", \"Distances Approx\", \"Distances Approx\", \"Distances Approx\", \"Distances Approx\", \"Distances Approx\", \"Distances Approx\", \"Distances Approx\", \"Distances Approx\", \"Distances Approx\", \"Distances Approx\", \"Distances Approx\", \"Distances Approx\", \"Distances Approx\", \"Distances Approx\", \"Distances Approx\", \"Distances Approx\", \"Distances Approx\", \"Distances Approx\", \"Distances Approx\", \"Distances Approx\", \"Distances Approx\", \"Distances Approx\", \"Distances Approx\", \"Distances Approx\", \"Distances Approx\", \"Distances Approx\", \"Distances Approx\", \"Distances Approx\", \"Distances Approx\", \"Distances Approx\", \"Distances Approx\", \"Distances Approx\", \"Distances Approx\", \"Distances Approx\", \"Distances Approx\", \"Distances Approx\", \"Distances Approx\", \"Distances Approx\", \"Distances Approx\", \"Distances Approx\", \"Distances Approx\", \"Distances Approx\", \"Distances Approx\", \"Distances Approx\", \"Distances Approx\", \"Distances Approx\", \"Distances Approx\", \"Distances Approx\", \"Distances Approx\", \"Distances Approx\", \"Distances Approx\", \"Distances Approx\", \"Distances Approx\", \"Distances Approx\", \"Distances Approx\", \"Distances Approx\", \"Distances Approx\", \"Distances Approx\", \"Distances Approx\", \"Distances Approx\", \"Distances Approx\", \"Distances Approx\", \"Distances Approx\", \"Distances Approx\", \"Distances Approx\", \"Distances Approx\", \"Distances Approx\", \"Distances Approx\", \"Distances Approx\", \"Distances Approx\", \"Distances Approx\", \"Distances Approx\", \"Distances Approx\", \"Distances Approx\", \"Distances Approx\", \"Distances Approx\", \"Distances Approx\", \"Distances Approx\", \"Distances Approx\", \"Distances Approx\", \"Distances Approx\", \"Distances Approx\", \"Distances Approx\", \"Distances Approx\", \"Distances Approx\", \"Distances Approx\", \"Distances Approx\", \"Distances Approx\", \"Distances Approx\", \"Distances Approx\", \"Distances Approx\", \"Distances Approx\", \"Distances Approx\", \"Distances Approx\", \"Distances Approx\", \"Distances Approx\", \"Distances Approx\", \"Distances Approx\", \"Distances Approx\", \"Distances Approx\", \"Distances Approx\", \"Distances Approx\", \"Distances Approx\", \"Distances Approx\", \"Distances Approx\", \"Distances Approx\", \"Distances Approx\", \"Distances Approx\", \"Distances Approx\", \"Distances Approx\", \"Distances Approx\", \"Distances Approx\", \"Distances Approx\", \"Distances Approx\", \"Distances Approx\", \"Distances Approx\", \"Distances Approx\", \"Distances Approx\", \"Distances Approx\", \"Distances Approx\", \"Distances Approx\", \"Distances Approx\", \"Distances Approx\", \"Distances Approx\", \"Distances Approx\", \"Distances Approx\", \"Distances Approx\", \"Distances Approx\", \"Distances Approx\", \"Distances Approx\", \"Distances Approx\", \"Distances Approx\", \"Distances Approx\", \"Distances Approx\", \"Distances Approx\", \"Distances Approx\", \"Distances Approx\", \"Distances Approx\", \"Distances Approx\", \"Distances Approx\", \"Distances Approx\", \"Distances Approx\", \"Distances Approx\", \"Distances Approx\", \"Distances Approx\", \"Distances Approx\", \"Distances Approx\", \"Distances Approx\", \"Distances Approx\", \"Distances Approx\", \"Distances Approx\", \"Distances Approx\", \"Distances Approx\", \"Distances Approx\", \"Distances Approx\", \"Distances Approx\", \"Distances Approx\", \"Distances Approx\", \"Distances Approx\", \"Distances Approx\", \"Distances Approx\", \"Distances Approx\", \"Distances Approx\", \"Distances Approx\", \"Distances Approx\", \"Distances Approx\", \"Distances Approx\", \"Distances Approx\", \"Distances Approx\", \"Distances Approx\", \"Distances Approx\", \"Distances Approx\", \"Distances Approx\", \"Distances Approx\", \"Distances Approx\", \"Distances Approx\", \"Distances Approx\", \"Distances Approx\", \"Distances Approx\", \"Distances Approx\", \"Distances Approx\", \"Distances Approx\", \"Distances Approx\", \"Distances Approx\", \"Distances Approx\", \"Distances Approx\", \"Distances Approx\", \"Distances Approx\", \"Distances Approx\", \"Distances Approx\", \"Distances Approx\", \"Distances Approx\", \"Distances Approx\", \"Distances Approx\", \"Distances Approx\", \"Distances Approx\", \"Distances Approx\", \"Distances Approx\", \"Distances Approx\", \"Distances Approx\", \"Distances Approx\", \"Distances Approx\", \"Distances Approx\", \"Distances Approx\", \"Distances Approx\", \"Distances Approx\", \"Distances Approx\", \"Distances Approx\", \"Distances Approx\", \"Distances Approx\", \"Distances Approx\", \"Distances Approx\", \"Distances Approx\", \"Distances Approx\", \"Distances Approx\", \"Distances Approx\", \"Distances Approx\", \"Distances Approx\", \"Distances Approx\", \"Distances Approx\", \"Distances Approx\", \"Distances Approx\", \"Distances Approx\", \"Distances Approx\", \"Distances Approx\", \"Distances Approx\", \"Distances Approx\", \"Distances Approx\", \"Distances Approx\", \"Distances Approx\", \"Distances Approx\", \"Distances Approx\", \"Distances Approx\", \"Distances Approx\", \"Distances Approx\", \"Distances Approx\", \"Distances Approx\", \"Distances Approx\", \"Distances Approx\", \"Distances Approx\", \"Distances Approx\", \"Distances Approx\", \"Distances Approx\", \"Distances Approx\", \"Distances Approx\", \"Distances Approx\", \"Distances Approx\", \"Distances Approx\", \"Distances Approx\", \"Distances Approx\", \"Distances Approx\", \"Distances Approx\", \"Distances Approx\", \"Distances Approx\", \"Distances Approx\", \"Distances Approx\", \"Distances Approx\", \"Distances Approx\", \"Distances Approx\", \"Distances Approx\", \"Distances Approx\", \"Distances Approx\", \"Distances Approx\", \"Distances Approx\", \"Distances Approx\", \"Distances Approx\", \"Distances Approx\", \"Distances Approx\", \"Distances Approx\", \"Distances Approx\", \"Distances Approx\", \"Distances Approx\", \"Distances Approx\", \"Distances Approx\", \"Distances Approx\", \"Distances Approx\", \"Distances Approx\", \"Distances Approx\", \"Distances Approx\", \"Distances Approx\", \"Distances Approx\", \"Distances Approx\", \"Distances Approx\", \"Distances Approx\", \"Distances Approx\", \"Distances Approx\", \"Distances Approx\", \"Distances Approx\", \"Distances Approx\", \"Distances Approx\", \"Distances Approx\", \"Distances Approx\", \"Distances Approx\", \"Distances Approx\", \"Distances Approx\", \"Distances Approx\", \"Distances Approx\", \"Distances Approx\", \"Distances Approx\", \"Distances Approx\", \"Distances Approx\", \"Distances Approx\", \"Distances Approx\", \"Distances Approx\", \"Distances Approx\", \"Distances Approx\", \"Distances Approx\", \"Distances Approx\", \"Distances Approx\", \"Distances Approx\", \"Distances Approx\", \"Distances Approx\", \"Distances Approx\", \"Distances Approx\", \"Distances Approx\", \"Distances Approx\", \"Distances Approx\", \"Distances Approx\", \"Distances Approx\", \"Distances Approx\", \"Distances Approx\", \"Distances Approx\", \"Distances Approx\", \"Distances Approx\", \"Distances Approx\", \"Distances Approx\", \"Distances Approx\", \"Distances Approx\", \"Distances Approx\", \"Distances Approx\", \"Distances Approx\", \"Distances Approx\", \"Distances Approx\", \"Distances Approx\", \"Distances Approx\", \"Distances Approx\", \"Distances Approx\", \"Distances Approx\", \"Distances Approx\", \"Distances Approx\", \"Distances Approx\", \"Distances Approx\", \"Distances Approx\", \"Distances Approx\", \"Distances Approx\", \"Distances Approx\", \"Distances Approx\", \"Distances Approx\", \"Distances Approx\", \"Distances Approx\", \"Distances Approx\", \"Distances Approx\", \"Distances Approx\", \"Distances Approx\", \"Distances Approx\", \"Distances Approx\", \"Distances Approx\", \"Distances Approx\", \"Distances Approx\", \"Distances Approx\", \"Distances Approx\", \"Distances Approx\", \"Distances Approx\", \"Distances Approx\", \"Distances Approx\", \"Distances Approx\", \"Distances Approx\", \"Distances Approx\", \"Distances Approx\", \"Distances Approx\", \"Distances Approx\", \"Distances Approx\", \"Distances Approx\", \"Distances Approx\", \"Distances Approx\", \"Distances Approx\", \"Distances Approx\", \"Distances Approx\", \"Distances Approx\", \"Distances Approx\", \"Distances Approx\", \"Distances Approx\", \"Distances Approx\", \"Distances Approx\", \"Distances Approx\", \"Distances Approx\", \"Distances Approx\", \"Distances Approx\", \"Distances Approx\", \"Distances Approx\", \"Distances Approx\", \"Distances Approx\", \"Distances Approx\", \"Distances Approx\", \"Distances Approx\", \"Distances Approx\", \"Distances Approx\", \"Distances Approx\", \"Distances Approx\", \"Distances Approx\", \"Distances Approx\", \"Distances Approx\", \"Distances Approx\", \"Distances Approx\", \"Distances Approx\", \"Distances Approx\", \"Distances Approx\", \"Distances Approx\", \"Distances Approx\", \"Distances Approx\", \"Distances Approx\", \"Distances Approx\", \"Distances Approx\", \"Distances Approx\", \"Distances Approx\", \"Distances Approx\", \"Distances Approx\", \"Distances Approx\", \"Distances Approx\", \"Distances Approx\", \"Distances Approx\", \"Distances Approx\", \"Distances Approx\", \"Distances Approx\", \"Distances Approx\", \"Distances Approx\", \"Distances Approx\", \"Distances Approx\", \"Distances Approx\", \"Distances Approx\", \"Distances Approx\", \"Distances Approx\", \"Distances Approx\", \"Distances Approx\", \"Distances Approx\", \"Distances Approx\", \"Distances Approx\", \"Distances Approx\", \"Distances Approx\", \"Distances Approx\", \"Distances Approx\", \"Distances Approx\", \"Distances Approx\", \"Distances Approx\", \"Distances Approx\", \"Distances Approx\", \"Distances Approx\", \"Distances Approx\", \"Distances Approx\", \"Distances Approx\", \"Distances Approx\", \"Distances Approx\", \"Distances Approx\", \"Distances Approx\", \"Distances Approx\", \"Distances Approx\", \"Distances Approx\", \"Distances Approx\", \"Distances Approx\", \"Distances Approx\", \"Distances Approx\", \"Distances Approx\", \"Distances Approx\", \"Distances Approx\", \"Distances Approx\", \"Distances Approx\", \"Distances Approx\", \"Distances Approx\", \"Distances Approx\", \"Distances Approx\", \"Distances Approx\", \"Distances Approx\", \"Distances Approx\", \"Distances Approx\", \"Distances Approx\", \"Distances Approx\", \"Distances Approx\", \"Distances Approx\", \"Distances Approx\", \"Distances Approx\", \"Distances Approx\", \"Distances Approx\", \"Distances Approx\", \"Distances Approx\", \"Distances Approx\", \"Distances Approx\", \"Distances Approx\", \"Distances Approx\", \"Distances Approx\", \"Distances Approx\", \"Distances Approx\", \"Distances Approx\", \"Distances Approx\", \"Distances Approx\", \"Distances Approx\", \"Distances Approx\", \"Distances Approx\", \"Distances Approx\", \"Distances Approx\", \"Distances Approx\", \"Distances Approx\", \"Distances Approx\", \"Distances Approx\", \"Distances Approx\", \"Distances Approx\", \"Distances Approx\", \"Distances Approx\", \"Distances Approx\", \"Distances Approx\", \"Distances Approx\", \"Distances Approx\", \"Distances Approx\", \"Distances Approx\", \"Distances Approx\", \"Distances Approx\", \"Distances Approx\", \"Distances Approx\", \"Distances Approx\", \"Distances Approx\", \"Distances Approx\", \"Distances Approx\", \"Distances Approx\", \"Distances Approx\", \"Distances Approx\", \"Distances Approx\", \"Distances Approx\", \"Distances Approx\", \"Distances Approx\", \"Distances Approx\", \"Distances Approx\", \"Distances Approx\", \"Distances Approx\", \"Distances Approx\", \"Distances Approx\", \"Distances Approx\", \"Distances Approx\", \"Distances Approx\", \"Distances Approx\", \"Distances Approx\", \"Distances Approx\", \"Distances Approx\", \"Distances Approx\", \"Distances Approx\", \"Distances Approx\", \"Distances Approx\", \"Distances Approx\", \"Distances Approx\", \"Distances Approx\", \"Distances Approx\", \"Distances Approx\", \"Distances Approx\", \"Distances Approx\", \"Distances Approx\", \"Distances Approx\", \"Distances Approx\", \"Distances Approx\", \"Distances Approx\", \"Distances Approx\", \"Distances Approx\", \"Distances Approx\", \"Distances Approx\", \"Distances Approx\", \"Distances Approx\", \"Distances Approx\", \"Distances Approx\", \"Distances Approx\", \"Distances Approx\", \"Distances Approx\", \"Distances Approx\", \"Distances Approx\", \"Distances Approx\", \"Distances Approx\", \"Distances Approx\", \"Distances Approx\", \"Distances Approx\", \"Distances Approx\", \"Distances Approx\", \"Distances Approx\", \"Distances Approx\", \"Distances Approx\", \"Distances Approx\", \"Distances Approx\", \"Distances Approx\", \"Distances Approx\", \"Distances Approx\", \"Distances Approx\", \"Distances Approx\", \"Distances Approx\", \"Distances Approx\", \"Distances Approx\", \"Distances Approx\", \"Distances Approx\", \"Distances Approx\", \"Distances Approx\", \"Distances Approx\", \"Distances Approx\", \"Distances Approx\", \"Distances Approx\", \"Distances Approx\", \"Distances Approx\", \"Distances Approx\", \"Distances Approx\", \"Distances Approx\", \"Distances Approx\", \"Distances Approx\", \"Distances Approx\", \"Distances Approx\", \"Distances Approx\", \"Distances Approx\", \"Distances Approx\", \"Distances Approx\", \"Distances Approx\", \"Distances Approx\", \"Distances Approx\", \"Distances Approx\", \"Distances Approx\", \"Distances Approx\", \"Distances Approx\", \"Distances Approx\", \"Distances Approx\", \"Distances Approx\", \"Distances Approx\", \"Distances Approx\", \"Distances Approx\", \"Distances Approx\", \"Distances Approx\", \"Distances Approx\", \"Distances Approx\", \"Distances Approx\", \"Distances Approx\", \"Distances Approx\", \"Distances Approx\", \"Distances Approx\", \"Distances Approx\", \"Distances Approx\", \"Distances Approx\", \"Distances Approx\", \"Distances Approx\", \"Distances Approx\", \"Distances Approx\", \"Distances Approx\", \"Distances Approx\", \"Distances Approx\", \"Distances Approx\", \"Distances Approx\", \"Distances Approx\", \"Distances Approx\", \"Distances Approx\", \"Distances Approx\", \"Distances Approx\", \"Distances Approx\", \"Distances Approx\", \"Distances Approx\", \"Distances Approx\", \"Distances Approx\", \"Distances Approx\", \"Distances Approx\", \"Distances Approx\", \"Distances Approx\", \"Distances Approx\", \"Distances Approx\", \"Distances Approx\", \"Distances Approx\", \"Distances Approx\", \"Distances Approx\", \"Distances Approx\", \"Distances Approx\", \"Distances Approx\", \"Distances Approx\", \"Distances Approx\", \"Distances Approx\", \"Distances Approx\", \"Distances Approx\", \"Distances Approx\", \"Distances Approx\", \"Distances Approx\", \"Distances Approx\", \"Distances Approx\", \"Distances Approx\", \"Distances Approx\", \"Distances Approx\", \"Distances Approx\", \"Distances Approx\", \"Distances Approx\", \"Distances Approx\", \"Distances Approx\", \"Distances Approx\", \"Distances Approx\", \"Distances Approx\", \"Distances Approx\", \"Distances Approx\", \"Distances Approx\", \"Distances Approx\", \"Distances Approx\", \"Distances Approx\", \"Distances Approx\", \"Distances Approx\", \"Distances Approx\", \"Distances Approx\", \"Distances Approx\", \"Distances Approx\", \"Distances Approx\", \"Distances Approx\", \"Distances Approx\", \"Distances Approx\", \"Distances Approx\", \"Distances Approx\", \"Distances Approx\", \"Distances Approx\", \"Distances Approx\", \"Distances Approx\", \"Distances Approx\", \"Distances Approx\", \"Distances Approx\", \"Distances Approx\", \"Distances Approx\", \"Distances Approx\", \"Distances Approx\", \"Distances Approx\", \"Distances Approx\", \"Distances Approx\", \"Distances Approx\", \"Distances Approx\", \"Distances Approx\", \"Distances Approx\", \"Distances Approx\", \"Distances Approx\", \"Distances Approx\", \"Distances Approx\", \"Distances Approx\", \"Distances Approx\", \"Distances Approx\", \"Distances Approx\", \"Distances Approx\", \"Distances Approx\", \"Distances Approx\", \"Distances Approx\", \"Distances Approx\", \"Distances Approx\", \"Distances Approx\", \"Distances Approx\", \"Distances Approx\", \"Distances Approx\", \"Distances Approx\", \"Distances Approx\", \"Distances Approx\", \"Distances Approx\", \"Distances Approx\", \"Distances Approx\", \"Distances Approx\", \"Distances Approx\", \"Distances Approx\", \"Distances Approx\", \"Distances Approx\", \"Distances Approx\", \"Distances Approx\", \"Distances Approx\", \"Distances Approx\", \"Distances Approx\", \"Distances Approx\", \"Distances Approx\", \"Distances Approx\", \"Distances Approx\", \"Distances Approx\", \"Distances Approx\", \"Distances Approx\", \"Distances Approx\", \"Distances Approx\", \"Distances Approx\", \"Distances Approx\", \"Distances Approx\", \"Distances Approx\", \"Distances Approx\", \"Distances Approx\", \"Distances Approx\", \"Distances Approx\", \"Distances Approx\", \"Distances Approx\", \"Distances Approx\", \"Distances Approx\", \"Distances Approx\", \"Distances Approx\", \"Distances Approx\", \"Distances Approx\", \"Distances Approx\", \"Distances Approx\", \"Distances Approx\", \"Distances Approx\", \"Distances Approx\", \"Distances Approx\", \"Distances Approx\", \"Distances Approx\", \"Distances Approx\", \"Distances Approx\", \"Distances Approx\", \"Distances Approx\", \"Distances Approx\", \"Distances Approx\", \"Distances Approx\", \"Distances Approx\", \"Distances Approx\", \"Distances Approx\", \"Distances Approx\", \"Distances Approx\", \"Distances Approx\", \"Distances Approx\", \"Distances Approx\", \"Distances Approx\", \"Distances Approx\", \"Distances Approx\", \"Distances Approx\", \"Distances Approx\", \"Distances Approx\", \"Distances Approx\", \"Distances Approx\", \"Distances Approx\", \"Distances Approx\", \"Distances Approx\", \"Distances Approx\", \"Distances Approx\", \"Distances Approx\", \"Distances Approx\", \"Distances Approx\", \"Distances Approx\", \"Distances Approx\", \"Distances Approx\", \"Distances Approx\", \"Distances Approx\", \"Distances Approx\", \"Distances Approx\", \"Distances Approx\", \"Distances Approx\", \"Distances Approx\", \"Distances Approx\", \"Distances Approx\", \"Distances Approx\", \"Distances Approx\", \"Distances Approx\", \"Distances Approx\", \"Distances Approx\", \"Distances Approx\", \"Distances Approx\", \"Distances Approx\", \"Distances Approx\", \"Distances Approx\", \"Distances Approx\", \"Distances Approx\", \"Distances Approx\", \"Distances Approx\", \"Distances Approx\", \"Distances Approx\", \"Distances Approx\", \"Distances Approx\", \"Distances Approx\", \"Distances Approx\", \"Distances Approx\", \"Distances Approx\", \"Distances Approx\", \"Distances Approx\", \"Distances Approx\", \"Distances Approx\", \"Distances Approx\", \"Distances Approx\", \"Distances Approx\", \"Distances Approx\", \"Distances Approx\", \"Distances Approx\", \"Distances Approx\", \"Distances Approx\", \"Distances Approx\", \"Distances Approx\", \"Distances Approx\", \"Distances Approx\", \"Distances Approx\", \"Distances Approx\", \"Distances Approx\", \"Distances Approx\", \"Distances Approx\", \"Distances Approx\", \"Distances Approx\", \"Distances Approx\", \"Distances Approx\", \"Distances Approx\", \"Distances Approx\", \"Distances Approx\", \"Distances Approx\", \"Distances Approx\", \"Distances Approx\", \"Distances Approx\", \"Distances Approx\", \"Distances Approx\", \"Distances Approx\", \"Distances Approx\", \"Distances Approx\", \"Distances Approx\", \"Distances Approx\", \"Distances Approx\", \"Distances Approx\", \"Distances Approx\", \"Distances Approx\", \"Distances Approx\", \"Distances Approx\", \"Distances Approx\", \"Distances Approx\", \"Distances Approx\", \"Distances Approx\", \"Distances Approx\", \"Distances Approx\", \"Distances Approx\", \"Distances Approx\", \"Distances Approx\", \"Distances Approx\", \"Distances Approx\", \"Distances Approx\", \"Distances Approx\", \"Distances Approx\", \"Distances Approx\", \"Distances Approx\", \"Distances Approx\", \"Distances Approx\", \"Distances Approx\", \"Distances Approx\", \"Distances Approx\", \"Distances Approx\", \"Distances Approx\", \"Distances Approx\", \"Distances Approx\", \"Distances Approx\", \"Distances Approx\", \"Distances Approx\", \"Distances Approx\", \"Distances Approx\", \"Distances Approx\", \"Distances Approx\", \"Distances Approx\", \"Distances Approx\", \"Distances Approx\", \"Distances Approx\", \"Distances Approx\", \"Distances Approx\", \"Distances Approx\", \"Distances Approx\", \"Distances Approx\", \"Distances Approx\", \"Distances Approx\", \"Distances Approx\", \"Distances Approx\", \"Distances Approx\", \"Distances Approx\", \"Distances Approx\", \"Distances Approx\", \"Distances Approx\", \"Distances Approx\", \"Distances Approx\", \"Distances Approx\", \"Distances Approx\", \"Distances Approx\", \"Distances Approx\", \"Distances Approx\", \"Distances Approx\", \"Distances Approx\", \"Distances Approx\", \"Distances Approx\", \"Distances Approx\", \"Distances Approx\", \"Distances Approx\", \"Distances Approx\", \"Distances Approx\", \"Distances Approx\", \"Distances Approx\", \"Distances Approx\", \"Distances Approx\", \"Distances Approx\", \"Distances Approx\", \"Distances Approx\", \"Distances Approx\", \"Distances Approx\", \"Distances Approx\", \"Distances Approx\", \"Distances Approx\", \"Distances Approx\", \"Distances Approx\", \"Distances Approx\", \"Distances Approx\", \"Distances Approx\", \"Distances Approx\", \"Distances Approx\", \"Distances Approx\", \"Distances Approx\", \"Distances Approx\", \"Distances Approx\", \"Distances Approx\", \"Distances Approx\", \"Distances Approx\", \"Distances Approx\", \"Distances Approx\", \"Distances Approx\", \"Distances Approx\", \"Distances Approx\", \"Distances Approx\", \"Distances Approx\", \"Distances Approx\", \"Distances Approx\", \"Distances Approx\", \"Distances Approx\", \"Distances Approx\", \"Distances Approx\", \"Distances Approx\", \"Distances Approx\", \"Distances Approx\", \"Distances Approx\", \"Distances Approx\", \"Distances Approx\", \"Distances Approx\", \"Distances Approx\", \"Distances Approx\", \"Distances Approx\", \"Distances Approx\", \"Distances Approx\", \"Distances Approx\", \"Distances Approx\", \"Distances Approx\", \"Distances Approx\", \"Distances Approx\", \"Distances Approx\", \"Distances Approx\", \"Distances Approx\", \"Distances Approx\", \"Distances Approx\", \"Distances Approx\", \"Distances Approx\", \"Distances Approx\", \"Distances Approx\", \"Distances Approx\", \"Distances Approx\", \"Distances Approx\", \"Distances Approx\", \"Distances Approx\", \"Distances Approx\", \"Distances Approx\", \"Distances Approx\", \"Distances Approx\", \"Distances Approx\", \"Distances Approx\", \"Distances Approx\", \"Distances Approx\", \"Distances Approx\", \"Distances Approx\", \"Distances Approx\", \"Distances Approx\", \"Distances Approx\", \"Distances Approx\", \"Distances Approx\", \"Distances Approx\", \"Distances Approx\", \"Distances Approx\", \"Distances Approx\", \"Distances Approx\", \"Distances Approx\", \"Distances Approx\", \"Distances Approx\", \"Distances Approx\", \"Distances Approx\", \"Distances Approx\", \"Distances Approx\", \"Distances Approx\", \"Distances Approx\", \"Distances Approx\", \"Distances Approx\", \"Distances Approx\", \"Distances Approx\", \"Distances Approx\", \"Distances Approx\", \"Distances Approx\", \"Distances Approx\", \"Distances Approx\", \"Distances Approx\", \"Distances Approx\", \"Distances Approx\", \"Distances Approx\", \"Distances Approx\", \"Distances Approx\", \"Distances Approx\", \"Distances Approx\", \"Distances Approx\", \"Distances Approx\", \"Distances Approx\", \"Distances Approx\", \"Distances Approx\", \"Distances Approx\", \"Distances Approx\", \"Distances Approx\", \"Distances Approx\", \"Distances Approx\", \"Distances Approx\", \"Distances Approx\", \"Distances Approx\", \"Distances Approx\", \"Distances Approx\", \"Distances Approx\", \"Distances Approx\", \"Distances Approx\", \"Distances Approx\", \"Distances Approx\", \"Distances Approx\", \"Distances Approx\", \"Distances Approx\", \"Distances Approx\", \"Distances Approx\", \"Distances Approx\", \"Distances Approx\", \"Distances Approx\", \"Distances Approx\", \"Distances Approx\", \"Distances Approx\", \"Distances Approx\", \"Distances Approx\", \"Distances Approx\", \"Distances Approx\", \"Distances Approx\", \"Distances Approx\", \"Distances Approx\", \"Distances Approx\", \"Distances Approx\", \"Distances Approx\", \"Distances Approx\", \"Distances Approx\", \"Distances Approx\", \"Distances Approx\", \"Distances Approx\", \"Distances Approx\", \"Distances Approx\", \"Distances Approx\", \"Distances Approx\", \"Distances Approx\", \"Distances Approx\", \"Distances Approx\", \"Distances Approx\", \"Distances Approx\", \"Distances Approx\", \"Distances Approx\", \"Distances Approx\", \"Distances Approx\", \"Distances Approx\", \"Distances Approx\", \"Distances Approx\", \"Distances Approx\", \"Distances Approx\", \"Distances Approx\", \"Distances Approx\", \"Distances Approx\", \"Distances Approx\", \"Distances Approx\", \"Distances Approx\", \"Distances Approx\", \"Distances Approx\", \"Distances Approx\", \"Distances Approx\", \"Distances Approx\", \"Distances Approx\", \"Distances Approx\", \"Distances Approx\", \"Distances Approx\", \"Distances Approx\", \"Distances Approx\", \"Distances Approx\", \"Distances Approx\", \"Distances Approx\", \"Distances Approx\", \"Distances Approx\", \"Distances Approx\", \"Distances Approx\", \"Distances Approx\", \"Distances Approx\", \"Distances Approx\", \"Distances Approx\", \"Distances Approx\", \"Distances Approx\", \"Distances Approx\", \"Distances Approx\", \"Distances Approx\", \"Distances Approx\", \"Distances Approx\", \"Distances Approx\", \"Distances Approx\", \"Distances Approx\", \"Distances Approx\", \"Distances Approx\", \"Distances Approx\", \"Distances Approx\", \"Distances Approx\", \"Distances Approx\", \"Distances Approx\", \"Distances Approx\", \"Distances Approx\", \"Distances Approx\", \"Distances Approx\", \"Distances Approx\", \"Distances Approx\", \"Distances Approx\", \"Distances Approx\", \"Distances Approx\", \"Distances Approx\", \"Distances Approx\", \"Distances Approx\", \"Distances Approx\", \"Distances Approx\", \"Distances Approx\", \"Distances Approx\", \"Distances Approx\", \"Distances Approx\", \"Distances Approx\", \"Distances Approx\", \"Distances Approx\", \"Distances Approx\", \"Distances Approx\", \"Distances Approx\", \"Distances Approx\", \"Distances Approx\", \"Distances Approx\", \"Distances Approx\", \"Distances Approx\", \"Distances Approx\", \"Distances Approx\", \"Distances Approx\", \"Distances Approx\", \"Distances Approx\", \"Distances Approx\", \"Distances Approx\", \"Distances Approx\", \"Distances Approx\", \"Distances Approx\", \"Distances Approx\", \"Distances Approx\", \"Distances Approx\", \"Distances Approx\", \"Distances Approx\", \"Distances Approx\", \"Distances Approx\", \"Distances Approx\", \"Distances Approx\", \"Distances Approx\", \"Distances Approx\", \"Distances Approx\", \"Distances Approx\", \"Distances Approx\", \"Distances Approx\", \"Distances Approx\", \"Distances Approx\", \"Distances Approx\", \"Distances Approx\", \"Distances Approx\", \"Distances Approx\", \"Distances Approx\", \"Distances Approx\", \"Distances Approx\", \"Distances Approx\", \"Distances Approx\", \"Distances Approx\", \"Distances Approx\", \"Distances Approx\", \"Distances Approx\", \"Distances Approx\", \"Distances Approx\", \"Distances Approx\", \"Distances Approx\", \"Distances Approx\", \"Distances Approx\", \"Distances Approx\", \"Distances Approx\", \"Distances Approx\", \"Distances Approx\", \"Distances Approx\", \"Distances Approx\", \"Distances Approx\", \"Distances Approx\", \"Distances Approx\", \"Distances Approx\", \"Distances Approx\", \"Distances Approx\", \"Distances Approx\", \"Distances Approx\", \"Distances Approx\", \"Distances Approx\", \"Distances Approx\", \"Distances Approx\", \"Distances Approx\", \"Distances Approx\", \"Distances Approx\", \"Distances Approx\", \"Distances Approx\", \"Distances Approx\", \"Distances Approx\", \"Distances Approx\", \"Distances Approx\", \"Distances Approx\", \"Distances Approx\", \"Distances Approx\", \"Distances Approx\", \"Distances Approx\", \"Distances Approx\", \"Distances Approx\", \"Distances Approx\", \"Distances Approx\", \"Distances Approx\", \"Distances Approx\", \"Distances Approx\", \"Distances Approx\", \"Distances Approx\", \"Distances Approx\", \"Distances Approx\", \"Distances Approx\", \"Distances Approx\", \"Distances Approx\", \"Distances Approx\", \"Distances Approx\", \"Distances Approx\", \"Distances Approx\", \"Distances Approx\", \"Distances Approx\", \"Distances Approx\", \"Distances Approx\", \"Distances Approx\", \"Distances Approx\", \"Distances Approx\", \"Distances Approx\", \"Distances Approx\", \"Distances Approx\", \"Distances Approx\", \"Distances Approx\", \"Distances Approx\", \"Distances Approx\", \"Distances Approx\", \"Distances Approx\", \"Distances Approx\", \"Distances Approx\", \"Distances Approx\", \"Distances Approx\", \"Distances Approx\", \"Distances Approx\", \"Distances Approx\", \"Distances Approx\", \"Distances Approx\", \"Distances Approx\", \"Distances Approx\", \"Distances Approx\", \"Distances Approx\", \"Distances Approx\", \"Distances Approx\", \"Distances Approx\", \"Distances Approx\", \"Distances Approx\", \"Distances Approx\", \"Distances Approx\", \"Distances Approx\", \"Distances Approx\", \"Distances Approx\", \"Distances Approx\", \"Distances Approx\", \"Distances Approx\", \"Distances Approx\", \"Distances Approx\", \"Distances Approx\", \"Distances Approx\", \"Distances Approx\", \"Distances Approx\", \"Distances Approx\", \"Distances Approx\", \"Distances Approx\", \"Distances Approx\", \"Distances Approx\", \"Distances Approx\", \"Distances Approx\", \"Distances Approx\", \"Distances Approx\", \"Distances Approx\", \"Distances Approx\", \"Distances Approx\", \"Distances Approx\", \"Distances Approx\", \"Distances Approx\", \"Distances Approx\", \"Distances Approx\", \"Distances Approx\", \"Distances Approx\", \"Distances Approx\", \"Distances Approx\", \"Distances Approx\", \"Distances Approx\", \"Distances Approx\", \"Distances Approx\", \"Distances Approx\", \"Distances Approx\", \"Distances Approx\", \"Distances Approx\", \"Distances Approx\", \"Distances Approx\", \"Distances Approx\", \"Distances Approx\", \"Distances Approx\", \"Distances Approx\", \"Distances Approx\", \"Distances Approx\", \"Distances Approx\", \"Distances Approx\", \"Distances Approx\", \"Distances Approx\", \"Distances Approx\", \"Distances Approx\", \"Distances Approx\", \"Distances Approx\", \"Distances Approx\", \"Distances Approx\", \"Distances Approx\", \"Distances Approx\", \"Distances Approx\", \"Distances Approx\", \"Distances Approx\", \"Distances Approx\", \"Distances Approx\", \"Distances Approx\", \"Distances Approx\", \"Distances Approx\", \"Distances Approx\", \"Distances Approx\", \"Distances Approx\", \"Distances Approx\", \"Distances Approx\", \"Distances Approx\", \"Distances Approx\", \"Distances Approx\", \"Distances Approx\", \"Distances Approx\", \"Distances Approx\", \"Distances Approx\", \"Distances Approx\", \"Distances Approx\", \"Distances Approx\", \"Distances Approx\", \"Distances Approx\", \"Distances Approx\", \"Distances Approx\", \"Distances Approx\", \"Distances Approx\", \"Distances Approx\", \"Distances Approx\", \"Distances Approx\", \"Distances Approx\", \"Distances Approx\", \"Distances Approx\", \"Distances Approx\", \"Distances Approx\", \"Distances Approx\", \"Distances Approx\", \"Distances Approx\", \"Distances Approx\", \"Distances Approx\", \"Distances Approx\", \"Distances Approx\", \"Distances Approx\", \"Distances Approx\", \"Distances Approx\", \"Distances Approx\", \"Distances Approx\", \"Distances Approx\", \"Distances Approx\", \"Distances Approx\", \"Distances Approx\", \"Distances Approx\", \"Distances Approx\", \"Distances Approx\", \"Distances Approx\", \"Distances Approx\", \"Distances Approx\", \"Distances Approx\", \"Distances Approx\", \"Distances Approx\", \"Distances Approx\", \"Distances Approx\", \"Distances Approx\", \"Distances Approx\", \"Distances Approx\", \"Distances Approx\", \"Distances Approx\", \"Distances Approx\", \"Distances Approx\", \"Distances Approx\", \"Distances Approx\", \"Distances Approx\", \"Distances Approx\", \"Distances Approx\", \"Distances Approx\", \"Distances Approx\", \"Distances Approx\", \"Distances Approx\", \"Distances Approx\", \"Distances Approx\", \"Distances Approx\", \"Distances Approx\", \"Distances Approx\", \"Distances Approx\", \"Distances Approx\", \"Distances Approx\", \"Distances Approx\", \"Distances Approx\", \"Distances Approx\", \"Distances Approx\", \"Distances Approx\", \"Distances Approx\", \"Distances Approx\", \"Distances Approx\", \"Distances Approx\", \"Distances Approx\", \"Distances Approx\", \"Distances Approx\", \"Distances Approx\", \"Distances Approx\", \"Distances Approx\", \"Distances Approx\", \"Distances Approx\", \"Distances Approx\", \"Distances Approx\", \"Distances Approx\", \"Distances Approx\", \"Distances Approx\", \"Distances Approx\", \"Distances Approx\", \"Distances Approx\", \"Distances Approx\", \"Distances Approx\", \"Distances Approx\", \"Distances Approx\", \"Distances Approx\", \"Distances Approx\", \"Distances Approx\", \"Distances Approx\", \"Distances Approx\", \"Distances Approx\", \"Distances Approx\", \"Distances Approx\", \"Distances Approx\", \"Distances Approx\", \"Distances Approx\", \"Distances Approx\", \"Distances Approx\", \"Distances Approx\", \"Distances Approx\", \"Distances Approx\", \"Distances Approx\", \"Distances Approx\", \"Distances Approx\", \"Distances Approx\", \"Distances Approx\", \"Distances Approx\", \"Distances Approx\", \"Distances Approx\", \"Distances Approx\", \"Distances Approx\", \"Distances Approx\", \"Distances Approx\", \"Distances Approx\", \"Distances Approx\", \"Distances Approx\", \"Distances Approx\", \"Distances Approx\", \"Distances Approx\", \"Distances Approx\", \"Distances Approx\", \"Distances Approx\", \"Distances Approx\", \"Distances Approx\", \"Distances Approx\", \"Distances Approx\", \"Distances Approx\", \"Distances Approx\", \"Distances Approx\", \"Distances Approx\", \"Distances Approx\", \"Distances Approx\", \"Distances Approx\", \"Distances Approx\", \"Distances Approx\", \"Distances Approx\", \"Distances Approx\", \"Distances Approx\", \"Distances Approx\", \"Distances Approx\", \"Distances Approx\", \"Distances Approx\", \"Distances Approx\", \"Distances Approx\", \"Distances Approx\", \"Distances Approx\", \"Distances Approx\", \"Distances Approx\", \"Distances Approx\", \"Distances Approx\", \"Distances Approx\", \"Distances Approx\", \"Distances Approx\", \"Distances Approx\", \"Distances Approx\", \"Distances Approx\", \"Distances Approx\", \"Distances Approx\", \"Distances Approx\", \"Distances Approx\", \"Distances Approx\", \"Distances Approx\", \"Distances Approx\", \"Distances Approx\", \"Distances Approx\", \"Distances Approx\", \"Distances Approx\", \"Distances Approx\", \"Distances Approx\", \"Distances Approx\", \"Distances Approx\", \"Distances Approx\", \"Distances Approx\", \"Distances Approx\", \"Distances Approx\", \"Distances Approx\", \"Distances Approx\", \"Distances Approx\", \"Distances Approx\", \"Distances Approx\", \"Distances Approx\", \"Distances Approx\", \"Distances Approx\", \"Distances Approx\", \"Distances Approx\", \"Distances Approx\", \"Distances Approx\", \"Distances Approx\", \"Distances Approx\", \"Distances Approx\", \"Distances Approx\", \"Distances Approx\", \"Distances Approx\", \"Distances Approx\", \"Distances Approx\", \"Distances Approx\", \"Distances Approx\", \"Distances Approx\", \"Distances Approx\", \"Distances Approx\", \"Distances Approx\", \"Distances Approx\", \"Distances Approx\", \"Distances Approx\", \"Distances Approx\", \"Distances Approx\", \"Distances Approx\", \"Distances Approx\", \"Distances Approx\", \"Distances Approx\", \"Distances Approx\", \"Distances Approx\"], \"yaxis\": \"y2\"}],\n",
       "                        {\"barmode\": \"overlay\", \"hovermode\": \"closest\", \"legend\": {\"traceorder\": \"reversed\"}, \"template\": {\"data\": {\"bar\": [{\"error_x\": {\"color\": \"#2a3f5f\"}, \"error_y\": {\"color\": \"#2a3f5f\"}, \"marker\": {\"line\": {\"color\": \"#E5ECF6\", \"width\": 0.5}}, \"type\": \"bar\"}], \"barpolar\": [{\"marker\": {\"line\": {\"color\": \"#E5ECF6\", \"width\": 0.5}}, \"type\": \"barpolar\"}], \"carpet\": [{\"aaxis\": {\"endlinecolor\": \"#2a3f5f\", \"gridcolor\": \"white\", \"linecolor\": \"white\", \"minorgridcolor\": \"white\", \"startlinecolor\": \"#2a3f5f\"}, \"baxis\": {\"endlinecolor\": \"#2a3f5f\", \"gridcolor\": \"white\", \"linecolor\": \"white\", \"minorgridcolor\": \"white\", \"startlinecolor\": \"#2a3f5f\"}, \"type\": \"carpet\"}], \"choropleth\": [{\"colorbar\": {\"outlinewidth\": 0, \"ticks\": \"\"}, \"type\": \"choropleth\"}], \"contour\": [{\"colorbar\": {\"outlinewidth\": 0, \"ticks\": \"\"}, \"colorscale\": [[0.0, \"#0d0887\"], [0.1111111111111111, \"#46039f\"], [0.2222222222222222, \"#7201a8\"], [0.3333333333333333, \"#9c179e\"], [0.4444444444444444, \"#bd3786\"], [0.5555555555555556, \"#d8576b\"], [0.6666666666666666, \"#ed7953\"], [0.7777777777777778, \"#fb9f3a\"], [0.8888888888888888, \"#fdca26\"], [1.0, \"#f0f921\"]], \"type\": \"contour\"}], \"contourcarpet\": [{\"colorbar\": {\"outlinewidth\": 0, \"ticks\": \"\"}, \"type\": \"contourcarpet\"}], \"heatmap\": [{\"colorbar\": {\"outlinewidth\": 0, \"ticks\": \"\"}, \"colorscale\": [[0.0, \"#0d0887\"], [0.1111111111111111, \"#46039f\"], [0.2222222222222222, \"#7201a8\"], [0.3333333333333333, \"#9c179e\"], [0.4444444444444444, \"#bd3786\"], [0.5555555555555556, \"#d8576b\"], [0.6666666666666666, \"#ed7953\"], [0.7777777777777778, \"#fb9f3a\"], [0.8888888888888888, \"#fdca26\"], [1.0, \"#f0f921\"]], \"type\": \"heatmap\"}], \"heatmapgl\": [{\"colorbar\": {\"outlinewidth\": 0, \"ticks\": \"\"}, \"colorscale\": [[0.0, \"#0d0887\"], [0.1111111111111111, \"#46039f\"], [0.2222222222222222, \"#7201a8\"], [0.3333333333333333, \"#9c179e\"], [0.4444444444444444, \"#bd3786\"], [0.5555555555555556, \"#d8576b\"], [0.6666666666666666, \"#ed7953\"], [0.7777777777777778, \"#fb9f3a\"], [0.8888888888888888, \"#fdca26\"], [1.0, \"#f0f921\"]], \"type\": \"heatmapgl\"}], \"histogram\": [{\"marker\": {\"colorbar\": {\"outlinewidth\": 0, \"ticks\": \"\"}}, \"type\": \"histogram\"}], \"histogram2d\": [{\"colorbar\": {\"outlinewidth\": 0, \"ticks\": \"\"}, \"colorscale\": [[0.0, \"#0d0887\"], [0.1111111111111111, \"#46039f\"], [0.2222222222222222, \"#7201a8\"], [0.3333333333333333, \"#9c179e\"], [0.4444444444444444, \"#bd3786\"], [0.5555555555555556, \"#d8576b\"], [0.6666666666666666, \"#ed7953\"], [0.7777777777777778, \"#fb9f3a\"], [0.8888888888888888, \"#fdca26\"], [1.0, \"#f0f921\"]], \"type\": \"histogram2d\"}], \"histogram2dcontour\": [{\"colorbar\": {\"outlinewidth\": 0, \"ticks\": \"\"}, \"colorscale\": [[0.0, \"#0d0887\"], [0.1111111111111111, \"#46039f\"], [0.2222222222222222, \"#7201a8\"], [0.3333333333333333, \"#9c179e\"], [0.4444444444444444, \"#bd3786\"], [0.5555555555555556, \"#d8576b\"], [0.6666666666666666, \"#ed7953\"], [0.7777777777777778, \"#fb9f3a\"], [0.8888888888888888, \"#fdca26\"], [1.0, \"#f0f921\"]], \"type\": \"histogram2dcontour\"}], \"mesh3d\": [{\"colorbar\": {\"outlinewidth\": 0, \"ticks\": \"\"}, \"type\": \"mesh3d\"}], \"parcoords\": [{\"line\": {\"colorbar\": {\"outlinewidth\": 0, \"ticks\": \"\"}}, \"type\": \"parcoords\"}], \"pie\": [{\"automargin\": true, \"type\": \"pie\"}], \"scatter\": [{\"marker\": {\"colorbar\": {\"outlinewidth\": 0, \"ticks\": \"\"}}, \"type\": \"scatter\"}], \"scatter3d\": [{\"line\": {\"colorbar\": {\"outlinewidth\": 0, \"ticks\": \"\"}}, \"marker\": {\"colorbar\": {\"outlinewidth\": 0, \"ticks\": \"\"}}, \"type\": \"scatter3d\"}], \"scattercarpet\": [{\"marker\": {\"colorbar\": {\"outlinewidth\": 0, \"ticks\": \"\"}}, \"type\": \"scattercarpet\"}], \"scattergeo\": [{\"marker\": {\"colorbar\": {\"outlinewidth\": 0, \"ticks\": \"\"}}, \"type\": \"scattergeo\"}], \"scattergl\": [{\"marker\": {\"colorbar\": {\"outlinewidth\": 0, \"ticks\": \"\"}}, \"type\": \"scattergl\"}], \"scattermapbox\": [{\"marker\": {\"colorbar\": {\"outlinewidth\": 0, \"ticks\": \"\"}}, \"type\": \"scattermapbox\"}], \"scatterpolar\": [{\"marker\": {\"colorbar\": {\"outlinewidth\": 0, \"ticks\": \"\"}}, \"type\": \"scatterpolar\"}], \"scatterpolargl\": [{\"marker\": {\"colorbar\": {\"outlinewidth\": 0, \"ticks\": \"\"}}, \"type\": \"scatterpolargl\"}], \"scatterternary\": [{\"marker\": {\"colorbar\": {\"outlinewidth\": 0, \"ticks\": \"\"}}, \"type\": \"scatterternary\"}], \"surface\": [{\"colorbar\": {\"outlinewidth\": 0, \"ticks\": \"\"}, \"colorscale\": [[0.0, \"#0d0887\"], [0.1111111111111111, \"#46039f\"], [0.2222222222222222, \"#7201a8\"], [0.3333333333333333, \"#9c179e\"], [0.4444444444444444, \"#bd3786\"], [0.5555555555555556, \"#d8576b\"], [0.6666666666666666, \"#ed7953\"], [0.7777777777777778, \"#fb9f3a\"], [0.8888888888888888, \"#fdca26\"], [1.0, \"#f0f921\"]], \"type\": \"surface\"}], \"table\": [{\"cells\": {\"fill\": {\"color\": \"#EBF0F8\"}, \"line\": {\"color\": \"white\"}}, \"header\": {\"fill\": {\"color\": \"#C8D4E3\"}, \"line\": {\"color\": \"white\"}}, \"type\": \"table\"}]}, \"layout\": {\"annotationdefaults\": {\"arrowcolor\": \"#2a3f5f\", \"arrowhead\": 0, \"arrowwidth\": 1}, \"coloraxis\": {\"colorbar\": {\"outlinewidth\": 0, \"ticks\": \"\"}}, \"colorscale\": {\"diverging\": [[0, \"#8e0152\"], [0.1, \"#c51b7d\"], [0.2, \"#de77ae\"], [0.3, \"#f1b6da\"], [0.4, \"#fde0ef\"], [0.5, \"#f7f7f7\"], [0.6, \"#e6f5d0\"], [0.7, \"#b8e186\"], [0.8, \"#7fbc41\"], [0.9, \"#4d9221\"], [1, \"#276419\"]], \"sequential\": [[0.0, \"#0d0887\"], [0.1111111111111111, \"#46039f\"], [0.2222222222222222, \"#7201a8\"], [0.3333333333333333, \"#9c179e\"], [0.4444444444444444, \"#bd3786\"], [0.5555555555555556, \"#d8576b\"], [0.6666666666666666, \"#ed7953\"], [0.7777777777777778, \"#fb9f3a\"], [0.8888888888888888, \"#fdca26\"], [1.0, \"#f0f921\"]], \"sequentialminus\": [[0.0, \"#0d0887\"], [0.1111111111111111, \"#46039f\"], [0.2222222222222222, \"#7201a8\"], [0.3333333333333333, \"#9c179e\"], [0.4444444444444444, \"#bd3786\"], [0.5555555555555556, \"#d8576b\"], [0.6666666666666666, \"#ed7953\"], [0.7777777777777778, \"#fb9f3a\"], [0.8888888888888888, \"#fdca26\"], [1.0, \"#f0f921\"]]}, \"colorway\": [\"#636efa\", \"#EF553B\", \"#00cc96\", \"#ab63fa\", \"#FFA15A\", \"#19d3f3\", \"#FF6692\", \"#B6E880\", \"#FF97FF\", \"#FECB52\"], \"font\": {\"color\": \"#2a3f5f\"}, \"geo\": {\"bgcolor\": \"white\", \"lakecolor\": \"white\", \"landcolor\": \"#E5ECF6\", \"showlakes\": true, \"showland\": true, \"subunitcolor\": \"white\"}, \"hoverlabel\": {\"align\": \"left\"}, \"hovermode\": \"closest\", \"mapbox\": {\"style\": \"light\"}, \"paper_bgcolor\": \"white\", \"plot_bgcolor\": \"#E5ECF6\", \"polar\": {\"angularaxis\": {\"gridcolor\": \"white\", \"linecolor\": \"white\", \"ticks\": \"\"}, \"bgcolor\": \"#E5ECF6\", \"radialaxis\": {\"gridcolor\": \"white\", \"linecolor\": \"white\", \"ticks\": \"\"}}, \"scene\": {\"xaxis\": {\"backgroundcolor\": \"#E5ECF6\", \"gridcolor\": \"white\", \"gridwidth\": 2, \"linecolor\": \"white\", \"showbackground\": true, \"ticks\": \"\", \"zerolinecolor\": \"white\"}, \"yaxis\": {\"backgroundcolor\": \"#E5ECF6\", \"gridcolor\": \"white\", \"gridwidth\": 2, \"linecolor\": \"white\", \"showbackground\": true, \"ticks\": \"\", \"zerolinecolor\": \"white\"}, \"zaxis\": {\"backgroundcolor\": \"#E5ECF6\", \"gridcolor\": \"white\", \"gridwidth\": 2, \"linecolor\": \"white\", \"showbackground\": true, \"ticks\": \"\", \"zerolinecolor\": \"white\"}}, \"shapedefaults\": {\"line\": {\"color\": \"#2a3f5f\"}}, \"ternary\": {\"aaxis\": {\"gridcolor\": \"white\", \"linecolor\": \"white\", \"ticks\": \"\"}, \"baxis\": {\"gridcolor\": \"white\", \"linecolor\": \"white\", \"ticks\": \"\"}, \"bgcolor\": \"#E5ECF6\", \"caxis\": {\"gridcolor\": \"white\", \"linecolor\": \"white\", \"ticks\": \"\"}}, \"title\": {\"x\": 0.05}, \"xaxis\": {\"automargin\": true, \"gridcolor\": \"white\", \"linecolor\": \"white\", \"ticks\": \"\", \"title\": {\"standoff\": 15}, \"zerolinecolor\": \"white\", \"zerolinewidth\": 2}, \"yaxis\": {\"automargin\": true, \"gridcolor\": \"white\", \"linecolor\": \"white\", \"ticks\": \"\", \"title\": {\"standoff\": 15}, \"zerolinecolor\": \"white\", \"zerolinewidth\": 2}}}, \"title\": {\"text\": \"Distances\"}, \"xaxis\": {\"anchor\": \"y2\", \"domain\": [0.0, 1.0], \"zeroline\": false}, \"yaxis\": {\"anchor\": \"free\", \"domain\": [0.35, 1], \"position\": 0.0}, \"yaxis2\": {\"anchor\": \"x\", \"domain\": [0, 0.25], \"dtick\": 1, \"showticklabels\": false}},\n",
       "                        {\"responsive\": true}\n",
       "                    ).then(function(){\n",
       "                            \n",
       "var gd = document.getElementById('1121da45-cb88-462f-a70a-5130faa90432');\n",
       "var x = new MutationObserver(function (mutations, observer) {{\n",
       "        var display = window.getComputedStyle(gd).display;\n",
       "        if (!display || display === 'none') {{\n",
       "            console.log([gd, 'removed!']);\n",
       "            Plotly.purge(gd);\n",
       "            observer.disconnect();\n",
       "        }}\n",
       "}});\n",
       "\n",
       "// Listen for the removal of the full notebook cells\n",
       "var notebookContainer = gd.closest('#notebook-container');\n",
       "if (notebookContainer) {{\n",
       "    x.observe(notebookContainer, {childList: true});\n",
       "}}\n",
       "\n",
       "// Listen for the clearing of the current output cell\n",
       "var outputEl = gd.closest('.output');\n",
       "if (outputEl) {{\n",
       "    x.observe(outputEl, {childList: true});\n",
       "}}\n",
       "\n",
       "                        })\n",
       "                };\n",
       "                \n",
       "            </script>\n",
       "        </div>\n",
       "</body>\n",
       "</html>"
      ]
     },
     "metadata": {
      "tags": []
     },
     "output_type": "display_data"
    }
   ],
   "source": [
    "import plotly.figure_factory as ff\n",
    "# Group data together\n",
    "#hist_data = [d1.values.flatten(), d2.values.flatten()]\n",
    "hist_data = [dist0, dist1]\n",
    "\n",
    "group_labels = ['Distances predicted', 'Distances Approx']\n",
    "\n",
    "# Create distplot with custom bin_size\n",
    "fig = ff.create_distplot(hist_data, group_labels, bin_size=.25, curve_type='normal')\n",
    "#fig = ff.create_distplot(hist_data, group_labels, show_curve=True, bin_size=.2)\n",
    "\n",
    "fig['layout'].update(title='Distances')\n",
    "\n",
    "fig.show()"
   ]
  },
  {
   "cell_type": "code",
   "execution_count": 25,
   "metadata": {
    "colab": {
     "base_uri": "https://localhost:8080/",
     "height": 297
    },
    "colab_type": "code",
    "id": "b4Afo2nBnAyu",
    "outputId": "dc8fe44a-e2c8-472c-cb02-51ed90e37738"
   },
   "outputs": [
    {
     "data": {
      "image/png": "[encoded data removed]",
      "text/plain": [
       "<Figure size 1008x720 with 2 Axes>"
      ]
     },
     "metadata": {
      "tags": []
     },
     "output_type": "display_data"
    }
   ],
   "source": [
    "save_fname = os.path.join(save_dir, 'distances.png' )\n",
    "plot_distances(dist0, dist1, save_fname)"
   ]
  },
  {
   "cell_type": "code",
   "execution_count": 26,
   "metadata": {
    "colab": {
     "base_uri": "https://localhost:8080/",
     "height": 85
    },
    "colab_type": "code",
    "id": "IeCJhDponAy0",
    "outputId": "342a4e7f-9653-4e4a-fbaf-3a612f380fa4"
   },
   "outputs": [
    {
     "name": "stdout",
     "output_type": "stream",
     "text": [
      "[Data] shape datas X:  (15192, 16)\n",
      "[Data] shape data y:  (15192, 3)\n",
      "[Data] len data total: 15192\n",
      "[Output] Results saved at % results\n"
     ]
    }
   ],
   "source": [
    "#Export data to plot\n",
    "X, X_, y = data.prepare_training_data(FeatureType.Divided, normalise=False,\n",
    "                                                  cilyndrical=False)\n",
    "X_train, X_test, X_train_, X_test_, y_train, y_test = train_test_split(X, X_, y,\n",
    "                                                                       test_size=1-0.8, random_state=42)\n",
    "\n",
    "y_pred = pd.DataFrame(y_predicted_orig)\n",
    "y_true = pd.DataFrame(y_test_orig)\n",
    "\n",
    "\n",
    "y_true.to_csv(os.path.join(save_dir, 'y_true.csv'), header=False, index=False)\n",
    "y_pred.to_csv(os.path.join(save_dir, 'y_pred.csv'), header=False, index=False)\n",
    "X_test.to_csv(os.path.join(save_dir, 'x_test.csv'), header=False, index=False)\n",
    "print('[Output] Results saved at %', save_dir)"
   ]
  },
  {
   "cell_type": "markdown",
   "metadata": {
    "colab_type": "text",
    "id": "gBV8xFlRvF-0"
   },
   "source": [
    "## Plot Predicted Data ##\n"
   ]
  },
  {
   "cell_type": "code",
   "execution_count": 57,
   "metadata": {
    "colab": {
     "base_uri": "https://localhost:8080/",
     "height": 255
    },
    "colab_type": "code",
    "id": "pDn6fofHIgN2",
    "outputId": "df1449c3-f391-4a75-a3bb-f5217256f5c3"
   },
   "outputs": [
    {
     "name": "stdout",
     "output_type": "stream",
     "text": [
      "Collecting plotly.express\n",
      "  Using cached https://files.pythonhosted.org/packages/d4/d6/8a2906f51e073a4be80cab35cfa10e7a34853e60f3ed5304ac470852a08d/plotly_express-0.4.1-py2.py3-none-any.whl\n",
      "Requirement already satisfied: numpy>=1.11 in /usr/local/lib/python3.6/dist-packages (from plotly.express) (1.17.5)\n",
      "Requirement already satisfied: pandas>=0.20.0 in /usr/local/lib/python3.6/dist-packages (from plotly.express) (0.25.3)\n",
      "Requirement already satisfied: scipy>=0.18 in /usr/local/lib/python3.6/dist-packages (from plotly.express) (1.4.1)\n",
      "Requirement already satisfied: statsmodels>=0.9.0 in /usr/local/lib/python3.6/dist-packages (from plotly.express) (0.10.2)\n",
      "Requirement already satisfied: plotly>=4.1.0 in /usr/local/lib/python3.6/dist-packages (from plotly.express) (4.4.1)\n",
      "Requirement already satisfied: patsy>=0.5 in /usr/local/lib/python3.6/dist-packages (from plotly.express) (0.5.1)\n",
      "Requirement already satisfied: python-dateutil>=2.6.1 in /usr/local/lib/python3.6/dist-packages (from pandas>=0.20.0->plotly.express) (2.6.1)\n",
      "Requirement already satisfied: pytz>=2017.2 in /usr/local/lib/python3.6/dist-packages (from pandas>=0.20.0->plotly.express) (2018.9)\n",
      "Requirement already satisfied: retrying>=1.3.3 in /usr/local/lib/python3.6/dist-packages (from plotly>=4.1.0->plotly.express) (1.3.3)\n",
      "Requirement already satisfied: six in /usr/local/lib/python3.6/dist-packages (from plotly>=4.1.0->plotly.express) (1.12.0)\n",
      "Installing collected packages: plotly.express\n",
      "Successfully installed plotly.express\n"
     ]
    }
   ],
   "source": [
    "!pip install plotly.express"
   ]
  },
  {
   "cell_type": "code",
   "execution_count": 0,
   "metadata": {
    "colab": {},
    "colab_type": "code",
    "id": "C18cyF5nnAy4"
   },
   "outputs": [],
   "source": [
    "path1 = 'results/x_test.csv'\n",
    "path2 = 'results/y_true.csv'\n",
    "path3 = 'results/y_pred.csv'\n",
    "\n",
    "x_test = pd.read_csv(path1, header=None)\n",
    "y_test = pd.read_csv(path2, header=None)\n",
    "y_pred = pd.read_csv(path3, header=None)\n",
    "\n",
    "test = pd.concat([x_test, y_test], axis = 1, ignore_index = True)\n",
    "pred = pd.concat([x_test, y_pred], axis = 1, ignore_index = True)\n",
    "test.name = 'real'\n",
    "pred.name = 'predict'"
   ]
  },
  {
   "cell_type": "code",
   "execution_count": 59,
   "metadata": {
    "colab": {
     "base_uri": "https://localhost:8080/",
     "height": 34
    },
    "colab_type": "code",
    "id": "TRb2N2IgGFfm",
    "outputId": "278536f7-a2fd-42e6-a745-9092c117c250"
   },
   "outputs": [
    {
     "data": {
      "text/plain": [
       "'4.4.1'"
      ]
     },
     "execution_count": 59,
     "metadata": {
      "tags": []
     },
     "output_type": "execute_result"
    }
   ],
   "source": [
    "import plotly\n",
    "import plotly.graph_objs as go\n",
    "from plotly.offline import download_plotlyjs, init_notebook_mode, plot, iplot\n",
    "\n",
    "plotly.__version__"
   ]
  },
  {
   "cell_type": "code",
   "execution_count": 67,
   "metadata": {
    "colab": {
     "base_uri": "https://localhost:8080/",
     "height": 542
    },
    "colab_type": "code",
    "id": "LEHETrEcTjpJ",
    "outputId": "2f20cd84-a216-4397-ff01-ead16531252e"
   },
   "outputs": [
    {
     "data": {
      "text/html": [
       "        <script type=\"text/javascript\">\n",
       "        window.PlotlyConfig = {MathJaxConfig: 'local'};\n",
       "        if (window.MathJax) {MathJax.Hub.Config({SVG: {font: \"STIX-Web\"}});}\n",
       "        if (typeof require !== 'undefined') {\n",
       "        require.undef(\"plotly\");\n",
       "        requirejs.config({\n",
       "            paths: {\n",
       "                'plotly': ['https://cdn.plot.ly/plotly-latest.min']\n",
       "            }\n",
       "        });\n",
       "        require(['plotly'], function(Plotly) {\n",
       "            window._Plotly = Plotly;\n",
       "        });\n",
       "        }\n",
       "        </script>\n",
       "        "
      ]
     },
     "metadata": {
      "tags": []
     },
     "output_type": "display_data"
    },
    {
     "data": {
      "application/vnd.plotly.v1+json": {
       "config": {
        "plotlyServerURL": "https://plot.ly"
       },
       "data": [
        {
         "line": {
          "color": "red",
          "width": 3
         },
         "marker": {
          "color": "red",
          "opacity": 0.5,
          "size": 3
         },
         "name": "real 0",
         "opacity": 0.5,
         "type": "scatter3d",
         "x": [
          31.94099998474121,
          71.65660095214844,
          115.55500030517578,
          171.3769989013672,
          259.57501220703125
         ],
         "y": [
          -0.7839149832725525,
          -1.2155200242996216,
          -0.965728998184204,
          0.390731006860733,
          4.886899948120117
         ],
         "z": [
          0.12812399864196775,
          -4.934380054473877,
          -10.503100395202637,
          -17.590499877929688,
          -28.20000076293945
         ]
        },
        {
         "line": {
          "color": "red",
          "width": 3
         },
         "marker": {
          "color": "red",
          "opacity": 0.5,
          "size": 3
         },
         "name": "real 1",
         "opacity": 0.5,
         "type": "scatter3d",
         "x": [
          32.000999450683594,
          71.07009887695312,
          116.5009994506836,
          172.0469970703125,
          259.9119873046875
         ],
         "y": [
          0.28011301159858704,
          0.958450973033905,
          2.25465989112854,
          4.523369789123535,
          9.594860076904297
         ],
         "z": [
          0.7590109705924988,
          8.131819725036621,
          16.732900619506836,
          27.25399971008301,
          43.79999923706055
         ]
        },
        {
         "line": {
          "color": "red",
          "width": 3
         },
         "marker": {
          "color": "red",
          "opacity": 0.5,
          "size": 3
         },
         "name": "real 2",
         "opacity": 0.5,
         "type": "scatter3d",
         "x": [
          31.640899658203125,
          70.41410064697266,
          114.41400146484376,
          171.09300231933594,
          254.8780059814453
         ],
         "y": [
          -6.103600025177003,
          -12.786700248718262,
          -19.292999267578125,
          -25.940900802612305,
          -32.427600860595696
         ],
         "z": [
          -2.151089906692505,
          -10.293100357055664,
          -19.582199096679688,
          -31.61969947814941,
          -49.599998474121094
         ]
        },
        {
         "line": {
          "color": "red",
          "width": 3
         },
         "marker": {
          "color": "red",
          "opacity": 0.5,
          "size": 3
         },
         "name": "real 3",
         "opacity": 0.5,
         "type": "scatter3d",
         "x": [
          32.392101287841804,
          71.59239959716797,
          114.99700164794922,
          172.343994140625,
          260.53500366210943
         ],
         "y": [
          4.112959861755371,
          8.357359886169434,
          12.144200325012207,
          15.704099655151367,
          18.292600631713867
         ],
         "z": [
          -3.6968801021575928,
          -10.584500312805176,
          -18.1658992767334,
          -28.153099060058594,
          -43.79999923706055
         ]
        },
        {
         "line": {
          "color": "red",
          "width": 3
         },
         "marker": {
          "color": "red",
          "opacity": 0.5,
          "size": 3
         },
         "name": "real 4",
         "opacity": 0.5,
         "type": "scatter3d",
         "x": [
          31.871400833129893,
          71.7605972290039,
          115.33699798583984,
          171.30499267578125,
          265.8070068359375
         ],
         "y": [
          -2.017119884490967,
          -3.701090097427368,
          -4.452960014343262,
          -3.8584499359130864,
          1.465939998626709
         ],
         "z": [
          -6.509379863739014,
          -0.8944630026817322,
          5.172269821166992,
          12.951600074768065,
          25.79999923706055
         ]
        },
        {
         "line": {
          "color": "red",
          "width": 3
         },
         "marker": {
          "color": "red",
          "opacity": 0.5,
          "size": 3
         },
         "name": "real 5",
         "opacity": 0.5,
         "type": "scatter3d",
         "x": [
          32.10020065307617,
          72.60890197753906,
          116.2509994506836,
          172.00900268554688,
          259.80599975585943
         ],
         "y": [
          2.038180112838745,
          4.170460224151611,
          5.968989849090576,
          7.4919800758361825,
          8.118630409240723
         ],
         "z": [
          -1.221869945526123,
          -6.330540180206299,
          -11.77560043334961,
          -18.709999084472656,
          -29.399999618530273
         ]
        },
        {
         "line": {
          "color": "red",
          "width": 3
         },
         "marker": {
          "color": "red",
          "opacity": 0.5,
          "size": 3
         },
         "name": "real 6",
         "opacity": 0.5,
         "type": "scatter3d",
         "x": [
          31.8439998626709,
          70.71769714355469,
          115.22699737548828,
          169.90699768066406,
          261.57998657226557
         ],
         "y": [
          5.680449962615968,
          11.960000038146973,
          18.306100845336914,
          24.8356990814209,
          32.895198822021484
         ],
         "z": [
          -1.2172199487686155,
          -8.516209602355957,
          -16.84749984741211,
          -27.08329963684082,
          -43.79999923706055
         ]
        },
        {
         "line": {
          "color": "red",
          "width": 3
         },
         "marker": {
          "color": "red",
          "opacity": 0.5,
          "size": 3
         },
         "name": "real 7",
         "opacity": 0.5,
         "type": "scatter3d",
         "x": [
          31.395000457763672,
          71.28130340576172,
          115.5510025024414,
          172.08200073242188,
          260.80499267578125
         ],
         "y": [
          -1.6720399856567385,
          -4.0892300605773935,
          -7.136940002441406,
          -11.626299858093262,
          -20.039899826049805
         ],
         "z": [
          5.046879768371582,
          5.778130054473878,
          6.565619945526122,
          7.634369850158691,
          9
         ]
        },
        {
         "line": {
          "color": "red",
          "width": 3
         },
         "marker": {
          "color": "red",
          "opacity": 0.5,
          "size": 3
         },
         "name": "real 8",
         "opacity": 0.5,
         "type": "scatter3d",
         "x": [
          31.53400039672852,
          69.77989959716797,
          113.64600372314452,
          168.21499633789062,
          259.95098876953125
         ],
         "y": [
          -8.000120162963867,
          -16.858400344848633,
          -25.89789962768555,
          -35.39099884033203,
          -47.06420135498047
         ],
         "z": [
          -5.947800159454348,
          0.027191100642085075,
          6.895199775695801,
          15.37310028076172,
          29.399999618530273
         ]
        },
        {
         "line": {
          "color": "red",
          "width": 3
         },
         "marker": {
          "color": "red",
          "opacity": 0.5,
          "size": 3
         },
         "name": "real 9",
         "opacity": 0.5,
         "type": "scatter3d",
         "x": [
          32.73849868774414,
          72.09130096435547,
          115.61299896240234,
          170.77499389648438,
          260.1610107421875
         ],
         "y": [
          3.1220200061798096,
          6.30226993560791,
          9.10925006866455,
          11.500699996948242,
          13.065999984741213
         ],
         "z": [
          -3.1343801021575928,
          -1.503119945526123,
          0.21137100458145144,
          2.346869945526123,
          5.400000095367432
         ]
        },
        {
         "line": {
          "color": "red",
          "width": 3
         },
         "marker": {
          "color": "red",
          "opacity": 0.5,
          "size": 3
         },
         "name": "real 10",
         "opacity": 0.5,
         "type": "scatter3d",
         "x": [
          32.459701538085945,
          71.72039794921875,
          115.16999816894531,
          170.79600524902344,
          260.3179931640625
         ],
         "y": [
          3.919440031051636,
          7.8302001953125,
          11.291999816894533,
          14.145099639892578,
          15.26039981842041
         ],
         "z": [
          -4.765629768371582,
          -9.53575038909912,
          -14.73169994354248,
          -21.528099060058594,
          -33
         ]
        },
        {
         "line": {
          "color": "red",
          "width": 3
         },
         "marker": {
          "color": "red",
          "opacity": 0.5,
          "size": 3
         },
         "name": "real 11",
         "opacity": 0.5,
         "type": "scatter3d",
         "x": [
          31.41830062866211,
          71.2051010131836,
          115.69000244140624,
          171.61599731445312,
          265.90701293945307
         ],
         "y": [
          -1.2588800191879272,
          -2.2674601078033447,
          -2.6598498821258545,
          -1.9989900588989256,
          1.8945000171661373
         ],
         "z": [
          3.921880006790161,
          1.6718800067901611,
          -0.8843770027160645,
          -4.090630054473877,
          -9
         ]
        },
        {
         "line": {
          "color": "red",
          "width": 3
         },
         "marker": {
          "color": "red",
          "opacity": 0.5,
          "size": 3
         },
         "name": "real 12",
         "opacity": 0.5,
         "type": "scatter3d",
         "x": [
          31.25659942626953,
          71.4894027709961,
          114.13800048828124,
          170.48399353027344,
          255.94700622558602
         ],
         "y": [
          -4.126420021057129,
          -9.060540199279783,
          -13.989299774169922,
          -19.980499267578125,
          -27.83029937744141
         ],
         "z": [
          7.552080154418945,
          17.176399230957028,
          27.35849952697754,
          40.81579971313477,
          61.599998474121094
         ]
        },
        {
         "line": {
          "color": "red",
          "width": 3
         },
         "marker": {
          "color": "red",
          "opacity": 0.5,
          "size": 3
         },
         "name": "real 13",
         "opacity": 0.5,
         "type": "scatter3d",
         "x": [
          170.58399963378906,
          262.68899536132807,
          357.5719909667969,
          494.4869995117188,
          646.3280029296875
         ],
         "y": [
          -25.225400924682607,
          -40.31880187988281,
          -56.972999572753906,
          -83.17900085449219,
          -114.96800231933594
         ],
         "z": [
          15.115599632263185,
          29.399999618530273,
          43.79999923706055,
          65.19999694824219,
          89.19999694824219
         ]
        },
        {
         "line": {
          "color": "red",
          "width": 3
         },
         "marker": {
          "color": "red",
          "opacity": 0.5,
          "size": 3
         },
         "name": "real 14",
         "opacity": 0.5,
         "type": "scatter3d",
         "x": [
          31.16659927368164,
          69.93319702148439,
          113.87999725341795,
          169.08200073242188,
          261.35000610351557
         ],
         "y": [
          -5.720719814300537,
          -12.65719985961914,
          -20.242599487304688,
          -29.367900848388672,
          -43.61740112304688
         ],
         "z": [
          4.653130054473877,
          3.587559938430786,
          2.403130054473877,
          0.8593710064888,
          -1.7999999523162844
         ]
        },
        {
         "line": {
          "color": "red",
          "width": 3
         },
         "marker": {
          "color": "red",
          "opacity": 0.5,
          "size": 3
         },
         "name": "real 15",
         "opacity": 0.5,
         "type": "scatter3d",
         "x": [
          31.67480087280273,
          72.09719848632812,
          114.49299621582031,
          171.0469970703125,
          255.55799865722656
         ],
         "y": [
          -5.50314998626709,
          -11.744600296020508,
          -17.392999649047848,
          -23.523799896240234,
          -29.505599975585927
         ],
         "z": [
          -2.5503900051116943,
          -12.456299781799315,
          -22.638599395751953,
          -36.179500579833984,
          -56.79999923706055
         ]
        },
        {
         "line": {
          "color": "red",
          "width": 3
         },
         "marker": {
          "color": "red",
          "opacity": 0.5,
          "size": 3
         },
         "name": "real 16",
         "opacity": 0.5,
         "type": "scatter3d",
         "x": [
          31.981300354003906,
          71.58779907226562,
          117.08200073242188,
          172.48399353027344,
          260.1010131835937
         ],
         "y": [
          -0.07021059840917587,
          0.4290600121021271,
          1.8804800510406487,
          4.883649826049805,
          12.228099822998047
         ],
         "z": [
          0.5218729972839355,
          -0.7156260013580322,
          -2.121880054473877,
          -3.9781301021575928,
          -6.599999904632568
         ]
        },
        {
         "line": {
          "color": "red",
          "width": 3
         },
         "marker": {
          "color": "red",
          "opacity": 0.5,
          "size": 3
         },
         "name": "real 17",
         "opacity": 0.5,
         "type": "scatter3d",
         "x": [
          31.88750076293945,
          71.75540161132812,
          115.88899993896484,
          172.0590057373047,
          263.85000610351557
         ],
         "y": [
          -1.7319799661636353,
          -3.5772299766540527,
          -5.154510021209717,
          -6.4264397621154785,
          -6.949399948120117
         ],
         "z": [
          -4.4165000915527335,
          -10.615400314331056,
          -17.455299377441403,
          -26.14060020446777,
          -40.20000076293945
         ]
        },
        {
         "line": {
          "color": "red",
          "width": 3
         },
         "marker": {
          "color": "red",
          "opacity": 0.5,
          "size": 3
         },
         "name": "real 18",
         "opacity": 0.5,
         "type": "scatter3d",
         "x": [
          31.5900993347168,
          72.21929931640625,
          115.91300201416016,
          171.76100158691406,
          259.61700439453125
         ],
         "y": [
          1.7862800359725952,
          3.676759958267212,
          5.146279811859131,
          6.089290142059326,
          5.472070217132568
         ],
         "z": [
          3.786809921264648,
          11.921099662780762,
          20.5939998626709,
          31.68180084228516,
          49
         ]
        },
        {
         "line": {
          "color": "red",
          "width": 3
         },
         "marker": {
          "color": "red",
          "opacity": 0.5,
          "size": 3
         },
         "name": "real 19",
         "opacity": 0.5,
         "type": "scatter3d",
         "x": [
          32.024200439453125,
          71.56639862060547,
          115.4469985961914,
          171.5850067138672,
          260.5419921875
         ],
         "y": [
          0.6903240084648132,
          0.9399710297584534,
          0.38679298758506775,
          -1.6818900108337402,
          -8.077619552612305
         ],
         "z": [
          -3.6443700790405273,
          -13.378000259399414,
          -24.18560028076172,
          -37.97850036621094,
          -60.4000015258789
         ]
        },
        {
         "line": {
          "color": "red",
          "width": 3
         },
         "marker": {
          "color": "red",
          "opacity": 0.5,
          "size": 3
         },
         "name": "real 20",
         "opacity": 0.5,
         "type": "scatter3d",
         "x": [
          32.083301544189446,
          72.25900268554688,
          115.9489974975586,
          171.7550048828125,
          259.67498779296875
         ],
         "y": [
          1.7386599779129028,
          3.513159990310669,
          4.9709200859069815,
          6.126659870147705,
          6.283329963684082
         ],
         "z": [
          -2.5662000179290767,
          4.329909801483153,
          11.843299865722654,
          21.42259979248047,
          36.599998474121094
         ]
        },
        {
         "line": {
          "color": "red",
          "width": 3
         },
         "marker": {
          "color": "red",
          "opacity": 0.5,
          "size": 3
         },
         "name": "real 21",
         "opacity": 0.5,
         "type": "scatter3d",
         "x": [
          31.25200080871582,
          71.47969818115234,
          114.18199920654295,
          170.42300415039062,
          260.85000610351557
         ],
         "y": [
          -4.207920074462892,
          -8.829480171203613,
          -12.907099723815918,
          -16.822599411010742,
          -19.84510040283203
         ],
         "z": [
          2.2709200382232666,
          6.790629863739014,
          11.628100395202635,
          17.96470069885254,
          28.20000076293945
         ]
        },
        {
         "line": {
          "color": "red",
          "width": 3
         },
         "marker": {
          "color": "red",
          "opacity": 0.5,
          "size": 3
         },
         "name": "real 22",
         "opacity": 0.5,
         "type": "scatter3d",
         "x": [
          30.920000076293945,
          69.49770355224611,
          113.0199966430664,
          168.6580047607422,
          252.5639953613281
         ],
         "y": [
          6.823150157928468,
          14.886899948120115,
          23.37190055847168,
          33.28730010986328,
          46.28720092773438
         ],
         "z": [
          7.204780101776122,
          16.486600875854492,
          26.97130012512207,
          40.35240173339844,
          60.4000015258789
         ]
        },
        {
         "line": {
          "color": "red",
          "width": 3
         },
         "marker": {
          "color": "red",
          "opacity": 0.5,
          "size": 3
         },
         "name": "real 23",
         "opacity": 0.5,
         "type": "scatter3d",
         "x": [
          31.962200164794922,
          71.13240051269531,
          114.97699737548828,
          172.51400756835938,
          259.74099731445307
         ],
         "y": [
          -0.4079299867153168,
          -0.5302559733390808,
          0.05030209943652153,
          1.9619300365448,
          7.200980186462402
         ],
         "z": [
          0.4656260013580322,
          3.6968801021575928,
          7.296870231628418,
          12.064499855041506,
          19.799999237060547
         ]
        },
        {
         "line": {
          "color": "red",
          "width": 3
         },
         "marker": {
          "color": "red",
          "opacity": 0.5,
          "size": 3
         },
         "name": "real 24",
         "opacity": 0.5,
         "type": "scatter3d",
         "x": [
          31.57279968261719,
          69.99629974365234,
          114.2310028076172,
          168.88800048828125,
          261.364990234375
         ],
         "y": [
          -7.31151008605957,
          -15.468700408935547,
          -23.74150085449219,
          -32.513599395751946,
          -43.580299377441406
         ],
         "z": [
          0.4780769944190979,
          -4.315619945526123,
          -9.781970024108887,
          -16.465599060058597,
          -28.20000076293945
         ]
        },
        {
         "line": {
          "color": "red",
          "width": 3
         },
         "marker": {
          "color": "red",
          "opacity": 0.5,
          "size": 3
         },
         "name": "real 25",
         "opacity": 0.5,
         "type": "scatter3d",
         "x": [
          32.230499267578125,
          71.68949890136719,
          115.36599731445312,
          171.26800537109375,
          259.697998046875
         ],
         "y": [
          3.0748300552368164,
          5.8587398529052725,
          7.841939926147461,
          8.796239852905273,
          6.60250997543335
         ],
         "z": [
          6.602749824523926,
          10.053099632263184,
          13.760700225830078,
          18.4906005859375,
          25.79999923706055
         ]
        },
        {
         "line": {
          "color": "red",
          "width": 3
         },
         "marker": {
          "color": "red",
          "opacity": 0.5,
          "size": 3
         },
         "name": "real 26",
         "opacity": 0.5,
         "type": "scatter3d",
         "x": [
          31.233400344848643,
          71.19090270996094,
          112.80699920654295,
          167.92799377441406,
          252.04800415039062
         ],
         "y": [
          7.427020072937013,
          16.551799774169922,
          25.579700469970703,
          36.8213005065918,
          52.30500030517578
         ],
         "z": [
          -7.0031700134277335,
          -16.706499099731445,
          -26.756999969482425,
          -40.03160095214844,
          -60.4000015258789
         ]
        },
        {
         "line": {
          "color": "red",
          "width": 3
         },
         "marker": {
          "color": "red",
          "opacity": 0.5,
          "size": 3
         },
         "name": "real 27",
         "opacity": 0.5,
         "type": "scatter3d",
         "x": [
          31.771299362182607,
          71.93669891357422,
          116.4010009765625,
          170.87899780273438,
          261.5390014648437
         ],
         "y": [
          -3.793040037155152,
          -7.908480167388916,
          -11.57229995727539,
          -14.73610019683838,
          -16.884199142456055
         ],
         "z": [
          -3.4156301021575928,
          -3.8656299114227295,
          -4.315619945526123,
          -4.878119945526123,
          -5.400000095367432
         ]
        },
        {
         "line": {
          "color": "red",
          "width": 3
         },
         "marker": {
          "color": "red",
          "opacity": 0.5,
          "size": 3
         },
         "name": "real 28",
         "opacity": 0.5,
         "type": "scatter3d",
         "x": [
          31.27919960021973,
          71.93589782714844,
          116.39900207519531,
          170.8800048828125,
          261.5390014648437
         ],
         "y": [
          -3.7246799468994136,
          -7.888360023498535,
          -11.552499771118164,
          -14.803199768066404,
          -16.884199142456055
         ],
         "z": [
          1.6156200170516968,
          -0.09687419980764388,
          -1.896880030632019,
          -4.1905198097229,
          -7.800000190734862
         ]
        },
        {
         "line": {
          "color": "red",
          "width": 3
         },
         "marker": {
          "color": "red",
          "opacity": 0.5,
          "size": 3
         },
         "name": "real 29",
         "opacity": 0.5,
         "type": "scatter3d",
         "x": [
          31.605600357055664,
          70.30940246582031,
          114.2760009765625,
          170.55099487304688,
          262.10000610351557
         ],
         "y": [
          6.3622498512268075,
          13.64210033416748,
          21.163700103759766,
          29.43959999084473,
          40.156700134277344
         ],
         "z": [
          0.2955549955368042,
          -4.475769996643066,
          -9.887049674987793,
          -16.882299423217773,
          -28.20000076293945
         ]
        },
        {
         "line": {
          "color": "red",
          "width": 3
         },
         "marker": {
          "color": "red",
          "opacity": 0.5,
          "size": 3
         },
         "name": "real 30",
         "opacity": 0.5,
         "type": "scatter3d",
         "x": [
          31.89179992675781,
          71.73930358886719,
          115.80999755859376,
          171.85800170898438,
          264.9639892578125
         ],
         "y": [
          -1.655949950218201,
          -3.191809892654419,
          -4.161459922790527,
          -4.418210029602051,
          -2.15733003616333
         ],
         "z": [
          -6.1191301345825195,
          -12.581000328063965,
          -19.708999633789066,
          -28.78840065002441,
          -43.79999923706055
         ]
        },
        {
         "line": {
          "color": "red",
          "width": 3
         },
         "marker": {
          "color": "red",
          "opacity": 0.5,
          "size": 3
         },
         "name": "real 31",
         "opacity": 0.5,
         "type": "scatter3d",
         "x": [
          31.39859962463379,
          71.24469757080078,
          115.33100128173828,
          171.41000366210938,
          264.66500854492193
         ],
         "y": [
          -1.6082099676132202,
          -3.2139201164245605,
          -4.3828701972961435,
          -4.911789894104004,
          -3.443010091781616
         ],
         "z": [
          7.449580192565918,
          14.316100120544435,
          21.92259979248047,
          31.642000198364247,
          47.4000015258789
         ]
        },
        {
         "line": {
          "color": "red",
          "width": 3
         },
         "marker": {
          "color": "red",
          "opacity": 0.5,
          "size": 3
         },
         "name": "real 32",
         "opacity": 0.5,
         "type": "scatter3d",
         "x": [
          31.17849922180176,
          71.62010192871094,
          113.9469985961914,
          168.78799438476562,
          257.05300903320307
         ],
         "y": [
          -5.510499954223633,
          -12.184800148010256,
          -18.60610008239746,
          -26.07029914855957,
          -36.1693000793457
         ],
         "z": [
          7.128119945526122,
          7.634369850158691,
          8.196869850158691,
          8.871879577636719,
          10.199999809265137
         ]
        },
        {
         "line": {
          "color": "red",
          "width": 3
         },
         "marker": {
          "color": "red",
          "opacity": 0.5,
          "size": 3
         },
         "name": "real 33",
         "opacity": 0.5,
         "type": "scatter3d",
         "x": [
          31.48189926147461,
          71.14299774169922,
          115.6520004272461,
          171.90699768066406,
          262.74398803710943
         ],
         "y": [
          -0.1315149962902069,
          -0.7829710245132446,
          -2.1796700954437256,
          -4.902750015258789,
          -11.702500343322756
         ],
         "z": [
          7.1150898933410645,
          1.9681299924850464,
          -3.789799928665161,
          -11.14780044555664,
          -23.399999618530273
         ]
        },
        {
         "line": {
          "color": "red",
          "width": 3
         },
         "marker": {
          "color": "red",
          "opacity": 0.5,
          "size": 3
         },
         "name": "real 34",
         "opacity": 0.5,
         "type": "scatter3d",
         "x": [
          31.66220092773437,
          72.12159729003906,
          114.45099639892578,
          171.07699584960938,
          257.89599609375
         ],
         "y": [
          -5.726600170135497,
          -12.326499938964846,
          -18.41230010986328,
          -25.10689926147461,
          -32.54610061645508
         ],
         "z": [
          0.6343730092048645,
          0.07187269628047943,
          -0.4343760013580322,
          -1.278130054473877,
          -3
         ]
        },
        {
         "line": {
          "color": "red",
          "width": 3
         },
         "marker": {
          "color": "red",
          "opacity": 0.5,
          "size": 3
         },
         "name": "real 35",
         "opacity": 0.5,
         "type": "scatter3d",
         "x": [
          31.049699783325195,
          69.68250274658203,
          113.34100341796876,
          169.01499938964844,
          255.54600524902344
         ],
         "y": [
          6.452310085296631,
          14.12559986114502,
          22.407400131225586,
          32.28400039672852,
          46.23030090332031
         ],
         "z": [
          5.833889961242676,
          11.084199905395508,
          16.991500854492188,
          24.5093994140625,
          36.599998474121094
         ]
        },
        {
         "line": {
          "color": "red",
          "width": 3
         },
         "marker": {
          "color": "red",
          "opacity": 0.5,
          "size": 3
         },
         "name": "real 36",
         "opacity": 0.5,
         "type": "scatter3d",
         "x": [
          31.08550071716309,
          69.49109649658203,
          113.70899963378906,
          168.28500366210938,
          259.52899169921875
         ],
         "y": [
          -7.158490180969237,
          -15.49549961090088,
          -24.368000030517567,
          -34.26060104370117,
          -48.10200119018555
         ],
         "z": [
          5.103129863739014,
          11.571900367736815,
          18.991199493408203,
          28.13759994506836,
          43.79999923706055
         ]
        },
        {
         "line": {
          "color": "red",
          "width": 3
         },
         "marker": {
          "color": "red",
          "opacity": 0.5,
          "size": 3
         },
         "name": "real 37",
         "opacity": 0.5,
         "type": "scatter3d",
         "x": [
          31.36930084228516,
          71.28610229492188,
          115.43199920654295,
          171.53900146484375,
          264.58401489257807
         ],
         "y": [
          -2.128350019454956,
          -4.2034897804260245,
          -5.651179790496826,
          -6.194960117340088,
          -3.7936398983001713
         ],
         "z": [
          4.821879863739014,
          5.271870136260986,
          5.778130054473878,
          6.340630054473878,
          6.5999999046325675
         ]
        },
        {
         "line": {
          "color": "red",
          "width": 3
         },
         "marker": {
          "color": "red",
          "opacity": 0.5,
          "size": 3
         },
         "name": "real 38",
         "opacity": 0.5,
         "type": "scatter3d",
         "x": [
          265.65301513671875,
          362.78399658203125,
          501.6530151367188,
          658.6069946289062,
          822.8489990234375
         ],
         "y": [
          0.8036260008811951,
          3.087239980697632,
          -1.6022000312805176,
          -17.9867000579834,
          -47.7677001953125
         ],
         "z": [
          -36.599998474121094,
          -57.4000015258789,
          -88,
          -122.8000030517578,
          -157.39999389648438
         ]
        },
        {
         "line": {
          "color": "red",
          "width": 3
         },
         "marker": {
          "color": "red",
          "opacity": 0.5,
          "size": 3
         },
         "name": "real 39",
         "opacity": 0.5,
         "type": "scatter3d",
         "x": [
          32.900501251220696,
          72.32389831542969,
          115.9250030517578,
          171.67799377441406,
          359.5220031738281
         ],
         "y": [
          2.6588499546051025,
          5.344170093536377,
          7.57450008392334,
          9.309579849243164,
          5.305540084838867
         ],
         "z": [
          -3.9781301021575928,
          -6.952079772949219,
          -10.109399795532227,
          -14.193400382995605,
          -28.20000076293945
         ]
        },
        {
         "line": {
          "color": "blue",
          "width": 3
         },
         "marker": {
          "color": "blue",
          "opacity": 0.5,
          "size": 3
         },
         "name": "predict 0",
         "opacity": 0.5,
         "type": "scatter3d",
         "x": [
          31.94099998474121,
          71.65660095214844,
          115.55500030517578,
          171.3769989013672,
          261.14862
         ],
         "y": [
          -0.7839149832725525,
          -1.2155200242996216,
          -0.965728998184204,
          0.390731006860733,
          4.3873706
         ],
         "z": [
          0.12812399864196775,
          -4.934380054473877,
          -10.503100395202637,
          -17.590499877929688,
          -28.834529999999997
         ]
        },
        {
         "line": {
          "color": "blue",
          "width": 3
         },
         "marker": {
          "color": "blue",
          "opacity": 0.5,
          "size": 3
         },
         "name": "predict 1",
         "opacity": 0.5,
         "type": "scatter3d",
         "x": [
          32.000999450683594,
          71.07009887695312,
          116.5009994506836,
          172.0469970703125,
          265.14932000000005
         ],
         "y": [
          0.28011301159858704,
          0.958450973033905,
          2.25465989112854,
          4.523369789123535,
          8.2192745
         ],
         "z": [
          0.7590109705924988,
          8.131819725036621,
          16.732900619506836,
          27.25399971008301,
          45.78852
         ]
        },
        {
         "line": {
          "color": "blue",
          "width": 3
         },
         "marker": {
          "color": "blue",
          "opacity": 0.5,
          "size": 3
         },
         "name": "predict 2",
         "opacity": 0.5,
         "type": "scatter3d",
         "x": [
          31.640899658203125,
          70.41410064697266,
          114.41400146484376,
          171.09300231933594,
          254.6527
         ],
         "y": [
          -6.103600025177003,
          -12.786700248718262,
          -19.292999267578125,
          -25.940900802612305,
          -31.501398
         ],
         "z": [
          -2.151089906692505,
          -10.293100357055664,
          -19.582199096679688,
          -31.61969947814941,
          -52.873592
         ]
        },
        {
         "line": {
          "color": "blue",
          "width": 3
         },
         "marker": {
          "color": "blue",
          "opacity": 0.5,
          "size": 3
         },
         "name": "predict 3",
         "opacity": 0.5,
         "type": "scatter3d",
         "x": [
          32.392101287841804,
          71.59239959716797,
          114.99700164794922,
          172.343994140625,
          259.9668
         ],
         "y": [
          4.112959861755371,
          8.357359886169434,
          12.144200325012207,
          15.704099655151367,
          18.998198000000002
         ],
         "z": [
          -3.6968801021575928,
          -10.584500312805176,
          -18.1658992767334,
          -28.153099060058594,
          -43.811207
         ]
        },
        {
         "line": {
          "color": "blue",
          "width": 3
         },
         "marker": {
          "color": "blue",
          "opacity": 0.5,
          "size": 3
         },
         "name": "predict 4",
         "opacity": 0.5,
         "type": "scatter3d",
         "x": [
          31.871400833129893,
          71.7605972290039,
          115.33699798583984,
          171.30499267578125,
          266.8106
         ],
         "y": [
          -2.017119884490967,
          -3.701090097427368,
          -4.452960014343262,
          -3.8584499359130864,
          -0.66340226
         ],
         "z": [
          -6.509379863739014,
          -0.8944630026817322,
          5.172269821166992,
          12.951600074768065,
          28.009983000000002
         ]
        },
        {
         "line": {
          "color": "blue",
          "width": 3
         },
         "marker": {
          "color": "blue",
          "opacity": 0.5,
          "size": 3
         },
         "name": "predict 5",
         "opacity": 0.5,
         "type": "scatter3d",
         "x": [
          32.10020065307617,
          72.60890197753906,
          116.2509994506836,
          172.00900268554688,
          260.7991
         ],
         "y": [
          2.038180112838745,
          4.170460224151611,
          5.968989849090576,
          7.4919800758361825,
          8.31398
         ],
         "z": [
          -1.221869945526123,
          -6.330540180206299,
          -11.77560043334961,
          -18.709999084472656,
          -30.004497999999998
         ]
        },
        {
         "line": {
          "color": "blue",
          "width": 3
         },
         "marker": {
          "color": "blue",
          "opacity": 0.5,
          "size": 3
         },
         "name": "predict 6",
         "opacity": 0.5,
         "type": "scatter3d",
         "x": [
          31.8439998626709,
          70.71769714355469,
          115.22699737548828,
          169.90699768066406,
          261.62433
         ],
         "y": [
          5.680449962615968,
          11.960000038146973,
          18.306100845336914,
          24.8356990814209,
          33.760185
         ],
         "z": [
          -1.2172199487686155,
          -8.516209602355957,
          -16.84749984741211,
          -27.08329963684082,
          -41.946616999999996
         ]
        },
        {
         "line": {
          "color": "blue",
          "width": 3
         },
         "marker": {
          "color": "blue",
          "opacity": 0.5,
          "size": 3
         },
         "name": "predict 7",
         "opacity": 0.5,
         "type": "scatter3d",
         "x": [
          31.395000457763672,
          71.28130340576172,
          115.5510025024414,
          172.08200073242188,
          265.54547
         ],
         "y": [
          -1.6720399856567385,
          -4.0892300605773935,
          -7.136940002441406,
          -11.626299858093262,
          -20.235573000000002
         ],
         "z": [
          5.046879768371582,
          5.778130054473878,
          6.565619945526122,
          7.634369850158691,
          9.739578
         ]
        },
        {
         "line": {
          "color": "blue",
          "width": 3
         },
         "marker": {
          "color": "blue",
          "opacity": 0.5,
          "size": 3
         },
         "name": "predict 8",
         "opacity": 0.5,
         "type": "scatter3d",
         "x": [
          31.53400039672852,
          69.77989959716797,
          113.64600372314452,
          168.21499633789062,
          262.74588
         ],
         "y": [
          -8.000120162963867,
          -16.858400344848633,
          -25.89789962768555,
          -35.39099884033203,
          -45.953540000000004
         ],
         "z": [
          -5.947800159454348,
          0.027191100642085075,
          6.895199775695801,
          15.37310028076172,
          28.154040000000002
         ]
        },
        {
         "line": {
          "color": "blue",
          "width": 3
         },
         "marker": {
          "color": "blue",
          "opacity": 0.5,
          "size": 3
         },
         "name": "predict 9",
         "opacity": 0.5,
         "type": "scatter3d",
         "x": [
          32.73849868774414,
          72.09130096435547,
          115.61299896240234,
          170.77499389648438,
          263.94527999999997
         ],
         "y": [
          3.1220200061798096,
          6.30226993560791,
          9.10925006866455,
          11.500699996948242,
          13.427983
         ],
         "z": [
          -3.1343801021575928,
          -1.503119945526123,
          0.21137100458145144,
          2.346869945526123,
          7.7002820000000005
         ]
        },
        {
         "line": {
          "color": "blue",
          "width": 3
         },
         "marker": {
          "color": "blue",
          "opacity": 0.5,
          "size": 3
         },
         "name": "predict 10",
         "opacity": 0.5,
         "type": "scatter3d",
         "x": [
          32.459701538085945,
          71.72039794921875,
          115.16999816894531,
          170.79600524902344,
          260.42612
         ],
         "y": [
          3.919440031051636,
          7.8302001953125,
          11.291999816894533,
          14.145099639892578,
          16.897130999999998
         ],
         "z": [
          -4.765629768371582,
          -9.53575038909912,
          -14.73169994354248,
          -21.528099060058594,
          -32.53791
         ]
        },
        {
         "line": {
          "color": "blue",
          "width": 3
         },
         "marker": {
          "color": "blue",
          "opacity": 0.5,
          "size": 3
         },
         "name": "predict 11",
         "opacity": 0.5,
         "type": "scatter3d",
         "x": [
          31.41830062866211,
          71.2051010131836,
          115.69000244140624,
          171.61599731445312,
          263.42537999999996
         ],
         "y": [
          -1.2588800191879272,
          -2.2674601078033447,
          -2.6598498821258545,
          -1.9989900588989256,
          0.8362944
         ],
         "z": [
          3.921880006790161,
          1.6718800067901611,
          -0.8843770027160645,
          -4.090630054473877,
          -8.33966
         ]
        },
        {
         "line": {
          "color": "blue",
          "width": 3
         },
         "marker": {
          "color": "blue",
          "opacity": 0.5,
          "size": 3
         },
         "name": "predict 12",
         "opacity": 0.5,
         "type": "scatter3d",
         "x": [
          31.25659942626953,
          71.4894027709961,
          114.13800048828124,
          170.48399353027344,
          266.76883
         ],
         "y": [
          -4.126420021057129,
          -9.060540199279783,
          -13.989299774169922,
          -19.980499267578125,
          -26.73981
         ],
         "z": [
          7.552080154418945,
          17.176399230957028,
          27.35849952697754,
          40.81579971313477,
          62.612827
         ]
        },
        {
         "line": {
          "color": "blue",
          "width": 3
         },
         "marker": {
          "color": "blue",
          "opacity": 0.5,
          "size": 3
         },
         "name": "predict 13",
         "opacity": 0.5,
         "type": "scatter3d",
         "x": [
          170.58399963378906,
          262.68899536132807,
          357.5719909667969,
          494.4869995117188,
          603.6509
         ],
         "y": [
          -25.225400924682607,
          -40.31880187988281,
          -56.972999572753906,
          -83.17900085449219,
          -103.99874
         ],
         "z": [
          15.115599632263185,
          29.399999618530273,
          43.79999923706055,
          65.19999694824219,
          81.73553000000001
         ]
        },
        {
         "line": {
          "color": "blue",
          "width": 3
         },
         "marker": {
          "color": "blue",
          "opacity": 0.5,
          "size": 3
         },
         "name": "predict 14",
         "opacity": 0.5,
         "type": "scatter3d",
         "x": [
          31.16659927368164,
          69.93319702148439,
          113.87999725341795,
          169.08200073242188,
          262.3921
         ],
         "y": [
          -5.720719814300537,
          -12.65719985961914,
          -20.242599487304688,
          -29.367900848388672,
          -41.348877
         ],
         "z": [
          4.653130054473877,
          3.587559938430786,
          2.403130054473877,
          0.8593710064888,
          -3.4358589999999998
         ]
        },
        {
         "line": {
          "color": "blue",
          "width": 3
         },
         "marker": {
          "color": "blue",
          "opacity": 0.5,
          "size": 3
         },
         "name": "predict 15",
         "opacity": 0.5,
         "type": "scatter3d",
         "x": [
          31.67480087280273,
          72.09719848632812,
          114.49299621582031,
          171.0469970703125,
          252.986
         ],
         "y": [
          -5.50314998626709,
          -11.744600296020508,
          -17.392999649047848,
          -23.523799896240234,
          -28.149604999999998
         ],
         "z": [
          -2.5503900051116943,
          -12.456299781799315,
          -22.638599395751953,
          -36.179500579833984,
          -59.867775
         ]
        },
        {
         "line": {
          "color": "blue",
          "width": 3
         },
         "marker": {
          "color": "blue",
          "opacity": 0.5,
          "size": 3
         },
         "name": "predict 16",
         "opacity": 0.5,
         "type": "scatter3d",
         "x": [
          31.981300354003906,
          71.58779907226562,
          117.08200073242188,
          172.48399353027344,
          265.15393
         ],
         "y": [
          -0.07021059840917587,
          0.4290600121021271,
          1.8804800510406487,
          4.883649826049805,
          11.84207
         ],
         "z": [
          0.5218729972839355,
          -0.7156260013580322,
          -2.121880054473877,
          -3.9781301021575928,
          -5.848799700000001
         ]
        },
        {
         "line": {
          "color": "blue",
          "width": 3
         },
         "marker": {
          "color": "blue",
          "opacity": 0.5,
          "size": 3
         },
         "name": "predict 17",
         "opacity": 0.5,
         "type": "scatter3d",
         "x": [
          31.88750076293945,
          71.75540161132812,
          115.88899993896484,
          172.0590057373047,
          261.1591
         ],
         "y": [
          -1.7319799661636353,
          -3.5772299766540527,
          -5.154510021209717,
          -6.4264397621154785,
          -6.819405000000001
         ],
         "z": [
          -4.4165000915527335,
          -10.615400314331056,
          -17.455299377441403,
          -26.14060020446777,
          -41.95948
         ]
        },
        {
         "line": {
          "color": "blue",
          "width": 3
         },
         "marker": {
          "color": "blue",
          "opacity": 0.5,
          "size": 3
         },
         "name": "predict 18",
         "opacity": 0.5,
         "type": "scatter3d",
         "x": [
          31.5900993347168,
          72.21929931640625,
          115.91300201416016,
          171.76100158691406,
          264.993
         ],
         "y": [
          1.7862800359725952,
          3.676759958267212,
          5.146279811859131,
          6.089290142059326,
          5.6128545
         ],
         "z": [
          3.786809921264648,
          11.921099662780762,
          20.5939998626709,
          31.68180084228516,
          50.785816
         ]
        },
        {
         "line": {
          "color": "blue",
          "width": 3
         },
         "marker": {
          "color": "blue",
          "opacity": 0.5,
          "size": 3
         },
         "name": "predict 19",
         "opacity": 0.5,
         "type": "scatter3d",
         "x": [
          32.024200439453125,
          71.56639862060547,
          115.4469985961914,
          171.5850067138672,
          259.66296
         ],
         "y": [
          0.6903240084648132,
          0.9399710297584534,
          0.38679298758506775,
          -1.6818900108337402,
          -6.323562
         ],
         "z": [
          -3.6443700790405273,
          -13.378000259399414,
          -24.18560028076172,
          -37.97850036621094,
          -61.203044999999996
         ]
        },
        {
         "line": {
          "color": "blue",
          "width": 3
         },
         "marker": {
          "color": "blue",
          "opacity": 0.5,
          "size": 3
         },
         "name": "predict 20",
         "opacity": 0.5,
         "type": "scatter3d",
         "x": [
          32.083301544189446,
          72.25900268554688,
          115.9489974975586,
          171.7550048828125,
          265.7569
         ],
         "y": [
          1.7386599779129028,
          3.513159990310669,
          4.9709200859069815,
          6.126659870147705,
          5.9555697
         ],
         "z": [
          -2.5662000179290767,
          4.329909801483153,
          11.843299865722654,
          21.42259979248047,
          38.920596999999994
         ]
        },
        {
         "line": {
          "color": "blue",
          "width": 3
         },
         "marker": {
          "color": "blue",
          "opacity": 0.5,
          "size": 3
         },
         "name": "predict 21",
         "opacity": 0.5,
         "type": "scatter3d",
         "x": [
          31.25200080871582,
          71.47969818115234,
          114.18199920654295,
          170.42300415039062,
          262.78424
         ],
         "y": [
          -4.207920074462892,
          -8.829480171203613,
          -12.907099723815918,
          -16.822599411010742,
          -21.025387
         ],
         "z": [
          2.2709200382232666,
          6.790629863739014,
          11.628100395202635,
          17.96470069885254,
          30.454384
         ]
        },
        {
         "line": {
          "color": "blue",
          "width": 3
         },
         "marker": {
          "color": "blue",
          "opacity": 0.5,
          "size": 3
         },
         "name": "predict 22",
         "opacity": 0.5,
         "type": "scatter3d",
         "x": [
          30.920000076293945,
          69.49770355224611,
          113.0199966430664,
          168.6580047607422,
          262.57538
         ],
         "y": [
          6.823150157928468,
          14.886899948120115,
          23.37190055847168,
          33.28730010986328,
          44.8535
         ],
         "z": [
          7.204780101776122,
          16.486600875854492,
          26.97130012512207,
          40.35240173339844,
          62.491264
         ]
        },
        {
         "line": {
          "color": "blue",
          "width": 3
         },
         "marker": {
          "color": "blue",
          "opacity": 0.5,
          "size": 3
         },
         "name": "predict 23",
         "opacity": 0.5,
         "type": "scatter3d",
         "x": [
          31.962200164794922,
          71.13240051269531,
          114.97699737548828,
          172.51400756835938,
          265.62305
         ],
         "y": [
          -0.4079299867153168,
          -0.5302559733390808,
          0.05030209943652153,
          1.9619300365448,
          6.3374524
         ],
         "z": [
          0.4656260013580322,
          3.6968801021575928,
          7.296870231628418,
          12.064499855041506,
          21.848673
         ]
        },
        {
         "line": {
          "color": "blue",
          "width": 3
         },
         "marker": {
          "color": "blue",
          "opacity": 0.5,
          "size": 3
         },
         "name": "predict 24",
         "opacity": 0.5,
         "type": "scatter3d",
         "x": [
          31.57279968261719,
          69.99629974365234,
          114.2310028076172,
          168.88800048828125,
          257.17922999999996
         ],
         "y": [
          -7.31151008605957,
          -15.468700408935547,
          -23.74150085449219,
          -32.513599395751946,
          -42.841175
         ],
         "z": [
          0.4780769944190979,
          -4.315619945526123,
          -9.781970024108887,
          -16.465599060058597,
          -29.365285999999998
         ]
        },
        {
         "line": {
          "color": "blue",
          "width": 3
         },
         "marker": {
          "color": "blue",
          "opacity": 0.5,
          "size": 3
         },
         "name": "predict 25",
         "opacity": 0.5,
         "type": "scatter3d",
         "x": [
          32.230499267578125,
          71.68949890136719,
          115.36599731445312,
          171.26800537109375,
          265.0703
         ],
         "y": [
          3.0748300552368164,
          5.8587398529052725,
          7.841939926147461,
          8.796239852905273,
          6.728097
         ],
         "z": [
          6.602749824523926,
          10.053099632263184,
          13.760700225830078,
          18.4906005859375,
          29.557926000000002
         ]
        },
        {
         "line": {
          "color": "blue",
          "width": 3
         },
         "marker": {
          "color": "blue",
          "opacity": 0.5,
          "size": 3
         },
         "name": "predict 26",
         "opacity": 0.5,
         "type": "scatter3d",
         "x": [
          31.233400344848643,
          71.19090270996094,
          112.80699920654295,
          167.92799377441406,
          257.88802999999996
         ],
         "y": [
          7.427020072937013,
          16.551799774169922,
          25.579700469970703,
          36.8213005065918,
          52.394627
         ],
         "z": [
          -7.0031700134277335,
          -16.706499099731445,
          -26.756999969482425,
          -40.03160095214844,
          -58.060196
         ]
        },
        {
         "line": {
          "color": "blue",
          "width": 3
         },
         "marker": {
          "color": "blue",
          "opacity": 0.5,
          "size": 3
         },
         "name": "predict 27",
         "opacity": 0.5,
         "type": "scatter3d",
         "x": [
          31.771299362182607,
          71.93669891357422,
          116.4010009765625,
          170.87899780273438,
          263.60095
         ],
         "y": [
          -3.793040037155152,
          -7.908480167388916,
          -11.57229995727539,
          -14.73610019683838,
          -17.56152
         ],
         "z": [
          -3.4156301021575928,
          -3.8656299114227295,
          -4.315619945526123,
          -4.878119945526123,
          -6.7709894
         ]
        },
        {
         "line": {
          "color": "blue",
          "width": 3
         },
         "marker": {
          "color": "blue",
          "opacity": 0.5,
          "size": 3
         },
         "name": "predict 28",
         "opacity": 0.5,
         "type": "scatter3d",
         "x": [
          31.27919960021973,
          71.93589782714844,
          116.39900207519531,
          170.8800048828125,
          263.29962
         ],
         "y": [
          -3.7246799468994136,
          -7.888360023498535,
          -11.552499771118164,
          -14.803199768066404,
          -17.998491
         ],
         "z": [
          1.6156200170516968,
          -0.09687419980764388,
          -1.896880030632019,
          -4.1905198097229,
          -8.910688
         ]
        },
        {
         "line": {
          "color": "blue",
          "width": 3
         },
         "marker": {
          "color": "blue",
          "opacity": 0.5,
          "size": 3
         },
         "name": "predict 29",
         "opacity": 0.5,
         "type": "scatter3d",
         "x": [
          31.605600357055664,
          70.30940246582031,
          114.2760009765625,
          170.55099487304688,
          261.75872999999996
         ],
         "y": [
          6.3622498512268075,
          13.64210033416748,
          21.163700103759766,
          29.43959999084473,
          40.198948
         ],
         "z": [
          0.2955549955368042,
          -4.475769996643066,
          -9.887049674987793,
          -16.882299423217773,
          -26.207320000000003
         ]
        },
        {
         "line": {
          "color": "blue",
          "width": 3
         },
         "marker": {
          "color": "blue",
          "opacity": 0.5,
          "size": 3
         },
         "name": "predict 30",
         "opacity": 0.5,
         "type": "scatter3d",
         "x": [
          31.89179992675781,
          71.73930358886719,
          115.80999755859376,
          171.85800170898438,
          260.13788
         ],
         "y": [
          -1.655949950218201,
          -3.191809892654419,
          -4.161459922790527,
          -4.418210029602051,
          -2.2645993
         ],
         "z": [
          -6.1191301345825195,
          -12.581000328063965,
          -19.708999633789066,
          -28.78840065002441,
          -44.930374
         ]
        },
        {
         "line": {
          "color": "blue",
          "width": 3
         },
         "marker": {
          "color": "blue",
          "opacity": 0.5,
          "size": 3
         },
         "name": "predict 31",
         "opacity": 0.5,
         "type": "scatter3d",
         "x": [
          31.39859962463379,
          71.24469757080078,
          115.33100128173828,
          171.41000366210938,
          268.57937999999996
         ],
         "y": [
          -1.6082099676132202,
          -3.2139201164245605,
          -4.3828701972961435,
          -4.911789894104004,
          -4.22419
         ],
         "z": [
          7.449580192565918,
          14.316100120544435,
          21.92259979248047,
          31.642000198364247,
          49.057278000000004
         ]
        },
        {
         "line": {
          "color": "blue",
          "width": 3
         },
         "marker": {
          "color": "blue",
          "opacity": 0.5,
          "size": 3
         },
         "name": "predict 32",
         "opacity": 0.5,
         "type": "scatter3d",
         "x": [
          31.17849922180176,
          71.62010192871094,
          113.9469985961914,
          168.78799438476562,
          263.30356
         ],
         "y": [
          -5.510499954223633,
          -12.184800148010256,
          -18.60610008239746,
          -26.07029914855957,
          -36.007008
         ],
         "z": [
          7.128119945526122,
          7.634369850158691,
          8.196869850158691,
          8.871879577636719,
          10.34286
         ]
        },
        {
         "line": {
          "color": "blue",
          "width": 3
         },
         "marker": {
          "color": "blue",
          "opacity": 0.5,
          "size": 3
         },
         "name": "predict 33",
         "opacity": 0.5,
         "type": "scatter3d",
         "x": [
          31.48189926147461,
          71.14299774169922,
          115.6520004272461,
          171.90699768066406,
          262.67795
         ],
         "y": [
          -0.1315149962902069,
          -0.7829710245132446,
          -2.1796700954437256,
          -4.902750015258789,
          -11.130344000000001
         ],
         "z": [
          7.1150898933410645,
          1.9681299924850464,
          -3.789799928665161,
          -11.14780044555664,
          -23.610138
         ]
        },
        {
         "line": {
          "color": "blue",
          "width": 3
         },
         "marker": {
          "color": "blue",
          "opacity": 0.5,
          "size": 3
         },
         "name": "predict 34",
         "opacity": 0.5,
         "type": "scatter3d",
         "x": [
          31.66220092773437,
          72.12159729003906,
          114.45099639892578,
          171.07699584960938,
          263.4463
         ],
         "y": [
          -5.726600170135497,
          -12.326499938964846,
          -18.41230010986328,
          -25.10689926147461,
          -32.900475
         ],
         "z": [
          0.6343730092048645,
          0.07187269628047943,
          -0.4343760013580322,
          -1.278130054473877,
          -3.8997947999999996
         ]
        },
        {
         "line": {
          "color": "blue",
          "width": 3
         },
         "marker": {
          "color": "blue",
          "opacity": 0.5,
          "size": 3
         },
         "name": "predict 35",
         "opacity": 0.5,
         "type": "scatter3d",
         "x": [
          31.049699783325195,
          69.68250274658203,
          113.34100341796876,
          169.01499938964844,
          265.59732
         ],
         "y": [
          6.452310085296631,
          14.12559986114502,
          22.407400131225586,
          32.28400039672852,
          43.687115000000006
         ],
         "z": [
          5.833889961242676,
          11.084199905395508,
          16.991500854492188,
          24.5093994140625,
          41.403202
         ]
        },
        {
         "line": {
          "color": "blue",
          "width": 3
         },
         "marker": {
          "color": "blue",
          "opacity": 0.5,
          "size": 3
         },
         "name": "predict 36",
         "opacity": 0.5,
         "type": "scatter3d",
         "x": [
          31.08550071716309,
          69.49109649658203,
          113.70899963378906,
          168.28500366210938,
          265.48135
         ],
         "y": [
          -7.158490180969237,
          -15.49549961090088,
          -24.368000030517567,
          -34.26060104370117,
          -46.020103000000006
         ],
         "z": [
          5.103129863739014,
          11.571900367736815,
          18.991199493408203,
          28.13759994506836,
          42.87107
         ]
        },
        {
         "line": {
          "color": "blue",
          "width": 3
         },
         "marker": {
          "color": "blue",
          "opacity": 0.5,
          "size": 3
         },
         "name": "predict 37",
         "opacity": 0.5,
         "type": "scatter3d",
         "x": [
          31.36930084228516,
          71.28610229492188,
          115.43199920654295,
          171.53900146484375,
          262.84503
         ],
         "y": [
          -2.128350019454956,
          -4.2034897804260245,
          -5.651179790496826,
          -6.194960117340088,
          -5.5644655
         ],
         "z": [
          4.821879863739014,
          5.271870136260986,
          5.778130054473878,
          6.340630054473878,
          8.147962
         ]
        },
        {
         "line": {
          "color": "blue",
          "width": 3
         },
         "marker": {
          "color": "blue",
          "opacity": 0.5,
          "size": 3
         },
         "name": "predict 38",
         "opacity": 0.5,
         "type": "scatter3d",
         "x": [
          265.65301513671875,
          362.78399658203125,
          501.6530151367188,
          658.6069946289062,
          687.6764
         ],
         "y": [
          0.8036260008811951,
          3.087239980697632,
          -1.6022000312805176,
          -17.9867000579834,
          -38.088898
         ],
         "z": [
          -36.599998474121094,
          -57.4000015258789,
          -88,
          -122.8000030517578,
          -171.83879
         ]
        },
        {
         "line": {
          "color": "blue",
          "width": 3
         },
         "marker": {
          "color": "blue",
          "opacity": 0.5,
          "size": 3
         },
         "name": "predict 39",
         "opacity": 0.5,
         "type": "scatter3d",
         "x": [
          32.900501251220696,
          72.32389831542969,
          115.9250030517578,
          171.67799377441406,
          261.56494
         ],
         "y": [
          2.6588499546051025,
          5.344170093536377,
          7.57450008392334,
          9.309579849243164,
          10.380823
         ],
         "z": [
          -3.9781301021575928,
          -6.952079772949219,
          -10.109399795532227,
          -14.193400382995605,
          -20.41966
         ]
        }
       ],
       "layout": {
        "autosize": true,
        "scene": {
         "aspectmode": "manual",
         "aspectratio": {
          "x": 1,
          "y": 1,
          "z": 1
         },
         "camera": {
          "eye": {
           "x": -1.7428,
           "y": 1.0707,
           "z": 0.71
          },
          "up": {
           "x": 1,
           "y": 1,
           "z": -0.5
          }
         },
         "xaxis": {
          "backgroundcolor": "rgb(230, 230,230)",
          "gridcolor": "rgb(255, 255, 255)",
          "showbackground": true,
          "title": {
           "text": "x (mm)"
          },
          "zerolinecolor": "rgb(255, 255, 255)"
         },
         "yaxis": {
          "backgroundcolor": "rgb(230, 230,230)",
          "gridcolor": "rgb(255, 255, 255)",
          "showbackground": true,
          "title": {
           "text": "y (mm)"
          },
          "zerolinecolor": "rgb(255, 255, 255)"
         },
         "zaxis": {
          "backgroundcolor": "rgb(230, 230,230)",
          "gridcolor": "rgb(255, 255, 255)",
          "showbackground": true,
          "title": {
           "text": "z (mm)"
          },
          "zerolinecolor": "rgb(255, 255, 255)"
         }
        },
        "template": {
         "data": {
          "bar": [
           {
            "error_x": {
             "color": "#2a3f5f"
            },
            "error_y": {
             "color": "#2a3f5f"
            },
            "marker": {
             "line": {
              "color": "#E5ECF6",
              "width": 0.5
             }
            },
            "type": "bar"
           }
          ],
          "barpolar": [
           {
            "marker": {
             "line": {
              "color": "#E5ECF6",
              "width": 0.5
             }
            },
            "type": "barpolar"
           }
          ],
          "carpet": [
           {
            "aaxis": {
             "endlinecolor": "#2a3f5f",
             "gridcolor": "white",
             "linecolor": "white",
             "minorgridcolor": "white",
             "startlinecolor": "#2a3f5f"
            },
            "baxis": {
             "endlinecolor": "#2a3f5f",
             "gridcolor": "white",
             "linecolor": "white",
             "minorgridcolor": "white",
             "startlinecolor": "#2a3f5f"
            },
            "type": "carpet"
           }
          ],
          "choropleth": [
           {
            "colorbar": {
             "outlinewidth": 0,
             "ticks": ""
            },
            "type": "choropleth"
           }
          ],
          "contour": [
           {
            "colorbar": {
             "outlinewidth": 0,
             "ticks": ""
            },
            "colorscale": [
             [
              0,
              "#0d0887"
             ],
             [
              0.1111111111111111,
              "#46039f"
             ],
             [
              0.2222222222222222,
              "#7201a8"
             ],
             [
              0.3333333333333333,
              "#9c179e"
             ],
             [
              0.4444444444444444,
              "#bd3786"
             ],
             [
              0.5555555555555556,
              "#d8576b"
             ],
             [
              0.6666666666666666,
              "#ed7953"
             ],
             [
              0.7777777777777778,
              "#fb9f3a"
             ],
             [
              0.8888888888888888,
              "#fdca26"
             ],
             [
              1,
              "#f0f921"
             ]
            ],
            "type": "contour"
           }
          ],
          "contourcarpet": [
           {
            "colorbar": {
             "outlinewidth": 0,
             "ticks": ""
            },
            "type": "contourcarpet"
           }
          ],
          "heatmap": [
           {
            "colorbar": {
             "outlinewidth": 0,
             "ticks": ""
            },
            "colorscale": [
             [
              0,
              "#0d0887"
             ],
             [
              0.1111111111111111,
              "#46039f"
             ],
             [
              0.2222222222222222,
              "#7201a8"
             ],
             [
              0.3333333333333333,
              "#9c179e"
             ],
             [
              0.4444444444444444,
              "#bd3786"
             ],
             [
              0.5555555555555556,
              "#d8576b"
             ],
             [
              0.6666666666666666,
              "#ed7953"
             ],
             [
              0.7777777777777778,
              "#fb9f3a"
             ],
             [
              0.8888888888888888,
              "#fdca26"
             ],
             [
              1,
              "#f0f921"
             ]
            ],
            "type": "heatmap"
           }
          ],
          "heatmapgl": [
           {
            "colorbar": {
             "outlinewidth": 0,
             "ticks": ""
            },
            "colorscale": [
             [
              0,
              "#0d0887"
             ],
             [
              0.1111111111111111,
              "#46039f"
             ],
             [
              0.2222222222222222,
              "#7201a8"
             ],
             [
              0.3333333333333333,
              "#9c179e"
             ],
             [
              0.4444444444444444,
              "#bd3786"
             ],
             [
              0.5555555555555556,
              "#d8576b"
             ],
             [
              0.6666666666666666,
              "#ed7953"
             ],
             [
              0.7777777777777778,
              "#fb9f3a"
             ],
             [
              0.8888888888888888,
              "#fdca26"
             ],
             [
              1,
              "#f0f921"
             ]
            ],
            "type": "heatmapgl"
           }
          ],
          "histogram": [
           {
            "marker": {
             "colorbar": {
              "outlinewidth": 0,
              "ticks": ""
             }
            },
            "type": "histogram"
           }
          ],
          "histogram2d": [
           {
            "colorbar": {
             "outlinewidth": 0,
             "ticks": ""
            },
            "colorscale": [
             [
              0,
              "#0d0887"
             ],
             [
              0.1111111111111111,
              "#46039f"
             ],
             [
              0.2222222222222222,
              "#7201a8"
             ],
             [
              0.3333333333333333,
              "#9c179e"
             ],
             [
              0.4444444444444444,
              "#bd3786"
             ],
             [
              0.5555555555555556,
              "#d8576b"
             ],
             [
              0.6666666666666666,
              "#ed7953"
             ],
             [
              0.7777777777777778,
              "#fb9f3a"
             ],
             [
              0.8888888888888888,
              "#fdca26"
             ],
             [
              1,
              "#f0f921"
             ]
            ],
            "type": "histogram2d"
           }
          ],
          "histogram2dcontour": [
           {
            "colorbar": {
             "outlinewidth": 0,
             "ticks": ""
            },
            "colorscale": [
             [
              0,
              "#0d0887"
             ],
             [
              0.1111111111111111,
              "#46039f"
             ],
             [
              0.2222222222222222,
              "#7201a8"
             ],
             [
              0.3333333333333333,
              "#9c179e"
             ],
             [
              0.4444444444444444,
              "#bd3786"
             ],
             [
              0.5555555555555556,
              "#d8576b"
             ],
             [
              0.6666666666666666,
              "#ed7953"
             ],
             [
              0.7777777777777778,
              "#fb9f3a"
             ],
             [
              0.8888888888888888,
              "#fdca26"
             ],
             [
              1,
              "#f0f921"
             ]
            ],
            "type": "histogram2dcontour"
           }
          ],
          "mesh3d": [
           {
            "colorbar": {
             "outlinewidth": 0,
             "ticks": ""
            },
            "type": "mesh3d"
           }
          ],
          "parcoords": [
           {
            "line": {
             "colorbar": {
              "outlinewidth": 0,
              "ticks": ""
             }
            },
            "type": "parcoords"
           }
          ],
          "pie": [
           {
            "automargin": true,
            "type": "pie"
           }
          ],
          "scatter": [
           {
            "marker": {
             "colorbar": {
              "outlinewidth": 0,
              "ticks": ""
             }
            },
            "type": "scatter"
           }
          ],
          "scatter3d": [
           {
            "line": {
             "colorbar": {
              "outlinewidth": 0,
              "ticks": ""
             }
            },
            "marker": {
             "colorbar": {
              "outlinewidth": 0,
              "ticks": ""
             }
            },
            "type": "scatter3d"
           }
          ],
          "scattercarpet": [
           {
            "marker": {
             "colorbar": {
              "outlinewidth": 0,
              "ticks": ""
             }
            },
            "type": "scattercarpet"
           }
          ],
          "scattergeo": [
           {
            "marker": {
             "colorbar": {
              "outlinewidth": 0,
              "ticks": ""
             }
            },
            "type": "scattergeo"
           }
          ],
          "scattergl": [
           {
            "marker": {
             "colorbar": {
              "outlinewidth": 0,
              "ticks": ""
             }
            },
            "type": "scattergl"
           }
          ],
          "scattermapbox": [
           {
            "marker": {
             "colorbar": {
              "outlinewidth": 0,
              "ticks": ""
             }
            },
            "type": "scattermapbox"
           }
          ],
          "scatterpolar": [
           {
            "marker": {
             "colorbar": {
              "outlinewidth": 0,
              "ticks": ""
             }
            },
            "type": "scatterpolar"
           }
          ],
          "scatterpolargl": [
           {
            "marker": {
             "colorbar": {
              "outlinewidth": 0,
              "ticks": ""
             }
            },
            "type": "scatterpolargl"
           }
          ],
          "scatterternary": [
           {
            "marker": {
             "colorbar": {
              "outlinewidth": 0,
              "ticks": ""
             }
            },
            "type": "scatterternary"
           }
          ],
          "surface": [
           {
            "colorbar": {
             "outlinewidth": 0,
             "ticks": ""
            },
            "colorscale": [
             [
              0,
              "#0d0887"
             ],
             [
              0.1111111111111111,
              "#46039f"
             ],
             [
              0.2222222222222222,
              "#7201a8"
             ],
             [
              0.3333333333333333,
              "#9c179e"
             ],
             [
              0.4444444444444444,
              "#bd3786"
             ],
             [
              0.5555555555555556,
              "#d8576b"
             ],
             [
              0.6666666666666666,
              "#ed7953"
             ],
             [
              0.7777777777777778,
              "#fb9f3a"
             ],
             [
              0.8888888888888888,
              "#fdca26"
             ],
             [
              1,
              "#f0f921"
             ]
            ],
            "type": "surface"
           }
          ],
          "table": [
           {
            "cells": {
             "fill": {
              "color": "#EBF0F8"
             },
             "line": {
              "color": "white"
             }
            },
            "header": {
             "fill": {
              "color": "#C8D4E3"
             },
             "line": {
              "color": "white"
             }
            },
            "type": "table"
           }
          ]
         },
         "layout": {
          "annotationdefaults": {
           "arrowcolor": "#2a3f5f",
           "arrowhead": 0,
           "arrowwidth": 1
          },
          "coloraxis": {
           "colorbar": {
            "outlinewidth": 0,
            "ticks": ""
           }
          },
          "colorscale": {
           "diverging": [
            [
             0,
             "#8e0152"
            ],
            [
             0.1,
             "#c51b7d"
            ],
            [
             0.2,
             "#de77ae"
            ],
            [
             0.3,
             "#f1b6da"
            ],
            [
             0.4,
             "#fde0ef"
            ],
            [
             0.5,
             "#f7f7f7"
            ],
            [
             0.6,
             "#e6f5d0"
            ],
            [
             0.7,
             "#b8e186"
            ],
            [
             0.8,
             "#7fbc41"
            ],
            [
             0.9,
             "#4d9221"
            ],
            [
             1,
             "#276419"
            ]
           ],
           "sequential": [
            [
             0,
             "#0d0887"
            ],
            [
             0.1111111111111111,
             "#46039f"
            ],
            [
             0.2222222222222222,
             "#7201a8"
            ],
            [
             0.3333333333333333,
             "#9c179e"
            ],
            [
             0.4444444444444444,
             "#bd3786"
            ],
            [
             0.5555555555555556,
             "#d8576b"
            ],
            [
             0.6666666666666666,
             "#ed7953"
            ],
            [
             0.7777777777777778,
             "#fb9f3a"
            ],
            [
             0.8888888888888888,
             "#fdca26"
            ],
            [
             1,
             "#f0f921"
            ]
           ],
           "sequentialminus": [
            [
             0,
             "#0d0887"
            ],
            [
             0.1111111111111111,
             "#46039f"
            ],
            [
             0.2222222222222222,
             "#7201a8"
            ],
            [
             0.3333333333333333,
             "#9c179e"
            ],
            [
             0.4444444444444444,
             "#bd3786"
            ],
            [
             0.5555555555555556,
             "#d8576b"
            ],
            [
             0.6666666666666666,
             "#ed7953"
            ],
            [
             0.7777777777777778,
             "#fb9f3a"
            ],
            [
             0.8888888888888888,
             "#fdca26"
            ],
            [
             1,
             "#f0f921"
            ]
           ]
          },
          "colorway": [
           "#636efa",
           "#EF553B",
           "#00cc96",
           "#ab63fa",
           "#FFA15A",
           "#19d3f3",
           "#FF6692",
           "#B6E880",
           "#FF97FF",
           "#FECB52"
          ],
          "font": {
           "color": "#2a3f5f"
          },
          "geo": {
           "bgcolor": "white",
           "lakecolor": "white",
           "landcolor": "#E5ECF6",
           "showlakes": true,
           "showland": true,
           "subunitcolor": "white"
          },
          "hoverlabel": {
           "align": "left"
          },
          "hovermode": "closest",
          "mapbox": {
           "style": "light"
          },
          "paper_bgcolor": "white",
          "plot_bgcolor": "#E5ECF6",
          "polar": {
           "angularaxis": {
            "gridcolor": "white",
            "linecolor": "white",
            "ticks": ""
           },
           "bgcolor": "#E5ECF6",
           "radialaxis": {
            "gridcolor": "white",
            "linecolor": "white",
            "ticks": ""
           }
          },
          "scene": {
           "xaxis": {
            "backgroundcolor": "#E5ECF6",
            "gridcolor": "white",
            "gridwidth": 2,
            "linecolor": "white",
            "showbackground": true,
            "ticks": "",
            "zerolinecolor": "white"
           },
           "yaxis": {
            "backgroundcolor": "#E5ECF6",
            "gridcolor": "white",
            "gridwidth": 2,
            "linecolor": "white",
            "showbackground": true,
            "ticks": "",
            "zerolinecolor": "white"
           },
           "zaxis": {
            "backgroundcolor": "#E5ECF6",
            "gridcolor": "white",
            "gridwidth": 2,
            "linecolor": "white",
            "showbackground": true,
            "ticks": "",
            "zerolinecolor": "white"
           }
          },
          "shapedefaults": {
           "line": {
            "color": "#2a3f5f"
           }
          },
          "ternary": {
           "aaxis": {
            "gridcolor": "white",
            "linecolor": "white",
            "ticks": ""
           },
           "baxis": {
            "gridcolor": "white",
            "linecolor": "white",
            "ticks": ""
           },
           "bgcolor": "#E5ECF6",
           "caxis": {
            "gridcolor": "white",
            "linecolor": "white",
            "ticks": ""
           }
          },
          "title": {
           "x": 0.05
          },
          "xaxis": {
           "automargin": true,
           "gridcolor": "white",
           "linecolor": "white",
           "ticks": "",
           "title": {
            "standoff": 15
           },
           "zerolinecolor": "white",
           "zerolinewidth": 2
          },
          "yaxis": {
           "automargin": true,
           "gridcolor": "white",
           "linecolor": "white",
           "ticks": "",
           "title": {
            "standoff": 15
           },
           "zerolinecolor": "white",
           "zerolinewidth": 2
          }
         }
        },
        "title": {
         "text": "Track Prediction #5 Hit"
        }
       }
      },
      "text/html": [
       "<div>\n",
       "        \n",
       "        \n",
       "            <div id=\"f95409ac-f95b-4891-b020-d6de89a371d4\" class=\"plotly-graph-div\" style=\"height:525px; width:100%;\"></div>\n",
       "            <script type=\"text/javascript\">\n",
       "                require([\"plotly\"], function(Plotly) {\n",
       "                    window.PLOTLYENV=window.PLOTLYENV || {};\n",
       "                    \n",
       "                if (document.getElementById(\"f95409ac-f95b-4891-b020-d6de89a371d4\")) {\n",
       "                    Plotly.newPlot(\n",
       "                        'f95409ac-f95b-4891-b020-d6de89a371d4',\n",
       "                        [{\"line\": {\"color\": \"red\", \"width\": 3}, \"marker\": {\"color\": \"red\", \"opacity\": 0.5, \"size\": 3}, \"name\": \"real 0\", \"opacity\": 0.5, \"type\": \"scatter3d\", \"x\": [31.94099998474121, 71.65660095214844, 115.55500030517578, 171.3769989013672, 259.57501220703125], \"y\": [-0.7839149832725525, -1.2155200242996216, -0.965728998184204, 0.390731006860733, 4.886899948120117], \"z\": [0.12812399864196775, -4.934380054473877, -10.503100395202637, -17.590499877929688, -28.20000076293945]}, {\"line\": {\"color\": \"red\", \"width\": 3}, \"marker\": {\"color\": \"red\", \"opacity\": 0.5, \"size\": 3}, \"name\": \"real 1\", \"opacity\": 0.5, \"type\": \"scatter3d\", \"x\": [32.000999450683594, 71.07009887695312, 116.5009994506836, 172.0469970703125, 259.9119873046875], \"y\": [0.28011301159858704, 0.958450973033905, 2.25465989112854, 4.523369789123535, 9.594860076904297], \"z\": [0.7590109705924988, 8.131819725036621, 16.732900619506836, 27.25399971008301, 43.79999923706055]}, {\"line\": {\"color\": \"red\", \"width\": 3}, \"marker\": {\"color\": \"red\", \"opacity\": 0.5, \"size\": 3}, \"name\": \"real 2\", \"opacity\": 0.5, \"type\": \"scatter3d\", \"x\": [31.640899658203125, 70.41410064697266, 114.41400146484376, 171.09300231933594, 254.8780059814453], \"y\": [-6.103600025177003, -12.786700248718262, -19.292999267578125, -25.940900802612305, -32.427600860595696], \"z\": [-2.151089906692505, -10.293100357055664, -19.582199096679688, -31.61969947814941, -49.599998474121094]}, {\"line\": {\"color\": \"red\", \"width\": 3}, \"marker\": {\"color\": \"red\", \"opacity\": 0.5, \"size\": 3}, \"name\": \"real 3\", \"opacity\": 0.5, \"type\": \"scatter3d\", \"x\": [32.392101287841804, 71.59239959716797, 114.99700164794922, 172.343994140625, 260.53500366210943], \"y\": [4.112959861755371, 8.357359886169434, 12.144200325012207, 15.704099655151367, 18.292600631713867], \"z\": [-3.6968801021575928, -10.584500312805176, -18.1658992767334, -28.153099060058594, -43.79999923706055]}, {\"line\": {\"color\": \"red\", \"width\": 3}, \"marker\": {\"color\": \"red\", \"opacity\": 0.5, \"size\": 3}, \"name\": \"real 4\", \"opacity\": 0.5, \"type\": \"scatter3d\", \"x\": [31.871400833129893, 71.7605972290039, 115.33699798583984, 171.30499267578125, 265.8070068359375], \"y\": [-2.017119884490967, -3.701090097427368, -4.452960014343262, -3.8584499359130864, 1.465939998626709], \"z\": [-6.509379863739014, -0.8944630026817322, 5.172269821166992, 12.951600074768065, 25.79999923706055]}, {\"line\": {\"color\": \"red\", \"width\": 3}, \"marker\": {\"color\": \"red\", \"opacity\": 0.5, \"size\": 3}, \"name\": \"real 5\", \"opacity\": 0.5, \"type\": \"scatter3d\", \"x\": [32.10020065307617, 72.60890197753906, 116.2509994506836, 172.00900268554688, 259.80599975585943], \"y\": [2.038180112838745, 4.170460224151611, 5.968989849090576, 7.4919800758361825, 8.118630409240723], \"z\": [-1.221869945526123, -6.330540180206299, -11.77560043334961, -18.709999084472656, -29.399999618530273]}, {\"line\": {\"color\": \"red\", \"width\": 3}, \"marker\": {\"color\": \"red\", \"opacity\": 0.5, \"size\": 3}, \"name\": \"real 6\", \"opacity\": 0.5, \"type\": \"scatter3d\", \"x\": [31.8439998626709, 70.71769714355469, 115.22699737548828, 169.90699768066406, 261.57998657226557], \"y\": [5.680449962615968, 11.960000038146973, 18.306100845336914, 24.8356990814209, 32.895198822021484], \"z\": [-1.2172199487686155, -8.516209602355957, -16.84749984741211, -27.08329963684082, -43.79999923706055]}, {\"line\": {\"color\": \"red\", \"width\": 3}, \"marker\": {\"color\": \"red\", \"opacity\": 0.5, \"size\": 3}, \"name\": \"real 7\", \"opacity\": 0.5, \"type\": \"scatter3d\", \"x\": [31.395000457763672, 71.28130340576172, 115.5510025024414, 172.08200073242188, 260.80499267578125], \"y\": [-1.6720399856567385, -4.0892300605773935, -7.136940002441406, -11.626299858093262, -20.039899826049805], \"z\": [5.046879768371582, 5.778130054473878, 6.565619945526122, 7.634369850158691, 9.0]}, {\"line\": {\"color\": \"red\", \"width\": 3}, \"marker\": {\"color\": \"red\", \"opacity\": 0.5, \"size\": 3}, \"name\": \"real 8\", \"opacity\": 0.5, \"type\": \"scatter3d\", \"x\": [31.53400039672852, 69.77989959716797, 113.64600372314452, 168.21499633789062, 259.95098876953125], \"y\": [-8.000120162963867, -16.858400344848633, -25.89789962768555, -35.39099884033203, -47.06420135498047], \"z\": [-5.947800159454348, 0.027191100642085075, 6.895199775695801, 15.37310028076172, 29.399999618530273]}, {\"line\": {\"color\": \"red\", \"width\": 3}, \"marker\": {\"color\": \"red\", \"opacity\": 0.5, \"size\": 3}, \"name\": \"real 9\", \"opacity\": 0.5, \"type\": \"scatter3d\", \"x\": [32.73849868774414, 72.09130096435547, 115.61299896240234, 170.77499389648438, 260.1610107421875], \"y\": [3.1220200061798096, 6.30226993560791, 9.10925006866455, 11.500699996948242, 13.065999984741213], \"z\": [-3.1343801021575928, -1.503119945526123, 0.21137100458145144, 2.346869945526123, 5.400000095367432]}, {\"line\": {\"color\": \"red\", \"width\": 3}, \"marker\": {\"color\": \"red\", \"opacity\": 0.5, \"size\": 3}, \"name\": \"real 10\", \"opacity\": 0.5, \"type\": \"scatter3d\", \"x\": [32.459701538085945, 71.72039794921875, 115.16999816894531, 170.79600524902344, 260.3179931640625], \"y\": [3.919440031051636, 7.8302001953125, 11.291999816894533, 14.145099639892578, 15.26039981842041], \"z\": [-4.765629768371582, -9.53575038909912, -14.73169994354248, -21.528099060058594, -33.0]}, {\"line\": {\"color\": \"red\", \"width\": 3}, \"marker\": {\"color\": \"red\", \"opacity\": 0.5, \"size\": 3}, \"name\": \"real 11\", \"opacity\": 0.5, \"type\": \"scatter3d\", \"x\": [31.41830062866211, 71.2051010131836, 115.69000244140624, 171.61599731445312, 265.90701293945307], \"y\": [-1.2588800191879272, -2.2674601078033447, -2.6598498821258545, -1.9989900588989256, 1.8945000171661373], \"z\": [3.921880006790161, 1.6718800067901611, -0.8843770027160645, -4.090630054473877, -9.0]}, {\"line\": {\"color\": \"red\", \"width\": 3}, \"marker\": {\"color\": \"red\", \"opacity\": 0.5, \"size\": 3}, \"name\": \"real 12\", \"opacity\": 0.5, \"type\": \"scatter3d\", \"x\": [31.25659942626953, 71.4894027709961, 114.13800048828124, 170.48399353027344, 255.94700622558602], \"y\": [-4.126420021057129, -9.060540199279783, -13.989299774169922, -19.980499267578125, -27.83029937744141], \"z\": [7.552080154418945, 17.176399230957028, 27.35849952697754, 40.81579971313477, 61.599998474121094]}, {\"line\": {\"color\": \"red\", \"width\": 3}, \"marker\": {\"color\": \"red\", \"opacity\": 0.5, \"size\": 3}, \"name\": \"real 13\", \"opacity\": 0.5, \"type\": \"scatter3d\", \"x\": [170.58399963378906, 262.68899536132807, 357.5719909667969, 494.4869995117188, 646.3280029296875], \"y\": [-25.225400924682607, -40.31880187988281, -56.972999572753906, -83.17900085449219, -114.96800231933594], \"z\": [15.115599632263185, 29.399999618530273, 43.79999923706055, 65.19999694824219, 89.19999694824219]}, {\"line\": {\"color\": \"red\", \"width\": 3}, \"marker\": {\"color\": \"red\", \"opacity\": 0.5, \"size\": 3}, \"name\": \"real 14\", \"opacity\": 0.5, \"type\": \"scatter3d\", \"x\": [31.16659927368164, 69.93319702148439, 113.87999725341795, 169.08200073242188, 261.35000610351557], \"y\": [-5.720719814300537, -12.65719985961914, -20.242599487304688, -29.367900848388672, -43.61740112304688], \"z\": [4.653130054473877, 3.587559938430786, 2.403130054473877, 0.8593710064888, -1.7999999523162844]}, {\"line\": {\"color\": \"red\", \"width\": 3}, \"marker\": {\"color\": \"red\", \"opacity\": 0.5, \"size\": 3}, \"name\": \"real 15\", \"opacity\": 0.5, \"type\": \"scatter3d\", \"x\": [31.67480087280273, 72.09719848632812, 114.49299621582031, 171.0469970703125, 255.55799865722656], \"y\": [-5.50314998626709, -11.744600296020508, -17.392999649047848, -23.523799896240234, -29.505599975585927], \"z\": [-2.5503900051116943, -12.456299781799315, -22.638599395751953, -36.179500579833984, -56.79999923706055]}, {\"line\": {\"color\": \"red\", \"width\": 3}, \"marker\": {\"color\": \"red\", \"opacity\": 0.5, \"size\": 3}, \"name\": \"real 16\", \"opacity\": 0.5, \"type\": \"scatter3d\", \"x\": [31.981300354003906, 71.58779907226562, 117.08200073242188, 172.48399353027344, 260.1010131835937], \"y\": [-0.07021059840917587, 0.4290600121021271, 1.8804800510406487, 4.883649826049805, 12.228099822998047], \"z\": [0.5218729972839355, -0.7156260013580322, -2.121880054473877, -3.9781301021575928, -6.599999904632568]}, {\"line\": {\"color\": \"red\", \"width\": 3}, \"marker\": {\"color\": \"red\", \"opacity\": 0.5, \"size\": 3}, \"name\": \"real 17\", \"opacity\": 0.5, \"type\": \"scatter3d\", \"x\": [31.88750076293945, 71.75540161132812, 115.88899993896484, 172.0590057373047, 263.85000610351557], \"y\": [-1.7319799661636353, -3.5772299766540527, -5.154510021209717, -6.4264397621154785, -6.949399948120117], \"z\": [-4.4165000915527335, -10.615400314331056, -17.455299377441403, -26.14060020446777, -40.20000076293945]}, {\"line\": {\"color\": \"red\", \"width\": 3}, \"marker\": {\"color\": \"red\", \"opacity\": 0.5, \"size\": 3}, \"name\": \"real 18\", \"opacity\": 0.5, \"type\": \"scatter3d\", \"x\": [31.5900993347168, 72.21929931640625, 115.91300201416016, 171.76100158691406, 259.61700439453125], \"y\": [1.7862800359725952, 3.676759958267212, 5.146279811859131, 6.089290142059326, 5.472070217132568], \"z\": [3.786809921264648, 11.921099662780762, 20.5939998626709, 31.68180084228516, 49.0]}, {\"line\": {\"color\": \"red\", \"width\": 3}, \"marker\": {\"color\": \"red\", \"opacity\": 0.5, \"size\": 3}, \"name\": \"real 19\", \"opacity\": 0.5, \"type\": \"scatter3d\", \"x\": [32.024200439453125, 71.56639862060547, 115.4469985961914, 171.5850067138672, 260.5419921875], \"y\": [0.6903240084648132, 0.9399710297584534, 0.38679298758506775, -1.6818900108337402, -8.077619552612305], \"z\": [-3.6443700790405273, -13.378000259399414, -24.18560028076172, -37.97850036621094, -60.4000015258789]}, {\"line\": {\"color\": \"red\", \"width\": 3}, \"marker\": {\"color\": \"red\", \"opacity\": 0.5, \"size\": 3}, \"name\": \"real 20\", \"opacity\": 0.5, \"type\": \"scatter3d\", \"x\": [32.083301544189446, 72.25900268554688, 115.9489974975586, 171.7550048828125, 259.67498779296875], \"y\": [1.7386599779129028, 3.513159990310669, 4.9709200859069815, 6.126659870147705, 6.283329963684082], \"z\": [-2.5662000179290767, 4.329909801483153, 11.843299865722654, 21.42259979248047, 36.599998474121094]}, {\"line\": {\"color\": \"red\", \"width\": 3}, \"marker\": {\"color\": \"red\", \"opacity\": 0.5, \"size\": 3}, \"name\": \"real 21\", \"opacity\": 0.5, \"type\": \"scatter3d\", \"x\": [31.25200080871582, 71.47969818115234, 114.18199920654295, 170.42300415039062, 260.85000610351557], \"y\": [-4.207920074462892, -8.829480171203613, -12.907099723815918, -16.822599411010742, -19.84510040283203], \"z\": [2.2709200382232666, 6.790629863739014, 11.628100395202635, 17.96470069885254, 28.20000076293945]}, {\"line\": {\"color\": \"red\", \"width\": 3}, \"marker\": {\"color\": \"red\", \"opacity\": 0.5, \"size\": 3}, \"name\": \"real 22\", \"opacity\": 0.5, \"type\": \"scatter3d\", \"x\": [30.920000076293945, 69.49770355224611, 113.0199966430664, 168.6580047607422, 252.5639953613281], \"y\": [6.823150157928468, 14.886899948120115, 23.37190055847168, 33.28730010986328, 46.28720092773438], \"z\": [7.204780101776122, 16.486600875854492, 26.97130012512207, 40.35240173339844, 60.4000015258789]}, {\"line\": {\"color\": \"red\", \"width\": 3}, \"marker\": {\"color\": \"red\", \"opacity\": 0.5, \"size\": 3}, \"name\": \"real 23\", \"opacity\": 0.5, \"type\": \"scatter3d\", \"x\": [31.962200164794922, 71.13240051269531, 114.97699737548828, 172.51400756835938, 259.74099731445307], \"y\": [-0.4079299867153168, -0.5302559733390808, 0.05030209943652153, 1.9619300365448, 7.200980186462402], \"z\": [0.4656260013580322, 3.6968801021575928, 7.296870231628418, 12.064499855041506, 19.799999237060547]}, {\"line\": {\"color\": \"red\", \"width\": 3}, \"marker\": {\"color\": \"red\", \"opacity\": 0.5, \"size\": 3}, \"name\": \"real 24\", \"opacity\": 0.5, \"type\": \"scatter3d\", \"x\": [31.57279968261719, 69.99629974365234, 114.2310028076172, 168.88800048828125, 261.364990234375], \"y\": [-7.31151008605957, -15.468700408935547, -23.74150085449219, -32.513599395751946, -43.580299377441406], \"z\": [0.4780769944190979, -4.315619945526123, -9.781970024108887, -16.465599060058597, -28.20000076293945]}, {\"line\": {\"color\": \"red\", \"width\": 3}, \"marker\": {\"color\": \"red\", \"opacity\": 0.5, \"size\": 3}, \"name\": \"real 25\", \"opacity\": 0.5, \"type\": \"scatter3d\", \"x\": [32.230499267578125, 71.68949890136719, 115.36599731445312, 171.26800537109375, 259.697998046875], \"y\": [3.0748300552368164, 5.8587398529052725, 7.841939926147461, 8.796239852905273, 6.60250997543335], \"z\": [6.602749824523926, 10.053099632263184, 13.760700225830078, 18.4906005859375, 25.79999923706055]}, {\"line\": {\"color\": \"red\", \"width\": 3}, \"marker\": {\"color\": \"red\", \"opacity\": 0.5, \"size\": 3}, \"name\": \"real 26\", \"opacity\": 0.5, \"type\": \"scatter3d\", \"x\": [31.233400344848643, 71.19090270996094, 112.80699920654295, 167.92799377441406, 252.04800415039062], \"y\": [7.427020072937013, 16.551799774169922, 25.579700469970703, 36.8213005065918, 52.30500030517578], \"z\": [-7.0031700134277335, -16.706499099731445, -26.756999969482425, -40.03160095214844, -60.4000015258789]}, {\"line\": {\"color\": \"red\", \"width\": 3}, \"marker\": {\"color\": \"red\", \"opacity\": 0.5, \"size\": 3}, \"name\": \"real 27\", \"opacity\": 0.5, \"type\": \"scatter3d\", \"x\": [31.771299362182607, 71.93669891357422, 116.4010009765625, 170.87899780273438, 261.5390014648437], \"y\": [-3.793040037155152, -7.908480167388916, -11.57229995727539, -14.73610019683838, -16.884199142456055], \"z\": [-3.4156301021575928, -3.8656299114227295, -4.315619945526123, -4.878119945526123, -5.400000095367432]}, {\"line\": {\"color\": \"red\", \"width\": 3}, \"marker\": {\"color\": \"red\", \"opacity\": 0.5, \"size\": 3}, \"name\": \"real 28\", \"opacity\": 0.5, \"type\": \"scatter3d\", \"x\": [31.27919960021973, 71.93589782714844, 116.39900207519531, 170.8800048828125, 261.5390014648437], \"y\": [-3.7246799468994136, -7.888360023498535, -11.552499771118164, -14.803199768066404, -16.884199142456055], \"z\": [1.6156200170516968, -0.09687419980764388, -1.896880030632019, -4.1905198097229, -7.800000190734862]}, {\"line\": {\"color\": \"red\", \"width\": 3}, \"marker\": {\"color\": \"red\", \"opacity\": 0.5, \"size\": 3}, \"name\": \"real 29\", \"opacity\": 0.5, \"type\": \"scatter3d\", \"x\": [31.605600357055664, 70.30940246582031, 114.2760009765625, 170.55099487304688, 262.10000610351557], \"y\": [6.3622498512268075, 13.64210033416748, 21.163700103759766, 29.43959999084473, 40.156700134277344], \"z\": [0.2955549955368042, -4.475769996643066, -9.887049674987793, -16.882299423217773, -28.20000076293945]}, {\"line\": {\"color\": \"red\", \"width\": 3}, \"marker\": {\"color\": \"red\", \"opacity\": 0.5, \"size\": 3}, \"name\": \"real 30\", \"opacity\": 0.5, \"type\": \"scatter3d\", \"x\": [31.89179992675781, 71.73930358886719, 115.80999755859376, 171.85800170898438, 264.9639892578125], \"y\": [-1.655949950218201, -3.191809892654419, -4.161459922790527, -4.418210029602051, -2.15733003616333], \"z\": [-6.1191301345825195, -12.581000328063965, -19.708999633789066, -28.78840065002441, -43.79999923706055]}, {\"line\": {\"color\": \"red\", \"width\": 3}, \"marker\": {\"color\": \"red\", \"opacity\": 0.5, \"size\": 3}, \"name\": \"real 31\", \"opacity\": 0.5, \"type\": \"scatter3d\", \"x\": [31.39859962463379, 71.24469757080078, 115.33100128173828, 171.41000366210938, 264.66500854492193], \"y\": [-1.6082099676132202, -3.2139201164245605, -4.3828701972961435, -4.911789894104004, -3.443010091781616], \"z\": [7.449580192565918, 14.316100120544435, 21.92259979248047, 31.642000198364247, 47.4000015258789]}, {\"line\": {\"color\": \"red\", \"width\": 3}, \"marker\": {\"color\": \"red\", \"opacity\": 0.5, \"size\": 3}, \"name\": \"real 32\", \"opacity\": 0.5, \"type\": \"scatter3d\", \"x\": [31.17849922180176, 71.62010192871094, 113.9469985961914, 168.78799438476562, 257.05300903320307], \"y\": [-5.510499954223633, -12.184800148010256, -18.60610008239746, -26.07029914855957, -36.1693000793457], \"z\": [7.128119945526122, 7.634369850158691, 8.196869850158691, 8.871879577636719, 10.199999809265137]}, {\"line\": {\"color\": \"red\", \"width\": 3}, \"marker\": {\"color\": \"red\", \"opacity\": 0.5, \"size\": 3}, \"name\": \"real 33\", \"opacity\": 0.5, \"type\": \"scatter3d\", \"x\": [31.48189926147461, 71.14299774169922, 115.6520004272461, 171.90699768066406, 262.74398803710943], \"y\": [-0.1315149962902069, -0.7829710245132446, -2.1796700954437256, -4.902750015258789, -11.702500343322756], \"z\": [7.1150898933410645, 1.9681299924850464, -3.789799928665161, -11.14780044555664, -23.399999618530273]}, {\"line\": {\"color\": \"red\", \"width\": 3}, \"marker\": {\"color\": \"red\", \"opacity\": 0.5, \"size\": 3}, \"name\": \"real 34\", \"opacity\": 0.5, \"type\": \"scatter3d\", \"x\": [31.66220092773437, 72.12159729003906, 114.45099639892578, 171.07699584960938, 257.89599609375], \"y\": [-5.726600170135497, -12.326499938964846, -18.41230010986328, -25.10689926147461, -32.54610061645508], \"z\": [0.6343730092048645, 0.07187269628047943, -0.4343760013580322, -1.278130054473877, -3.0]}, {\"line\": {\"color\": \"red\", \"width\": 3}, \"marker\": {\"color\": \"red\", \"opacity\": 0.5, \"size\": 3}, \"name\": \"real 35\", \"opacity\": 0.5, \"type\": \"scatter3d\", \"x\": [31.049699783325195, 69.68250274658203, 113.34100341796876, 169.01499938964844, 255.54600524902344], \"y\": [6.452310085296631, 14.12559986114502, 22.407400131225586, 32.28400039672852, 46.23030090332031], \"z\": [5.833889961242676, 11.084199905395508, 16.991500854492188, 24.5093994140625, 36.599998474121094]}, {\"line\": {\"color\": \"red\", \"width\": 3}, \"marker\": {\"color\": \"red\", \"opacity\": 0.5, \"size\": 3}, \"name\": \"real 36\", \"opacity\": 0.5, \"type\": \"scatter3d\", \"x\": [31.08550071716309, 69.49109649658203, 113.70899963378906, 168.28500366210938, 259.52899169921875], \"y\": [-7.158490180969237, -15.49549961090088, -24.368000030517567, -34.26060104370117, -48.10200119018555], \"z\": [5.103129863739014, 11.571900367736815, 18.991199493408203, 28.13759994506836, 43.79999923706055]}, {\"line\": {\"color\": \"red\", \"width\": 3}, \"marker\": {\"color\": \"red\", \"opacity\": 0.5, \"size\": 3}, \"name\": \"real 37\", \"opacity\": 0.5, \"type\": \"scatter3d\", \"x\": [31.36930084228516, 71.28610229492188, 115.43199920654295, 171.53900146484375, 264.58401489257807], \"y\": [-2.128350019454956, -4.2034897804260245, -5.651179790496826, -6.194960117340088, -3.7936398983001713], \"z\": [4.821879863739014, 5.271870136260986, 5.778130054473878, 6.340630054473878, 6.5999999046325675]}, {\"line\": {\"color\": \"red\", \"width\": 3}, \"marker\": {\"color\": \"red\", \"opacity\": 0.5, \"size\": 3}, \"name\": \"real 38\", \"opacity\": 0.5, \"type\": \"scatter3d\", \"x\": [265.65301513671875, 362.78399658203125, 501.6530151367188, 658.6069946289062, 822.8489990234375], \"y\": [0.8036260008811951, 3.087239980697632, -1.6022000312805176, -17.9867000579834, -47.7677001953125], \"z\": [-36.599998474121094, -57.4000015258789, -88.0, -122.8000030517578, -157.39999389648438]}, {\"line\": {\"color\": \"red\", \"width\": 3}, \"marker\": {\"color\": \"red\", \"opacity\": 0.5, \"size\": 3}, \"name\": \"real 39\", \"opacity\": 0.5, \"type\": \"scatter3d\", \"x\": [32.900501251220696, 72.32389831542969, 115.9250030517578, 171.67799377441406, 359.5220031738281], \"y\": [2.6588499546051025, 5.344170093536377, 7.57450008392334, 9.309579849243164, 5.305540084838867], \"z\": [-3.9781301021575928, -6.952079772949219, -10.109399795532227, -14.193400382995605, -28.20000076293945]}, {\"line\": {\"color\": \"blue\", \"width\": 3}, \"marker\": {\"color\": \"blue\", \"opacity\": 0.5, \"size\": 3}, \"name\": \"predict 0\", \"opacity\": 0.5, \"type\": \"scatter3d\", \"x\": [31.94099998474121, 71.65660095214844, 115.55500030517578, 171.3769989013672, 261.14862], \"y\": [-0.7839149832725525, -1.2155200242996216, -0.965728998184204, 0.390731006860733, 4.3873706], \"z\": [0.12812399864196775, -4.934380054473877, -10.503100395202637, -17.590499877929688, -28.834529999999997]}, {\"line\": {\"color\": \"blue\", \"width\": 3}, \"marker\": {\"color\": \"blue\", \"opacity\": 0.5, \"size\": 3}, \"name\": \"predict 1\", \"opacity\": 0.5, \"type\": \"scatter3d\", \"x\": [32.000999450683594, 71.07009887695312, 116.5009994506836, 172.0469970703125, 265.14932000000005], \"y\": [0.28011301159858704, 0.958450973033905, 2.25465989112854, 4.523369789123535, 8.2192745], \"z\": [0.7590109705924988, 8.131819725036621, 16.732900619506836, 27.25399971008301, 45.78852]}, {\"line\": {\"color\": \"blue\", \"width\": 3}, \"marker\": {\"color\": \"blue\", \"opacity\": 0.5, \"size\": 3}, \"name\": \"predict 2\", \"opacity\": 0.5, \"type\": \"scatter3d\", \"x\": [31.640899658203125, 70.41410064697266, 114.41400146484376, 171.09300231933594, 254.6527], \"y\": [-6.103600025177003, -12.786700248718262, -19.292999267578125, -25.940900802612305, -31.501398], \"z\": [-2.151089906692505, -10.293100357055664, -19.582199096679688, -31.61969947814941, -52.873592]}, {\"line\": {\"color\": \"blue\", \"width\": 3}, \"marker\": {\"color\": \"blue\", \"opacity\": 0.5, \"size\": 3}, \"name\": \"predict 3\", \"opacity\": 0.5, \"type\": \"scatter3d\", \"x\": [32.392101287841804, 71.59239959716797, 114.99700164794922, 172.343994140625, 259.9668], \"y\": [4.112959861755371, 8.357359886169434, 12.144200325012207, 15.704099655151367, 18.998198000000002], \"z\": [-3.6968801021575928, -10.584500312805176, -18.1658992767334, -28.153099060058594, -43.811207]}, {\"line\": {\"color\": \"blue\", \"width\": 3}, \"marker\": {\"color\": \"blue\", \"opacity\": 0.5, \"size\": 3}, \"name\": \"predict 4\", \"opacity\": 0.5, \"type\": \"scatter3d\", \"x\": [31.871400833129893, 71.7605972290039, 115.33699798583984, 171.30499267578125, 266.8106], \"y\": [-2.017119884490967, -3.701090097427368, -4.452960014343262, -3.8584499359130864, -0.66340226], \"z\": [-6.509379863739014, -0.8944630026817322, 5.172269821166992, 12.951600074768065, 28.009983000000002]}, {\"line\": {\"color\": \"blue\", \"width\": 3}, \"marker\": {\"color\": \"blue\", \"opacity\": 0.5, \"size\": 3}, \"name\": \"predict 5\", \"opacity\": 0.5, \"type\": \"scatter3d\", \"x\": [32.10020065307617, 72.60890197753906, 116.2509994506836, 172.00900268554688, 260.7991], \"y\": [2.038180112838745, 4.170460224151611, 5.968989849090576, 7.4919800758361825, 8.31398], \"z\": [-1.221869945526123, -6.330540180206299, -11.77560043334961, -18.709999084472656, -30.004497999999998]}, {\"line\": {\"color\": \"blue\", \"width\": 3}, \"marker\": {\"color\": \"blue\", \"opacity\": 0.5, \"size\": 3}, \"name\": \"predict 6\", \"opacity\": 0.5, \"type\": \"scatter3d\", \"x\": [31.8439998626709, 70.71769714355469, 115.22699737548828, 169.90699768066406, 261.62433], \"y\": [5.680449962615968, 11.960000038146973, 18.306100845336914, 24.8356990814209, 33.760185], \"z\": [-1.2172199487686155, -8.516209602355957, -16.84749984741211, -27.08329963684082, -41.946616999999996]}, {\"line\": {\"color\": \"blue\", \"width\": 3}, \"marker\": {\"color\": \"blue\", \"opacity\": 0.5, \"size\": 3}, \"name\": \"predict 7\", \"opacity\": 0.5, \"type\": \"scatter3d\", \"x\": [31.395000457763672, 71.28130340576172, 115.5510025024414, 172.08200073242188, 265.54547], \"y\": [-1.6720399856567385, -4.0892300605773935, -7.136940002441406, -11.626299858093262, -20.235573000000002], \"z\": [5.046879768371582, 5.778130054473878, 6.565619945526122, 7.634369850158691, 9.739578]}, {\"line\": {\"color\": \"blue\", \"width\": 3}, \"marker\": {\"color\": \"blue\", \"opacity\": 0.5, \"size\": 3}, \"name\": \"predict 8\", \"opacity\": 0.5, \"type\": \"scatter3d\", \"x\": [31.53400039672852, 69.77989959716797, 113.64600372314452, 168.21499633789062, 262.74588], \"y\": [-8.000120162963867, -16.858400344848633, -25.89789962768555, -35.39099884033203, -45.953540000000004], \"z\": [-5.947800159454348, 0.027191100642085075, 6.895199775695801, 15.37310028076172, 28.154040000000002]}, {\"line\": {\"color\": \"blue\", \"width\": 3}, \"marker\": {\"color\": \"blue\", \"opacity\": 0.5, \"size\": 3}, \"name\": \"predict 9\", \"opacity\": 0.5, \"type\": \"scatter3d\", \"x\": [32.73849868774414, 72.09130096435547, 115.61299896240234, 170.77499389648438, 263.94527999999997], \"y\": [3.1220200061798096, 6.30226993560791, 9.10925006866455, 11.500699996948242, 13.427983], \"z\": [-3.1343801021575928, -1.503119945526123, 0.21137100458145144, 2.346869945526123, 7.7002820000000005]}, {\"line\": {\"color\": \"blue\", \"width\": 3}, \"marker\": {\"color\": \"blue\", \"opacity\": 0.5, \"size\": 3}, \"name\": \"predict 10\", \"opacity\": 0.5, \"type\": \"scatter3d\", \"x\": [32.459701538085945, 71.72039794921875, 115.16999816894531, 170.79600524902344, 260.42612], \"y\": [3.919440031051636, 7.8302001953125, 11.291999816894533, 14.145099639892578, 16.897130999999998], \"z\": [-4.765629768371582, -9.53575038909912, -14.73169994354248, -21.528099060058594, -32.53791]}, {\"line\": {\"color\": \"blue\", \"width\": 3}, \"marker\": {\"color\": \"blue\", \"opacity\": 0.5, \"size\": 3}, \"name\": \"predict 11\", \"opacity\": 0.5, \"type\": \"scatter3d\", \"x\": [31.41830062866211, 71.2051010131836, 115.69000244140624, 171.61599731445312, 263.42537999999996], \"y\": [-1.2588800191879272, -2.2674601078033447, -2.6598498821258545, -1.9989900588989256, 0.8362944], \"z\": [3.921880006790161, 1.6718800067901611, -0.8843770027160645, -4.090630054473877, -8.33966]}, {\"line\": {\"color\": \"blue\", \"width\": 3}, \"marker\": {\"color\": \"blue\", \"opacity\": 0.5, \"size\": 3}, \"name\": \"predict 12\", \"opacity\": 0.5, \"type\": \"scatter3d\", \"x\": [31.25659942626953, 71.4894027709961, 114.13800048828124, 170.48399353027344, 266.76883], \"y\": [-4.126420021057129, -9.060540199279783, -13.989299774169922, -19.980499267578125, -26.73981], \"z\": [7.552080154418945, 17.176399230957028, 27.35849952697754, 40.81579971313477, 62.612827]}, {\"line\": {\"color\": \"blue\", \"width\": 3}, \"marker\": {\"color\": \"blue\", \"opacity\": 0.5, \"size\": 3}, \"name\": \"predict 13\", \"opacity\": 0.5, \"type\": \"scatter3d\", \"x\": [170.58399963378906, 262.68899536132807, 357.5719909667969, 494.4869995117188, 603.6509], \"y\": [-25.225400924682607, -40.31880187988281, -56.972999572753906, -83.17900085449219, -103.99874], \"z\": [15.115599632263185, 29.399999618530273, 43.79999923706055, 65.19999694824219, 81.73553000000001]}, {\"line\": {\"color\": \"blue\", \"width\": 3}, \"marker\": {\"color\": \"blue\", \"opacity\": 0.5, \"size\": 3}, \"name\": \"predict 14\", \"opacity\": 0.5, \"type\": \"scatter3d\", \"x\": [31.16659927368164, 69.93319702148439, 113.87999725341795, 169.08200073242188, 262.3921], \"y\": [-5.720719814300537, -12.65719985961914, -20.242599487304688, -29.367900848388672, -41.348877], \"z\": [4.653130054473877, 3.587559938430786, 2.403130054473877, 0.8593710064888, -3.4358589999999998]}, {\"line\": {\"color\": \"blue\", \"width\": 3}, \"marker\": {\"color\": \"blue\", \"opacity\": 0.5, \"size\": 3}, \"name\": \"predict 15\", \"opacity\": 0.5, \"type\": \"scatter3d\", \"x\": [31.67480087280273, 72.09719848632812, 114.49299621582031, 171.0469970703125, 252.986], \"y\": [-5.50314998626709, -11.744600296020508, -17.392999649047848, -23.523799896240234, -28.149604999999998], \"z\": [-2.5503900051116943, -12.456299781799315, -22.638599395751953, -36.179500579833984, -59.867775]}, {\"line\": {\"color\": \"blue\", \"width\": 3}, \"marker\": {\"color\": \"blue\", \"opacity\": 0.5, \"size\": 3}, \"name\": \"predict 16\", \"opacity\": 0.5, \"type\": \"scatter3d\", \"x\": [31.981300354003906, 71.58779907226562, 117.08200073242188, 172.48399353027344, 265.15393], \"y\": [-0.07021059840917587, 0.4290600121021271, 1.8804800510406487, 4.883649826049805, 11.84207], \"z\": [0.5218729972839355, -0.7156260013580322, -2.121880054473877, -3.9781301021575928, -5.848799700000001]}, {\"line\": {\"color\": \"blue\", \"width\": 3}, \"marker\": {\"color\": \"blue\", \"opacity\": 0.5, \"size\": 3}, \"name\": \"predict 17\", \"opacity\": 0.5, \"type\": \"scatter3d\", \"x\": [31.88750076293945, 71.75540161132812, 115.88899993896484, 172.0590057373047, 261.1591], \"y\": [-1.7319799661636353, -3.5772299766540527, -5.154510021209717, -6.4264397621154785, -6.819405000000001], \"z\": [-4.4165000915527335, -10.615400314331056, -17.455299377441403, -26.14060020446777, -41.95948]}, {\"line\": {\"color\": \"blue\", \"width\": 3}, \"marker\": {\"color\": \"blue\", \"opacity\": 0.5, \"size\": 3}, \"name\": \"predict 18\", \"opacity\": 0.5, \"type\": \"scatter3d\", \"x\": [31.5900993347168, 72.21929931640625, 115.91300201416016, 171.76100158691406, 264.993], \"y\": [1.7862800359725952, 3.676759958267212, 5.146279811859131, 6.089290142059326, 5.6128545], \"z\": [3.786809921264648, 11.921099662780762, 20.5939998626709, 31.68180084228516, 50.785816]}, {\"line\": {\"color\": \"blue\", \"width\": 3}, \"marker\": {\"color\": \"blue\", \"opacity\": 0.5, \"size\": 3}, \"name\": \"predict 19\", \"opacity\": 0.5, \"type\": \"scatter3d\", \"x\": [32.024200439453125, 71.56639862060547, 115.4469985961914, 171.5850067138672, 259.66296], \"y\": [0.6903240084648132, 0.9399710297584534, 0.38679298758506775, -1.6818900108337402, -6.323562], \"z\": [-3.6443700790405273, -13.378000259399414, -24.18560028076172, -37.97850036621094, -61.203044999999996]}, {\"line\": {\"color\": \"blue\", \"width\": 3}, \"marker\": {\"color\": \"blue\", \"opacity\": 0.5, \"size\": 3}, \"name\": \"predict 20\", \"opacity\": 0.5, \"type\": \"scatter3d\", \"x\": [32.083301544189446, 72.25900268554688, 115.9489974975586, 171.7550048828125, 265.7569], \"y\": [1.7386599779129028, 3.513159990310669, 4.9709200859069815, 6.126659870147705, 5.9555697], \"z\": [-2.5662000179290767, 4.329909801483153, 11.843299865722654, 21.42259979248047, 38.920596999999994]}, {\"line\": {\"color\": \"blue\", \"width\": 3}, \"marker\": {\"color\": \"blue\", \"opacity\": 0.5, \"size\": 3}, \"name\": \"predict 21\", \"opacity\": 0.5, \"type\": \"scatter3d\", \"x\": [31.25200080871582, 71.47969818115234, 114.18199920654295, 170.42300415039062, 262.78424], \"y\": [-4.207920074462892, -8.829480171203613, -12.907099723815918, -16.822599411010742, -21.025387], \"z\": [2.2709200382232666, 6.790629863739014, 11.628100395202635, 17.96470069885254, 30.454384]}, {\"line\": {\"color\": \"blue\", \"width\": 3}, \"marker\": {\"color\": \"blue\", \"opacity\": 0.5, \"size\": 3}, \"name\": \"predict 22\", \"opacity\": 0.5, \"type\": \"scatter3d\", \"x\": [30.920000076293945, 69.49770355224611, 113.0199966430664, 168.6580047607422, 262.57538], \"y\": [6.823150157928468, 14.886899948120115, 23.37190055847168, 33.28730010986328, 44.8535], \"z\": [7.204780101776122, 16.486600875854492, 26.97130012512207, 40.35240173339844, 62.491264]}, {\"line\": {\"color\": \"blue\", \"width\": 3}, \"marker\": {\"color\": \"blue\", \"opacity\": 0.5, \"size\": 3}, \"name\": \"predict 23\", \"opacity\": 0.5, \"type\": \"scatter3d\", \"x\": [31.962200164794922, 71.13240051269531, 114.97699737548828, 172.51400756835938, 265.62305], \"y\": [-0.4079299867153168, -0.5302559733390808, 0.05030209943652153, 1.9619300365448, 6.3374524], \"z\": [0.4656260013580322, 3.6968801021575928, 7.296870231628418, 12.064499855041506, 21.848673]}, {\"line\": {\"color\": \"blue\", \"width\": 3}, \"marker\": {\"color\": \"blue\", \"opacity\": 0.5, \"size\": 3}, \"name\": \"predict 24\", \"opacity\": 0.5, \"type\": \"scatter3d\", \"x\": [31.57279968261719, 69.99629974365234, 114.2310028076172, 168.88800048828125, 257.17922999999996], \"y\": [-7.31151008605957, -15.468700408935547, -23.74150085449219, -32.513599395751946, -42.841175], \"z\": [0.4780769944190979, -4.315619945526123, -9.781970024108887, -16.465599060058597, -29.365285999999998]}, {\"line\": {\"color\": \"blue\", \"width\": 3}, \"marker\": {\"color\": \"blue\", \"opacity\": 0.5, \"size\": 3}, \"name\": \"predict 25\", \"opacity\": 0.5, \"type\": \"scatter3d\", \"x\": [32.230499267578125, 71.68949890136719, 115.36599731445312, 171.26800537109375, 265.0703], \"y\": [3.0748300552368164, 5.8587398529052725, 7.841939926147461, 8.796239852905273, 6.728097], \"z\": [6.602749824523926, 10.053099632263184, 13.760700225830078, 18.4906005859375, 29.557926000000002]}, {\"line\": {\"color\": \"blue\", \"width\": 3}, \"marker\": {\"color\": \"blue\", \"opacity\": 0.5, \"size\": 3}, \"name\": \"predict 26\", \"opacity\": 0.5, \"type\": \"scatter3d\", \"x\": [31.233400344848643, 71.19090270996094, 112.80699920654295, 167.92799377441406, 257.88802999999996], \"y\": [7.427020072937013, 16.551799774169922, 25.579700469970703, 36.8213005065918, 52.394627], \"z\": [-7.0031700134277335, -16.706499099731445, -26.756999969482425, -40.03160095214844, -58.060196]}, {\"line\": {\"color\": \"blue\", \"width\": 3}, \"marker\": {\"color\": \"blue\", \"opacity\": 0.5, \"size\": 3}, \"name\": \"predict 27\", \"opacity\": 0.5, \"type\": \"scatter3d\", \"x\": [31.771299362182607, 71.93669891357422, 116.4010009765625, 170.87899780273438, 263.60095], \"y\": [-3.793040037155152, -7.908480167388916, -11.57229995727539, -14.73610019683838, -17.56152], \"z\": [-3.4156301021575928, -3.8656299114227295, -4.315619945526123, -4.878119945526123, -6.7709894]}, {\"line\": {\"color\": \"blue\", \"width\": 3}, \"marker\": {\"color\": \"blue\", \"opacity\": 0.5, \"size\": 3}, \"name\": \"predict 28\", \"opacity\": 0.5, \"type\": \"scatter3d\", \"x\": [31.27919960021973, 71.93589782714844, 116.39900207519531, 170.8800048828125, 263.29962], \"y\": [-3.7246799468994136, -7.888360023498535, -11.552499771118164, -14.803199768066404, -17.998491], \"z\": [1.6156200170516968, -0.09687419980764388, -1.896880030632019, -4.1905198097229, -8.910688]}, {\"line\": {\"color\": \"blue\", \"width\": 3}, \"marker\": {\"color\": \"blue\", \"opacity\": 0.5, \"size\": 3}, \"name\": \"predict 29\", \"opacity\": 0.5, \"type\": \"scatter3d\", \"x\": [31.605600357055664, 70.30940246582031, 114.2760009765625, 170.55099487304688, 261.75872999999996], \"y\": [6.3622498512268075, 13.64210033416748, 21.163700103759766, 29.43959999084473, 40.198948], \"z\": [0.2955549955368042, -4.475769996643066, -9.887049674987793, -16.882299423217773, -26.207320000000003]}, {\"line\": {\"color\": \"blue\", \"width\": 3}, \"marker\": {\"color\": \"blue\", \"opacity\": 0.5, \"size\": 3}, \"name\": \"predict 30\", \"opacity\": 0.5, \"type\": \"scatter3d\", \"x\": [31.89179992675781, 71.73930358886719, 115.80999755859376, 171.85800170898438, 260.13788], \"y\": [-1.655949950218201, -3.191809892654419, -4.161459922790527, -4.418210029602051, -2.2645993], \"z\": [-6.1191301345825195, -12.581000328063965, -19.708999633789066, -28.78840065002441, -44.930374]}, {\"line\": {\"color\": \"blue\", \"width\": 3}, \"marker\": {\"color\": \"blue\", \"opacity\": 0.5, \"size\": 3}, \"name\": \"predict 31\", \"opacity\": 0.5, \"type\": \"scatter3d\", \"x\": [31.39859962463379, 71.24469757080078, 115.33100128173828, 171.41000366210938, 268.57937999999996], \"y\": [-1.6082099676132202, -3.2139201164245605, -4.3828701972961435, -4.911789894104004, -4.22419], \"z\": [7.449580192565918, 14.316100120544435, 21.92259979248047, 31.642000198364247, 49.057278000000004]}, {\"line\": {\"color\": \"blue\", \"width\": 3}, \"marker\": {\"color\": \"blue\", \"opacity\": 0.5, \"size\": 3}, \"name\": \"predict 32\", \"opacity\": 0.5, \"type\": \"scatter3d\", \"x\": [31.17849922180176, 71.62010192871094, 113.9469985961914, 168.78799438476562, 263.30356], \"y\": [-5.510499954223633, -12.184800148010256, -18.60610008239746, -26.07029914855957, -36.007008], \"z\": [7.128119945526122, 7.634369850158691, 8.196869850158691, 8.871879577636719, 10.34286]}, {\"line\": {\"color\": \"blue\", \"width\": 3}, \"marker\": {\"color\": \"blue\", \"opacity\": 0.5, \"size\": 3}, \"name\": \"predict 33\", \"opacity\": 0.5, \"type\": \"scatter3d\", \"x\": [31.48189926147461, 71.14299774169922, 115.6520004272461, 171.90699768066406, 262.67795], \"y\": [-0.1315149962902069, -0.7829710245132446, -2.1796700954437256, -4.902750015258789, -11.130344000000001], \"z\": [7.1150898933410645, 1.9681299924850464, -3.789799928665161, -11.14780044555664, -23.610138]}, {\"line\": {\"color\": \"blue\", \"width\": 3}, \"marker\": {\"color\": \"blue\", \"opacity\": 0.5, \"size\": 3}, \"name\": \"predict 34\", \"opacity\": 0.5, \"type\": \"scatter3d\", \"x\": [31.66220092773437, 72.12159729003906, 114.45099639892578, 171.07699584960938, 263.4463], \"y\": [-5.726600170135497, -12.326499938964846, -18.41230010986328, -25.10689926147461, -32.900475], \"z\": [0.6343730092048645, 0.07187269628047943, -0.4343760013580322, -1.278130054473877, -3.8997947999999996]}, {\"line\": {\"color\": \"blue\", \"width\": 3}, \"marker\": {\"color\": \"blue\", \"opacity\": 0.5, \"size\": 3}, \"name\": \"predict 35\", \"opacity\": 0.5, \"type\": \"scatter3d\", \"x\": [31.049699783325195, 69.68250274658203, 113.34100341796876, 169.01499938964844, 265.59732], \"y\": [6.452310085296631, 14.12559986114502, 22.407400131225586, 32.28400039672852, 43.687115000000006], \"z\": [5.833889961242676, 11.084199905395508, 16.991500854492188, 24.5093994140625, 41.403202]}, {\"line\": {\"color\": \"blue\", \"width\": 3}, \"marker\": {\"color\": \"blue\", \"opacity\": 0.5, \"size\": 3}, \"name\": \"predict 36\", \"opacity\": 0.5, \"type\": \"scatter3d\", \"x\": [31.08550071716309, 69.49109649658203, 113.70899963378906, 168.28500366210938, 265.48135], \"y\": [-7.158490180969237, -15.49549961090088, -24.368000030517567, -34.26060104370117, -46.020103000000006], \"z\": [5.103129863739014, 11.571900367736815, 18.991199493408203, 28.13759994506836, 42.87107]}, {\"line\": {\"color\": \"blue\", \"width\": 3}, \"marker\": {\"color\": \"blue\", \"opacity\": 0.5, \"size\": 3}, \"name\": \"predict 37\", \"opacity\": 0.5, \"type\": \"scatter3d\", \"x\": [31.36930084228516, 71.28610229492188, 115.43199920654295, 171.53900146484375, 262.84503], \"y\": [-2.128350019454956, -4.2034897804260245, -5.651179790496826, -6.194960117340088, -5.5644655], \"z\": [4.821879863739014, 5.271870136260986, 5.778130054473878, 6.340630054473878, 8.147962]}, {\"line\": {\"color\": \"blue\", \"width\": 3}, \"marker\": {\"color\": \"blue\", \"opacity\": 0.5, \"size\": 3}, \"name\": \"predict 38\", \"opacity\": 0.5, \"type\": \"scatter3d\", \"x\": [265.65301513671875, 362.78399658203125, 501.6530151367188, 658.6069946289062, 687.6764], \"y\": [0.8036260008811951, 3.087239980697632, -1.6022000312805176, -17.9867000579834, -38.088898], \"z\": [-36.599998474121094, -57.4000015258789, -88.0, -122.8000030517578, -171.83879]}, {\"line\": {\"color\": \"blue\", \"width\": 3}, \"marker\": {\"color\": \"blue\", \"opacity\": 0.5, \"size\": 3}, \"name\": \"predict 39\", \"opacity\": 0.5, \"type\": \"scatter3d\", \"x\": [32.900501251220696, 72.32389831542969, 115.9250030517578, 171.67799377441406, 261.56494], \"y\": [2.6588499546051025, 5.344170093536377, 7.57450008392334, 9.309579849243164, 10.380823], \"z\": [-3.9781301021575928, -6.952079772949219, -10.109399795532227, -14.193400382995605, -20.41966]}],\n",
       "                        {\"autosize\": true, \"scene\": {\"aspectmode\": \"manual\", \"aspectratio\": {\"x\": 1, \"y\": 1, \"z\": 1}, \"camera\": {\"eye\": {\"x\": -1.7428, \"y\": 1.0707, \"z\": 0.71}, \"up\": {\"x\": 1, \"y\": 1, \"z\": -0.5}}, \"xaxis\": {\"backgroundcolor\": \"rgb(230, 230,230)\", \"gridcolor\": \"rgb(255, 255, 255)\", \"showbackground\": true, \"title\": {\"text\": \"x (mm)\"}, \"zerolinecolor\": \"rgb(255, 255, 255)\"}, \"yaxis\": {\"backgroundcolor\": \"rgb(230, 230,230)\", \"gridcolor\": \"rgb(255, 255, 255)\", \"showbackground\": true, \"title\": {\"text\": \"y (mm)\"}, \"zerolinecolor\": \"rgb(255, 255, 255)\"}, \"zaxis\": {\"backgroundcolor\": \"rgb(230, 230,230)\", \"gridcolor\": \"rgb(255, 255, 255)\", \"showbackground\": true, \"title\": {\"text\": \"z (mm)\"}, \"zerolinecolor\": \"rgb(255, 255, 255)\"}}, \"template\": {\"data\": {\"bar\": [{\"error_x\": {\"color\": \"#2a3f5f\"}, \"error_y\": {\"color\": \"#2a3f5f\"}, \"marker\": {\"line\": {\"color\": \"#E5ECF6\", \"width\": 0.5}}, \"type\": \"bar\"}], \"barpolar\": [{\"marker\": {\"line\": {\"color\": \"#E5ECF6\", \"width\": 0.5}}, \"type\": \"barpolar\"}], \"carpet\": [{\"aaxis\": {\"endlinecolor\": \"#2a3f5f\", \"gridcolor\": \"white\", \"linecolor\": \"white\", \"minorgridcolor\": \"white\", \"startlinecolor\": \"#2a3f5f\"}, \"baxis\": {\"endlinecolor\": \"#2a3f5f\", \"gridcolor\": \"white\", \"linecolor\": \"white\", \"minorgridcolor\": \"white\", \"startlinecolor\": \"#2a3f5f\"}, \"type\": \"carpet\"}], \"choropleth\": [{\"colorbar\": {\"outlinewidth\": 0, \"ticks\": \"\"}, \"type\": \"choropleth\"}], \"contour\": [{\"colorbar\": {\"outlinewidth\": 0, \"ticks\": \"\"}, \"colorscale\": [[0.0, \"#0d0887\"], [0.1111111111111111, \"#46039f\"], [0.2222222222222222, \"#7201a8\"], [0.3333333333333333, \"#9c179e\"], [0.4444444444444444, \"#bd3786\"], [0.5555555555555556, \"#d8576b\"], [0.6666666666666666, \"#ed7953\"], [0.7777777777777778, \"#fb9f3a\"], [0.8888888888888888, \"#fdca26\"], [1.0, \"#f0f921\"]], \"type\": \"contour\"}], \"contourcarpet\": [{\"colorbar\": {\"outlinewidth\": 0, \"ticks\": \"\"}, \"type\": \"contourcarpet\"}], \"heatmap\": [{\"colorbar\": {\"outlinewidth\": 0, \"ticks\": \"\"}, \"colorscale\": [[0.0, \"#0d0887\"], [0.1111111111111111, \"#46039f\"], [0.2222222222222222, \"#7201a8\"], [0.3333333333333333, \"#9c179e\"], [0.4444444444444444, \"#bd3786\"], [0.5555555555555556, \"#d8576b\"], [0.6666666666666666, \"#ed7953\"], [0.7777777777777778, \"#fb9f3a\"], [0.8888888888888888, \"#fdca26\"], [1.0, \"#f0f921\"]], \"type\": \"heatmap\"}], \"heatmapgl\": [{\"colorbar\": {\"outlinewidth\": 0, \"ticks\": \"\"}, \"colorscale\": [[0.0, \"#0d0887\"], [0.1111111111111111, \"#46039f\"], [0.2222222222222222, \"#7201a8\"], [0.3333333333333333, \"#9c179e\"], [0.4444444444444444, \"#bd3786\"], [0.5555555555555556, \"#d8576b\"], [0.6666666666666666, \"#ed7953\"], [0.7777777777777778, \"#fb9f3a\"], [0.8888888888888888, \"#fdca26\"], [1.0, \"#f0f921\"]], \"type\": \"heatmapgl\"}], \"histogram\": [{\"marker\": {\"colorbar\": {\"outlinewidth\": 0, \"ticks\": \"\"}}, \"type\": \"histogram\"}], \"histogram2d\": [{\"colorbar\": {\"outlinewidth\": 0, \"ticks\": \"\"}, \"colorscale\": [[0.0, \"#0d0887\"], [0.1111111111111111, \"#46039f\"], [0.2222222222222222, \"#7201a8\"], [0.3333333333333333, \"#9c179e\"], [0.4444444444444444, \"#bd3786\"], [0.5555555555555556, \"#d8576b\"], [0.6666666666666666, \"#ed7953\"], [0.7777777777777778, \"#fb9f3a\"], [0.8888888888888888, \"#fdca26\"], [1.0, \"#f0f921\"]], \"type\": \"histogram2d\"}], \"histogram2dcontour\": [{\"colorbar\": {\"outlinewidth\": 0, \"ticks\": \"\"}, \"colorscale\": [[0.0, \"#0d0887\"], [0.1111111111111111, \"#46039f\"], [0.2222222222222222, \"#7201a8\"], [0.3333333333333333, \"#9c179e\"], [0.4444444444444444, \"#bd3786\"], [0.5555555555555556, \"#d8576b\"], [0.6666666666666666, \"#ed7953\"], [0.7777777777777778, \"#fb9f3a\"], [0.8888888888888888, \"#fdca26\"], [1.0, \"#f0f921\"]], \"type\": \"histogram2dcontour\"}], \"mesh3d\": [{\"colorbar\": {\"outlinewidth\": 0, \"ticks\": \"\"}, \"type\": \"mesh3d\"}], \"parcoords\": [{\"line\": {\"colorbar\": {\"outlinewidth\": 0, \"ticks\": \"\"}}, \"type\": \"parcoords\"}], \"pie\": [{\"automargin\": true, \"type\": \"pie\"}], \"scatter\": [{\"marker\": {\"colorbar\": {\"outlinewidth\": 0, \"ticks\": \"\"}}, \"type\": \"scatter\"}], \"scatter3d\": [{\"line\": {\"colorbar\": {\"outlinewidth\": 0, \"ticks\": \"\"}}, \"marker\": {\"colorbar\": {\"outlinewidth\": 0, \"ticks\": \"\"}}, \"type\": \"scatter3d\"}], \"scattercarpet\": [{\"marker\": {\"colorbar\": {\"outlinewidth\": 0, \"ticks\": \"\"}}, \"type\": \"scattercarpet\"}], \"scattergeo\": [{\"marker\": {\"colorbar\": {\"outlinewidth\": 0, \"ticks\": \"\"}}, \"type\": \"scattergeo\"}], \"scattergl\": [{\"marker\": {\"colorbar\": {\"outlinewidth\": 0, \"ticks\": \"\"}}, \"type\": \"scattergl\"}], \"scattermapbox\": [{\"marker\": {\"colorbar\": {\"outlinewidth\": 0, \"ticks\": \"\"}}, \"type\": \"scattermapbox\"}], \"scatterpolar\": [{\"marker\": {\"colorbar\": {\"outlinewidth\": 0, \"ticks\": \"\"}}, \"type\": \"scatterpolar\"}], \"scatterpolargl\": [{\"marker\": {\"colorbar\": {\"outlinewidth\": 0, \"ticks\": \"\"}}, \"type\": \"scatterpolargl\"}], \"scatterternary\": [{\"marker\": {\"colorbar\": {\"outlinewidth\": 0, \"ticks\": \"\"}}, \"type\": \"scatterternary\"}], \"surface\": [{\"colorbar\": {\"outlinewidth\": 0, \"ticks\": \"\"}, \"colorscale\": [[0.0, \"#0d0887\"], [0.1111111111111111, \"#46039f\"], [0.2222222222222222, \"#7201a8\"], [0.3333333333333333, \"#9c179e\"], [0.4444444444444444, \"#bd3786\"], [0.5555555555555556, \"#d8576b\"], [0.6666666666666666, \"#ed7953\"], [0.7777777777777778, \"#fb9f3a\"], [0.8888888888888888, \"#fdca26\"], [1.0, \"#f0f921\"]], \"type\": \"surface\"}], \"table\": [{\"cells\": {\"fill\": {\"color\": \"#EBF0F8\"}, \"line\": {\"color\": \"white\"}}, \"header\": {\"fill\": {\"color\": \"#C8D4E3\"}, \"line\": {\"color\": \"white\"}}, \"type\": \"table\"}]}, \"layout\": {\"annotationdefaults\": {\"arrowcolor\": \"#2a3f5f\", \"arrowhead\": 0, \"arrowwidth\": 1}, \"coloraxis\": {\"colorbar\": {\"outlinewidth\": 0, \"ticks\": \"\"}}, \"colorscale\": {\"diverging\": [[0, \"#8e0152\"], [0.1, \"#c51b7d\"], [0.2, \"#de77ae\"], [0.3, \"#f1b6da\"], [0.4, \"#fde0ef\"], [0.5, \"#f7f7f7\"], [0.6, \"#e6f5d0\"], [0.7, \"#b8e186\"], [0.8, \"#7fbc41\"], [0.9, \"#4d9221\"], [1, \"#276419\"]], \"sequential\": [[0.0, \"#0d0887\"], [0.1111111111111111, \"#46039f\"], [0.2222222222222222, \"#7201a8\"], [0.3333333333333333, \"#9c179e\"], [0.4444444444444444, \"#bd3786\"], [0.5555555555555556, \"#d8576b\"], [0.6666666666666666, \"#ed7953\"], [0.7777777777777778, \"#fb9f3a\"], [0.8888888888888888, \"#fdca26\"], [1.0, \"#f0f921\"]], \"sequentialminus\": [[0.0, \"#0d0887\"], [0.1111111111111111, \"#46039f\"], [0.2222222222222222, \"#7201a8\"], [0.3333333333333333, \"#9c179e\"], [0.4444444444444444, \"#bd3786\"], [0.5555555555555556, \"#d8576b\"], [0.6666666666666666, \"#ed7953\"], [0.7777777777777778, \"#fb9f3a\"], [0.8888888888888888, \"#fdca26\"], [1.0, \"#f0f921\"]]}, \"colorway\": [\"#636efa\", \"#EF553B\", \"#00cc96\", \"#ab63fa\", \"#FFA15A\", \"#19d3f3\", \"#FF6692\", \"#B6E880\", \"#FF97FF\", \"#FECB52\"], \"font\": {\"color\": \"#2a3f5f\"}, \"geo\": {\"bgcolor\": \"white\", \"lakecolor\": \"white\", \"landcolor\": \"#E5ECF6\", \"showlakes\": true, \"showland\": true, \"subunitcolor\": \"white\"}, \"hoverlabel\": {\"align\": \"left\"}, \"hovermode\": \"closest\", \"mapbox\": {\"style\": \"light\"}, \"paper_bgcolor\": \"white\", \"plot_bgcolor\": \"#E5ECF6\", \"polar\": {\"angularaxis\": {\"gridcolor\": \"white\", \"linecolor\": \"white\", \"ticks\": \"\"}, \"bgcolor\": \"#E5ECF6\", \"radialaxis\": {\"gridcolor\": \"white\", \"linecolor\": \"white\", \"ticks\": \"\"}}, \"scene\": {\"xaxis\": {\"backgroundcolor\": \"#E5ECF6\", \"gridcolor\": \"white\", \"gridwidth\": 2, \"linecolor\": \"white\", \"showbackground\": true, \"ticks\": \"\", \"zerolinecolor\": \"white\"}, \"yaxis\": {\"backgroundcolor\": \"#E5ECF6\", \"gridcolor\": \"white\", \"gridwidth\": 2, \"linecolor\": \"white\", \"showbackground\": true, \"ticks\": \"\", \"zerolinecolor\": \"white\"}, \"zaxis\": {\"backgroundcolor\": \"#E5ECF6\", \"gridcolor\": \"white\", \"gridwidth\": 2, \"linecolor\": \"white\", \"showbackground\": true, \"ticks\": \"\", \"zerolinecolor\": \"white\"}}, \"shapedefaults\": {\"line\": {\"color\": \"#2a3f5f\"}}, \"ternary\": {\"aaxis\": {\"gridcolor\": \"white\", \"linecolor\": \"white\", \"ticks\": \"\"}, \"baxis\": {\"gridcolor\": \"white\", \"linecolor\": \"white\", \"ticks\": \"\"}, \"bgcolor\": \"#E5ECF6\", \"caxis\": {\"gridcolor\": \"white\", \"linecolor\": \"white\", \"ticks\": \"\"}}, \"title\": {\"x\": 0.05}, \"xaxis\": {\"automargin\": true, \"gridcolor\": \"white\", \"linecolor\": \"white\", \"ticks\": \"\", \"title\": {\"standoff\": 15}, \"zerolinecolor\": \"white\", \"zerolinewidth\": 2}, \"yaxis\": {\"automargin\": true, \"gridcolor\": \"white\", \"linecolor\": \"white\", \"ticks\": \"\", \"title\": {\"standoff\": 15}, \"zerolinecolor\": \"white\", \"zerolinewidth\": 2}}}, \"title\": {\"text\": \"Track Prediction #5 Hit\"}},\n",
       "                        {\"responsive\": true}\n",
       "                    ).then(function(){\n",
       "                            \n",
       "var gd = document.getElementById('f95409ac-f95b-4891-b020-d6de89a371d4');\n",
       "var x = new MutationObserver(function (mutations, observer) {{\n",
       "        var display = window.getComputedStyle(gd).display;\n",
       "        if (!display || display === 'none') {{\n",
       "            console.log([gd, 'removed!']);\n",
       "            Plotly.purge(gd);\n",
       "            observer.disconnect();\n",
       "        }}\n",
       "}});\n",
       "\n",
       "// Listen for the removal of the full notebook cells\n",
       "var notebookContainer = gd.closest('#notebook-container');\n",
       "if (notebookContainer) {{\n",
       "    x.observe(notebookContainer, {childList: true});\n",
       "}}\n",
       "\n",
       "// Listen for the clearing of the current output cell\n",
       "var outputEl = gd.closest('.output');\n",
       "if (outputEl) {{\n",
       "    x.observe(outputEl, {childList: true});\n",
       "}}\n",
       "\n",
       "                        })\n",
       "                };\n",
       "                });\n",
       "            </script>\n",
       "        </div>"
      ]
     },
     "metadata": {
      "tags": []
     },
     "output_type": "display_data"
    }
   ],
   "source": [
    "from core.utils.utils import *\n",
    "\n",
    "fig = track_plot_xyzz([test, pred], n_tracks = 40, \n",
    "               path='track.html', title='Track Prediction #5 Hit')\n",
    "\n",
    "fig.show()\n"
   ]
  }
 ],
 "metadata": {
  "accelerator": "GPU",
  "colab": {
   "collapsed_sections": [],
   "name": "test_1_lstm_paralel_colab.ipynb",
   "provenance": []
  },
  "kernelspec": {
   "display_name": "Python 3",
   "language": "python",
   "name": "python3"
  },
  "language_info": {
   "codemirror_mode": {
    "name": "ipython",
    "version": 3
   },
   "file_extension": ".py",
   "mimetype": "text/x-python",
   "name": "python",
   "nbconvert_exporter": "python",
   "pygments_lexer": "ipython3",
   "version": "3.7.4"
  }
 },
 "nbformat": 4,
 "nbformat_minor": 1
}
