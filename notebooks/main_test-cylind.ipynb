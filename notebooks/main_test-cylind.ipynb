{
 "cells": [
  {
   "cell_type": "code",
   "execution_count": null,
   "metadata": {},
   "outputs": [],
   "source": [
    "import sys\n",
    "import os\n",
    "import time"
   ]
  },
  {
   "cell_type": "code",
   "execution_count": null,
   "metadata": {},
   "outputs": [],
   "source": [
    "# include path to our library\n",
    "cwd = os.getcwd()\n",
    "dir_path = os.path.dirname(os.path.realpath(cwd))\n",
    "sys.path.append(dir_path)\n",
    "time.sleep(3)"
   ]
  },
  {
   "cell_type": "code",
   "execution_count": null,
   "metadata": {},
   "outputs": [],
   "source": [
    "dir_path\n",
    "%cd $dir_path\n",
    "!ls"
   ]
  },
  {
   "cell_type": "code",
   "execution_count": null,
   "metadata": {},
   "outputs": [],
   "source": [
    "import argparse\n",
    "import json\n",
    "\n",
    "from sklearn.model_selection import train_test_split\n",
    "import tensorflow as tf\n",
    "from tensorflow import set_random_seed\n",
    "\n",
    "import keras.backend as K\n",
    "from keras.backend.tensorflow_backend import set_session\n",
    "\n",
    "from core.data.data_loader import *\n",
    "from core.models.lstm import ModelLSTM, ModelLSTMParalel, ModelLSTMCuDnnParalel\n",
    "from core.models.cnn import ModelCNN\n",
    "from core.models.mlp import ModelMLP\n"
   ]
  },
  {
   "cell_type": "markdown",
   "metadata": {},
   "source": [
    "## loading Configurartion ##\n"
   ]
  },
  {
   "cell_type": "code",
   "execution_count": null,
   "metadata": {},
   "outputs": [],
   "source": [
    "# load some configurations configurations of model and others\n",
    "\n",
    "configs = json.load(open('config_test.json', 'r'))\n",
    "output_path = configs['paths']['save_dir']\n",
    "output_logs = configs['paths']['log_dir']\n",
    "\n",
    "if os.path.isdir(output_path) == False:\n",
    "    os.mkdir(output_path)\n",
    "\n",
    "if os.path.isdir(output_logs) == False:\n",
    "    os.mkdir(output_logs)        \n",
    "\n",
    "save_fname = os.path.join(output_path, 'architecture-%s.png' % configs['model']['name'])\n",
    "save_fnameh5 = os.path.join(output_path, 'model-%s.h5' % configs['model']['name'])\n",
    "time_steps =  configs['model']['layers'][0]['input_timesteps']  # the number of points or hits\n",
    "num_features = configs['model']['layers'][0]['input_features']  # the number of features of each hits\n",
    "\n",
    "split = configs['data']['train_split']  # the number of features of each hits\n",
    "cylindrical = configs['data']['cylindrical']  # set to polar or cartesian coordenates\n",
    "normalise = configs['data']['normalise'] \n",
    "num_hits = configs['data']['num_hits']\n",
    "print(save_fname) \n",
    "print(save_fnameh5)\n",
    "print('OK reading of json file')"
   ]
  },
  {
   "cell_type": "markdown",
   "metadata": {},
   "source": [
    "## Setup Data ##"
   ]
  },
  {
   "cell_type": "code",
   "execution_count": null,
   "metadata": {},
   "outputs": [],
   "source": [
    "# reading path of data\n",
    "#path = './dataset/2020_100_sorted.csv'\n",
    "#path = './dataset/event_2000_2020_train.csv'\n",
    "#path = './dataset/events.csv'\n",
    "#path = './dataset/phi025-025_eta025-025/phi025-025_eta025-025_filtered.csv'\n",
    "#path = './dataset/phi025-025_eta025-025_train1_lasthit_20200219.csv'\n",
    "\n",
    "path = configs['data']['filename']\n",
    "path"
   ]
  },
  {
   "cell_type": "code",
   "execution_count": null,
   "metadata": {},
   "outputs": [],
   "source": [
    "data = Dataset(path, KindNormalization.Zscore)\n",
    "\n",
    "dataset = data.get_training_data(cylindrical=cylindrical, hits=num_hits)\n",
    "dataset = dataset.iloc[0:2640,0:]\n",
    "print(dataset.shape)\n"
   ]
  },
  {
   "cell_type": "code",
   "execution_count": null,
   "metadata": {},
   "outputs": [],
   "source": [
    "dataset.head(6)"
   ]
  },
  {
   "cell_type": "code",
   "execution_count": null,
   "metadata": {},
   "outputs": [],
   "source": [
    "# reshape data     \n",
    "time_steps =  configs['model']['layers'][0]['input_timesteps']  # the number of points or hits\n",
    "num_features = configs['model']['layers'][0]['input_features']  # the number of features of each hits\n",
    "split = configs['data']['train_split']  # the number of features of each hits\n",
    "cylindrical = configs['data']['cylindrical']  # set to polar or cartesian coordenates\n",
    "normalise = configs['data']['normalise'] \n",
    "\n",
    "print(\"[Data] Converting to supervised ...\")\n",
    "\n",
    "X, y = data.convert_to_supervised(dataset.values, n_hit_in=time_steps,\n",
    "                            n_hit_out=1, n_features=num_features, normalise=normalise)\n",
    "print('[Data] New Shape: X%s y%s :' % (X.shape, y.shape))\n",
    "    \n",
    "X.head(12)\n"
   ]
  },
  {
   "cell_type": "code",
   "execution_count": null,
   "metadata": {},
   "outputs": [],
   "source": [
    "# there is empty data?\n",
    "print(X.isnull().values.any())\n",
    "print(y.isnull().values.any())\n",
    "\n",
    "#X.isnull().sum()\n",
    "#X.isna().sum()\n",
    "#y.isnull().sum()\n",
    "#X = X.dropna()\n",
    "#print('[Data] New Shape: X%s y%s :' % (X.shape, y.shape))"
   ]
  },
  {
   "cell_type": "code",
   "execution_count": null,
   "metadata": {},
   "outputs": [],
   "source": [
    "X = data.reshape3d(X, time_steps, num_features)\n",
    "X_train, X_test, y_train, y_test = train_test_split(X, y, test_size=1-split, shuffle=False)\n",
    "\n",
    "print('[Data] shape X_train ', X_train.shape)\n",
    "print('[Data] shape y_train ', y_train.shape)\n",
    "print('[Data] shape X_test ', X_test.shape)\n",
    "print('[Data] shape y_test ', y_test.shape)"
   ]
  },
  {
   "cell_type": "code",
   "execution_count": null,
   "metadata": {},
   "outputs": [],
   "source": [
    "   \n",
    "def no_gpu():\n",
    "    import os\n",
    "    os.environ[\"CUDA_VISIBLE_DEVICES\"]=\"-1\"\n",
    "    import tensorflow as tf\n",
    "\n",
    "    config=tf.ConfigProto(log_device_placement=True)\n",
    "    sess = tf.Session(config=config)\n",
    "    set_session(sess)\n",
    "    \n",
    "\n",
    "def gpu():\n",
    "    import tensorflow as tf\n",
    "    from tensorflow import set_random_seed\n",
    "\n",
    "    import keras.backend as K\n",
    "    from keras.backend.tensorflow_backend import set_session\n",
    "    \n",
    "    #configure  gpu_options.allow_growth = True in order to CuDNNLSTM layer work on RTX\n",
    "    config = tf.ConfigProto(device_count = {'GPU': 0})\n",
    "    config.gpu_options.allow_growth = True\n",
    "    sess = tf.Session(config=config)\n",
    "    set_session(sess)\n",
    "\n",
    "    set_random_seed(1)\n",
    "\n",
    "def manage_models(config):\n",
    "    \n",
    "    type_model = config['model']['name']\n",
    "    model = None\n",
    "\n",
    "    if type_model == 'lstm': #simple LSTM\n",
    "        model = ModelLSTM(config)\n",
    "    elif type_model == 'lstm-paralel':\n",
    "        model = ModelLSTMParalel(config)\n",
    "    elif type_model == 'cnn':\n",
    "        model = ModelCNN(config)\n",
    "    elif type_model == 'mlp':\n",
    "        model = ModelMLP(config)        \n",
    "\n",
    "    return model\n",
    "\n",
    "gpu()\n",
    "#no_gpu()"
   ]
  },
  {
   "cell_type": "markdown",
   "metadata": {},
   "source": [
    "## Create Model ##"
   ]
  },
  {
   "cell_type": "code",
   "execution_count": null,
   "metadata": {
    "scrolled": true
   },
   "outputs": [],
   "source": [
    "# geramos o modelo\n",
    "#configs = json.load(open('config_test.json', 'r'))\n",
    "model = manage_models(configs)\n",
    "\n",
    "if model is None:\n",
    "    print('Please instance model')\n",
    "\n",
    "loadModel = configs['training']['load_model']\n",
    "#loadModel = False"
   ]
  },
  {
   "cell_type": "markdown",
   "metadata": {},
   "source": [
    "## Training Model ##"
   ]
  },
  {
   "cell_type": "code",
   "execution_count": null,
   "metadata": {
    "scrolled": true
   },
   "outputs": [],
   "source": [
    "from core.utils.metrics import *\n",
    "# in-memory training\n",
    "if loadModel == False:\n",
    "\n",
    "    model.build_model()\n",
    "\n",
    "    # in-memory training\n",
    "    history = model.train(\n",
    "        x=X_train,\n",
    "        y=y_train,\n",
    "        epochs = configs['training']['epochs'],\n",
    "        batch_size = configs['training']['batch_size']\n",
    "    )\n",
    "\n",
    "    evaluate_training(history, output_path)\n",
    "\n",
    "elif loadModel == True:       \n",
    "    if not model.load_model():\n",
    "        print ('[Error] please change the config file : load_model')\n"
   ]
  },
  {
   "cell_type": "code",
   "execution_count": null,
   "metadata": {},
   "outputs": [],
   "source": [
    "from core.utils.metrics import *\n",
    "evaluate_training(history, output_path)"
   ]
  },
  {
   "cell_type": "markdown",
   "metadata": {},
   "source": [
    "## Evaluate The model ##"
   ]
  },
  {
   "cell_type": "code",
   "execution_count": null,
   "metadata": {},
   "outputs": [],
   "source": [
    "#evaluate the model\n",
    "from core.utils.metrics import *\n",
    "evaluate_training(history,output_path)"
   ]
  },
  {
   "cell_type": "markdown",
   "metadata": {},
   "source": [
    "## Prediction ##\n",
    "We concatenate features to predict one hit."
   ]
  },
  {
   "cell_type": "code",
   "execution_count": null,
   "metadata": {},
   "outputs": [],
   "source": [
    "# Prediction\n",
    "import numpy as np\n",
    "from core.utils.metrics import *\n",
    "from core.utils.utils import *\n",
    "\n",
    "predicted = model.predict_one_hit(X_test)\n",
    "print('[Data] shape predicted output ', predicted.shape)\n",
    "print('[Data] shape y_test ', y_test.shape)\n",
    " \n"
   ]
  },
  {
   "cell_type": "code",
   "execution_count": null,
   "metadata": {},
   "outputs": [],
   "source": [
    "# Convert to original data\n",
    "#y_predicted = data.reshape2d(predicted, 1)\n",
    "   \n",
    "y_predicted = np.reshape(predicted, (predicted.shape[0]*predicted.shape[1], 1))\n",
    "y_true_ = data.reshape2d(y_test, 1)\n",
    "\n",
    "result = calc_score(y_true_, y_predicted, report=True)\n",
    "r2, rmse, rmses = evaluate_forecast(y_test.values, predicted)\n",
    "summarize_scores(r2, rmse,rmses)\n"
   ]
  },
  {
   "cell_type": "code",
   "execution_count": null,
   "metadata": {},
   "outputs": [],
   "source": [
    "if normalise:\n",
    "    print('[Data] Inverse Transforming ...')\n",
    "    y_test_orig = data.inverse_transform_y(y_test)\n",
    "    y_predicted_orig = data.inverse_transform_y(predicted)\n",
    "else:\n",
    "    y_test_orig = y_test\n",
    "    y_predicted_orig = predicted\n",
    "\n",
    "print('[Data] shape y_test_orig ', y_test_orig.shape)\n",
    "print('[Data] shape y_predicted_orig ', y_predicted_orig.shape)\n"
   ]
  },
  {
   "cell_type": "markdown",
   "metadata": {},
   "source": [
    "## convert values ##"
   ]
  },
  {
   "cell_type": "code",
   "execution_count": null,
   "metadata": {},
   "outputs": [],
   "source": [
    "X_train, X_test_new = train_test_split(dataset, test_size=1-0.8, shuffle=False)\n",
    "\n",
    "print('[Data] shape X_train ', X_train.shape)\n",
    "print('[Data] shape X_test_new ', X_test_new.shape)\n",
    "\n",
    "y_predicted_orig = pd.DataFrame(y_predicted_orig)\n",
    "y_predicted_orig = data.convert_supervised_to_normal(y_predicted_orig.values, n_hit_in=4, n_hit_out=1, hits=10)\n",
    "y_predicted_orig = pd.DataFrame(y_predicted_orig)\n",
    "print('y_predicted_orig shape ', y_predicted_orig.shape)\n",
    "\n",
    "y_true_orig = pd.DataFrame(y_test_orig)\n",
    "y_true_orig = data.convert_supervised_to_normal(y_true_orig.values, n_hit_in=4, n_hit_out=1, hits=10)\n",
    "y_true_orig = pd.DataFrame(y_true_orig)\n",
    "print('y_true_orig shape ', y_true_orig.shape)"
   ]
  },
  {
   "cell_type": "code",
   "execution_count": null,
   "metadata": {},
   "outputs": [],
   "source": [
    "X_test_new.head(12)"
   ]
  },
  {
   "cell_type": "code",
   "execution_count": null,
   "metadata": {},
   "outputs": [],
   "source": [
    "x_true = X_test_new.iloc[:,0:time_steps*num_features]\n",
    "y_true = X_test_new.iloc[:,time_steps*num_features:]\n",
    "print('shape x_true ', x_true.shape)\n",
    "print('shape y_true ', y_true.shape)"
   ]
  },
  {
   "cell_type": "code",
   "execution_count": null,
   "metadata": {},
   "outputs": [],
   "source": [
    "# join both dataset must be equal to X_test\n",
    "data_test = np.concatenate([x_true , y_true_orig], axis = 1 )\n",
    "data_test = pd.DataFrame(data_test)\n",
    "print('Shape ', data_test.shape)"
   ]
  },
  {
   "cell_type": "code",
   "execution_count": null,
   "metadata": {},
   "outputs": [],
   "source": [
    "# must be equal\n",
    "data_test.values == X_test_new.values\n"
   ]
  },
  {
   "cell_type": "code",
   "execution_count": null,
   "metadata": {},
   "outputs": [],
   "source": [
    "# join both dataset should be equal to X_test but not equal\n",
    "data_pred = np.concatenate([x_true , y_predicted_orig], axis = 1 )\n",
    "data_pred = pd.DataFrame(data_pred)\n",
    "print('Shape ', data_pred.shape)"
   ]
  },
  {
   "cell_type": "code",
   "execution_count": null,
   "metadata": {},
   "outputs": [],
   "source": [
    "# should not be equal\n",
    "data_pred.values == X_test_new.values"
   ]
  },
  {
   "cell_type": "code",
   "execution_count": null,
   "metadata": {},
   "outputs": [],
   "source": [
    "if cylindrical:\n",
    "\n",
    "    y_true_orig.to_csv(os.path.join(output_path, 'y_true_%s_cylin.csv' % configs['model']['name']),\n",
    "                header=False, index=False)\n",
    "\n",
    "    y_predicted_orig.to_csv(os.path.join(output_path, 'y_pred_%s_cylin.csv' % configs['model']['name']),\n",
    "                header=False, index=False)\n",
    "\n",
    "    x_true.to_csv(os.path.join(output_path, 'x_true_%s_cylin.csv' % configs['model']['name']),\n",
    "                header=False, index=False)\n",
    "else:\n",
    "    \n",
    "    y_true_orig.to_csv(os.path.join(output_path, 'y_true_%s_xyz.csv' % configs['model']['name']),\n",
    "                header=False, index=False)\n",
    "    y_predicted_orig.to_csv(os.path.join(output_path, 'y_pred_%s_xyz.csv' % configs['model']['name']),\n",
    "                header=False, index=False)\n",
    "\n",
    "    x_true.to_csv(os.path.join(output_path, 'x_true_%s_xyz.csv' % configs['model']['name']),\n",
    "                header=False, index=False)\n",
    "\n",
    "print('[Output] Results saved at %', output_path)"
   ]
  },
  {
   "cell_type": "markdown",
   "metadata": {},
   "source": [
    "## Visualization ##"
   ]
  },
  {
   "cell_type": "code",
   "execution_count": null,
   "metadata": {},
   "outputs": [],
   "source": [
    "from core.utils.utils import *\n",
    "# Dados originais\n",
    "path_html = ''\n",
    "\n",
    "if cylindrical:\n",
    "    path_html=os.path.join(output_path, 'track-originial-%s_cylin.html' % configs['model']['name'])\n",
    "else:\n",
    "    path_html=os.path.join(output_path, 'track-originial-%s_xyz.html' % configs['model']['name'])\n",
    "    \n",
    "N_tracks = 10\n",
    "fig = track_plot_xyz([dataset], n_hits = 10, cylindrical = True, n_tracks = 50, \n",
    "               path=path_html, title='Track Prediction #10 Hit')\n",
    "\n",
    "fig.show()"
   ]
  },
  {
   "cell_type": "code",
   "execution_count": null,
   "metadata": {},
   "outputs": [],
   "source": [
    "# Dados test\n",
    "\n",
    "fig = track_plot_xyz([data_test], n_hits = 10, cylindrical = cylindrical, n_tracks = N_tracks, \n",
    "                title='Track Prediction #10 Hit')\n",
    "\n",
    "fig.show()"
   ]
  },
  {
   "cell_type": "code",
   "execution_count": null,
   "metadata": {},
   "outputs": [],
   "source": [
    "# predicted data\n",
    "path_html = ''\n",
    "N_tracks = 30\n",
    "\n",
    "if cylindrical:\n",
    "    path_html=os.path.join(output_path, 'track-predicted-%s_cylin.html' % configs['model']['name'])\n",
    "else:\n",
    "    path_html=os.path.join(output_path, 'track-predicted-%s_xyz.html' % configs['model']['name'])\n",
    "    \n",
    "fig = track_plot_xyz([data_test, data_pred], n_hits = 10, cylindrical = cylindrical, n_tracks = N_tracks, \n",
    "               path=path_html, title='Track Prediction #10 Hit')\n",
    "\n",
    "fig.show()"
   ]
  },
  {
   "cell_type": "code",
   "execution_count": null,
   "metadata": {},
   "outputs": [],
   "source": []
  },
  {
   "cell_type": "code",
   "execution_count": null,
   "metadata": {},
   "outputs": [],
   "source": []
  }
 ],
 "metadata": {
  "kernelspec": {
   "display_name": "Python 3",
   "language": "python",
   "name": "python3"
  },
  "language_info": {
   "codemirror_mode": {
    "name": "ipython",
    "version": 3
   },
   "file_extension": ".py",
   "mimetype": "text/x-python",
   "name": "python",
   "nbconvert_exporter": "python",
   "pygments_lexer": "ipython3",
   "version": "3.7.4"
  }
 },
 "nbformat": 4,
 "nbformat_minor": 2
}
