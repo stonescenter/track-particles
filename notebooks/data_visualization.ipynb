{
 "cells": [
  {
   "cell_type": "code",
   "execution_count": null,
   "metadata": {},
   "outputs": [],
   "source": [
    "import sys\n",
    "import os\n",
    "import time"
   ]
  },
  {
   "cell_type": "code",
   "execution_count": null,
   "metadata": {},
   "outputs": [],
   "source": [
    "# include path to our library\n",
    "cwd = os.getcwd()\n",
    "dir_path = os.path.dirname(os.path.realpath(cwd))\n",
    "sys.path.append(dir_path)\n",
    "time.sleep(2)"
   ]
  },
  {
   "cell_type": "code",
   "execution_count": null,
   "metadata": {},
   "outputs": [],
   "source": [
    "dir_path\n",
    "%cd $dir_path\n",
    "!ls"
   ]
  },
  {
   "cell_type": "code",
   "execution_count": null,
   "metadata": {},
   "outputs": [],
   "source": [
    "import pandas as pd\n",
    "import numpy as np\n",
    "\n",
    "from matplotlib import pyplot as plt\n",
    "from core.data.data_loader import *\n",
    "from sklearn.model_selection import train_test_split"
   ]
  },
  {
   "cell_type": "code",
   "execution_count": null,
   "metadata": {},
   "outputs": [],
   "source": [
    "prefix = './dataset/2020_100_sorted.csv'\n",
    "prefix = './dataset/phi025-025_eta025-025_train1_lasthit_20200219.csv'\n",
    "\n",
    "HITS = 10\n",
    "\n",
    "data = Dataset(prefix, KindNormalization.Zscore)\n",
    "#x, y = data.get_training_data(normalise=False, cylindrical=False, hit=10)\n",
    "dataset = data.get_training_data(cylindrical=False, hits=HITS)\n",
    "#X, y = data.convert_to_supervised(x.values, n_hit_in=4, n_hit_out=1,n_features=3)\n",
    "dataset = dataset.iloc[0:2640,0:]\n",
    "print(dataset.shape)"
   ]
  },
  {
   "cell_type": "code",
   "execution_count": null,
   "metadata": {},
   "outputs": [],
   "source": [
    "#dataset"
   ]
  },
  {
   "cell_type": "code",
   "execution_count": null,
   "metadata": {},
   "outputs": [],
   "source": [
    "def convert_to_supervisedd(sequences, n_hit_in, n_hit_out, n_features):\n",
    "    '''\n",
    "        n_hit_in : 3 number of hits\n",
    "        n_hit_out: 1 number of future hits\n",
    "        n_features 3\n",
    "    '''\n",
    "    X , Y = [],[]\n",
    "\n",
    "    rows = sequences.shape[0]\n",
    "    cols = sequences.shape[1]\n",
    " \n",
    "\n",
    "    for i in range(0, rows):\n",
    "        print('begin track ', i)\n",
    "        \n",
    "        end_idx = 0\n",
    "        out_end_idx = 0\n",
    "        \n",
    "        for j in range(0, cols, n_features):\n",
    "            end_idx = j + n_hit_in*n_features\n",
    "            out_end_idx = end_idx + n_hit_out*n_features\n",
    "\n",
    "            if out_end_idx > cols+1:\n",
    "                print('\\t cols %s, end_ix %s , out_end_idx %s' % ( cols, end_idx, out_end_idx))\n",
    "                print('end track  ', i) \n",
    "                break\n",
    "            \n",
    "            print('\\t x[%s,%s:%s] y[%s,%s:%s]' % (i, j, end_idx, i, end_idx, out_end_idx))            \n",
    "            seq_x, seq_y = sequences[i, j:end_idx], sequences[i, end_idx:out_end_idx]\n",
    "            \n",
    "            X.append(seq_x)\n",
    "            Y.append(seq_y)\n",
    "            \n",
    "    print(rows, cols)\n",
    "    #return np.array(X) , np.array(Y)\n",
    "    return pd.DataFrame(X) , pd.DataFrame(Y)   \n",
    "\n"
   ]
  },
  {
   "cell_type": "code",
   "execution_count": null,
   "metadata": {},
   "outputs": [],
   "source": [
    "dataset.to_csv('verifica.csv')"
   ]
  },
  {
   "cell_type": "code",
   "execution_count": null,
   "metadata": {},
   "outputs": [],
   "source": [
    "Normalise = True\n",
    "X, y = data.convert_to_supervised(dataset.values, n_hit_in=4, n_hit_out=1,n_features=3, normalise=Normalise)\n",
    "# there is empty data?\n",
    "print(X.isnull().values.any())\n",
    "print(y.isnull().values.any())\n",
    "print(X.shape)\n"
   ]
  },
  {
   "cell_type": "code",
   "execution_count": null,
   "metadata": {},
   "outputs": [],
   "source": [
    "# concat to see if they are correct\n",
    "#pd.concat([X, y], axis =1)"
   ]
  },
  {
   "cell_type": "code",
   "execution_count": null,
   "metadata": {},
   "outputs": [],
   "source": [
    "p = 0.2\n",
    "isplit = round(len(dataset)*p)\n",
    "\n",
    "X_train, X_test, y_train, y_test = train_test_split(X, y, test_size=p, shuffle=False)\n",
    "print('[Data] split ', isplit)\n",
    "print('[Data] shape data dataset.shape:', dataset.shape)\n",
    "print('[Data] shape data X_train.shape:', X_train.shape)\n",
    "print('[Data] shape data y_train.shape:', y_train.shape)\n",
    "print('[Data] shape data X_test.shape:', X_test.shape)\n",
    "print('[Data] shape data y_test.shape:', y_test.shape)"
   ]
  },
  {
   "cell_type": "code",
   "execution_count": null,
   "metadata": {},
   "outputs": [],
   "source": [
    "# divido dos dados origns\n",
    "X_train_new, X_test_new = train_test_split(dataset, test_size=0.2, shuffle=False)\n",
    "print('[Data] shape data dataset.shape:', dataset.shape)\n",
    "print('[Data] shape data X_train.shape:', X_train_new.shape)\n",
    "print('[Data] shape data X_test_new.shape:', X_test_new.shape)\n"
   ]
  },
  {
   "cell_type": "code",
   "execution_count": null,
   "metadata": {},
   "outputs": [],
   "source": [
    "x_true = X_test_new.iloc[:,0:12] #pd.DataFrame(\n",
    "y_true = X_test_new.iloc[:,12:30]\n",
    "\n",
    "print('[Data] shape data x_true.shape:', x_true.shape)\n",
    "print('[Data] shape data y_true.shape:', y_true.shape)\n",
    "\n",
    "df_test = np.concatenate([x_true, y_true], axis=1)\n",
    "print('[Data] shape data df_test.shape:' , df_test.shape)\n",
    "df_test = pd.DataFrame(df_test)\n",
    "print(df_test.isnull().values.any())\n",
    "df_test.tail()"
   ]
  },
  {
   "cell_type": "code",
   "execution_count": null,
   "metadata": {},
   "outputs": [],
   "source": [
    "\tdef convert_supervised_to_normal1(sequences, n_hit_in, n_hit_out, hits):\n",
    "\t\t'''\n",
    "\t\t\tThis function convert the predicted sequences to a vector\n",
    "\t\t\tn_hit_in : 4 number of hits\n",
    "\t\t\tn_hit_out: 1 number of future hits\n",
    "\t\t\thits\t : 10\n",
    "\t\t'''\n",
    "\n",
    "\t\tY = []\n",
    "\n",
    "\t\tlen_pred_seq = hits - n_hit_in\n",
    "\t\tlen_seq = len(sequences)\n",
    "\t\tend_ix = 0\n",
    "\n",
    "\t\tfor x in range(0, len_seq, len_pred_seq):\n",
    "\t\t\tcols = []\n",
    "\t\t\tend_ix = x + len_pred_seq\n",
    "\t\t\tpred_seq = sequences[x:end_ix,:]\n",
    "\n",
    "\t\t\t#print('matrix: ', pred_seq)\n",
    "\t\t\t\t\t\n",
    "\t\t\tpred_seq = np.matrix(pred_seq).flatten().tolist()\t\t\t\n",
    "\t\t\t#result = m_pred_seq.flatten().tolist()\n",
    "\t\t\t#print('result: ', pred_seq)\n",
    "\t\t\t#print('result 0: ', pred_seq[0])\n",
    "\t\t\t#for i in range(0, len(pred_seq)):\t\t\n",
    "\t\t\t#\tprint('\\t row added:', pred_seq[i,:])\n",
    "\t\t\t#\tocls.append(pred_seq[i,:])\n",
    "\t\t\t#print(lst.to_matrix())\n",
    "\n",
    "\t\t\tY.append(pred_seq[0])\n",
    "\n",
    "\t\treturn Y"
   ]
  },
  {
   "cell_type": "code",
   "execution_count": null,
   "metadata": {},
   "outputs": [],
   "source": [
    "conv = convert_supervised_to_normal1(y_test.values, n_hit_in=4, n_hit_out=1, hits=10)\n",
    "conv = pd.DataFrame(conv)\n",
    "print(conv.isnull().values.any())\n",
    "print('[Data] shape data conv.shape:' , conv.shape)\n",
    "#conv.loc[conv.index.dropna()]\n",
    "#conv.index.dropna()\n",
    "#conv.index.dropna()\n",
    "# get index with nan\n",
    "inds = pd.isnull(conv).any(1).to_numpy().nonzero()[0]\n",
    "inds\n",
    "#conv.index.dropna(inds)\n",
    "#conv.drop(conv[conv['index'].isnull()].index, inplace=True)\n",
    "#conv[conv.index.notnull()]"
   ]
  },
  {
   "cell_type": "code",
   "execution_count": null,
   "metadata": {},
   "outputs": [],
   "source": [
    "\n",
    "if Normalise:\n",
    "    y_test_inv = pd.DataFrame(data.inverse_transform_y(y_test))\n",
    "else:\n",
    "    y_test_inv = y_test\n",
    "\n",
    "y_test_orig = pd.DataFrame(convert_supervised_to_normal1(y_test_inv.values,\n",
    "                                                        n_hit_in=4, n_hit_out=1, hits=10))\n",
    "\n",
    "print(y_test_orig.isnull().values.any())\n",
    "#print(y_test_orig.isnull().sum())\n",
    "\n",
    "print('[Data] shape data y_test.shape:' , y_test.shape)\n",
    "\n",
    "if y_test_orig.isnull().values.any():\n",
    "    y_test_orig = y_test_orig.dropna()\n",
    "\n",
    "print('[Data] shape data y_test_orig.shape:' , y_test_orig.shape)\n",
    "print('[Data] shape data x_true.shape:' , x_true.shape)\n",
    "\n",
    "#if x_true.count() != y_test_orig.count():\n",
    "#x_true.drop(index=529, inplace=True)\n",
    "#x_true = x_true.iloc[0:529,:]\n",
    "#y_true = y_true.iloc[0:529,:]\n",
    "#print(x_true.shape)\n",
    "#print(y_test_orig.shape)    \n",
    "df_recons = np.concatenate([x_true, y_test_orig], axis=1)\n",
    "df_recons = pd.DataFrame(df_recons)\n",
    "print('[Data] shape data df_recons.shape:' , df_recons.shape)"
   ]
  },
  {
   "cell_type": "code",
   "execution_count": null,
   "metadata": {},
   "outputs": [],
   "source": [
    "# deve ser iguales\n",
    "y_test_orig.values == y_true.values\n",
    "#print(y_true.shape)\n",
    "#print(y_test_orig.shape)  "
   ]
  },
  {
   "cell_type": "code",
   "execution_count": null,
   "metadata": {},
   "outputs": [],
   "source": [
    "df_test.values == df_recons.values"
   ]
  },
  {
   "cell_type": "code",
   "execution_count": null,
   "metadata": {},
   "outputs": [],
   "source": [
    "#y_test_orig.head()\n",
    "df_recons.head()"
   ]
  },
  {
   "cell_type": "code",
   "execution_count": null,
   "metadata": {},
   "outputs": [],
   "source": [
    "from core.utils.utils import *\n",
    "\n",
    "N_tracks = 50\n",
    "fig = track_plot_xyz([dataset], n_hits = 10, cylindrical = False, n_tracks = 100, \n",
    "               path='track-test.html', title='Data original 10 hits')\n",
    "\n",
    "fig.show()"
   ]
  },
  {
   "cell_type": "code",
   "execution_count": null,
   "metadata": {},
   "outputs": [],
   "source": [
    "\n",
    "fig = track_plot_xyz([df_test, df_recons], n_hits = 10, cylindrical = False, n_tracks = N_tracks, \n",
    "               path='track-test.html', title='Data original 10 hits')\n",
    "\n",
    "fig.show()"
   ]
  },
  {
   "cell_type": "code",
   "execution_count": null,
   "metadata": {},
   "outputs": [],
   "source": [
    "\n",
    "fig = track_plot_xyz([y_true, y_test_orig ], n_hits = 6, cylindrical = False, n_tracks = N_tracks, \n",
    "               path='tmp.html', title='tmp')\n",
    "\n",
    "fig.show()"
   ]
  },
  {
   "cell_type": "code",
   "execution_count": null,
   "metadata": {},
   "outputs": [],
   "source": [
    "fig = track_plot_xyz([df_recons], n_hits = 10, cylindrical = False, n_tracks = N_tracks, \n",
    "               path='track-test.html', title='Data original 10 hits')\n",
    "\n",
    "fig.show()"
   ]
  },
  {
   "cell_type": "code",
   "execution_count": null,
   "metadata": {},
   "outputs": [],
   "source": []
  }
 ],
 "metadata": {
  "kernelspec": {
   "display_name": "Python 3",
   "language": "python",
   "name": "python3"
  },
  "language_info": {
   "codemirror_mode": {
    "name": "ipython",
    "version": 3
   },
   "file_extension": ".py",
   "mimetype": "text/x-python",
   "name": "python",
   "nbconvert_exporter": "python",
   "pygments_lexer": "ipython3",
   "version": "3.7.4"
  }
 },
 "nbformat": 4,
 "nbformat_minor": 2
}
