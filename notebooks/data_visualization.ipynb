{
 "cells": [
  {
   "cell_type": "code",
   "execution_count": null,
   "metadata": {},
   "outputs": [],
   "source": [
    "import sys\n",
    "import os"
   ]
  },
  {
   "cell_type": "code",
   "execution_count": null,
   "metadata": {},
   "outputs": [],
   "source": [
    "# include path to our library\n",
    "cwd = os.getcwd()\n",
    "dir_path = os.path.dirname(os.path.realpath(cwd))\n",
    "sys.path.append(dir_path)"
   ]
  },
  {
   "cell_type": "code",
   "execution_count": null,
   "metadata": {},
   "outputs": [],
   "source": [
    "dir_path\n",
    "%cd $dir_path\n",
    "!ls"
   ]
  },
  {
   "cell_type": "code",
   "execution_count": null,
   "metadata": {},
   "outputs": [],
   "source": [
    "import pandas as pd\n",
    "import numpy as np\n",
    "\n",
    "from matplotlib import pyplot as plt\n",
    "from core.data.data_loader import *"
   ]
  },
  {
   "cell_type": "code",
   "execution_count": null,
   "metadata": {},
   "outputs": [],
   "source": [
    "prefix = './dataset/2020_100_sorted.csv'  \n",
    "df = pd.read_csv(prefix, header=0, engine='python')\n",
    "\n",
    "\n",
    "hit = 19\n",
    "begin_hit = 'hit_id_'\n",
    "end_hit = 'value_'\n",
    "begin = begin_hit+str(hit)\n",
    "end = end_hit+str(hit)\n",
    "\n",
    "df = df.iloc[:, 9:]\n",
    "df.head()"
   ]
  },
  {
   "cell_type": "code",
   "execution_count": null,
   "metadata": {},
   "outputs": [],
   "source": [
    "interval = 11\n",
    "begin_cartesian = 1\n",
    "end_cartesian = 4\n",
    "begin_val = 10\n",
    "end_val = 11\n",
    "hit = 5\n",
    "#df.iloc[:,np.r_[1:4, 1:5]]\n",
    "begin_cols = [begin_cartesian+(interval*hit) for hit in range(0,hit)]\n",
    "print(begin_cols)\n",
    "end_cols = [end_cartesian+(interval*hit) for hit in range(0,hit)]\n",
    "print(end_cols)\n",
    "#df.iloc[:,np.r_[1:4,begin_cartesian+(interval*hit):end_cartesian+(interval*hit)]]\n",
    "new_df = None\n",
    "for c in range(0,len(begin_cols)):\n",
    "    frame = df.iloc[:,np.r_[begin_cols[c]:end_cols[c]]]\n",
    "    new_df = pd.concat([new_df, frame], axis=1)\n",
    "    \n",
    "new_df.iloc[:,-3:]"
   ]
  },
  {
   "cell_type": "code",
   "execution_count": null,
   "metadata": {},
   "outputs": [],
   "source": [
    "prefix = './dataset/2020_100_sorted.csv'  \n",
    "data = Dataset(prefix, KindNormalization.Zscore)\n",
    "\n",
    "#x, y = data.get_training_data(normalise=False, cylindrical=False, hit=10)\n",
    "X = data.get_training_data(normalise=False, cylindrical=False, hit=10)\n",
    "#X, y = data.convert_to_supervised(x.values, n_hit_in=4, n_hit_out=1,n_features=3)\n"
   ]
  },
  {
   "cell_type": "code",
   "execution_count": null,
   "metadata": {},
   "outputs": [],
   "source": [
    "\n",
    "#x, y = X.iloc[0,0:3], X.iloc[0,12:15]\n",
    "#x\n",
    "X.head(10)"
   ]
  },
  {
   "cell_type": "code",
   "execution_count": null,
   "metadata": {},
   "outputs": [],
   "source": [
    "def convert_to_supervisedd(sequences, n_hit_in, n_hit_out, n_features):\n",
    "    '''\n",
    "        n_hit_in : 3 number of hits\n",
    "        n_hit_out: 1 number of future hits\n",
    "        n_features 3\n",
    "    '''\n",
    "    X , Y = [],[]\n",
    "\n",
    "    rows = sequences.shape[0]\n",
    "    cols = sequences.shape[1]\n",
    "\n",
    "    print(rows, cols)\n",
    "\n",
    "    #seq_x, seq_y = sequences[0, 0:n_hit_in*n_features], sequences[0, n_hit_in*n_features:out_end_idx:]\n",
    "    #X.append(seq_x)\n",
    "    #Y.append(seq_y)\n",
    "    for i in range(0, rows):\n",
    "\n",
    "        for j in range(0, cols, n_features):\n",
    "            #if j ==0:\n",
    "            end_ix = j + n_hit_in*n_features\n",
    "            out_end_idx = end_ix + n_hit_out*n_features\n",
    "            #else:\n",
    "            #    end_ix = j + n_hit_in\n",
    "            #    out_end_idx = end_ix + n_hit_out*n_features\n",
    "                \n",
    "            if out_end_idx > cols+1:\n",
    "                #print('corta ', out_end_idx)\n",
    "                break\n",
    "            #if i < 10:\t\n",
    "                #print('[%s,%s:%s][%s,%s:%s]' % (i, j, end_ix, i, end_ix, out_end_idx))\n",
    "              \n",
    "            seq_x, seq_y = sequences[i, j:end_ix], sequences[i, end_ix:out_end_idx]\n",
    "\n",
    "            X.append(seq_x)\n",
    "            Y.append(seq_y)\n",
    "\n",
    "        # end_ix = n_hit_in*n_features\n",
    "        # out_end_idx = end_ix + n_hit_out*n_features\n",
    "\n",
    "        # \t#if out_end_idx > cols+1:\n",
    "        # \t#\tprint('corta ', out_end_idx)\n",
    "        # \t#\tbreak\n",
    "        # \tif i < 10:\t\n",
    "        # \t\tprint('[%s,%s:%s][%s,%s:%s]' % (i,j,end_ix,i,end_ix,out_end_idx))\t\t\n",
    "        # \tseq_x, seq_y = sequences[i-1, n_features:end_ix].extend(sequences[i-1, end_ix:]), sequences[i, end_ix:out_end_idx]\n",
    "\n",
    "        # \tX.append(seq_x)\n",
    "        # \tY.append(seq_y)\n",
    "\n",
    "    return np.array(X) , np.array(Y)\n",
    "\n",
    "\n",
    "\n",
    "#x, y = convert_to_supervisedd(X.values, n_hit_in=4, n_hit_out=1,n_features=3 )\n",
    "Xdata, y = data.convert_to_supervised(X.values, n_hit_in=4, n_hit_out=1,n_features=3)"
   ]
  },
  {
   "cell_type": "code",
   "execution_count": null,
   "metadata": {},
   "outputs": [],
   "source": [
    "X.iloc[:10,9:]"
   ]
  },
  {
   "cell_type": "code",
   "execution_count": null,
   "metadata": {},
   "outputs": [],
   "source": [
    "Xdata.head(24)"
   ]
  },
  {
   "cell_type": "code",
   "execution_count": null,
   "metadata": {},
   "outputs": [],
   "source": [
    "y.head(24)"
   ]
  },
  {
   "cell_type": "code",
   "execution_count": null,
   "metadata": {},
   "outputs": [],
   "source": [
    "x_data = pd.DataFrame(x)\n",
    "y_data = pd.DataFrame(y)\n",
    "\n",
    "df2 = pd.concat([x_data, y_data],axis=1)\n",
    "df2.head()"
   ]
  }
 ],
 "metadata": {
  "kernelspec": {
   "display_name": "Python 3",
   "language": "python",
   "name": "python3"
  },
  "language_info": {
   "codemirror_mode": {
    "name": "ipython",
    "version": 3
   },
   "file_extension": ".py",
   "mimetype": "text/x-python",
   "name": "python",
   "nbconvert_exporter": "python",
   "pygments_lexer": "ipython3",
   "version": "3.7.4"
  }
 },
 "nbformat": 4,
 "nbformat_minor": 2
}
