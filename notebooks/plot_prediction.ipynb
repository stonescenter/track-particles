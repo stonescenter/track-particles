{
 "cells": [
  {
   "cell_type": "code",
   "execution_count": null,
   "metadata": {},
   "outputs": [],
   "source": [
    "import sys\n",
    "import os"
   ]
  },
  {
   "cell_type": "code",
   "execution_count": null,
   "metadata": {},
   "outputs": [],
   "source": [
    "# include path to our library\n",
    "cwd = os.getcwd()\n",
    "dir_path = os.path.dirname(os.path.realpath(cwd))\n",
    "sys.path.append(dir_path)"
   ]
  },
  {
   "cell_type": "code",
   "execution_count": null,
   "metadata": {},
   "outputs": [],
   "source": [
    "import pandas as pd\n",
    "from core.utils.utils import *"
   ]
  },
  {
   "cell_type": "code",
   "execution_count": null,
   "metadata": {},
   "outputs": [],
   "source": [
    "%cd $dir_path\n",
    "!ls\n"
   ]
  },
  {
   "cell_type": "markdown",
   "metadata": {},
   "source": [
    "## Reading the data ##"
   ]
  },
  {
   "cell_type": "code",
   "execution_count": null,
   "metadata": {},
   "outputs": [],
   "source": [
    "path1 = 'results/x_test_lstm_xyz.csv'\n",
    "path2 = 'results/y_true_lstm_xyz.csv'\n",
    "path3 = 'results/y_pred_lstm_xyz.csv'\n",
    "\n",
    "path1 = 'results/x_test_lstm_cylin.csv'\n",
    "path2 = 'results/y_true_lstm_cylin.csv'\n",
    "path3 = 'results/y_pred_lstm_cylin.csv'\n",
    "\n",
    "path1 = 'results/x_test_cnn_xyz.csv'\n",
    "path2 = 'results/y_true_cnn_xyz.csv'\n",
    "path3 = 'results/y_pred_cnn_xyz.csv'\n",
    "\n",
    "#path1 = 'results/x_test_cnn_cylin.csv'\n",
    "#path2 = 'results/y_true_cnn_cylin.csv'\n",
    "#path3 = 'results/y_pred_cnn_cylin.csv'\n",
    "\n",
    "x_test = pd.read_csv(path1, header=None)\n",
    "y_test = pd.read_csv(path2, header=None)\n",
    "y_pred = pd.read_csv(path3, header=None)\n",
    "\n",
    "test = pd.concat([x_test, y_test], axis = 1, ignore_index = True)\n",
    "pred = pd.concat([x_test, y_pred], axis = 1, ignore_index = True)\n",
    "test.name = 'real'\n",
    "pred.name = 'predict'\n"
   ]
  },
  {
   "cell_type": "code",
   "execution_count": null,
   "metadata": {},
   "outputs": [],
   "source": [
    "pred.head()"
   ]
  },
  {
   "cell_type": "markdown",
   "metadata": {},
   "source": [
    "## Ploting Hit ##"
   ]
  },
  {
   "cell_type": "code",
   "execution_count": null,
   "metadata": {},
   "outputs": [],
   "source": [
    "fig = track_plot_xyz([test, pred], n_hits = 5, cylindrical = False, n_tracks = 100, \n",
    "               path='track-cnn-xyz.html', title='Track Prediction #5 Hit')\n",
    "\n",
    "fig.show()\n"
   ]
  },
  {
   "cell_type": "code",
   "execution_count": null,
   "metadata": {},
   "outputs": [],
   "source": []
  }
 ],
 "metadata": {
  "kernelspec": {
   "display_name": "Python 3",
   "language": "python",
   "name": "python3"
  },
  "language_info": {
   "codemirror_mode": {
    "name": "ipython",
    "version": 3
   },
   "file_extension": ".py",
   "mimetype": "text/x-python",
   "name": "python",
   "nbconvert_exporter": "python",
   "pygments_lexer": "ipython3",
   "version": "3.7.4"
  }
 },
 "nbformat": 4,
 "nbformat_minor": 2
}
